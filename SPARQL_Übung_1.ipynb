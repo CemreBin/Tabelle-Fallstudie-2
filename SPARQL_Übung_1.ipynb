{
   "cells": [
      {
         "cell_type": "markdown",
         "metadata": {},
         "source": [
            "# Übung - Metadaten suchen & filtern"
         ]
      },
      {
         "cell_type": "markdown",
         "metadata": {},
         "source": [
            "In dieser Übung geht es darum Metadaten mit Hilfe von SPARQL zu suchen und zu filtern. Analog zur Forschungsfrage suchen wir nun also nach Datensätzen:<br>- die das Wort \"Baumkataster\" im Titel beinhalten und<br>- die im Zeitabschnitt 2022-2024 erschienen sind.<br>Darüber hinaus gilt es darauf zu achten, wer die Datenbereitsteller sind und in welchen Formaten die Datensätze bereitgestellt werden."
         ]
      },
      {
         "cell_type": "markdown",
         "metadata": {},
         "source": [
            "```{admonition} Hinweis\n",
            ":class: hinweis\n",
            "An dieser Stelle sei darauf hingewiesen, dass SPARQL nicht über eine native Paginierungsfunktion verfügt. Das bedeutet, dass man Ergebnislisten nicht durchblättern kann. Normalerweise wird das über die UI-Funktionalitäten umgesetzt, die SPARQL aber nicht besitzt, weil es in seiner Basis relativ rudimentär ist. Deswegen muss man in der Abfrage zusätzlich spezifizieren, welche Ergebnisse bzw. Seiten aufgelistet werden sollen.",
            "```"
         ]
      },
      {
         "cell_type": "markdown",
         "metadata": {},
         "source": [
            "**Code**"
         ]
      },
      {
         "cell_type": "code",
         "execution_count": 2,
         "metadata": {},
         "outputs": [
            {
               "data": {
                  "text/html": [
                     "<div class=\"krn-spql\"><div class=\"magic\">Endpoint set to: https://data.europa.eu/sparql</div></div>"
                  ],
                  "text/plain": [
                     "Endpoint set to: https://data.europa.eu/sparql\n"
                  ]
               },
               "metadata": {},
               "output_type": "display_data"
            },
            {
               "cell_type": "markdown",
               "metadata": {},
               "source": [
                  "Da wir uns schon im vorherigen Abschnitt mit der Struktur einer SPARQL-Abfrage auseinandergesetzt haben, können wir aus der obigen bereits einiges ablesen.\n",
                  "In der ersten Zeile definieren wir den Endpunkt, mit dem wir auf den Standort der Metadaten hinzuweisen.\n",
                  "Danach beschreiben wir die Prefixes, die unsere Verlinkungen in dem WHERE-Teil erleichtern. Neben dem bereits bekannten PREFIX dct arbeiten wir nun zusätzlich mit dem PREFIX dcatde. In diesem sind alle Eigenschaften verortet, die spezifisch für aus Deutschland stammende Datensätze sind. Wir verweisen somit auf contributorid, wo die Information über die Datenbereitsteller gespeichert ist.\n",
                  "Eine weitere neue Eigenschaft ist modified - ein Attribut, das das Datum der letzten Bearbeitung bzw. Änderung nennt. Diese Eigenschaft gibt die aktuellste Auskunft darüber, aus welchem Jahr der Datensatz stammt.\n",
                  "Darüber hinaus setzen wir in dieser Abfrage erstmals FILTER ein. FILTER beschreibt eine spezifische Bedingung, die zwingend zu erfüllen ist. So lassen sich die Ergebnisse einschränken bzw. filtern. In unserem Beispiel lassen wir uns Ergebnisse ausgeben, die ihre contributorid ausschließlich als URI haben und mit \"http://dcat-ap.de/def/contributors/\" anfangen. Das schließt alle leerstehenden Ausprägungen und auch solche, die nicht in der Form von URIs sind, aus. Wichtig sind zudem die FILTER-Befehle strstarts und str. Die Funktion str() konvertiert den Wert der Variable ?contributorid in einen String. In SPARQL-Abfragen werden Variablen oft als IRIs (Internationalized Resource Identifiers) dargestellt, also als URLs. Die Funktion str() nimmt diesen IRI und wandelt ihn in eine einfache Zeichenkette (string) um. Die Funktion strstarts() überprüft, ob ein gegebener String mit einer bestimmten Zeichenkette beginnt. Für die Eigenschaft modified legen wir fest, das wir Ergebnisse aus bestimmten Jahren haben wollen, nämlich 2022, 2023, 2024.\n"
               ]
            },
            {
               "data": {
                  "text/html": [
                     "<div class=\"krn-spql\"><table><tr class=hdr><th>uri</th>\n",
                     "<th>title</th>\n",
                     "<th>contributorid</th>\n",
                     "<th>modified</th></tr><tr class=odd><td class=val><a href=\"http://data.europa.eu/88u/dataset/73c5a6b3-c033-4dad-bb7d-8783427dd233\" target=\"_other\">http://data.europa.eu/88u/dataset/73c5a6b3-c033-4dad-bb7d-8783427dd233</a></td>\n",
                     "<td class=val>Baumkataster Frankfurt am Main</td>\n",
                     "<td class=val><a href=\"http://dcat-ap.de/def/contributors/stadtFrankfurtAmMain\" target=\"_other\">http://dcat-ap.de/def/contributors/stadtFrankfurtAmMain</a></td>\n",
                     "<td class=val>2024-11-07T06:54:14.744750</td></tr><tr class=even><td class=val><a href=\"http://data.europa.eu/88u/dataset/73c5a6b3-c033-4dad-bb7d-8783427dd233\" target=\"_other\">http://data.europa.eu/88u/dataset/73c5a6b3-c033-4dad-bb7d-8783427dd233</a></td>\n",
                     "<td class=val>Baumkataster Francoforte sul Meno</td>\n",
                     "<td class=val><a href=\"http://dcat-ap.de/def/contributors/stadtFrankfurtAmMain\" target=\"_other\">http://dcat-ap.de/def/contributors/stadtFrankfurtAmMain</a></td>\n",
                     "<td class=val>2024-11-07T06:54:14.744750</td></tr><tr class=odd><td class=val><a href=\"http://data.europa.eu/88u/dataset/73c5a6b3-c033-4dad-bb7d-8783427dd233\" target=\"_other\">http://data.europa.eu/88u/dataset/73c5a6b3-c033-4dad-bb7d-8783427dd233</a></td>\n",
                     "<td class=val>Baumkataster Frankfurt am Main</td>\n",
                     "<td class=val><a href=\"http://dcat-ap.de/def/contributors/stadtFrankfurtAmMain\" target=\"_other\">http://dcat-ap.de/def/contributors/stadtFrankfurtAmMain</a></td>\n",
                     "<td class=val>2024-11-07T06:54:14.744750</td></tr><tr class=even><td class=val><a href=\"http://data.europa.eu/88u/dataset/73c5a6b3-c033-4dad-bb7d-8783427dd233\" target=\"_other\">http://data.europa.eu/88u/dataset/73c5a6b3-c033-4dad-bb7d-8783427dd233</a></td>\n",
                     "<td class=val>Baumkataster Frankfurt am Main</td>\n",
                     "<td class=val><a href=\"http://dcat-ap.de/def/contributors/stadtFrankfurtAmMain\" target=\"_other\">http://dcat-ap.de/def/contributors/stadtFrankfurtAmMain</a></td>\n",
                     "<td class=val>2024-11-07T06:54:14.744750</td></tr><tr class=odd><td class=val><a href=\"http://data.europa.eu/88u/dataset/73c5a6b3-c033-4dad-bb7d-8783427dd233\" target=\"_other\">http://data.europa.eu/88u/dataset/73c5a6b3-c033-4dad-bb7d-8783427dd233</a></td>\n",
                     "<td class=val>Baumkataster Frankfurt am Main</td>\n",
                     "<td class=val><a href=\"http://dcat-ap.de/def/contributors/stadtFrankfurtAmMain\" target=\"_other\">http://dcat-ap.de/def/contributors/stadtFrankfurtAmMain</a></td>\n",
                     "<td class=val>2024-11-07T06:54:14.744750</td></tr><tr class=even><td class=val><a href=\"http://data.europa.eu/88u/dataset/73c5a6b3-c033-4dad-bb7d-8783427dd233\" target=\"_other\">http://data.europa.eu/88u/dataset/73c5a6b3-c033-4dad-bb7d-8783427dd233</a></td>\n",
                     "<td class=val>Baumkataster Frankfurt am Main</td>\n",
                     "<td class=val><a href=\"http://dcat-ap.de/def/contributors/stadtFrankfurtAmMain\" target=\"_other\">http://dcat-ap.de/def/contributors/stadtFrankfurtAmMain</a></td>\n",
                     "<td class=val>2024-11-07T06:54:14.744750</td></tr><tr class=odd><td class=val><a href=\"http://data.europa.eu/88u/dataset/73c5a6b3-c033-4dad-bb7d-8783427dd233\" target=\"_other\">http://data.europa.eu/88u/dataset/73c5a6b3-c033-4dad-bb7d-8783427dd233</a></td>\n",
                     "<td class=val>Baumkataster Frankfurt am Main</td>\n",
                     "<td class=val><a href=\"http://dcat-ap.de/def/contributors/stadtFrankfurtAmMain\" target=\"_other\">http://dcat-ap.de/def/contributors/stadtFrankfurtAmMain</a></td>\n",
                     "<td class=val>2024-11-07T06:54:14.744750</td></tr><tr class=even><td class=val><a href=\"http://data.europa.eu/88u/dataset/73c5a6b3-c033-4dad-bb7d-8783427dd233\" target=\"_other\">http://data.europa.eu/88u/dataset/73c5a6b3-c033-4dad-bb7d-8783427dd233</a></td>\n",
                     "<td class=val>Baumkataster Frankfurt am Main</td>\n",
                     "<td class=val><a href=\"http://dcat-ap.de/def/contributors/stadtFrankfurtAmMain\" target=\"_other\">http://dcat-ap.de/def/contributors/stadtFrankfurtAmMain</a></td>\n",
                     "<td class=val>2024-11-07T06:54:14.744750</td></tr><tr class=odd><td class=val><a href=\"http://data.europa.eu/88u/dataset/73c5a6b3-c033-4dad-bb7d-8783427dd233\" target=\"_other\">http://data.europa.eu/88u/dataset/73c5a6b3-c033-4dad-bb7d-8783427dd233</a></td>\n",
                     "<td class=val>Baumkataster Frankfurt am Main</td>\n",
                     "<td class=val><a href=\"http://dcat-ap.de/def/contributors/stadtFrankfurtAmMain\" target=\"_other\">http://dcat-ap.de/def/contributors/stadtFrankfurtAmMain</a></td>\n",
                     "<td class=val>2024-11-07T06:54:14.744750</td></tr><tr class=even><td class=val><a href=\"http://data.europa.eu/88u/dataset/73c5a6b3-c033-4dad-bb7d-8783427dd233\" target=\"_other\">http://data.europa.eu/88u/dataset/73c5a6b3-c033-4dad-bb7d-8783427dd233</a></td>\n",
                     "<td class=val>Baumkataster Frankfurt am Main</td>\n",
                     "<td class=val><a href=\"http://dcat-ap.de/def/contributors/stadtFrankfurtAmMain\" target=\"_other\">http://dcat-ap.de/def/contributors/stadtFrankfurtAmMain</a></td>\n",
                     "<td class=val>2024-11-07T06:54:14.744750</td></tr><tr class=odd><td class=val><a href=\"http://data.europa.eu/88u/dataset/73c5a6b3-c033-4dad-bb7d-8783427dd233\" target=\"_other\">http://data.europa.eu/88u/dataset/73c5a6b3-c033-4dad-bb7d-8783427dd233</a></td>\n",
                     "<td class=val>Baumkataster Frankfurt am Main</td>\n",
                     "<td class=val><a href=\"http://dcat-ap.de/def/contributors/stadtFrankfurtAmMain\" target=\"_other\">http://dcat-ap.de/def/contributors/stadtFrankfurtAmMain</a></td>\n",
                     "<td class=val>2024-11-07T06:54:14.744750</td></tr><tr class=even><td class=val><a href=\"http://data.europa.eu/88u/dataset/73c5a6b3-c033-4dad-bb7d-8783427dd233\" target=\"_other\">http://data.europa.eu/88u/dataset/73c5a6b3-c033-4dad-bb7d-8783427dd233</a></td>\n",
                     "<td class=val>Baumkataster Frankfurt am Main</td>\n",
                     "<td class=val><a href=\"http://dcat-ap.de/def/contributors/stadtFrankfurtAmMain\" target=\"_other\">http://dcat-ap.de/def/contributors/stadtFrankfurtAmMain</a></td>\n",
                     "<td class=val>2024-11-07T06:54:14.744750</td></tr><tr class=odd><td class=val><a href=\"http://data.europa.eu/88u/dataset/73c5a6b3-c033-4dad-bb7d-8783427dd233\" target=\"_other\">http://data.europa.eu/88u/dataset/73c5a6b3-c033-4dad-bb7d-8783427dd233</a></td>\n",
                     "<td class=val>Baumkataster Frankfurt na Majni</td>\n",
                     "<td class=val><a href=\"http://dcat-ap.de/def/contributors/stadtFrankfurtAmMain\" target=\"_other\">http://dcat-ap.de/def/contributors/stadtFrankfurtAmMain</a></td>\n",
                     "<td class=val>2024-11-07T06:54:14.744750</td></tr><tr class=even><td class=val><a href=\"http://data.europa.eu/88u/dataset/73c5a6b3-c033-4dad-bb7d-8783427dd233\" target=\"_other\">http://data.europa.eu/88u/dataset/73c5a6b3-c033-4dad-bb7d-8783427dd233</a></td>\n",
                     "<td class=val>Baumkataster Frankfurt na Majni</td>\n",
                     "<td class=val><a href=\"http://dcat-ap.de/def/contributors/stadtFrankfurtAmMain\" target=\"_other\">http://dcat-ap.de/def/contributors/stadtFrankfurtAmMain</a></td>\n",
                     "<td class=val>2024-11-07T06:54:14.744750</td></tr><tr class=odd><td class=val><a href=\"http://data.europa.eu/88u/dataset/73c5a6b3-c033-4dad-bb7d-8783427dd233\" target=\"_other\">http://data.europa.eu/88u/dataset/73c5a6b3-c033-4dad-bb7d-8783427dd233</a></td>\n",
                     "<td class=val>Baumkataster Frankfurt nad Menem</td>\n",
                     "<td class=val><a href=\"http://dcat-ap.de/def/contributors/stadtFrankfurtAmMain\" target=\"_other\">http://dcat-ap.de/def/contributors/stadtFrankfurtAmMain</a></td>\n",
                     "<td class=val>2024-11-07T06:54:14.744750</td></tr><tr class=even><td class=val><a href=\"http://data.europa.eu/88u/dataset/73c5a6b3-c033-4dad-bb7d-8783427dd233\" target=\"_other\">http://data.europa.eu/88u/dataset/73c5a6b3-c033-4dad-bb7d-8783427dd233</a></td>\n",
                     "<td class=val>Baumkataster Frankfurt nad Mohanem</td>\n",
                     "<td class=val><a href=\"http://dcat-ap.de/def/contributors/stadtFrankfurtAmMain\" target=\"_other\">http://dcat-ap.de/def/contributors/stadtFrankfurtAmMain</a></td>\n",
                     "<td class=val>2024-11-07T06:54:14.744750</td></tr><tr class=odd><td class=val><a href=\"http://data.europa.eu/88u/dataset/73c5a6b3-c033-4dad-bb7d-8783427dd233\" target=\"_other\">http://data.europa.eu/88u/dataset/73c5a6b3-c033-4dad-bb7d-8783427dd233</a></td>\n",
                     "<td class=val>Baumkataster Frankfurt nad Mohanom</td>\n",
                     "<td class=val><a href=\"http://dcat-ap.de/def/contributors/stadtFrankfurtAmMain\" target=\"_other\">http://dcat-ap.de/def/contributors/stadtFrankfurtAmMain</a></td>\n",
                     "<td class=val>2024-11-07T06:54:14.744750</td></tr><tr class=even><td class=val><a href=\"http://data.europa.eu/88u/dataset/73c5a6b3-c033-4dad-bb7d-8783427dd233\" target=\"_other\">http://data.europa.eu/88u/dataset/73c5a6b3-c033-4dad-bb7d-8783427dd233</a></td>\n",
                     "<td class=val>Baumkataster Frankfurt pe Main</td>\n",
                     "<td class=val><a href=\"http://dcat-ap.de/def/contributors/stadtFrankfurtAmMain\" target=\"_other\">http://dcat-ap.de/def/contributors/stadtFrankfurtAmMain</a></td>\n",
                     "<td class=val>2024-11-07T06:54:14.744750</td></tr><tr class=odd><td class=val><a href=\"http://data.europa.eu/88u/dataset/73c5a6b3-c033-4dad-bb7d-8783427dd233\" target=\"_other\">http://data.europa.eu/88u/dataset/73c5a6b3-c033-4dad-bb7d-8783427dd233</a></td>\n",
                     "<td class=val>Baumkataster Frankfurtas prie Maino</td>\n",
                     "<td class=val><a href=\"http://dcat-ap.de/def/contributors/stadtFrankfurtAmMain\" target=\"_other\">http://dcat-ap.de/def/contributors/stadtFrankfurtAmMain</a></td>\n",
                     "<td class=val>2024-11-07T06:54:14.744750</td></tr><tr class=even><td class=val><a href=\"http://data.europa.eu/88u/dataset/73c5a6b3-c033-4dad-bb7d-8783427dd233\" target=\"_other\">http://data.europa.eu/88u/dataset/73c5a6b3-c033-4dad-bb7d-8783427dd233</a></td>\n",
                     "<td class=val>Baumkataster Frankfurte pie Mainas</td>\n",
                     "<td class=val><a href=\"http://dcat-ap.de/def/contributors/stadtFrankfurtAmMain\" target=\"_other\">http://dcat-ap.de/def/contributors/stadtFrankfurtAmMain</a></td>\n",
                     "<td class=val>2024-11-07T06:54:14.744750</td></tr></table><div class=\"tinfo\">Total: 44, Shown: 20</div></div>"
                  ]
               },
               "metadata": {},
               "output_type": "display_data"
            }
         ],
         "source": [
            "%endpoint https://data.europa.eu/sparql\n",
            "PREFIX dct: <http://purl.org/dc/terms/>\n",
            "PREFIX dcatde: <http://dcat-ap.de/def/dcatde/>\n",
            "\n",
            "SELECT ?uri ?title ?contributorid ?modified WHERE {\n",
            "    {\n",
            "        SELECT ?uri ?title ?contributorid ?modified WHERE {\n",
            "            ?uri dct:title ?title .\n",
            "            ?uri dcatde:contributorID ?contributorid .\n",
            "            ?uri dct:modified ?modified .\n",
            "            FILTER(isURI(?contributorid))\n",
            "            FILTER(strstarts(str(?contributorid), \"http://dcat-ap.de/def/contributors/\"))       \n",
            "            FILTER(CONTAINS(LCASE(?title), \"baumkataster\"))\n",
            "            FILTER(CONTAINS(STR(?modified), \"2022\") || CONTAINS(STR(?modified), \"2023\") || CONTAINS(STR(?modified), \"2024\"))\n",
            "        }\n",
            "    }\n",
            "}"
         ]
      },
      {
         "cell_type": "code",
         "execution_count": 1,
         "metadata": {},
         "outputs": [
            {
               "data": {
                  "text/html": [
                     "<div class=\"krn-spql\"><div class=\"magic\">Endpoint set to: https://data.europa.eu/sparql</div></div>"
                  ],
                  "text/plain": [
                     "Endpoint set to: https://data.europa.eu/sparql\n"
                  ]
               },
               "metadata": {},
               "output_type": "display_data"
            },
            {
               "data": {
                  "text/html": [
                     "<div class=\"krn-spql\"><table><tr class=hdr><th>uri</th>\n",
                     "<th>title</th>\n",
                     "<th>contributorid</th>\n",
                     "<th>modified</th></tr><tr class=odd><td class=val><a href=\"http://data.europa.eu/88u/dataset/73c5a6b3-c033-4dad-bb7d-8783427dd233\" target=\"_other\">http://data.europa.eu/88u/dataset/73c5a6b3-c033-4dad-bb7d-8783427dd233</a></td>\n",
                     "<td class=val>Baumkataster Fráncfort del Meno</td>\n",
                     "<td class=val><a href=\"http://dcat-ap.de/def/contributors/stadtFrankfurtAmMain\" target=\"_other\">http://dcat-ap.de/def/contributors/stadtFrankfurtAmMain</a></td>\n",
                     "<td class=val>2024-11-07T06:54:14.744750</td></tr><tr class=even><td class=val><a href=\"http://data.europa.eu/88u/dataset/73c5a6b3-c033-4dad-bb7d-8783427dd233\" target=\"_other\">http://data.europa.eu/88u/dataset/73c5a6b3-c033-4dad-bb7d-8783427dd233</a></td>\n",
                     "<td class=val>Baumkataster Φραγκφούρτη</td>\n",
                     "<td class=val><a href=\"http://dcat-ap.de/def/contributors/stadtFrankfurtAmMain\" target=\"_other\">http://dcat-ap.de/def/contributors/stadtFrankfurtAmMain</a></td>\n",
                     "<td class=val>2024-11-07T06:54:14.744750</td></tr><tr class=odd><td class=val><a href=\"http://data.europa.eu/88u/dataset/73c5a6b3-c033-4dad-bb7d-8783427dd233\" target=\"_other\">http://data.europa.eu/88u/dataset/73c5a6b3-c033-4dad-bb7d-8783427dd233</a></td>\n",
                     "<td class=val>Baumkataster Франкфурт на Майн</td>\n",
                     "<td class=val><a href=\"http://dcat-ap.de/def/contributors/stadtFrankfurtAmMain\" target=\"_other\">http://dcat-ap.de/def/contributors/stadtFrankfurtAmMain</a></td>\n",
                     "<td class=val>2024-11-07T06:54:14.744750</td></tr><tr class=even><td class=val><a href=\"http://data.europa.eu/88u/dataset/5f0aaf45-f380-49b3-87be-51abaddacbe0\" target=\"_other\">http://data.europa.eu/88u/dataset/5f0aaf45-f380-49b3-87be-51abaddacbe0</a></td>\n",
                     "<td class=val>Baumkataster Norderstedt</td>\n",
                     "<td class=val><a href=\"http://dcat-ap.de/def/contributors/schleswigHolstein\" target=\"_other\">http://dcat-ap.de/def/contributors/schleswigHolstein</a></td>\n",
                     "<td class=val>2022-04-12T07:58:22.519048</td></tr><tr class=odd><td class=val><a href=\"http://data.europa.eu/88u/dataset/cfbe70e6-6078-42db-8c9b-f8745ee8916e\" target=\"_other\">http://data.europa.eu/88u/dataset/cfbe70e6-6078-42db-8c9b-f8745ee8916e</a></td>\n",
                     "<td class=val>Baumkataster</td>\n",
                     "<td class=val><a href=\"http://dcat-ap.de/def/contributors/schleswigHolstein\" target=\"_other\">http://dcat-ap.de/def/contributors/schleswigHolstein</a></td>\n",
                     "<td class=val>2023-06-09T05:25:52.631385</td></tr><tr class=even><td class=val><a href=\"http://data.europa.eu/88u/dataset/200e532c-a381-4611-ba05-4ed7afc31230\" target=\"_other\">http://data.europa.eu/88u/dataset/200e532c-a381-4611-ba05-4ed7afc31230</a></td>\n",
                     "<td class=val>Baumkataster des ASG Wesel</td>\n",
                     "<td class=val><a href=\"http://dcat-ap.de/def/contributors/openNRW\" target=\"_other\">http://dcat-ap.de/def/contributors/openNRW</a></td>\n",
                     "<td class=val>2024-05-28T11:46:06.401383</td></tr></table><div class=\"tinfo\">Total: 6, Shown: 6</div></div>"
                  ]
               },
               "metadata": {},
               "output_type": "display_data"
            }
         ],
         "source": [
            "%endpoint https://data.europa.eu/sparql\n",
            "PREFIX dct: <http://purl.org/dc/terms/>\n",
            "PREFIX dcatde: <http://dcat-ap.de/def/dcatde/>\n",
            "\n",
            "SELECT ?uri ?title ?contributorid ?modified WHERE {\n",
            "    {\n",
            "        SELECT ?uri ?title ?contributorid ?modified WHERE {\n",
            "            ?uri dct:title ?title .\n",
            "            ?uri dcatde:contributorID ?contributorid .\n",
            "            ?uri dct:modified ?modified .\n",
            "            FILTER(isURI(?contributorid))\n",
            "            FILTER(strstarts(str(?contributorid), \"http://dcat-ap.de/def/contributors/\"))       \n",
            "            FILTER(CONTAINS(LCASE(?title), \"baumkataster\"))\n",
            "            FILTER(CONTAINS(STR(?modified), \"2022\") || CONTAINS(STR(?modified), \"2023\") || CONTAINS(STR(?modified), \"2024\"))\n",
            "        }\n",
            "                LIMIT 6 OFFSET 20\n",
            "    }\n",
            "}"
         ]
      },
      {
         "cell_type": "markdown",
         "metadata": {},
         "source": [
            "Die Abfrage mit LIMIT 6 OFFSET 20 gibt uns genau die Ergebnisse 21 bis 26 zurück. Wenn man also die Anzahl der zurückgegebenen Ergebnisse begrenzen möchte, ist es sinnvoll, LIMIT zu verwenden."
         ]
      }],
      "metadata": {
         "kernelspec": {
            "display_name": "SPARQL",
            "language": "sparql",
            "name": "sparql"
         },
         "language_info": {
            "codemirror_mode": {
               "name": "sparql"
            },
            "mimetype": "application/sparql-query",
            "name": "sparql",
            "pygments_lexer": "sparql-nb"
         }
      },
      "nbformat": 4,
      "nbformat_minor": 2
   }