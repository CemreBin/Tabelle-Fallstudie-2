{
 "cells": [
  {
   "cell_type": "markdown",
   "id": "eb891a75",
   "metadata": {},
   "source": [
    "# SPARQL Übung - Benutzung & Beispiel"
   ]
  },
  {
   "cell_type": "markdown",
   "id": "abe9cf99",
   "metadata": {},
   "source": [
    "In diesem Teil widmen uns einer praktischen SPARQL-Übung, indem wir uns mit den folgenden Forschungsfragen auseinandersetzen:"
   ]
  },
  {
   "cell_type": "markdown",
   "id": "48acfa7c",
   "metadata": {},
   "source": [
    "Wie viele Datensätze in der Form von offenen Daten bietet jedes Bundesland an?"
   ]
  },
  {
   "cell_type": "markdown",
   "id": "1bfe3532",
   "metadata": {},
   "source": [
    "Das Ziel ist, eine realistische Verwendung der Abfragesprache darzustellen. Bevor wir solch ein Beispiel aufweisen, müssen wir bestimmen, welches Verfahren für die Gestaltung und Versand für Abfragen benutzt werden sollte. Die Handhabung davon hängt meistens von der persönlichen Bevorzugung des/der Benutzers/in. Deswegen schlagen wir einige Alternativen vor."
   ]
  },
  {
   "cell_type": "markdown",
   "id": "4b19d4d8",
   "metadata": {},
   "source": [
    "Der erste Weg is derjenige, mithilfe dessen dieses ganze Materiail samt seiner Code-Anteile angefertigt worden ist. Es handelt sich um das Jupyter Notebook - ein Dateiformat, das die zeitgleiche Einwebung von  Fließtext und Codeanteilen von diversen Programmiersprachen erlaubt. Somit wird die visuelle Darstellung von echtem Code, der für die Gestaltung von Abfragen verwendet wird, derer Ergebnissen und den Erläuterungen der aufgerufenen Befehle samt anderer Kommentare ermöglicht.  "
   ]
  },
  {
   "cell_type": "markdown",
   "id": "ea5cd3b8",
   "metadata": {},
   "source": [
    "Die Jupyter-Notebook-Ausweitung lautet .ipynb . Durch die Erstellung einer normalen .txt-Datei kann man dann die Ausweitung ändern. Darüber hinaus bräuchte man ein beliebiges Bearbeitungsprogramm, mit Hilfe dessen man intuitiv, bequem und entspannt arbeiten kann. Dafür eignet sich Microsoft Visual Studio Code (VSC) ganz gut. VSC ist einer der gängigsten Editors im heutigen Programmierbereich und bietet  Möglichkeiten für die intuitive Bearbeitung und Verwaltung von Dateien in unterschiedlichsten Programmiersprachen. Für die Integrierung von SPARQL-Abfragen benötigt man aber auch einen Kernel - ein Motor, der auf die Programmiersprache bezogen ist und es erlaubt, die Ergebnisse der Abfrate aufweisen zu lassen. Die Aufgabe ist somit erstmal einen entwickelten SPARQL-Kernel zu finden und dann herunterzuladen. Glücklicherweise gibt es schon einen entwickelten SPARQL-Kernel, der auf der Basis von Python funktioniert. Hiermit verweisen wir auf der Git-Hub-Seite des Kernels, auf der die ganzen Informationen dazu stehen, wie er zu installieren ist - https://github.com/paulovn/sparql-kernel . "
   ]
  },
  {
   "cell_type": "markdown",
   "id": "b5addc25",
   "metadata": {},
   "source": [
    "Frage: das ganze Prozess des Installierens beschreiben / auf andere Seiten verweisen?"
   ]
  },
  {
   "cell_type": "markdown",
   "id": "a7ff2e9f",
   "metadata": {},
   "source": [
    "Nichtsdestotrotz, es bedarf nicht zwingend eines Kernels und der Arbeit mit einem lokalen Editor für die Gestaltung von SPARQL-Abfragen, da es schon mehrere Online-Werkzeuge gibt, die die vollständige Benutzung von SPARQL erlauben. Selbst das deutsche Open-Data-Portal GOVDATA bietet einen SPARQL-Assistenten - https://www.govdata.de/web/guest/sparql-assistent . Damit kann man online arbeiten und sich die Mühe sparen, indem man auf die Arbeit mit einem Editor und einem Kernel verzichtet. "
   ]
  },
  {
   "cell_type": "markdown",
   "id": "76f76c49",
   "metadata": {},
   "source": [
    "Somit können wir uns der Analyse der SPARQL-Syntax widmen, indem wir uns die Abfragen für die Forschungsfragen ansehen. Als allererstes muss ein Endepunkt definiert werden. Der Endepunkt bestimmt das maschinelesbare Verweis auf das Repositorium, in dem die Metadaten aufbewahrt sind. Bei der Arbeit mit einem Online-SPARQL-Werkzeug ist die Definierung eines Endpunkts oft nicht nötig, da der schon automatisch definiert ist. Im Portal GOVDATA ist der Endepunkt natürlich der Verweis auf das Repositorium mit allen Metadaten für die Datensätze, die auch über die interne Suchmaschine zu finden sind. "
   ]
  },
  {
   "cell_type": "markdown",
   "id": "0c86bd64",
   "metadata": {},
   "source": [
    "Für unsere Beispiele wollen wir das deutsche Datenportal GOVDATA durchstöbern. Dafür müssen wir uns den Endpunkt des europäischen Datenportal holen. Den finden wir auf der folgenden Webseite - . Danach verwenden den wir folgende Magic, d.h. einen Befehl, der Teil vom SPARQL-Python-Paket ist, die uns erlaubt, alle künftigen Abfragen mit unserem Endpunkt zu verknüpfen."
   ]
  },
  {
   "cell_type": "code",
   "execution_count": 2,
   "id": "44badbfb",
   "metadata": {
    "vscode": {
     "languageId": "python"
    }
   },
   "outputs": [
    {
     "data": {
      "text/html": [
       "<div class=\"krn-spql\"><div class=\"magic\">Endpoint set to: https://data.europa.eu/sparql</div></div>"
      ],
      "text/plain": [
       "Endpoint set to: https://data.europa.eu/sparql\n"
      ]
     },
     "metadata": {},
     "output_type": "display_data"
    }
   ],
   "source": [
    "%endpoint https://data.europa.eu/sparql"
   ]
  },
  {
   "cell_type": "markdown",
   "id": "7937af5f",
   "metadata": {},
   "source": [
    "Mit dem festgelegten Endpunkt können wir schon SPARQL-Abfragen errichten, indem wir Metadaten aus dem Portal erfragen. Bevor wir damit anfangen, wäre es eine gute Idee, sich mit der Onthologie bekanntzumachen. Das früher schon erklärte Konzept von DCAT-AP ist zentral für die Entdeckung von den Metadateneigentschaften und dient als das Stanard für die Referenzliste von Properties - https://www.dcat-ap.de/def/. Somit können wir uns schon die Struktur einer Abfrage anschauen."
   ]
  },
  {
   "cell_type": "code",
   "execution_count": 3,
   "id": "2b421b9e",
   "metadata": {
    "vscode": {
     "languageId": "python"
    }
   },
   "outputs": [
    {
     "data": {
      "text/html": [
       "<div class=\"krn-spql\"><table><tr class=hdr><th>uri</th>\n",
       "<th>title</th>\n",
       "<th>contributorid</th>\n",
       "<th>stateKey</th></tr><tr class=odd><td class=val><a href=\"http://data.europa.eu/88u/dataset/b7cad163-8d99-4d97-b781-e4f5a11078d3\" target=\"_other\">http://data.europa.eu/88u/dataset/b7cad163-8d99-4d97-b781-e4f5a11078d3</a></td>\n",
       "<td class=val>Digitale Topographische Karte 1 : 10 000 - 3952-NO Friedland - Groß Muckrow</td>\n",
       "<td class=val><a href=\"http://dcat-ap.de/def/contributors/landBrandenburg\" target=\"_other\">http://dcat-ap.de/def/contributors/landBrandenburg</a></td>\n",
       "<td class=val></td></tr><tr class=even><td class=val><a href=\"http://data.europa.eu/88u/dataset/b7cad163-8d99-4d97-b781-e4f5a11078d3\" target=\"_other\">http://data.europa.eu/88u/dataset/b7cad163-8d99-4d97-b781-e4f5a11078d3</a></td>\n",
       "<td class=val>Digitale Topographische Karte 1 : 10 000 - 3952-NO Friedland - Groß Muckrow</td>\n",
       "<td class=val><a href=\"http://dcat-ap.de/def/contributors/openDataBrandenburg\" target=\"_other\">http://dcat-ap.de/def/contributors/openDataBrandenburg</a></td>\n",
       "<td class=val></td></tr><tr class=odd><td class=val><a href=\"http://data.europa.eu/88u/dataset/b911982d-33ef-408c-8840-96a0702021db~~1\" target=\"_other\">http://data.europa.eu/88u/dataset/b911982d-33ef-408c-8840-96a0702021db~~1</a></td>\n",
       "<td class=val>Topographische Karte 1 : 25 000 - Ausgabe Staat (1981-1989) N-33-123-B-c Berlin (West)-Charlottenburg</td>\n",
       "<td class=val><a href=\"http://dcat-ap.de/def/contributors/landBrandenburg\" target=\"_other\">http://dcat-ap.de/def/contributors/landBrandenburg</a></td>\n",
       "<td class=val></td></tr><tr class=even><td class=val><a href=\"http://data.europa.eu/88u/dataset/b911982d-33ef-408c-8840-96a0702021db~~1\" target=\"_other\">http://data.europa.eu/88u/dataset/b911982d-33ef-408c-8840-96a0702021db~~1</a></td>\n",
       "<td class=val>Topographische Karte 1 : 25 000 - Ausgabe Staat (1981-1989) N-33-123-B-c Berlin (West)-Charlottenburg</td>\n",
       "<td class=val><a href=\"http://dcat-ap.de/def/contributors/openDataBrandenburg\" target=\"_other\">http://dcat-ap.de/def/contributors/openDataBrandenburg</a></td>\n",
       "<td class=val></td></tr><tr class=odd><td class=val><a href=\"http://data.europa.eu/88u/dataset/cedcb7b0-fa9e-4ea1-ab8f-8a0f1aa78eeb~~1\" target=\"_other\">http://data.europa.eu/88u/dataset/cedcb7b0-fa9e-4ea1-ab8f-8a0f1aa78eeb~~1</a></td>\n",
       "<td class=val>Topographische Karte 1 : 50 000 - Ausgabe Volkswirtschaft (1974-1982) 0610-2 Gartz (Oder)</td>\n",
       "<td class=val><a href=\"http://dcat-ap.de/def/contributors/landBrandenburg\" target=\"_other\">http://dcat-ap.de/def/contributors/landBrandenburg</a></td>\n",
       "<td class=val></td></tr><tr class=even><td class=val><a href=\"http://data.europa.eu/88u/dataset/cedcb7b0-fa9e-4ea1-ab8f-8a0f1aa78eeb~~1\" target=\"_other\">http://data.europa.eu/88u/dataset/cedcb7b0-fa9e-4ea1-ab8f-8a0f1aa78eeb~~1</a></td>\n",
       "<td class=val>Topographische Karte 1 : 50 000 - Ausgabe Volkswirtschaft (1974-1982) 0610-2 Gartz (Oder)</td>\n",
       "<td class=val><a href=\"http://dcat-ap.de/def/contributors/openDataBrandenburg\" target=\"_other\">http://dcat-ap.de/def/contributors/openDataBrandenburg</a></td>\n",
       "<td class=val></td></tr><tr class=odd><td class=val><a href=\"http://data.europa.eu/88u/dataset/fca0911a-e84c-498c-823e-19e0225b0c46\" target=\"_other\">http://data.europa.eu/88u/dataset/fca0911a-e84c-498c-823e-19e0225b0c46</a></td>\n",
       "<td class=val>Topographische Karte 1 : 50 000 - L2946 Templin</td>\n",
       "<td class=val><a href=\"http://dcat-ap.de/def/contributors/landBrandenburg\" target=\"_other\">http://dcat-ap.de/def/contributors/landBrandenburg</a></td>\n",
       "<td class=val></td></tr><tr class=even><td class=val><a href=\"http://data.europa.eu/88u/dataset/fca0911a-e84c-498c-823e-19e0225b0c46\" target=\"_other\">http://data.europa.eu/88u/dataset/fca0911a-e84c-498c-823e-19e0225b0c46</a></td>\n",
       "<td class=val>Topographische Karte 1 : 50 000 - L2946 Templin</td>\n",
       "<td class=val><a href=\"http://dcat-ap.de/def/contributors/openDataBrandenburg\" target=\"_other\">http://dcat-ap.de/def/contributors/openDataBrandenburg</a></td>\n",
       "<td class=val></td></tr><tr class=odd><td class=val><a href=\"http://data.europa.eu/88u/dataset/5251cc02-187b-45e5-9a5e-d5298a4aaf39\" target=\"_other\">http://data.europa.eu/88u/dataset/5251cc02-187b-45e5-9a5e-d5298a4aaf39</a></td>\n",
       "<td class=val>Digitale Topographische Karte 1 : 100 000 - C2734 Parchim</td>\n",
       "<td class=val><a href=\"http://dcat-ap.de/def/contributors/landBrandenburg\" target=\"_other\">http://dcat-ap.de/def/contributors/landBrandenburg</a></td>\n",
       "<td class=val></td></tr><tr class=even><td class=val><a href=\"http://data.europa.eu/88u/dataset/5251cc02-187b-45e5-9a5e-d5298a4aaf39\" target=\"_other\">http://data.europa.eu/88u/dataset/5251cc02-187b-45e5-9a5e-d5298a4aaf39</a></td>\n",
       "<td class=val>Digitale Topographische Karte 1 : 100 000 - C2734 Parchim</td>\n",
       "<td class=val><a href=\"http://dcat-ap.de/def/contributors/openDataBrandenburg\" target=\"_other\">http://dcat-ap.de/def/contributors/openDataBrandenburg</a></td>\n",
       "<td class=val></td></tr><tr class=odd><td class=val><a href=\"http://data.europa.eu/88u/dataset/5251cc02-187b-45e5-9a5e-d5298a4aaf39\" target=\"_other\">http://data.europa.eu/88u/dataset/5251cc02-187b-45e5-9a5e-d5298a4aaf39</a></td>\n",
       "<td class=val>Il-Mappa Topografika Diġitali 1: 100 000 — C2734 Parchim</td>\n",
       "<td class=val><a href=\"http://dcat-ap.de/def/contributors/landBrandenburg\" target=\"_other\">http://dcat-ap.de/def/contributors/landBrandenburg</a></td>\n",
       "<td class=val></td></tr><tr class=even><td class=val><a href=\"http://data.europa.eu/88u/dataset/5251cc02-187b-45e5-9a5e-d5298a4aaf39\" target=\"_other\">http://data.europa.eu/88u/dataset/5251cc02-187b-45e5-9a5e-d5298a4aaf39</a></td>\n",
       "<td class=val>Il-Mappa Topografika Diġitali 1: 100 000 — C2734 Parchim</td>\n",
       "<td class=val><a href=\"http://dcat-ap.de/def/contributors/openDataBrandenburg\" target=\"_other\">http://dcat-ap.de/def/contributors/openDataBrandenburg</a></td>\n",
       "<td class=val></td></tr><tr class=odd><td class=val><a href=\"http://data.europa.eu/88u/dataset/5251cc02-187b-45e5-9a5e-d5298a4aaf39\" target=\"_other\">http://data.europa.eu/88u/dataset/5251cc02-187b-45e5-9a5e-d5298a4aaf39</a></td>\n",
       "<td class=val>Hartă topografică digitală 1: 100 000 – C2734 Parchim</td>\n",
       "<td class=val><a href=\"http://dcat-ap.de/def/contributors/landBrandenburg\" target=\"_other\">http://dcat-ap.de/def/contributors/landBrandenburg</a></td>\n",
       "<td class=val></td></tr><tr class=even><td class=val><a href=\"http://data.europa.eu/88u/dataset/5251cc02-187b-45e5-9a5e-d5298a4aaf39\" target=\"_other\">http://data.europa.eu/88u/dataset/5251cc02-187b-45e5-9a5e-d5298a4aaf39</a></td>\n",
       "<td class=val>Hartă topografică digitală 1: 100 000 – C2734 Parchim</td>\n",
       "<td class=val><a href=\"http://dcat-ap.de/def/contributors/openDataBrandenburg\" target=\"_other\">http://dcat-ap.de/def/contributors/openDataBrandenburg</a></td>\n",
       "<td class=val></td></tr><tr class=odd><td class=val><a href=\"http://data.europa.eu/88u/dataset/5251cc02-187b-45e5-9a5e-d5298a4aaf39\" target=\"_other\">http://data.europa.eu/88u/dataset/5251cc02-187b-45e5-9a5e-d5298a4aaf39</a></td>\n",
       "<td class=val>Digitální topografické mapy 1: 100 000 – C2734 Parchim</td>\n",
       "<td class=val><a href=\"http://dcat-ap.de/def/contributors/landBrandenburg\" target=\"_other\">http://dcat-ap.de/def/contributors/landBrandenburg</a></td>\n",
       "<td class=val></td></tr><tr class=even><td class=val><a href=\"http://data.europa.eu/88u/dataset/5251cc02-187b-45e5-9a5e-d5298a4aaf39\" target=\"_other\">http://data.europa.eu/88u/dataset/5251cc02-187b-45e5-9a5e-d5298a4aaf39</a></td>\n",
       "<td class=val>Digitální topografické mapy 1: 100 000 – C2734 Parchim</td>\n",
       "<td class=val><a href=\"http://dcat-ap.de/def/contributors/openDataBrandenburg\" target=\"_other\">http://dcat-ap.de/def/contributors/openDataBrandenburg</a></td>\n",
       "<td class=val></td></tr><tr class=odd><td class=val><a href=\"http://data.europa.eu/88u/dataset/5251cc02-187b-45e5-9a5e-d5298a4aaf39\" target=\"_other\">http://data.europa.eu/88u/dataset/5251cc02-187b-45e5-9a5e-d5298a4aaf39</a></td>\n",
       "<td class=val>Mappa topografica digitale 1: 100 000 — C2734 Parchim</td>\n",
       "<td class=val><a href=\"http://dcat-ap.de/def/contributors/landBrandenburg\" target=\"_other\">http://dcat-ap.de/def/contributors/landBrandenburg</a></td>\n",
       "<td class=val></td></tr><tr class=even><td class=val><a href=\"http://data.europa.eu/88u/dataset/5251cc02-187b-45e5-9a5e-d5298a4aaf39\" target=\"_other\">http://data.europa.eu/88u/dataset/5251cc02-187b-45e5-9a5e-d5298a4aaf39</a></td>\n",
       "<td class=val>Mappa topografica digitale 1: 100 000 — C2734 Parchim</td>\n",
       "<td class=val><a href=\"http://dcat-ap.de/def/contributors/openDataBrandenburg\" target=\"_other\">http://dcat-ap.de/def/contributors/openDataBrandenburg</a></td>\n",
       "<td class=val></td></tr><tr class=odd><td class=val><a href=\"http://data.europa.eu/88u/dataset/5251cc02-187b-45e5-9a5e-d5298a4aaf39\" target=\"_other\">http://data.europa.eu/88u/dataset/5251cc02-187b-45e5-9a5e-d5298a4aaf39</a></td>\n",
       "<td class=val>Digital topografisk karta 1: 100 000 – C2734 Parchim</td>\n",
       "<td class=val><a href=\"http://dcat-ap.de/def/contributors/landBrandenburg\" target=\"_other\">http://dcat-ap.de/def/contributors/landBrandenburg</a></td>\n",
       "<td class=val></td></tr><tr class=even><td class=val><a href=\"http://data.europa.eu/88u/dataset/5251cc02-187b-45e5-9a5e-d5298a4aaf39\" target=\"_other\">http://data.europa.eu/88u/dataset/5251cc02-187b-45e5-9a5e-d5298a4aaf39</a></td>\n",
       "<td class=val>Digital topografisk karta 1: 100 000 – C2734 Parchim</td>\n",
       "<td class=val><a href=\"http://dcat-ap.de/def/contributors/openDataBrandenburg\" target=\"_other\">http://dcat-ap.de/def/contributors/openDataBrandenburg</a></td>\n",
       "<td class=val></td></tr></table><div class=\"tinfo\">Total: 50000, Shown: 20</div></div>"
      ]
     },
     "metadata": {},
     "output_type": "display_data"
    }
   ],
   "source": [
    "PREFIX dct: <http://purl.org/dc/terms/>\n",
    "PREFIX dcatde: <http://dcat-ap.de/def/dcatde/>\n",
    "PREFIX pg: <https://www.dcat-ap.de/def/politicalGeocoding/>\n",
    "\n",
    "SELECT ?uri ?title ?contributorid ?stateKey\n",
    "WHERE {\n",
    "    ?uri dct:title ?title .\n",
    "    ?uri dcatde:contributorID ?contributorid .\n",
    "  OPTIONAL {?uri pg:stateKey ?stateKey} .\n",
    "}"
   ]
  },
  {
   "cell_type": "markdown",
   "id": "05d87715",
   "metadata": {},
   "source": [
    "Als erstes sehen wir die sogenannten PREFIXES. Die Prefixes sind ein nützliches Tool, das dabei helfen, auf die diversen Eigenschaftenkategorien zu verweisen und auf eine abgekürzte Art und Weise die Bezüge zwischen jenen Eigenschaften zu schaffen. Die sind wichtig für eine eifachere Gestaltung der Abfragen, sind aber nicht nötig und somit kein essenzielles Element davon. Sie helfen lediglich, indem die ganzen Links nicht immer wieder ausgeschrieben werden müssen, und ermöglichen nur die Angabe von den Endungen nach den Prefixes. Alles wird klarer, wenn wir uns den WHERE-Abschnitt ansehen. "
   ]
  },
  {
   "cell_type": "markdown",
   "id": "fedbbdc8",
   "metadata": {},
   "source": [
    "Zuvor gibt es aber den SELECT-Befehl. SELECT wählt die Properties bzw. die Eigentschaften, die aufgelistet werden sollen. Jede Eigenschaft entspricht einer Spalte, die in der Tabelle mit Ergebnissen zu sehen ist. Da in der SELECT-Befehl die folgenden 3 Properties ausgeschrieben werden - ?uri ?title ?contributorid ?stateKey, bekommen wir die URIs, die Titel, die Namen der Datebereitsteller und der Kürzel des jeweiligen Lands, aus dem der Datensatz stammt. Die genauen Benennungen der Properties könnte man nicht ahnen - die stehen fest in der Ontologie vergeben. Deswegen bräuchte man oft auf das Handbuch DCAT-AP sich zu beziehen, um die genauen Labels für jede Property zu finden. Was noch Ihnen auffallen könnte, ist das die Spalte für Bundesland (stateKey) leersteht. Leider ist das wegen der Ursache, dass das Land nicht mit codiert worden ist. Somit stehen diese Felder leer. Das ist ein klares Beispiel für lückenhaftes Metadatenmanagement, das die Beantowrtung unserer Forschungsfrage erschwierigt. In der Praxis kommt es oft zu Fällen, in denen Abfragen nicht sehr erfolgreich wegen unvollkommenes Harvestings oder unvoller Datebanken ist. Man sollte damit rechnen können. "
   ]
  },
  {
   "cell_type": "markdown",
   "id": "b1efc6e2",
   "metadata": {},
   "source": [
    "Als nächstes haben wir den Kern jeder SPARQL-Abfrage - den WHERE-Befehl. Die WHERE-Befehl definiert die Beobachtungen, die aufgelistet werden sollen, indem die Bedingungen ausgeschrieben werden. Somit werden nur die Beobachtungen aufgelistet, die alle Bedungungen erfüllen. In der Abfrage ist auch OPTIONAL zu sehen - dies besagt, dass die folgende Bedingung nicht zwingend zu erfüllen ist. Das bedeutet, dass selbst die Beobachtungen, in unserem Fall die Datensätze, in der Liste stehen, die keine Ausprägung für die Eigentschaft stateKey (Verweis auf Land) haben. Da leider stateKey nicht mit codiert ist, können wir uns alle Datensätze ansehen, die auf die anderen Bedingungen treffen (URI, Titel und ID der Bereitsteller), ohne dass wir eine leere Liste bekommen. OPTIONAL ist ein gutes Werkzeug, das benutzt werden kann, wenn man sich nicht sicher ist, ob gewisse Properties ordentlich codiert sind."
   ]
  },
  {
   "cell_type": "markdown",
   "id": "956d90c3",
   "metadata": {},
   "source": [
    "Was wahrscheinlich Ihnen auch auffällt ist, dass in jeder Zeile in der WHERE-Funktion 3 Elemente zu sehen sind. Diese Struktur ist essentiell für die SPARQL-Sprache - durch die sogenannten \"triplets\" werden Bezüge zwischen den Eigenschaften erstellt. Jede Zeile bestimmt einen Bezug zwischen 2 Eigenschaften. Die erste Eigenschaft ist somit das Subjekt (S), das zweite Element - der Bezug, der aus einem Prefix und einer zusätzlichen Spezifizierung besteht, heißt das Prädikat (P), und das dritte - die zweite Eigenschaft, ist das Objekt (O). P entspricht einem Link, der darauf verweist, wo die zweite Eigentschaft zu finden ist. Die Einordnung der Eigenschaften ist nach dem W3C-Standard, das schon in einem früheren Kapitel erklärt wurde, definiert. In dem DCAT-AP-Handbuch ist dann die genaue Verortung von jeder Eingenschaft zu finden. Durch die Triplets fragen wir genau ab, welche Datensätze wir erfragen wollen, je nach den Bedingungen, die solche Datensätze erfüllen sollen. Mit unserer Abfrage suchen wir die Datensätze ab, die einen Titel, ein URI, einen mitcodierten Datenbereitsteller, und wenn vorhanden, einen Schlüssel für das Bundesland, haben, was leider bei keinen Datensätzen der Fall ist. Es lässt sich einfach ableiten, dass diese Bedingungen nicht so strikt ist. Trotzdem konnten wir unsere Fragestellung wegen mangelhafter Daten nicht ganz befriedigen. Jedoch kann man viel spezifischer sein. Wir würden also versuchen, unsere Fragestellung zu ändern und zusätzliche Beispiele von SPARQL aufzuzeigen."
   ]
  },
  {
   "cell_type": "markdown",
   "id": "7432c8da",
   "metadata": {},
   "source": [
    "Somit lautet unsere neue Fragestellung also:"
   ]
  },
  {
   "cell_type": "markdown",
   "id": "2835fa17",
   "metadata": {
    "vscode": {
     "languageId": "python"
    }
   },
   "source": [
    "Welche sind die Datensätze, die das Wort \"Baumkataster\" im Titel beinhalten und im Zeitschnitt 2022-2024 erschienen sind? Welche sind die Bereitsteller, die jene Datensätze liefern? In welchen Formaten kommen die Datensätze vor? "
   ]
  },
  {
   "cell_type": "code",
   "execution_count": 4,
   "id": "cfc0d1cd",
   "metadata": {
    "vscode": {
     "languageId": "python"
    }
   },
   "outputs": [
    {
     "data": {
      "text/html": [
       "<div class=\"krn-spql\"><div class=\"magic\">Endpoint set to: https://data.europa.eu/sparql</div></div>"
      ],
      "text/plain": [
       "Endpoint set to: https://data.europa.eu/sparql\n"
      ]
     },
     "metadata": {},
     "output_type": "display_data"
    },
    {
     "data": {
      "text/html": [
       "<div class=\"krn-spql\"><table><tr class=hdr><th>uri</th>\n",
       "<th>title</th>\n",
       "<th>contributorid</th>\n",
       "<th>modified</th></tr><tr class=odd><td class=val><a href=\"http://data.europa.eu/88u/dataset/73c5a6b3-c033-4dad-bb7d-8783427dd233\" target=\"_other\">http://data.europa.eu/88u/dataset/73c5a6b3-c033-4dad-bb7d-8783427dd233</a></td>\n",
       "<td class=val>Baumkataster Frankfurt am Main</td>\n",
       "<td class=val><a href=\"http://dcat-ap.de/def/contributors/stadtFrankfurtAmMain\" target=\"_other\">http://dcat-ap.de/def/contributors/stadtFrankfurtAmMain</a></td>\n",
       "<td class=val>2023-08-23T05:44:14.694853</td></tr><tr class=even><td class=val><a href=\"http://data.europa.eu/88u/dataset/fcdceb2e-d16d-410c-ba0f-521ba8c6effa\" target=\"_other\">http://data.europa.eu/88u/dataset/fcdceb2e-d16d-410c-ba0f-521ba8c6effa</a></td>\n",
       "<td class=val>Fachpläne - Baumkataster</td>\n",
       "<td class=val><a href=\"http://dcat-ap.de/def/contributors/datenBW\" target=\"_other\">http://dcat-ap.de/def/contributors/datenBW</a></td>\n",
       "<td class=val>2024-08-15T08:37:08.728790</td></tr><tr class=odd><td class=val><a href=\"http://data.europa.eu/88u/dataset/c1c61928-c602-4e37-af31-2d23901e2540\" target=\"_other\">http://data.europa.eu/88u/dataset/c1c61928-c602-4e37-af31-2d23901e2540</a></td>\n",
       "<td class=val>Straßenbaumkataster Hamburg</td>\n",
       "<td class=val><a href=\"http://dcat-ap.de/def/contributors/transparenzportalHamburg\" target=\"_other\">http://dcat-ap.de/def/contributors/transparenzportalHamburg</a></td>\n",
       "<td class=val>2024-08-09T00:10:58.572825</td></tr><tr class=even><td class=val><a href=\"http://data.europa.eu/88u/dataset/19676799-fedb-4d1a-a89a-26fba887b3f0~~2\" target=\"_other\">http://data.europa.eu/88u/dataset/19676799-fedb-4d1a-a89a-26fba887b3f0~~2</a></td>\n",
       "<td class=val>Straßenbaumkataster Hamburger Hafen</td>\n",
       "<td class=val><a href=\"http://dcat-ap.de/def/contributors/transparenzportalHamburg\" target=\"_other\">http://dcat-ap.de/def/contributors/transparenzportalHamburg</a></td>\n",
       "<td class=val>2024-08-08T03:15:01.540503</td></tr><tr class=odd><td class=val><a href=\"http://data.europa.eu/88u/dataset/5f0aaf45-f380-49b3-87be-51abaddacbe0\" target=\"_other\">http://data.europa.eu/88u/dataset/5f0aaf45-f380-49b3-87be-51abaddacbe0</a></td>\n",
       "<td class=val>Baumkataster Norderstedt</td>\n",
       "<td class=val><a href=\"http://dcat-ap.de/def/contributors/schleswigHolstein\" target=\"_other\">http://dcat-ap.de/def/contributors/schleswigHolstein</a></td>\n",
       "<td class=val>2022-04-12T07:58:22.519048</td></tr><tr class=even><td class=val><a href=\"http://data.europa.eu/88u/dataset/cfbe70e6-6078-42db-8c9b-f8745ee8916e\" target=\"_other\">http://data.europa.eu/88u/dataset/cfbe70e6-6078-42db-8c9b-f8745ee8916e</a></td>\n",
       "<td class=val>Baumkataster</td>\n",
       "<td class=val><a href=\"http://dcat-ap.de/def/contributors/schleswigHolstein\" target=\"_other\">http://dcat-ap.de/def/contributors/schleswigHolstein</a></td>\n",
       "<td class=val>2023-06-09T05:25:52.631385</td></tr><tr class=odd><td class=val><a href=\"http://data.europa.eu/88u/dataset/b16bb333-26ca-4743-9663-723d63f57259\" target=\"_other\">http://data.europa.eu/88u/dataset/b16bb333-26ca-4743-9663-723d63f57259</a></td>\n",
       "<td class=val>Digitales Baumkataster Münster</td>\n",
       "<td class=val><a href=\"http://dcat-ap.de/def/contributors/openNRW\" target=\"_other\">http://dcat-ap.de/def/contributors/openNRW</a></td>\n",
       "<td class=val>2023-01-24T13:05:20+01:00</td></tr><tr class=even><td class=val><a href=\"http://data.europa.eu/88u/dataset/200e532c-a381-4611-ba05-4ed7afc31230\" target=\"_other\">http://data.europa.eu/88u/dataset/200e532c-a381-4611-ba05-4ed7afc31230</a></td>\n",
       "<td class=val>Baumkataster des ASG Wesel</td>\n",
       "<td class=val><a href=\"http://dcat-ap.de/def/contributors/openNRW\" target=\"_other\">http://dcat-ap.de/def/contributors/openNRW</a></td>\n",
       "<td class=val>2024-05-28T11:46:06.401383</td></tr><tr class=odd><td class=val><a href=\"http://data.europa.eu/88u/dataset/baumkataster_stadt_wuerzburg-wuerzburg\" target=\"_other\">http://data.europa.eu/88u/dataset/baumkataster_stadt_wuerzburg-wuerzburg</a></td>\n",
       "<td class=val>Baumkataster der Stadt Würzburg</td>\n",
       "<td class=val><a href=\"http://dcat-ap.de/def/contributors/openDataBayern\" target=\"_other\">http://dcat-ap.de/def/contributors/openDataBayern</a></td>\n",
       "<td class=val>2024-07-19T08:18:59.213Z</td></tr><tr class=even><td class=val><a href=\"http://data.europa.eu/88u/dataset/9b439a59-62b0-4ada-9976-08a631a96b82\" target=\"_other\">http://data.europa.eu/88u/dataset/9b439a59-62b0-4ada-9976-08a631a96b82</a></td>\n",
       "<td class=val>Baumkataster</td>\n",
       "<td class=val><a href=\"http://dcat-ap.de/def/contributors/datenBW\" target=\"_other\">http://dcat-ap.de/def/contributors/datenBW</a></td>\n",
       "<td class=val>2024-07-19T15:15:21+02:00</td></tr><tr class=odd><td class=val><a href=\"http://data.europa.eu/88u/dataset/https-registry-gdi-de-org-id-de-sn-stlp-cee75d75-4b4e-4bea-9d24-8b5993b54479\" target=\"_other\">http://data.europa.eu/88u/dataset/https-registry-gdi-de-org-id-de-sn-stlp-cee75d75-4b4e-4bea-9d24-8b5993b54479</a></td>\n",
       "<td class=val>Baumkataster, Stadt Leipzig</td>\n",
       "<td class=val><a href=\"http://dcat-ap.de/def/contributors/freistaatSachsen\" target=\"_other\">http://dcat-ap.de/def/contributors/freistaatSachsen</a></td>\n",
       "<td class=val>2024-07-17T00:00:00</td></tr><tr class=even><td class=val><a href=\"http://data.europa.eu/88u/dataset/https-open-data-dortmund-de-explore-dataset-baumkataster-\" target=\"_other\">http://data.europa.eu/88u/dataset/https-open-data-dortmund-de-explore-dataset-baumkataster-</a></td>\n",
       "<td class=val>Baumkataster</td>\n",
       "<td class=val><a href=\"http://dcat-ap.de/def/contributors/openNRW\" target=\"_other\">http://dcat-ap.de/def/contributors/openNRW</a></td>\n",
       "<td class=val>2024-08-27T01:05:12.221Z</td></tr><tr class=odd><td class=val><a href=\"http://data.europa.eu/88u/dataset/baumkataster-dortmund\" target=\"_other\">http://data.europa.eu/88u/dataset/baumkataster-dortmund</a></td>\n",
       "<td class=val>Baumkataster</td>\n",
       "<td class=val><a href=\"http://dcat-ap.de/def/contributors/openNRW\" target=\"_other\">http://dcat-ap.de/def/contributors/openNRW</a></td>\n",
       "<td class=val>2024-08-27T01:05:12.221Z</td></tr><tr class=even><td class=val><a href=\"http://data.europa.eu/88u/dataset/59dd9d5d-cd65-43f8-bd13-d82734e640ef\" target=\"_other\">http://data.europa.eu/88u/dataset/59dd9d5d-cd65-43f8-bd13-d82734e640ef</a></td>\n",
       "<td class=val>Baumkataster Koeln 2020</td>\n",
       "<td class=val><a href=\"http://dcat-ap.de/def/contributors/openNRW\" target=\"_other\">http://dcat-ap.de/def/contributors/openNRW</a></td>\n",
       "<td class=val>2024-06-25T08:34:10+02:00</td></tr><tr class=odd><td class=val><a href=\"http://data.europa.eu/88u/dataset/cee75d75-4b4e-4bea-9d24-8b5993b54479~~1\" target=\"_other\">http://data.europa.eu/88u/dataset/cee75d75-4b4e-4bea-9d24-8b5993b54479~~1</a></td>\n",
       "<td class=val>Baumkataster, Stadt Leipzig</td>\n",
       "<td class=val><a href=\"http://dcat-ap.de/def/contributors/freistaatSachsen\" target=\"_other\">http://dcat-ap.de/def/contributors/freistaatSachsen</a></td>\n",
       "<td class=val>2024-07-15T00:00:00</td></tr><tr class=even><td class=val><a href=\"http://data.europa.eu/88u/dataset/73dd7f0f-48e7-4cbd-916f-1f0f79652ad0\" target=\"_other\">http://data.europa.eu/88u/dataset/73dd7f0f-48e7-4cbd-916f-1f0f79652ad0</a></td>\n",
       "<td class=val>Baumkataster</td>\n",
       "<td class=val><a href=\"http://dcat-ap.de/def/contributors/schleswigHolstein\" target=\"_other\">http://dcat-ap.de/def/contributors/schleswigHolstein</a></td>\n",
       "<td class=val>2024-04-19T00:00:00</td></tr><tr class=odd><td class=val><a href=\"http://data.europa.eu/88u/dataset/https-open-bydata-de-api-hub-repo-datasets-baumkataster-haar\" target=\"_other\">http://data.europa.eu/88u/dataset/https-open-bydata-de-api-hub-repo-datasets-baumkataster-haar</a></td>\n",
       "<td class=val>Baumkataster der Gemeinde Haar</td>\n",
       "<td class=val><a href=\"http://dcat-ap.de/def/contributors/openDataBayern\" target=\"_other\">http://dcat-ap.de/def/contributors/openDataBayern</a></td>\n",
       "<td class=val>2024-03-06T08:27:55.945363</td></tr><tr class=even><td class=val><a href=\"http://data.europa.eu/88u/dataset/https-open-bydata-de-api-hub-repo-datasets-baumkataster-der-stadt-hassfurt\" target=\"_other\">http://data.europa.eu/88u/dataset/https-open-bydata-de-api-hub-repo-datasets-baumkataster-der-stadt-hassfurt</a></td>\n",
       "<td class=val>Baumkataster der Stadt Haßfurt</td>\n",
       "<td class=val><a href=\"http://dcat-ap.de/def/contributors/openDataBayern\" target=\"_other\">http://dcat-ap.de/def/contributors/openDataBayern</a></td>\n",
       "<td class=val>2023-11-24T00:00:00</td></tr><tr class=odd><td class=val><a href=\"http://data.europa.eu/88u/dataset/b62818fc-6af8-4896-a4d4-c35ee4864c9f\" target=\"_other\">http://data.europa.eu/88u/dataset/b62818fc-6af8-4896-a4d4-c35ee4864c9f</a></td>\n",
       "<td class=val>Baumkataster der Hansestadt Lübeck</td>\n",
       "<td class=val><a href=\"http://dcat-ap.de/def/contributors/schleswigHolstein\" target=\"_other\">http://dcat-ap.de/def/contributors/schleswigHolstein</a></td>\n",
       "<td class=val>2024-08-05T12:18:26.031872</td></tr><tr class=even><td class=val><a href=\"http://data.europa.eu/88u/dataset/https-open-bydata-de-api-hub-repo-datasets-baumkataster-der-stadt-erlangen\" target=\"_other\">http://data.europa.eu/88u/dataset/https-open-bydata-de-api-hub-repo-datasets-baumkataster-der-stadt-erlangen</a></td>\n",
       "<td class=val>Baumkataster der Stadt Erlangen</td>\n",
       "<td class=val><a href=\"http://dcat-ap.de/def/contributors/openDataBayern\" target=\"_other\">http://dcat-ap.de/def/contributors/openDataBayern</a></td>\n",
       "<td class=val>2024-04-11T05:39:58.589234</td></tr></table><div class=\"tinfo\">Total: 26, Shown: 20</div></div>"
      ]
     },
     "metadata": {},
     "output_type": "display_data"
    }
   ],
   "source": [
    "%endpoint https://data.europa.eu/sparql\n",
    "PREFIX dct: <http://purl.org/dc/terms/>\n",
    "PREFIX dcatde: <http://dcat-ap.de/def/dcatde/>\n",
    "\n",
    "SELECT ?uri ?title ?contributorid ?modified WHERE {\n",
    "    {\n",
    "        SELECT ?uri ?title ?contributorid ?modified WHERE {\n",
    "            ?uri dct:title ?title .\n",
    "            ?uri dcatde:contributorID ?contributorid .\n",
    "            ?uri dct:modified ?modified .\n",
    "            FILTER(isURI(?contributorid))\n",
    "            FILTER(strstarts(str(?contributorid), \"http://dcat-ap.de/def/contributors/\"))       \n",
    "            FILTER(CONTAINS(LCASE(?title), \"baumkataster\"))\n",
    "            FILTER(CONTAINS(STR(?modified), \"2022\") || CONTAINS(STR(?modified), \"2023\") || CONTAINS(STR(?modified), \"2024\"))\n",
    "        }\n",
    "    }\n",
    "}"
   ]
  },
  {
   "cell_type": "markdown",
   "id": "f50739fe",
   "metadata": {},
   "source": [
    "Da wir uns schon mit der Struktur einer SPARQL-Abfrage auseinandergesetzt haben, können wir schon viel von der obigen ablesen. Erstmal haben wir den definierten Endpunkt, den wir nennen müssen, um auf den Standort der Metadaten hinzuweisen. Danach beschreiben wir die Prefixes, die unsere Verlinkungen in dem WHERE-Teil erleichtern. Neu hier ist der PREFIX dcatde - hier sind alle Eigentschaften verortet, die spezifisch für aus Deutschland stammende Datensätze sind. Wir verweisen somit auf contributorid - hier ist die Information über die Datenbereitsteller gespeichert. Die andere neue Eigenschaft ist modified, was besagt, wann zum letzen der jeweilige Datensatz bearbeitet worden ist. Diese Eigenschaft gibt die aktuellste Auskunft darüber, aus welchem Jahr der Datensatz stammt. Eine andere neue Bedingung, die in der Absprache zu finden ist, wäre FILTER. FILTER beschreibt eine spezifische Bedingung, die zwingend zu erfüllen ist, und somit schränkt die Ergebnisse darauf ein. Somit lassen wir uns Ergebnisse angeben, die ihre contributorid ausschließlich als URI haben und zwar die mit \"http://dcat-ap.de/def/contributors/\" anfangen. Das schließt alle leerstehende Ausprägungen und auch solche, die nicht in der Form von URIs sind. Wichtig sind auch die Befehle strstarts und str. Die Funktion str() konvertiert den Wert der Variable ?contributorid in einen String. In SPARQL-Abfragen werden Variablen oft als IRIs (Internationalized Resource Identifiers) dargestellt, also als URLs. Die Funktion str() nimmt diesen IRI und wandelt ihn in eine einfache Zeichenkette (String) um. Die Funktion strstarts() überprüft, ob ein gegebener String mit einer bestimmten Zeichenkette beginnt. Für die Eigenschaft modified legen wir fest, welche Jahre in der Form einer vierstelligen Zahl in der Zeichenkette sein sollten, also 2022, 2023, 2024. "
   ]
  },
  {
   "cell_type": "markdown",
   "id": "fe748c7e",
   "metadata": {},
   "source": [
    "Als nächstes wollen wir uns eine Liste von den Datenbereitstellern ansehen, sowie die Anzahl an Datensätzen je Bereitsteller. Damit können wir herausfinden, welcher Bereitstellende \"am produktivsten\" ist. "
   ]
  },
  {
   "cell_type": "code",
   "execution_count": 10,
   "id": "83eb3be1",
   "metadata": {
    "vscode": {
     "languageId": "python"
    }
   },
   "outputs": [
    {
     "data": {
      "text/html": [
       "<div class=\"krn-spql\"><table><tr class=hdr><th>contributorID</th>\n",
       "<th>uniqueDatasetTitleCount</th></tr><tr class=odd><td class=val><a href=\"http://dcat-ap.de/def/contributors/gdiDE\" target=\"_other\">http://dcat-ap.de/def/contributors/gdiDE</a></td>\n",
       "<td class=val>1</td></tr><tr class=even><td class=val><a href=\"https://offenedaten-konstanz.de/\" target=\"_other\">https://offenedaten-konstanz.de/</a></td>\n",
       "<td class=val>1</td></tr><tr class=odd><td class=val><a href=\"http://dcat-ap.de/def/contributors/schleswigHolstein\" target=\"_other\">http://dcat-ap.de/def/contributors/schleswigHolstein</a></td>\n",
       "<td class=val>3</td></tr><tr class=even><td class=val><a href=\"http://dcat-ap.de/def/contributors/openNRW\" target=\"_other\">http://dcat-ap.de/def/contributors/openNRW</a></td>\n",
       "<td class=val>5</td></tr><tr class=odd><td class=val><a href=\"http://dcat-ap.de/def/contributors/openDataBayern\" target=\"_other\">http://dcat-ap.de/def/contributors/openDataBayern</a></td>\n",
       "<td class=val>5</td></tr><tr class=even><td class=val><a href=\"http://dcat-ap.de/def/contributors/stadtFrankfurtAmMain\" target=\"_other\">http://dcat-ap.de/def/contributors/stadtFrankfurtAmMain</a></td>\n",
       "<td class=val>1</td></tr><tr class=odd><td class=val><a href=\"http://dcat-ap.de/def/contributors/mobilithek\" target=\"_other\">http://dcat-ap.de/def/contributors/mobilithek</a></td>\n",
       "<td class=val>1</td></tr><tr class=even><td class=val><a href=\"https://gdi-sh.de\" target=\"_other\">https://gdi-sh.de</a></td>\n",
       "<td class=val>1</td></tr><tr class=odd><td class=val><a href=\"http://dcat-ap.de/def/contributors/freistaatSachsen\" target=\"_other\">http://dcat-ap.de/def/contributors/freistaatSachsen</a></td>\n",
       "<td class=val>1</td></tr><tr class=even><td class=val><a href=\"http://dcat-ap.de/def/contributors/stadtErlangen\" target=\"_other\">http://dcat-ap.de/def/contributors/stadtErlangen</a></td>\n",
       "<td class=val>1</td></tr><tr class=odd><td class=val><a href=\"http://dcat-ap.de/def/contributors/datenBW\" target=\"_other\">http://dcat-ap.de/def/contributors/datenBW</a></td>\n",
       "<td class=val>2</td></tr><tr class=even><td class=val><a href=\"https://opendata.stadt-muenster.de/\" target=\"_other\">https://opendata.stadt-muenster.de/</a></td>\n",
       "<td class=val>1</td></tr><tr class=odd><td class=val><a href=\"https://offenedaten-koeln.de/\" target=\"_other\">https://offenedaten-koeln.de/</a></td>\n",
       "<td class=val>2</td></tr><tr class=even><td class=val><a href=\"http://dcat-ap.de/def/contributors/transparenzportalHamburg\" target=\"_other\">http://dcat-ap.de/def/contributors/transparenzportalHamburg</a></td>\n",
       "<td class=val>2</td></tr></table><div class=\"tinfo\">Total: 14, Shown: 14</div></div>"
      ]
     },
     "metadata": {},
     "output_type": "display_data"
    }
   ],
   "source": [
    "PREFIX dcat: <http://www.w3.org/ns/dcat#>\n",
    "PREFIX dct: <http://purl.org/dc/terms/>\n",
    "PREFIX dcatde: <http://dcat-ap.de/def/dcatde/>\n",
    "PREFIX rdfs: <http://www.w3.org/2000/01/rdf-schema#>\n",
    "PREFIX pg: <http://dcat-ap.de/def/politicalGeocoding/>\n",
    "\n",
    "SELECT ?contributorID (COUNT(DISTINCT ?datasetTitle) AS ?uniqueDatasetTitleCount)\n",
    "WHERE {\n",
    "  ?datasetURI a dcat:Dataset;\n",
    "              dct:title ?datasetTitle;\n",
    "              dcatde:contributorID ?contributorID;\n",
    "              dct:modified ?modified.\n",
    "  FILTER((LANG(?datasetTitle) = \"\" || LANG(?datasetTitle) = \"de\") && CONTAINS(LCASE(?datasetTitle), \"baumkataster\"))\n",
    "  FILTER(CONTAINS(STR(?modified), \"2022\") || CONTAINS(STR(?modified), \"2023\") || CONTAINS(STR(?modified), \"2024\"))\n",
    "}\n",
    "GROUP BY ?contributorID"
   ]
  },
  {
   "cell_type": "markdown",
   "id": "0f6cd380",
   "metadata": {},
   "source": [
    "Der COUNT Befehl in SPARQL wird verwendet, um die Anzahl der Ergebnisse zu zählen, die eine bestimmte Bedingung erfüllen. Der AS Befehl folgt dem COUNT und dient dazu, das Ergebnis der Zählung einer Variablen zuzuweisen, die dann im Ergebnis verwendet werden kann. DISTINCT gibt an, dass nur eindeutige (DISTINCT) Werte der Variable ?datasetTitle gezählt werden sollen. AS ?uniqueDatasetTitleCount  weist das Ergebnis der Zählung der Variable ?uniqueDatasetTitleCount zu. Diese Variable kann dann im Ergebnis verwendet werden, um die Anzahl der eindeutigen datasetTitle für jeden contributorID anzuzeigen. Die Bedingung (LANG(?datasetTitle) = \"\" || LANG(?datasetTitle) = \"de\") wird verwendet, um sicherzustellen, dass nur Titel (?datasetTitle) ausgewählt werden, die entweder keine Sprachinformation haben oder explizit als Deutsch (\"de\") gekennzeichnet sind. Die Bedingung für das Aufnehmen von Ergebnisse mit keiner Sprachinformation ist auch wichtig, da nicht alle Datenbereitsteller Information über die Sprache des Datensatzes einschließen. Die Bedingung, dass nur Datensätze als jene auf Deutsch aufgelistet werden sollen, ist vielleicht in diesem Fall überflüssig, denn das Wort \"Baumkataster\" sollte auch erwähnt werden, also ein deutsches Wort. Trotzdem wollen wir diese Funktion hierbei hervorheben, weil wir später davon Gebrauch machen. "
   ]
  },
  {
   "cell_type": "markdown",
   "id": "ab07780a",
   "metadata": {},
   "source": [
    "Es erweist sich, dass die Datenbereitsteller Open Data Bayern und Open NRW, also die zwei deutsche Bundesländer, die größte Anzahl an Datensätzen leisten, mit jeweils 5. Das Ergebnis dieser Aufsummierung klingt plausibel, da Bayern und NRW die zwei größten Bundesländer in Deutschland sind."
   ]
  },
  {
   "cell_type": "code",
   "execution_count": 14,
   "id": "3fb30680",
   "metadata": {
    "vscode": {
     "languageId": "python"
    }
   },
   "outputs": [
    {
     "data": {
      "text/html": [
       "<div class=\"krn-spql\"><table><tr class=hdr><th>contributorID</th>\n",
       "<th>formatCount</th></tr><tr class=odd><td class=val><a href=\"http://dcat-ap.de/def/contributors/gdiDE\" target=\"_other\">http://dcat-ap.de/def/contributors/gdiDE</a></td>\n",
       "<td class=val>2</td></tr><tr class=even><td class=val><a href=\"https://offenedaten-konstanz.de/\" target=\"_other\">https://offenedaten-konstanz.de/</a></td>\n",
       "<td class=val>2</td></tr><tr class=odd><td class=val><a href=\"http://dcat-ap.de/def/contributors/schleswigHolstein\" target=\"_other\">http://dcat-ap.de/def/contributors/schleswigHolstein</a></td>\n",
       "<td class=val>4</td></tr><tr class=even><td class=val><a href=\"http://dcat-ap.de/def/contributors/openNRW\" target=\"_other\">http://dcat-ap.de/def/contributors/openNRW</a></td>\n",
       "<td class=val>26</td></tr><tr class=odd><td class=val><a href=\"http://dcat-ap.de/def/contributors/openDataBayern\" target=\"_other\">http://dcat-ap.de/def/contributors/openDataBayern</a></td>\n",
       "<td class=val>21</td></tr><tr class=even><td class=val><a href=\"http://dcat-ap.de/def/contributors/stadtFrankfurtAmMain\" target=\"_other\">http://dcat-ap.de/def/contributors/stadtFrankfurtAmMain</a></td>\n",
       "<td class=val>1</td></tr><tr class=odd><td class=val><a href=\"http://dcat-ap.de/def/contributors/mobilithek\" target=\"_other\">http://dcat-ap.de/def/contributors/mobilithek</a></td>\n",
       "<td class=val>1</td></tr><tr class=even><td class=val><a href=\"https://gdi-sh.de\" target=\"_other\">https://gdi-sh.de</a></td>\n",
       "<td class=val>3</td></tr><tr class=odd><td class=val><a href=\"http://dcat-ap.de/def/contributors/freistaatSachsen\" target=\"_other\">http://dcat-ap.de/def/contributors/freistaatSachsen</a></td>\n",
       "<td class=val>2</td></tr><tr class=even><td class=val><a href=\"http://dcat-ap.de/def/contributors/stadtErlangen\" target=\"_other\">http://dcat-ap.de/def/contributors/stadtErlangen</a></td>\n",
       "<td class=val>1</td></tr><tr class=odd><td class=val><a href=\"http://dcat-ap.de/def/contributors/datenBW\" target=\"_other\">http://dcat-ap.de/def/contributors/datenBW</a></td>\n",
       "<td class=val>3</td></tr><tr class=even><td class=val><a href=\"https://opendata.stadt-muenster.de/\" target=\"_other\">https://opendata.stadt-muenster.de/</a></td>\n",
       "<td class=val>7</td></tr><tr class=odd><td class=val><a href=\"https://offenedaten-koeln.de/\" target=\"_other\">https://offenedaten-koeln.de/</a></td>\n",
       "<td class=val>4</td></tr><tr class=even><td class=val><a href=\"http://dcat-ap.de/def/contributors/transparenzportalHamburg\" target=\"_other\">http://dcat-ap.de/def/contributors/transparenzportalHamburg</a></td>\n",
       "<td class=val>8</td></tr></table><div class=\"tinfo\">Total: 14, Shown: 14</div></div>"
      ]
     },
     "metadata": {},
     "output_type": "display_data"
    }
   ],
   "source": [
    "PREFIX dcat: <http://www.w3.org/ns/dcat#>\n",
    "PREFIX dct: <http://purl.org/dc/terms/>\n",
    "PREFIX dcatde: <http://dcat-ap.de/def/dcatde/>\n",
    "PREFIX rdfs: <http://www.w3.org/2000/01/rdf-schema#>\n",
    "PREFIX pg: <http://dcat-ap.de/def/politicalGeocoding/>\n",
    "\n",
    "SELECT ?contributorID (COUNT(DISTINCT ?format) AS ?formatCount)\n",
    "WHERE {\n",
    "  ?datasetURI a dcat:Dataset;\n",
    "              dct:title ?datasetTitle;\n",
    "              dcatde:contributorID ?contributorID;\n",
    "              dct:modified ?modified.\n",
    "  OPTIONAL { ?datasetURI dcat:catalog ?catalog. }\n",
    "  FILTER((LANG(?datasetTitle) = \"\" || LANG(?datasetTitle) = \"de\") && CONTAINS(LCASE(?datasetTitle), \"baumkataster\"))\n",
    "  FILTER(CONTAINS(STR(?modified), \"2022\") || CONTAINS(STR(?modified), \"2023\") || CONTAINS(STR(?modified), \"2024\"))\n",
    "\n",
    "  ?datasetURI dcat:distribution ?distribution.\n",
    "  ?distribution dct:format ?format.\n",
    "}\n",
    "GROUP BY ?contributorID"
   ]
  },
  {
   "cell_type": "markdown",
   "id": "2c55e010",
   "metadata": {},
   "source": [
    "Anbei auch die Ergebnisse der aufsummierten Datenformate je Datenbereitsteller. Nicht überraschend festzustellen ist, dass NRW und Bayern die breitesten Auswahl an Datenformaten leisten. Damit wird nicht impliziert, dass alle Datensätze in jeweils jedem Format vorhanden sind. Jedoch dient das als eine Maß für Flexibilität. "
   ]
  },
  {
   "cell_type": "markdown",
   "id": "fb79f6b7",
   "metadata": {},
   "source": [
    "Wir haben die Syntax sowie die Befehle der SPARQL-Abfragesprache schon kennengelernt. Somit können wir unterschiedlichste Eigenschaften erfragen. Als zweites Beispiel können wir uns die anschauen, welche Datensätze im Zeitschnitt 2021-2024 für die Städte Nürnberg, Augsburg und Oldenburg veröffentlicht wurden, und zwar in welchen Formaten."
   ]
  },
  {
   "cell_type": "code",
   "execution_count": 10,
   "id": "2b4044ec",
   "metadata": {
    "vscode": {
     "languageId": "python"
    }
   },
   "outputs": [
    {
     "data": {
      "text/html": [
       "<div class=\"krn-spql\"><div class=\"magic\">Endpoint set to: https://data.europa.eu/sparql</div></div>"
      ],
      "text/plain": [
       "Endpoint set to: https://data.europa.eu/sparql\n"
      ]
     },
     "metadata": {},
     "output_type": "display_data"
    },
    {
     "data": {
      "text/html": [
       "<div class=\"krn-spql\"><table><tr class=hdr><th>datasetTitle</th>\n",
       "<th>format</th></tr><tr class=odd><td class=val>Siedlungsbereiche</td>\n",
       "<td class=val></td></tr><tr class=even><td class=val>Gesetzlich geschützte Biotope</td>\n",
       "<td class=val></td></tr><tr class=odd><td class=val>Gesetzlich geschützte Wallhecken</td>\n",
       "<td class=val></td></tr><tr class=even><td class=val>Lärmkartierung</td>\n",
       "<td class=val></td></tr><tr class=odd><td class=val>Wahlergebnisse der Europawahl am 9. Juni 2024</td>\n",
       "<td class=val></td></tr><tr class=even><td class=val>Umringe rechtsverbindlicher Bebauungspläne</td>\n",
       "<td class=val></td></tr><tr class=odd><td class=val>Hundesteuer</td>\n",
       "<td class=val><a href=\"http://publications.europa.eu/resource/authority/file-type/CSV\" target=\"_other\">http://publications.europa.eu/resource/authority/file-type/CSV</a></td></tr><tr class=even><td class=val>Sozialversicherungspflichtig Beschäftigte am Wohnort nach Altersgruppen</td>\n",
       "<td class=val><a href=\"http://publications.europa.eu/resource/authority/file-type/CSV\" target=\"_other\">http://publications.europa.eu/resource/authority/file-type/CSV</a></td></tr><tr class=odd><td class=val>Nutzung in den vier Gemarkungen</td>\n",
       "<td class=val><a href=\"http://publications.europa.eu/resource/authority/file-type/CSV\" target=\"_other\">http://publications.europa.eu/resource/authority/file-type/CSV</a></td></tr><tr class=even><td class=val>Ordentliche Aufwendungen des Ergebnishaushaltes seit 2010</td>\n",
       "<td class=val><a href=\"http://publications.europa.eu/resource/authority/file-type/CSV\" target=\"_other\">http://publications.europa.eu/resource/authority/file-type/CSV</a></td></tr><tr class=odd><td class=val>Steuereinnahmen in Euro seit 1998</td>\n",
       "<td class=val><a href=\"http://publications.europa.eu/resource/authority/file-type/CSV\" target=\"_other\">http://publications.europa.eu/resource/authority/file-type/CSV</a></td></tr><tr class=even><td class=val>Baufertigstellungsstatistik: Errichtung neuer Wohngebäude und Wohnheime</td>\n",
       "<td class=val><a href=\"http://publications.europa.eu/resource/authority/file-type/CSV\" target=\"_other\">http://publications.europa.eu/resource/authority/file-type/CSV</a></td></tr><tr class=odd><td class=val>Besucherzahl OLantis Erlebnisbad (nur Hallenbad)</td>\n",
       "<td class=val><a href=\"http://publications.europa.eu/resource/authority/file-type/CSV\" target=\"_other\">http://publications.europa.eu/resource/authority/file-type/CSV</a></td></tr><tr class=even><td class=val>Besuchende der Museen seit 1998</td>\n",
       "<td class=val><a href=\"http://publications.europa.eu/resource/authority/file-type/CSV\" target=\"_other\">http://publications.europa.eu/resource/authority/file-type/CSV</a></td></tr><tr class=odd><td class=val>Vorstellungen und Besuchende des Oldenburgischen Staatstheaters</td>\n",
       "<td class=val><a href=\"http://publications.europa.eu/resource/authority/file-type/CSV\" target=\"_other\">http://publications.europa.eu/resource/authority/file-type/CSV</a></td></tr><tr class=even><td class=val>Güterumschlag im Hafen in der Stadt Oldenburg</td>\n",
       "<td class=val><a href=\"http://publications.europa.eu/resource/authority/file-type/CSV\" target=\"_other\">http://publications.europa.eu/resource/authority/file-type/CSV</a></td></tr><tr class=odd><td class=val>Wohnungen nach der Raumzahl in Wohngebäuden, Nichtwohngebäuden und Wohnheimen</td>\n",
       "<td class=val><a href=\"http://publications.europa.eu/resource/authority/file-type/CSV\" target=\"_other\">http://publications.europa.eu/resource/authority/file-type/CSV</a></td></tr><tr class=even><td class=val>Sozialversicherungspflichtig Beschäftigte am Arbeitsort nach Altersgruppen</td>\n",
       "<td class=val><a href=\"http://publications.europa.eu/resource/authority/file-type/CSV\" target=\"_other\">http://publications.europa.eu/resource/authority/file-type/CSV</a></td></tr><tr class=odd><td class=val>Verkehrsordnungswidrigkeitenverfahren seit 2001</td>\n",
       "<td class=val><a href=\"http://publications.europa.eu/resource/authority/file-type/CSV\" target=\"_other\">http://publications.europa.eu/resource/authority/file-type/CSV</a></td></tr><tr class=even><td class=val>Umlandwanderungen seit 1990</td>\n",
       "<td class=val><a href=\"http://publications.europa.eu/resource/authority/file-type/CSV\" target=\"_other\">http://publications.europa.eu/resource/authority/file-type/CSV</a></td></tr></table><div class=\"tinfo\">Total: 146, Shown: 20</div></div>"
      ]
     },
     "metadata": {},
     "output_type": "display_data"
    }
   ],
   "source": [
    "%endpoint https://data.europa.eu/sparql\n",
    "PREFIX dcat: <http://www.w3.org/ns/dcat#>\n",
    "PREFIX dct: <http://purl.org/dc/terms/>\n",
    "PREFIX dcatde: <http://dcat-ap.de/def/dcatde/>\n",
    "PREFIX rdfs: <http://www.w3.org/2000/01/rdf-schema#>\n",
    "\n",
    "SELECT DISTINCT ?datasetTitle ?format \n",
    "WHERE {\n",
    "  ?datasetURI a dcat:Dataset;\n",
    "              dct:title ?datasetTitle;\n",
    "              dcatde:contributorID ?contributorID;\n",
    "              dct:modified ?modified.\n",
    "  FILTER(CONTAINS(LCASE(STR(?contributorID)), \"augsburg\") || CONTAINS(LCASE(STR(?contributorID)), \"nuernberg\") || CONTAINS(LCASE(STR(?contributorID)), \"oldenburg\"))\n",
    "  FILTER(CONTAINS(STR(?modified), \"2020\") || CONTAINS(STR(?modified), \"2021\") || CONTAINS(STR(?modified), \"2022\") || CONTAINS(STR(?modified), \"2023\") || CONTAINS(STR(?modified), \"2024\"))\n",
    "  FILTER(LANG(?datasetTitle) = \"de\" || LANG(?datasetTitle) = \"\")\n",
    "\n",
    "  OPTIONAL {\n",
    "    ?datasetURI dcat:distribution ?distribution.\n",
    "    OPTIONAL { ?distribution dct:format ?format. }\n",
    "  }\n",
    "}\n",
    "ORDER BY ?contributorID ?format"
   ]
  },
  {
   "cell_type": "code",
   "execution_count": 15,
   "id": "537e3b4e",
   "metadata": {
    "vscode": {
     "languageId": "python"
    }
   },
   "outputs": [
    {
     "data": {
      "text/html": [
       "<div class=\"krn-spql\"><div class=\"magic\">Endpoint set to: https://data.europa.eu/sparql</div></div>"
      ],
      "text/plain": [
       "Endpoint set to: https://data.europa.eu/sparql\n"
      ]
     },
     "metadata": {},
     "output_type": "display_data"
    },
    {
     "data": {
      "text/html": [
       "<div class=\"krn-spql\"><table><tr class=hdr><th>datasetTitle</th>\n",
       "<th>format</th></tr><tr class=odd><td class=val>Siedlungsbereiche</td>\n",
       "<td class=val></td></tr><tr class=even><td class=val>Gesetzlich geschützte Biotope</td>\n",
       "<td class=val></td></tr><tr class=odd><td class=val>Gesetzlich geschützte Wallhecken</td>\n",
       "<td class=val></td></tr><tr class=even><td class=val>Umringe rechtsverbindlicher Bebauungspläne</td>\n",
       "<td class=val></td></tr><tr class=odd><td class=val>Haushaltsplan der Stadt Oldenburg 2020</td>\n",
       "<td class=val><a href=\"http://publications.europa.eu/resource/authority/file-type/CSV\" target=\"_other\">http://publications.europa.eu/resource/authority/file-type/CSV</a></td></tr><tr class=even><td class=val>Hundesteuer</td>\n",
       "<td class=val><a href=\"http://publications.europa.eu/resource/authority/file-type/CSV\" target=\"_other\">http://publications.europa.eu/resource/authority/file-type/CSV</a></td></tr><tr class=odd><td class=val>Sozialversicherungspflichtig Beschäftigte am Wohnort nach Altersgruppen</td>\n",
       "<td class=val><a href=\"http://publications.europa.eu/resource/authority/file-type/CSV\" target=\"_other\">http://publications.europa.eu/resource/authority/file-type/CSV</a></td></tr><tr class=even><td class=val>Nutzung in den vier Gemarkungen</td>\n",
       "<td class=val><a href=\"http://publications.europa.eu/resource/authority/file-type/CSV\" target=\"_other\">http://publications.europa.eu/resource/authority/file-type/CSV</a></td></tr><tr class=odd><td class=val>Ordentliche Aufwendungen des Ergebnishaushaltes seit 2010</td>\n",
       "<td class=val><a href=\"http://publications.europa.eu/resource/authority/file-type/CSV\" target=\"_other\">http://publications.europa.eu/resource/authority/file-type/CSV</a></td></tr><tr class=even><td class=val>Steuereinnahmen in Euro seit 1998</td>\n",
       "<td class=val><a href=\"http://publications.europa.eu/resource/authority/file-type/CSV\" target=\"_other\">http://publications.europa.eu/resource/authority/file-type/CSV</a></td></tr><tr class=odd><td class=val>Baufertigstellungsstatistik: Errichtung neuer Wohngebäude und Wohnheime</td>\n",
       "<td class=val><a href=\"http://publications.europa.eu/resource/authority/file-type/CSV\" target=\"_other\">http://publications.europa.eu/resource/authority/file-type/CSV</a></td></tr><tr class=even><td class=val>Besucherzahl OLantis Erlebnisbad (nur Hallenbad)</td>\n",
       "<td class=val><a href=\"http://publications.europa.eu/resource/authority/file-type/CSV\" target=\"_other\">http://publications.europa.eu/resource/authority/file-type/CSV</a></td></tr><tr class=odd><td class=val>Steuerkraftmesszahlen und Schlüsselzuweisungen</td>\n",
       "<td class=val><a href=\"http://publications.europa.eu/resource/authority/file-type/CSV\" target=\"_other\">http://publications.europa.eu/resource/authority/file-type/CSV</a></td></tr><tr class=even><td class=val>Wanderungsbewegungen</td>\n",
       "<td class=val><a href=\"http://publications.europa.eu/resource/authority/file-type/CSV\" target=\"_other\">http://publications.europa.eu/resource/authority/file-type/CSV</a></td></tr><tr class=odd><td class=val>Vorstellungen und Besuchende des Oldenburgischen Staatstheaters</td>\n",
       "<td class=val><a href=\"http://publications.europa.eu/resource/authority/file-type/CSV\" target=\"_other\">http://publications.europa.eu/resource/authority/file-type/CSV</a></td></tr><tr class=even><td class=val>Güterumschlag im Hafen in der Stadt Oldenburg</td>\n",
       "<td class=val><a href=\"http://publications.europa.eu/resource/authority/file-type/CSV\" target=\"_other\">http://publications.europa.eu/resource/authority/file-type/CSV</a></td></tr><tr class=odd><td class=val>Gäste auf dem Campingplatz</td>\n",
       "<td class=val><a href=\"http://publications.europa.eu/resource/authority/file-type/CSV\" target=\"_other\">http://publications.europa.eu/resource/authority/file-type/CSV</a></td></tr><tr class=even><td class=val>Übernachtungen und Gäste in Beherbergungsbetrieben nach Monaten</td>\n",
       "<td class=val><a href=\"http://publications.europa.eu/resource/authority/file-type/CSV\" target=\"_other\">http://publications.europa.eu/resource/authority/file-type/CSV</a></td></tr><tr class=odd><td class=val>Wohnungen nach der Raumzahl in Wohngebäuden, Nichtwohngebäuden und Wohnheimen</td>\n",
       "<td class=val><a href=\"http://publications.europa.eu/resource/authority/file-type/CSV\" target=\"_other\">http://publications.europa.eu/resource/authority/file-type/CSV</a></td></tr><tr class=even><td class=val>Sozialversicherungspflichtig Beschäftigte am Arbeitsort nach Altersgruppen</td>\n",
       "<td class=val><a href=\"http://publications.europa.eu/resource/authority/file-type/CSV\" target=\"_other\">http://publications.europa.eu/resource/authority/file-type/CSV</a></td></tr></table><div class=\"tinfo\">Total: 25332, Shown: 20</div></div>"
      ]
     },
     "metadata": {},
     "output_type": "display_data"
    }
   ],
   "source": [
    "%endpoint https://data.europa.eu/sparql\n",
    "PREFIX dcat: <http://www.w3.org/ns/dcat#>\n",
    "PREFIX dct: <http://purl.org/dc/terms/>\n",
    "PREFIX dcatde: <http://dcat-ap.de/def/dcatde/>\n",
    "PREFIX rdfs: <http://www.w3.org/2000/01/rdf-schema#>\n",
    "\n",
    "SELECT DISTINCT ?datasetTitle ?format \n",
    "WHERE {\n",
    "  ?datasetURI a dcat:Dataset;\n",
    "              dct:title ?datasetTitle;\n",
    "              dcatde:contributorID ?contributorID;\n",
    "              dct:modified ?modified.\n",
    "  FILTER(CONTAINS(LCASE(STR(?contributorID)), \"hamburg\") || CONTAINS(LCASE(STR(?contributorID)), \"bremen\") || CONTAINS(LCASE(STR(?contributorID)), \"oldenburg\"))\n",
    "  FILTER(CONTAINS(STR(?modified), \"2020\") || CONTAINS(STR(?modified), \"2021\") || CONTAINS(STR(?modified), \"2022\") || CONTAINS(STR(?modified), \"2023\") || CONTAINS(STR(?modified), \"2024\"))\n",
    "  FILTER(LANG(?datasetTitle) = \"de\" || LANG(?datasetTitle) = \"\")\n",
    "\n",
    "  OPTIONAL {\n",
    "    ?datasetURI dcat:distribution ?distribution.\n",
    "    OPTIONAL { ?distribution dct:format ?format. }\n",
    "  }\n",
    "}\n",
    "ORDER BY ?contributorID ?format"
   ]
  },
  {
   "cell_type": "code",
   "execution_count": 19,
   "id": "5191b6b1",
   "metadata": {
    "vscode": {
     "languageId": "python"
    }
   },
   "outputs": [
    {
     "data": {
      "text/html": [
       "<div class=\"krn-spql\"><table><tr class=hdr><th>format</th></tr><tr class=odd><td class=val>PNG</td></tr><tr class=even><td class=val><a href=\"http://publications.europa.eu/resource/authority/file-type/CSV\" target=\"_other\">http://publications.europa.eu/resource/authority/file-type/CSV</a></td></tr><tr class=odd><td class=val><a href=\"http://publications.europa.eu/resource/authority/file-type/JSON\" target=\"_other\">http://publications.europa.eu/resource/authority/file-type/JSON</a></td></tr><tr class=even><td class=val><a href=\"http://publications.europa.eu/resource/authority/file-type/PDF\" target=\"_other\">http://publications.europa.eu/resource/authority/file-type/PDF</a></td></tr><tr class=odd><td class=val><a href=\"http://publications.europa.eu/resource/authority/file-type/SHP\" target=\"_other\">http://publications.europa.eu/resource/authority/file-type/SHP</a></td></tr><tr class=even><td class=val><a href=\"http://publications.europa.eu/resource/authority/file-type/XLSX\" target=\"_other\">http://publications.europa.eu/resource/authority/file-type/XLSX</a></td></tr></table><div class=\"tinfo\">Total: 6, Shown: 6</div></div>"
      ]
     },
     "metadata": {},
     "output_type": "display_data"
    }
   ],
   "source": [
    "PREFIX dcat: <http://www.w3.org/ns/dcat#>\n",
    "PREFIX dct: <http://purl.org/dc/terms/>\n",
    "PREFIX dcatde: <http://dcat-ap.de/def/dcatde/>\n",
    "PREFIX rdfs: <http://www.w3.org/2000/01/rdf-schema#>\n",
    "\n",
    "SELECT DISTINCT ?format\n",
    "WHERE {\n",
    "  ?datasetURI a dcat:Dataset;\n",
    "              dcatde:contributorID ?contributorID;\n",
    "              dct:modified ?modified.\n",
    "  FILTER(CONTAINS(LCASE(STR(?contributorID)), \"augsburg\") || CONTAINS(LCASE(STR(?contributorID)), \"nuernberg\") || CONTAINS(LCASE(STR(?contributorID)), \"oldenburg\"))\n",
    "  FILTER(CONTAINS(STR(?modified), \"2020\") || CONTAINS(STR(?modified), \"2021\") || CONTAINS(STR(?modified), \"2022\") || CONTAINS(STR(?modified), \"2023\") || CONTAINS(STR(?modified), \"2024\"))\n",
    "\n",
    "  ?datasetURI dcat:distribution ?distribution.\n",
    "  ?distribution dct:format ?format.\n",
    "}\n",
    "ORDER BY ?format"
   ]
  },
  {
   "cell_type": "code",
   "execution_count": 18,
   "id": "393e85d9",
   "metadata": {
    "vscode": {
     "languageId": "python"
    }
   },
   "outputs": [
    {
     "data": {
      "text/html": [
       "<div class=\"krn-spql\"><table><tr class=hdr><th>format</th></tr><tr class=odd><td class=val>ASCII</td></tr><tr class=even><td class=val>CITYGML</td></tr><tr class=odd><td class=val>CSV</td></tr><tr class=even><td class=val>DOCX</td></tr><tr class=odd><td class=val>DXF</td></tr><tr class=even><td class=val>ERT</td></tr><tr class=odd><td class=val>GEOTIFF</td></tr><tr class=even><td class=val>GML</td></tr><tr class=odd><td class=val>HTML</td></tr><tr class=even><td class=val>JPEG</td></tr><tr class=odd><td class=val>JSON</td></tr><tr class=even><td class=val>MQTT</td></tr><tr class=odd><td class=val>OAF</td></tr><tr class=even><td class=val>OV2</td></tr><tr class=odd><td class=val>PDF</td></tr><tr class=even><td class=val>PNG</td></tr><tr class=odd><td class=val>RAR</td></tr><tr class=even><td class=val>SHAPEFILES</td></tr><tr class=odd><td class=val>STA</td></tr><tr class=even><td class=val>TIFF</td></tr></table><div class=\"tinfo\">Total: 36, Shown: 20</div></div>"
      ]
     },
     "metadata": {},
     "output_type": "display_data"
    }
   ],
   "source": [
    "PREFIX dcat: <http://www.w3.org/ns/dcat#>\n",
    "PREFIX dct: <http://purl.org/dc/terms/>\n",
    "PREFIX dcatde: <http://dcat-ap.de/def/dcatde/>\n",
    "PREFIX rdfs: <http://www.w3.org/2000/01/rdf-schema#>\n",
    "\n",
    "SELECT DISTINCT ?format\n",
    "WHERE {\n",
    "  ?datasetURI a dcat:Dataset;\n",
    "              dcatde:contributorID ?contributorID;\n",
    "              dct:modified ?modified.\n",
    "  FILTER(CONTAINS(LCASE(STR(?contributorID)), \"bremen\") || CONTAINS(LCASE(STR(?contributorID)), \"hamburg\") || CONTAINS(LCASE(STR(?contributorID)), \"oldenburg\"))\n",
    "  FILTER(CONTAINS(STR(?modified), \"2020\") || CONTAINS(STR(?modified), \"2021\") || CONTAINS(STR(?modified), \"2022\") || CONTAINS(STR(?modified), \"2023\") || CONTAINS(STR(?modified), \"2024\"))\n",
    "\n",
    "  ?datasetURI dcat:distribution ?distribution.\n",
    "  ?distribution dct:format ?format.\n",
    "}\n",
    "ORDER BY ?format"
   ]
  },
  {
   "cell_type": "code",
   "execution_count": null,
   "id": "d0626ccd",
   "metadata": {
    "vscode": {
     "languageId": "python"
    }
   },
   "outputs": [
    {
     "data": {
      "text/html": [
       "<div class=\"krn-spql\"><div class=\"magic\">Endpoint set to: https://www.govdata.de/sparql</div></div>"
      ],
      "text/plain": [
       "Endpoint set to: https://www.govdata.de/sparql\n"
      ]
     },
     "metadata": {},
     "output_type": "display_data"
    },
    {
     "data": {
      "text/html": [
       "<div class=\"krn-spql\"><table><tr class=hdr><th>uri</th>\n",
       "<th>title</th>\n",
       "<th>contributorid</th>\n",
       "<th>stateKey</th></tr><tr class=odd><td class=val><a href=\"https://geoportal.sachsen.de/md/a4adc6dc-3f04-4e9f-853c-9e7ab9e6f65d\" target=\"_other\">https://geoportal.sachsen.de/md/a4adc6dc-3f04-4e9f-853c-9e7ab9e6f65d</a></td>\n",
       "<td class=val>INSPIRE SN Versorgungswirtschaft</td>\n",
       "<td class=val><a href=\"http://dcat-ap.de/def/contributors/freistaatSachsen\" target=\"_other\">http://dcat-ap.de/def/contributors/freistaatSachsen</a></td>\n",
       "<td class=val></td></tr><tr class=even><td class=val><a href=\"https://geoportal.sachsen.de/md/70bf5265-b1ef-42f8-944c-de1412db39e8\" target=\"_other\">https://geoportal.sachsen.de/md/70bf5265-b1ef-42f8-944c-de1412db39e8</a></td>\n",
       "<td class=val>Digitale Orthophotos (DOP) - Befliegung 2022, Weißwasser</td>\n",
       "<td class=val><a href=\"http://dcat-ap.de/def/contributors/freistaatSachsen\" target=\"_other\">http://dcat-ap.de/def/contributors/freistaatSachsen</a></td>\n",
       "<td class=val></td></tr><tr class=odd><td class=val><a href=\"https://gdk.gdi-de.org/inspire/srv/eng/xml_iso19139?uuid=70bf5265-b1ef-42f8-944c-de1412db39e8\" target=\"_other\">https://gdk.gdi-de.org/inspire/srv/eng/xml_iso19139?uuid=70bf5265-b1ef-42f8-944c-de1412db39e8</a></td>\n",
       "<td class=val>Digitale Orthophotos (DOP) - Befliegung 2022, Weißwasser</td>\n",
       "<td class=val><a href=\"http://dcat-ap.de/def/contributors/gdiDE\" target=\"_other\">http://dcat-ap.de/def/contributors/gdiDE</a></td>\n",
       "<td class=val></td></tr><tr class=even><td class=val><a href=\"https://geoportal.sachsen.de/md/08d32005-88d1-4288-96b8-c6b848bdf932\" target=\"_other\">https://geoportal.sachsen.de/md/08d32005-88d1-4288-96b8-c6b848bdf932</a></td>\n",
       "<td class=val>Digitale Orthophotos (DOP) - Befliegung 2022, Seiffen</td>\n",
       "<td class=val><a href=\"http://dcat-ap.de/def/contributors/freistaatSachsen\" target=\"_other\">http://dcat-ap.de/def/contributors/freistaatSachsen</a></td>\n",
       "<td class=val></td></tr><tr class=odd><td class=val><a href=\"https://gdk.gdi-de.org/inspire/srv/eng/xml_iso19139?uuid=08d32005-88d1-4288-96b8-c6b848bdf932\" target=\"_other\">https://gdk.gdi-de.org/inspire/srv/eng/xml_iso19139?uuid=08d32005-88d1-4288-96b8-c6b848bdf932</a></td>\n",
       "<td class=val>Digitale Orthophotos (DOP) - Befliegung 2022, Seiffen</td>\n",
       "<td class=val><a href=\"http://dcat-ap.de/def/contributors/gdiDE\" target=\"_other\">http://dcat-ap.de/def/contributors/gdiDE</a></td>\n",
       "<td class=val></td></tr><tr class=even><td class=val><a href=\"https://geoportal.sachsen.de/md/f1ca72be-ec30-4b4f-a3d8-ed1b78288b2f\" target=\"_other\">https://geoportal.sachsen.de/md/f1ca72be-ec30-4b4f-a3d8-ed1b78288b2f</a></td>\n",
       "<td class=val>Digitale Orthophotos (DOP) - Befliegung 2023, Plauen</td>\n",
       "<td class=val><a href=\"http://dcat-ap.de/def/contributors/freistaatSachsen\" target=\"_other\">http://dcat-ap.de/def/contributors/freistaatSachsen</a></td>\n",
       "<td class=val></td></tr><tr class=odd><td class=val><a href=\"https://gdk.gdi-de.org/inspire/srv/eng/xml_iso19139?uuid=f1ca72be-ec30-4b4f-a3d8-ed1b78288b2f\" target=\"_other\">https://gdk.gdi-de.org/inspire/srv/eng/xml_iso19139?uuid=f1ca72be-ec30-4b4f-a3d8-ed1b78288b2f</a></td>\n",
       "<td class=val>Digitale Orthophotos (DOP) - Befliegung 2023, Plauen</td>\n",
       "<td class=val><a href=\"http://dcat-ap.de/def/contributors/gdiDE\" target=\"_other\">http://dcat-ap.de/def/contributors/gdiDE</a></td>\n",
       "<td class=val></td></tr><tr class=even><td class=val><a href=\"https://geoportal.sachsen.de/md/b0aabb06-e720-4fb4-9128-37c6e5d2c725\" target=\"_other\">https://geoportal.sachsen.de/md/b0aabb06-e720-4fb4-9128-37c6e5d2c725</a></td>\n",
       "<td class=val>Digitale Orthophotos (DOP) - Befliegung 2022, Dresden</td>\n",
       "<td class=val><a href=\"http://dcat-ap.de/def/contributors/freistaatSachsen\" target=\"_other\">http://dcat-ap.de/def/contributors/freistaatSachsen</a></td>\n",
       "<td class=val></td></tr><tr class=odd><td class=val><a href=\"https://gdk.gdi-de.org/inspire/srv/eng/xml_iso19139?uuid=b0aabb06-e720-4fb4-9128-37c6e5d2c725\" target=\"_other\">https://gdk.gdi-de.org/inspire/srv/eng/xml_iso19139?uuid=b0aabb06-e720-4fb4-9128-37c6e5d2c725</a></td>\n",
       "<td class=val>Digitale Orthophotos (DOP) - Befliegung 2022, Dresden</td>\n",
       "<td class=val><a href=\"http://dcat-ap.de/def/contributors/gdiDE\" target=\"_other\">http://dcat-ap.de/def/contributors/gdiDE</a></td>\n",
       "<td class=val></td></tr><tr class=even><td class=val><a href=\"https://geoportal.sachsen.de/md/0e784b75-4587-45b2-b313-68de35782365\" target=\"_other\">https://geoportal.sachsen.de/md/0e784b75-4587-45b2-b313-68de35782365</a></td>\n",
       "<td class=val>Digitale Orthophotos (DOP) - Befliegung 2022, Hoyerswerda</td>\n",
       "<td class=val><a href=\"http://dcat-ap.de/def/contributors/freistaatSachsen\" target=\"_other\">http://dcat-ap.de/def/contributors/freistaatSachsen</a></td>\n",
       "<td class=val></td></tr><tr class=odd><td class=val><a href=\"https://gdk.gdi-de.org/inspire/srv/eng/xml_iso19139?uuid=0e784b75-4587-45b2-b313-68de35782365\" target=\"_other\">https://gdk.gdi-de.org/inspire/srv/eng/xml_iso19139?uuid=0e784b75-4587-45b2-b313-68de35782365</a></td>\n",
       "<td class=val>Digitale Orthophotos (DOP) - Befliegung 2022, Hoyerswerda</td>\n",
       "<td class=val><a href=\"http://dcat-ap.de/def/contributors/gdiDE\" target=\"_other\">http://dcat-ap.de/def/contributors/gdiDE</a></td>\n",
       "<td class=val></td></tr><tr class=even><td class=val><a href=\"https://geoportal.sachsen.de/md/52749cf1-027a-400e-8424-1cd3feef1108\" target=\"_other\">https://geoportal.sachsen.de/md/52749cf1-027a-400e-8424-1cd3feef1108</a></td>\n",
       "<td class=val>INSPIRE SN Orthofotografie</td>\n",
       "<td class=val><a href=\"http://dcat-ap.de/def/contributors/freistaatSachsen\" target=\"_other\">http://dcat-ap.de/def/contributors/freistaatSachsen</a></td>\n",
       "<td class=val></td></tr><tr class=odd><td class=val><a href=\"https://gdk.gdi-de.org/inspire/srv/eng/xml_iso19139?uuid=52749cf1-027a-400e-8424-1cd3feef1108\" target=\"_other\">https://gdk.gdi-de.org/inspire/srv/eng/xml_iso19139?uuid=52749cf1-027a-400e-8424-1cd3feef1108</a></td>\n",
       "<td class=val>INSPIRE SN Orthofotografie</td>\n",
       "<td class=val><a href=\"http://dcat-ap.de/def/contributors/gdiDE\" target=\"_other\">http://dcat-ap.de/def/contributors/gdiDE</a></td>\n",
       "<td class=val></td></tr><tr class=even><td class=val><a href=\"https://mcloud.de/d3571d98-0911-7a3f-6f7a-5949e5332e78\" target=\"_other\">https://mcloud.de/d3571d98-0911-7a3f-6f7a-5949e5332e78</a></td>\n",
       "<td class=val>DLM50</td>\n",
       "<td class=val><a href=\"http://dcat-ap.de/def/contributors/mCloud\" target=\"_other\">http://dcat-ap.de/def/contributors/mCloud</a></td>\n",
       "<td class=val></td></tr><tr class=odd><td class=val><a href=\"https://mcloud.de/d3571d98-0911-7a3f-6f7a-5949e5332e78\" target=\"_other\">https://mcloud.de/d3571d98-0911-7a3f-6f7a-5949e5332e78</a></td>\n",
       "<td class=val>DLM50</td>\n",
       "<td class=val><a href=\"http://dcat-ap.de/def/contributors/mobilithek\" target=\"_other\">http://dcat-ap.de/def/contributors/mobilithek</a></td>\n",
       "<td class=val></td></tr><tr class=even><td class=val><a href=\"https://geoportal.sachsen.de/md/1cb5862e-5509-4bcb-96bc-7538f6acbf67\" target=\"_other\">https://geoportal.sachsen.de/md/1cb5862e-5509-4bcb-96bc-7538f6acbf67</a></td>\n",
       "<td class=val>Digitale Orthophotos (DOP) - Befliegung 2023, Aue</td>\n",
       "<td class=val><a href=\"http://dcat-ap.de/def/contributors/freistaatSachsen\" target=\"_other\">http://dcat-ap.de/def/contributors/freistaatSachsen</a></td>\n",
       "<td class=val></td></tr><tr class=odd><td class=val><a href=\"https://gdk.gdi-de.org/inspire/srv/eng/xml_iso19139?uuid=1cb5862e-5509-4bcb-96bc-7538f6acbf67\" target=\"_other\">https://gdk.gdi-de.org/inspire/srv/eng/xml_iso19139?uuid=1cb5862e-5509-4bcb-96bc-7538f6acbf67</a></td>\n",
       "<td class=val>Digitale Orthophotos (DOP) - Befliegung 2023, Aue</td>\n",
       "<td class=val><a href=\"http://dcat-ap.de/def/contributors/gdiDE\" target=\"_other\">http://dcat-ap.de/def/contributors/gdiDE</a></td>\n",
       "<td class=val></td></tr><tr class=even><td class=val><a href=\"https://geoportal.sachsen.de/md/3cc056dd-1e28-4dd6-ab7d-9492b3c3cb93\" target=\"_other\">https://geoportal.sachsen.de/md/3cc056dd-1e28-4dd6-ab7d-9492b3c3cb93</a></td>\n",
       "<td class=val>Digitale Orthophotos (DOP) - Befliegung 2023, Zwickau</td>\n",
       "<td class=val><a href=\"http://dcat-ap.de/def/contributors/freistaatSachsen\" target=\"_other\">http://dcat-ap.de/def/contributors/freistaatSachsen</a></td>\n",
       "<td class=val></td></tr><tr class=odd><td class=val><a href=\"https://gdk.gdi-de.org/inspire/srv/eng/xml_iso19139?uuid=3cc056dd-1e28-4dd6-ab7d-9492b3c3cb93\" target=\"_other\">https://gdk.gdi-de.org/inspire/srv/eng/xml_iso19139?uuid=3cc056dd-1e28-4dd6-ab7d-9492b3c3cb93</a></td>\n",
       "<td class=val>Digitale Orthophotos (DOP) - Befliegung 2023, Zwickau</td>\n",
       "<td class=val><a href=\"http://dcat-ap.de/def/contributors/gdiDE\" target=\"_other\">http://dcat-ap.de/def/contributors/gdiDE</a></td>\n",
       "<td class=val></td></tr><tr class=even><td class=val><a href=\"https://geoportal.sachsen.de/md/74c47e75-da84-4bac-8a1c-988e4b6ed22c\" target=\"_other\">https://geoportal.sachsen.de/md/74c47e75-da84-4bac-8a1c-988e4b6ed22c</a></td>\n",
       "<td class=val>Digitale Orthophotos (DOP) - Befliegung 2023, Chemnitz</td>\n",
       "<td class=val><a href=\"http://dcat-ap.de/def/contributors/freistaatSachsen\" target=\"_other\">http://dcat-ap.de/def/contributors/freistaatSachsen</a></td>\n",
       "<td class=val></td></tr></table><div class=\"tinfo\">Total: 50, Shown: 20</div></div>"
      ]
     },
     "metadata": {},
     "output_type": "display_data"
    }
   ],
   "source": [
    "%endpoint https://www.govdata.de/sparql\n",
    "PREFIX dct: <http://purl.org/dc/terms/>\n",
    "PREFIX dcatde: <http://dcat-ap.de/def/dcatde/>\n",
    "PREFIX stateKey: <https://www.dcat-ap.de/def/politicalGeocoding/stateKey/>\n",
    "\n",
    "SELECT ?uri ?title ?contributorid ?stateKey WHERE {\n",
    "    {\n",
    "        SELECT ?uri ?title ?contributorid ?stateKey WHERE {\n",
    "            ?uri dct:title ?title .\n",
    "            ?uri dcatde:contributorID ?contributorid .\n",
    "            FILTER(isURI(?contributorid))\n",
    "            FILTER(strstarts(str(?contributorid), \"http://dcat-ap.de/def/contributors/\"))       \n",
    "        }\n",
    "        LIMIT 50\n",
    "    }\n",
    "}"
   ]
  },
  {
   "cell_type": "code",
   "execution_count": null,
   "id": "740ce2c6",
   "metadata": {
    "vscode": {
     "languageId": "python"
    }
   },
   "outputs": [
    {
     "data": {
      "text/html": [
       "<div class=\"krn-spql\"><table><tr class=hdr><th>datasetURI</th>\n",
       "<th>datasetTitle</th></tr><tr class=odd><td class=val><a href=\"https://geoportal.sachsen.de/md/3a45fa9c-dbba-47da-91dc-1a62f79e63c8\" target=\"_other\">https://geoportal.sachsen.de/md/3a45fa9c-dbba-47da-91dc-1a62f79e63c8</a></td>\n",
       "<td class=val>Verwaltungsatlas-Staatsbetrieb Sächsisches Immobilien- und Baumanagement</td></tr><tr class=even><td class=val><a href=\"https://datenregister.berlin.de/dataset/cee8c73a-88a2-431b-9ed3-7b800a85e643\" target=\"_other\">https://datenregister.berlin.de/dataset/cee8c73a-88a2-431b-9ed3-7b800a85e643</a></td>\n",
       "<td class=val>Straßenbaumfällungen in Steglitz-Zehlendorf</td></tr><tr class=odd><td class=val><a href=\"https://datenregister.berlin.de/dataset/e6c905f8-0bf3-4577-a525-95511e1b9f47\" target=\"_other\">https://datenregister.berlin.de/dataset/e6c905f8-0bf3-4577-a525-95511e1b9f47</a></td>\n",
       "<td class=val>Suchverzeichnis - Alle Baumaßnahmen an Schulen in Steglitz-Zehlendorf</td></tr><tr class=even><td class=val><a href=\"https://datenregister.berlin.de/dataset/324910a8-ee97-489c-a519-8694077e0863\" target=\"_other\">https://datenregister.berlin.de/dataset/324910a8-ee97-489c-a519-8694077e0863</a></td>\n",
       "<td class=val>Straßenbaumpflanzungen in Steglitz-Zehlendorf</td></tr><tr class=odd><td class=val><a href=\"https://gdk.gdi-de.org/inspire/srv/eng/xml_iso19139?uuid=0D1549C5-FBAE-4C1A-B18C-1284F2C7424D\" target=\"_other\">https://gdk.gdi-de.org/inspire/srv/eng/xml_iso19139?uuid=0D1549C5-FBAE-4C1A-B18C-1284F2C7424D</a></td>\n",
       "<td class=val>Bebauungsplan Rotherbaum 15 Hamburg</td></tr><tr class=even><td class=val><a href=\"https://gdk.gdi-de.org/inspire/srv/eng/xml_iso19139?uuid=1C2F894F-F0C6-4E69-BFFB-BBCF8A3EED1F\" target=\"_other\">https://gdk.gdi-de.org/inspire/srv/eng/xml_iso19139?uuid=1C2F894F-F0C6-4E69-BFFB-BBCF8A3EED1F</a></td>\n",
       "<td class=val>Bebauungsplan Rotherbaum 26 Hamburg</td></tr><tr class=odd><td class=val><a href=\"https://gdk.gdi-de.org/inspire/srv/eng/xml_iso19139?uuid=280CD1B6-6BBE-4F21-82BC-CEA98DE79CE3\" target=\"_other\">https://gdk.gdi-de.org/inspire/srv/eng/xml_iso19139?uuid=280CD1B6-6BBE-4F21-82BC-CEA98DE79CE3</a></td>\n",
       "<td class=val>Bebauungsplan Rotherbaum 12 Hamburg</td></tr><tr class=even><td class=val><a href=\"https://gdk.gdi-de.org/inspire/srv/eng/xml_iso19139?uuid=359E5234-179E-490C-83BF-C49ABB95E0D2\" target=\"_other\">https://gdk.gdi-de.org/inspire/srv/eng/xml_iso19139?uuid=359E5234-179E-490C-83BF-C49ABB95E0D2</a></td>\n",
       "<td class=val>Bebauungsplan Rotherbaum 35 Hamburg</td></tr><tr class=odd><td class=val><a href=\"https://gdk.gdi-de.org/inspire/srv/eng/xml_iso19139?uuid=3691BEAC-177F-48F1-9607-CC6CCE1DB874\" target=\"_other\">https://gdk.gdi-de.org/inspire/srv/eng/xml_iso19139?uuid=3691BEAC-177F-48F1-9607-CC6CCE1DB874</a></td>\n",
       "<td class=val>Bebauungsplan Rotherbaum 5 Hamburg</td></tr><tr class=even><td class=val><a href=\"https://opendata.schleswig-holstein.de/dataset/StaNord_CMS:62563\" target=\"_other\">https://opendata.schleswig-holstein.de/dataset/StaNord_CMS:62563</a></td>\n",
       "<td class=val>Baumobsternte in Schleswig-Holstein 2020</td></tr><tr class=odd><td class=val><a href=\"https://opendata.schleswig-holstein.de/dataset/StaNord_CMS:57430\" target=\"_other\">https://opendata.schleswig-holstein.de/dataset/StaNord_CMS:57430</a></td>\n",
       "<td class=val>Baumobsternte in Schleswig-Holstein 2014</td></tr><tr class=even><td class=val><a href=\"https://opendata.schleswig-holstein.de/dataset/StaNord_CMS:58315\" target=\"_other\">https://opendata.schleswig-holstein.de/dataset/StaNord_CMS:58315</a></td>\n",
       "<td class=val>Baumobsternte in Schleswig-Holstein 2015</td></tr><tr class=odd><td class=val><a href=\"https://opendata.schleswig-holstein.de/dataset/StaNord_CMS:59251\" target=\"_other\">https://opendata.schleswig-holstein.de/dataset/StaNord_CMS:59251</a></td>\n",
       "<td class=val>Baumobsternte in Schleswig-Holstein 2016</td></tr><tr class=even><td class=val><a href=\"https://opendata.schleswig-holstein.de/dataset/StaNord_CMS:59843\" target=\"_other\">https://opendata.schleswig-holstein.de/dataset/StaNord_CMS:59843</a></td>\n",
       "<td class=val>Flächen der Obstanlagen und Obstbaumbestände in Schleswig-Holstein 2017</td></tr><tr class=odd><td class=val><a href=\"https://opendata.schleswig-holstein.de/dataset/StaNord_CMS:60045\" target=\"_other\">https://opendata.schleswig-holstein.de/dataset/StaNord_CMS:60045</a></td>\n",
       "<td class=val>Baumschulen, Baumschulflächen und Forstpflanzenbestände in Schleswig-Holstein 2017</td></tr><tr class=even><td class=val><a href=\"https://opendata.schleswig-holstein.de/dataset/StaNord_CMS:60060\" target=\"_other\">https://opendata.schleswig-holstein.de/dataset/StaNord_CMS:60060</a></td>\n",
       "<td class=val>Baumobsternte in Schleswig-Holstein 2017</td></tr><tr class=odd><td class=val><a href=\"https://opendata.schleswig-holstein.de/dataset/StaNord_CMS:60893\" target=\"_other\">https://opendata.schleswig-holstein.de/dataset/StaNord_CMS:60893</a></td>\n",
       "<td class=val>Baumobsternte in Schleswig-Holstein 2018</td></tr><tr class=even><td class=val><a href=\"https://opendata.schleswig-holstein.de/dataset/StaNord_CMS:61722\" target=\"_other\">https://opendata.schleswig-holstein.de/dataset/StaNord_CMS:61722</a></td>\n",
       "<td class=val>Baumobsternte in Schleswig-Holstein 2019</td></tr><tr class=odd><td class=val><a href=\"https://datenregister.berlin.de/dataset/907ff90a-5a5c-4c65-b7eb-8816b698e4e1\" target=\"_other\">https://datenregister.berlin.de/dataset/907ff90a-5a5c-4c65-b7eb-8816b698e4e1</a></td>\n",
       "<td class=val>Schulbaumaßnahmen</td></tr><tr class=even><td class=val><a href=\"https://opendata.schleswig-holstein.de/dataset/5f0aaf45-f380-49b3-87be-51abaddacbe0\" target=\"_other\">https://opendata.schleswig-holstein.de/dataset/5f0aaf45-f380-49b3-87be-51abaddacbe0</a></td>\n",
       "<td class=val>Baumkataster Norderstedt</td></tr></table><div class=\"tinfo\">Total: 50, Shown: 20</div></div>"
      ]
     },
     "metadata": {},
     "output_type": "display_data"
    }
   ],
   "source": [
    "PREFIX dcat: <http://www.w3.org/ns/dcat#>\n",
    "PREFIX dct: <http://purl.org/dc/terms/>\n",
    "\n",
    "SELECT DISTINCT ?datasetURI ?datasetTitle\n",
    "WHERE {\n",
    "  ?datasetURI a dcat:Dataset;\n",
    "              dct:title ?datasetTitle.\n",
    "  FILTER((LANG(?datasetTitle) = \"\" || LANG(?datasetTitle) = \"de\") && CONTAINS(LCASE(?datasetTitle), \"baum\"))\n",
    "}\n",
    "LIMIT 50"
   ]
  },
  {
   "cell_type": "code",
   "execution_count": null,
   "id": "8dd9835b",
   "metadata": {
    "vscode": {
     "languageId": "python"
    }
   },
   "outputs": [
    {
     "data": {
      "text/html": [
       "<div class=\"krn-spql\"><table><tr class=hdr><th>datasetURI</th>\n",
       "<th>datasetTitle</th></tr><tr class=odd><td class=val><a href=\"https://geoportal.sachsen.de/md/3a45fa9c-dbba-47da-91dc-1a62f79e63c8\" target=\"_other\">https://geoportal.sachsen.de/md/3a45fa9c-dbba-47da-91dc-1a62f79e63c8</a></td>\n",
       "<td class=val>Verwaltungsatlas-Staatsbetrieb Sächsisches Immobilien- und Baumanagement</td></tr><tr class=even><td class=val><a href=\"https://datenregister.berlin.de/dataset/cee8c73a-88a2-431b-9ed3-7b800a85e643\" target=\"_other\">https://datenregister.berlin.de/dataset/cee8c73a-88a2-431b-9ed3-7b800a85e643</a></td>\n",
       "<td class=val>Straßenbaumfällungen in Steglitz-Zehlendorf</td></tr><tr class=odd><td class=val><a href=\"https://datenregister.berlin.de/dataset/e6c905f8-0bf3-4577-a525-95511e1b9f47\" target=\"_other\">https://datenregister.berlin.de/dataset/e6c905f8-0bf3-4577-a525-95511e1b9f47</a></td>\n",
       "<td class=val>Suchverzeichnis - Alle Baumaßnahmen an Schulen in Steglitz-Zehlendorf</td></tr><tr class=even><td class=val><a href=\"https://datenregister.berlin.de/dataset/324910a8-ee97-489c-a519-8694077e0863\" target=\"_other\">https://datenregister.berlin.de/dataset/324910a8-ee97-489c-a519-8694077e0863</a></td>\n",
       "<td class=val>Straßenbaumpflanzungen in Steglitz-Zehlendorf</td></tr><tr class=odd><td class=val><a href=\"https://gdk.gdi-de.org/inspire/srv/eng/xml_iso19139?uuid=0D1549C5-FBAE-4C1A-B18C-1284F2C7424D\" target=\"_other\">https://gdk.gdi-de.org/inspire/srv/eng/xml_iso19139?uuid=0D1549C5-FBAE-4C1A-B18C-1284F2C7424D</a></td>\n",
       "<td class=val>Bebauungsplan Rotherbaum 15 Hamburg</td></tr><tr class=even><td class=val><a href=\"https://gdk.gdi-de.org/inspire/srv/eng/xml_iso19139?uuid=1C2F894F-F0C6-4E69-BFFB-BBCF8A3EED1F\" target=\"_other\">https://gdk.gdi-de.org/inspire/srv/eng/xml_iso19139?uuid=1C2F894F-F0C6-4E69-BFFB-BBCF8A3EED1F</a></td>\n",
       "<td class=val>Bebauungsplan Rotherbaum 26 Hamburg</td></tr><tr class=odd><td class=val><a href=\"https://gdk.gdi-de.org/inspire/srv/eng/xml_iso19139?uuid=280CD1B6-6BBE-4F21-82BC-CEA98DE79CE3\" target=\"_other\">https://gdk.gdi-de.org/inspire/srv/eng/xml_iso19139?uuid=280CD1B6-6BBE-4F21-82BC-CEA98DE79CE3</a></td>\n",
       "<td class=val>Bebauungsplan Rotherbaum 12 Hamburg</td></tr><tr class=even><td class=val><a href=\"https://gdk.gdi-de.org/inspire/srv/eng/xml_iso19139?uuid=359E5234-179E-490C-83BF-C49ABB95E0D2\" target=\"_other\">https://gdk.gdi-de.org/inspire/srv/eng/xml_iso19139?uuid=359E5234-179E-490C-83BF-C49ABB95E0D2</a></td>\n",
       "<td class=val>Bebauungsplan Rotherbaum 35 Hamburg</td></tr><tr class=odd><td class=val><a href=\"https://gdk.gdi-de.org/inspire/srv/eng/xml_iso19139?uuid=3691BEAC-177F-48F1-9607-CC6CCE1DB874\" target=\"_other\">https://gdk.gdi-de.org/inspire/srv/eng/xml_iso19139?uuid=3691BEAC-177F-48F1-9607-CC6CCE1DB874</a></td>\n",
       "<td class=val>Bebauungsplan Rotherbaum 5 Hamburg</td></tr><tr class=even><td class=val><a href=\"https://opendata.schleswig-holstein.de/dataset/StaNord_CMS:62563\" target=\"_other\">https://opendata.schleswig-holstein.de/dataset/StaNord_CMS:62563</a></td>\n",
       "<td class=val>Baumobsternte in Schleswig-Holstein 2020</td></tr><tr class=odd><td class=val><a href=\"https://opendata.schleswig-holstein.de/dataset/StaNord_CMS:57430\" target=\"_other\">https://opendata.schleswig-holstein.de/dataset/StaNord_CMS:57430</a></td>\n",
       "<td class=val>Baumobsternte in Schleswig-Holstein 2014</td></tr><tr class=even><td class=val><a href=\"https://opendata.schleswig-holstein.de/dataset/StaNord_CMS:58315\" target=\"_other\">https://opendata.schleswig-holstein.de/dataset/StaNord_CMS:58315</a></td>\n",
       "<td class=val>Baumobsternte in Schleswig-Holstein 2015</td></tr><tr class=odd><td class=val><a href=\"https://opendata.schleswig-holstein.de/dataset/StaNord_CMS:59251\" target=\"_other\">https://opendata.schleswig-holstein.de/dataset/StaNord_CMS:59251</a></td>\n",
       "<td class=val>Baumobsternte in Schleswig-Holstein 2016</td></tr><tr class=even><td class=val><a href=\"https://opendata.schleswig-holstein.de/dataset/StaNord_CMS:59843\" target=\"_other\">https://opendata.schleswig-holstein.de/dataset/StaNord_CMS:59843</a></td>\n",
       "<td class=val>Flächen der Obstanlagen und Obstbaumbestände in Schleswig-Holstein 2017</td></tr><tr class=odd><td class=val><a href=\"https://opendata.schleswig-holstein.de/dataset/StaNord_CMS:60045\" target=\"_other\">https://opendata.schleswig-holstein.de/dataset/StaNord_CMS:60045</a></td>\n",
       "<td class=val>Baumschulen, Baumschulflächen und Forstpflanzenbestände in Schleswig-Holstein 2017</td></tr><tr class=even><td class=val><a href=\"https://opendata.schleswig-holstein.de/dataset/StaNord_CMS:60060\" target=\"_other\">https://opendata.schleswig-holstein.de/dataset/StaNord_CMS:60060</a></td>\n",
       "<td class=val>Baumobsternte in Schleswig-Holstein 2017</td></tr><tr class=odd><td class=val><a href=\"https://opendata.schleswig-holstein.de/dataset/StaNord_CMS:60893\" target=\"_other\">https://opendata.schleswig-holstein.de/dataset/StaNord_CMS:60893</a></td>\n",
       "<td class=val>Baumobsternte in Schleswig-Holstein 2018</td></tr><tr class=even><td class=val><a href=\"https://opendata.schleswig-holstein.de/dataset/StaNord_CMS:61722\" target=\"_other\">https://opendata.schleswig-holstein.de/dataset/StaNord_CMS:61722</a></td>\n",
       "<td class=val>Baumobsternte in Schleswig-Holstein 2019</td></tr><tr class=odd><td class=val><a href=\"https://datenregister.berlin.de/dataset/907ff90a-5a5c-4c65-b7eb-8816b698e4e1\" target=\"_other\">https://datenregister.berlin.de/dataset/907ff90a-5a5c-4c65-b7eb-8816b698e4e1</a></td>\n",
       "<td class=val>Schulbaumaßnahmen</td></tr><tr class=even><td class=val><a href=\"https://opendata.schleswig-holstein.de/dataset/5f0aaf45-f380-49b3-87be-51abaddacbe0\" target=\"_other\">https://opendata.schleswig-holstein.de/dataset/5f0aaf45-f380-49b3-87be-51abaddacbe0</a></td>\n",
       "<td class=val>Baumkataster Norderstedt</td></tr></table><div class=\"tinfo\">Total: 100, Shown: 20</div></div>"
      ]
     },
     "metadata": {},
     "output_type": "display_data"
    }
   ],
   "source": [
    "PREFIX dcat: <http://www.w3.org/ns/dcat#>\n",
    "PREFIX dct: <http://purl.org/dc/terms/>\n",
    "\n",
    "SELECT DISTINCT ?datasetURI ?datasetTitle\n",
    "WHERE {\n",
    "  ?datasetURI a dcat:Dataset;\n",
    "              dct:title ?datasetTitle.\n",
    "  FILTER((LANG(?datasetTitle) = \"\" || LANG(?datasetTitle) = \"de\") && CONTAINS(LCASE(?datasetTitle), \"baum\"))\n",
    "}\n",
    "LIMIT 100"
   ]
  },
  {
   "cell_type": "code",
   "execution_count": null,
   "id": "9dc1c43d",
   "metadata": {
    "vscode": {
     "languageId": "python"
    }
   },
   "outputs": [
    {
     "data": {
      "text/html": [
       "<div class=\"krn-spql\"><table><tr class=hdr><th>datasetURI</th>\n",
       "<th>datasetTitle</th>\n",
       "<th>spatial</th>\n",
       "<th>format</th>\n",
       "<th>temporal</th></tr><tr class=odd><td class=val><a href=\"https://geoportal.sachsen.de/md/3a45fa9c-dbba-47da-91dc-1a62f79e63c8\" target=\"_other\">https://geoportal.sachsen.de/md/3a45fa9c-dbba-47da-91dc-1a62f79e63c8</a></td>\n",
       "<td class=val>Verwaltungsatlas-Staatsbetrieb Sächsisches Immobilien- und Baumanagement</td>\n",
       "<td class=val></td>\n",
       "<td class=val></td>\n",
       "<td class=val></td></tr><tr class=even><td class=val><a href=\"https://datenregister.berlin.de/dataset/cee8c73a-88a2-431b-9ed3-7b800a85e643\" target=\"_other\">https://datenregister.berlin.de/dataset/cee8c73a-88a2-431b-9ed3-7b800a85e643</a></td>\n",
       "<td class=val>Straßenbaumfällungen in Steglitz-Zehlendorf</td>\n",
       "<td class=val></td>\n",
       "<td class=val></td>\n",
       "<td class=val></td></tr><tr class=odd><td class=val><a href=\"https://datenregister.berlin.de/dataset/e6c905f8-0bf3-4577-a525-95511e1b9f47\" target=\"_other\">https://datenregister.berlin.de/dataset/e6c905f8-0bf3-4577-a525-95511e1b9f47</a></td>\n",
       "<td class=val>Suchverzeichnis - Alle Baumaßnahmen an Schulen in Steglitz-Zehlendorf</td>\n",
       "<td class=val></td>\n",
       "<td class=val></td>\n",
       "<td class=val></td></tr><tr class=even><td class=val><a href=\"https://datenregister.berlin.de/dataset/324910a8-ee97-489c-a519-8694077e0863\" target=\"_other\">https://datenregister.berlin.de/dataset/324910a8-ee97-489c-a519-8694077e0863</a></td>\n",
       "<td class=val>Straßenbaumpflanzungen in Steglitz-Zehlendorf</td>\n",
       "<td class=val></td>\n",
       "<td class=val></td>\n",
       "<td class=val></td></tr><tr class=odd><td class=val><a href=\"https://gdk.gdi-de.org/inspire/srv/eng/xml_iso19139?uuid=0D1549C5-FBAE-4C1A-B18C-1284F2C7424D\" target=\"_other\">https://gdk.gdi-de.org/inspire/srv/eng/xml_iso19139?uuid=0D1549C5-FBAE-4C1A-B18C-1284F2C7424D</a></td>\n",
       "<td class=val>Bebauungsplan Rotherbaum 15 Hamburg</td>\n",
       "<td class=val></td>\n",
       "<td class=val></td>\n",
       "<td class=val>b0</td></tr><tr class=even><td class=val><a href=\"https://gdk.gdi-de.org/inspire/srv/eng/xml_iso19139?uuid=1C2F894F-F0C6-4E69-BFFB-BBCF8A3EED1F\" target=\"_other\">https://gdk.gdi-de.org/inspire/srv/eng/xml_iso19139?uuid=1C2F894F-F0C6-4E69-BFFB-BBCF8A3EED1F</a></td>\n",
       "<td class=val>Bebauungsplan Rotherbaum 26 Hamburg</td>\n",
       "<td class=val></td>\n",
       "<td class=val></td>\n",
       "<td class=val>b1</td></tr><tr class=odd><td class=val><a href=\"https://gdk.gdi-de.org/inspire/srv/eng/xml_iso19139?uuid=280CD1B6-6BBE-4F21-82BC-CEA98DE79CE3\" target=\"_other\">https://gdk.gdi-de.org/inspire/srv/eng/xml_iso19139?uuid=280CD1B6-6BBE-4F21-82BC-CEA98DE79CE3</a></td>\n",
       "<td class=val>Bebauungsplan Rotherbaum 12 Hamburg</td>\n",
       "<td class=val></td>\n",
       "<td class=val></td>\n",
       "<td class=val>b2</td></tr><tr class=even><td class=val><a href=\"https://gdk.gdi-de.org/inspire/srv/eng/xml_iso19139?uuid=359E5234-179E-490C-83BF-C49ABB95E0D2\" target=\"_other\">https://gdk.gdi-de.org/inspire/srv/eng/xml_iso19139?uuid=359E5234-179E-490C-83BF-C49ABB95E0D2</a></td>\n",
       "<td class=val>Bebauungsplan Rotherbaum 35 Hamburg</td>\n",
       "<td class=val></td>\n",
       "<td class=val></td>\n",
       "<td class=val>b3</td></tr><tr class=odd><td class=val><a href=\"https://gdk.gdi-de.org/inspire/srv/eng/xml_iso19139?uuid=3691BEAC-177F-48F1-9607-CC6CCE1DB874\" target=\"_other\">https://gdk.gdi-de.org/inspire/srv/eng/xml_iso19139?uuid=3691BEAC-177F-48F1-9607-CC6CCE1DB874</a></td>\n",
       "<td class=val>Bebauungsplan Rotherbaum 5 Hamburg</td>\n",
       "<td class=val></td>\n",
       "<td class=val></td>\n",
       "<td class=val>b4</td></tr><tr class=even><td class=val><a href=\"https://opendata.schleswig-holstein.de/dataset/StaNord_CMS:62563\" target=\"_other\">https://opendata.schleswig-holstein.de/dataset/StaNord_CMS:62563</a></td>\n",
       "<td class=val>Baumobsternte in Schleswig-Holstein 2020</td>\n",
       "<td class=val></td>\n",
       "<td class=val></td>\n",
       "<td class=val>b5</td></tr><tr class=odd><td class=val><a href=\"https://opendata.schleswig-holstein.de/dataset/StaNord_CMS:57430\" target=\"_other\">https://opendata.schleswig-holstein.de/dataset/StaNord_CMS:57430</a></td>\n",
       "<td class=val>Baumobsternte in Schleswig-Holstein 2014</td>\n",
       "<td class=val></td>\n",
       "<td class=val></td>\n",
       "<td class=val>b6</td></tr><tr class=even><td class=val><a href=\"https://opendata.schleswig-holstein.de/dataset/StaNord_CMS:58315\" target=\"_other\">https://opendata.schleswig-holstein.de/dataset/StaNord_CMS:58315</a></td>\n",
       "<td class=val>Baumobsternte in Schleswig-Holstein 2015</td>\n",
       "<td class=val></td>\n",
       "<td class=val></td>\n",
       "<td class=val>b7</td></tr><tr class=odd><td class=val><a href=\"https://opendata.schleswig-holstein.de/dataset/StaNord_CMS:59251\" target=\"_other\">https://opendata.schleswig-holstein.de/dataset/StaNord_CMS:59251</a></td>\n",
       "<td class=val>Baumobsternte in Schleswig-Holstein 2016</td>\n",
       "<td class=val></td>\n",
       "<td class=val></td>\n",
       "<td class=val>b8</td></tr><tr class=even><td class=val><a href=\"https://opendata.schleswig-holstein.de/dataset/StaNord_CMS:59843\" target=\"_other\">https://opendata.schleswig-holstein.de/dataset/StaNord_CMS:59843</a></td>\n",
       "<td class=val>Flächen der Obstanlagen und Obstbaumbestände in Schleswig-Holstein 2017</td>\n",
       "<td class=val></td>\n",
       "<td class=val></td>\n",
       "<td class=val></td></tr><tr class=odd><td class=val><a href=\"https://opendata.schleswig-holstein.de/dataset/StaNord_CMS:60045\" target=\"_other\">https://opendata.schleswig-holstein.de/dataset/StaNord_CMS:60045</a></td>\n",
       "<td class=val>Baumschulen, Baumschulflächen und Forstpflanzenbestände in Schleswig-Holstein 2017</td>\n",
       "<td class=val></td>\n",
       "<td class=val></td>\n",
       "<td class=val></td></tr><tr class=even><td class=val><a href=\"https://opendata.schleswig-holstein.de/dataset/StaNord_CMS:60060\" target=\"_other\">https://opendata.schleswig-holstein.de/dataset/StaNord_CMS:60060</a></td>\n",
       "<td class=val>Baumobsternte in Schleswig-Holstein 2017</td>\n",
       "<td class=val></td>\n",
       "<td class=val></td>\n",
       "<td class=val>b9</td></tr><tr class=odd><td class=val><a href=\"https://opendata.schleswig-holstein.de/dataset/StaNord_CMS:60893\" target=\"_other\">https://opendata.schleswig-holstein.de/dataset/StaNord_CMS:60893</a></td>\n",
       "<td class=val>Baumobsternte in Schleswig-Holstein 2018</td>\n",
       "<td class=val></td>\n",
       "<td class=val></td>\n",
       "<td class=val>b10</td></tr><tr class=even><td class=val><a href=\"https://opendata.schleswig-holstein.de/dataset/StaNord_CMS:61722\" target=\"_other\">https://opendata.schleswig-holstein.de/dataset/StaNord_CMS:61722</a></td>\n",
       "<td class=val>Baumobsternte in Schleswig-Holstein 2019</td>\n",
       "<td class=val></td>\n",
       "<td class=val></td>\n",
       "<td class=val>b11</td></tr><tr class=odd><td class=val><a href=\"https://datenregister.berlin.de/dataset/907ff90a-5a5c-4c65-b7eb-8816b698e4e1\" target=\"_other\">https://datenregister.berlin.de/dataset/907ff90a-5a5c-4c65-b7eb-8816b698e4e1</a></td>\n",
       "<td class=val>Schulbaumaßnahmen</td>\n",
       "<td class=val></td>\n",
       "<td class=val></td>\n",
       "<td class=val></td></tr><tr class=even><td class=val><a href=\"https://opendata.schleswig-holstein.de/dataset/5f0aaf45-f380-49b3-87be-51abaddacbe0\" target=\"_other\">https://opendata.schleswig-holstein.de/dataset/5f0aaf45-f380-49b3-87be-51abaddacbe0</a></td>\n",
       "<td class=val>Baumkataster Norderstedt</td>\n",
       "<td class=val></td>\n",
       "<td class=val></td>\n",
       "<td class=val></td></tr></table><div class=\"tinfo\">Total: 100, Shown: 20</div></div>"
      ]
     },
     "metadata": {},
     "output_type": "display_data"
    }
   ],
   "source": [
    "PREFIX dcat: <http://www.w3.org/ns/dcat#>\n",
    "PREFIX dct: <http://purl.org/dc/terms/>\n",
    "\n",
    "SELECT DISTINCT ?datasetURI ?datasetTitle ?spatial ?format ?temporal\n",
    "WHERE {\n",
    "  ?datasetURI a dcat:Dataset;\n",
    "              dct:title ?datasetTitle.\n",
    "  OPTIONAL { ?datasetURI dcat:spatial ?spatial. }\n",
    "  OPTIONAL { ?datasetURI dct:format ?format. }\n",
    "  OPTIONAL { ?datasetURI dct:temporal ?temporal. }\n",
    "  FILTER((LANG(?datasetTitle) = \"\" || LANG(?datasetTitle) = \"de\") && CONTAINS(LCASE(?datasetTitle), \"baum\"))\n",
    "}\n",
    "LIMIT 100"
   ]
  },
  {
   "cell_type": "code",
   "execution_count": null,
   "id": "35bbc473",
   "metadata": {
    "vscode": {
     "languageId": "python"
    }
   },
   "outputs": [
    {
     "data": {
      "text/html": [
       "<div class=\"krn-spql\"><table><tr class=hdr><th>datasetURI</th>\n",
       "<th>datasetTitle</th>\n",
       "<th>Distribution</th>\n",
       "<th>format</th></tr></table><div class=\"tinfo\">Total: 0, Shown: 0</div></div>"
      ]
     },
     "metadata": {},
     "output_type": "display_data"
    }
   ],
   "source": [
    "PREFIX dcat: <http://www.w3.org/ns/dcat#>\n",
    "PREFIX dct: <http://purl.org/dc/terms/>\n",
    "\n",
    "SELECT DISTINCT ?datasetURI ?datasetTitle ?Distribution ?format\n",
    "WHERE {\n",
    "  ?datasetURI a dcat:Dataset;\n",
    "              dct:title ?datasetTitle;\n",
    "              dcat:Distribution ?Distribution.\n",
    "  ?Distribution dct:format ?format.\n",
    "}\n",
    "LIMIT 100"
   ]
  },
  {
   "cell_type": "code",
   "execution_count": null,
   "id": "7c36a708",
   "metadata": {
    "vscode": {
     "languageId": "python"
    }
   },
   "outputs": [
    {
     "data": {
      "text/html": [
       "<div class=\"krn-spql\"><table><tr class=hdr><th>datasetURI</th>\n",
       "<th>datasetTitle</th>\n",
       "<th>Distribution</th>\n",
       "<th>format</th></tr></table><div class=\"tinfo\">Total: 0, Shown: 0</div></div>"
      ]
     },
     "metadata": {},
     "output_type": "display_data"
    }
   ],
   "source": [
    "PREFIX dcat: <http://www.w3.org/ns/dcat#>\n",
    "PREFIX dct: <http://purl.org/dc/terms/>\n",
    "\n",
    "SELECT DISTINCT ?datasetURI ?datasetTitle ?Distribution ?format\n",
    "WHERE {\n",
    "  ?datasetURI a dcat:Dataset;\n",
    "              dcat:Distribution ?Distribution.\n",
    "  ?Distribution dct:format ?format.\n",
    "  \n",
    "  OPTIONAL {\n",
    "    ?datasetURI dct:title ?datasetTitle.\n",
    "    FILTER (lang(?datasetTitle) = \"de\")\n",
    "  }\n",
    "}"
   ]
  },
  {
   "cell_type": "code",
   "execution_count": null,
   "id": "091c73db",
   "metadata": {
    "vscode": {
     "languageId": "python"
    }
   },
   "outputs": [
    {
     "data": {
      "text/html": [
       "<div class=\"krn-spql\"><table><tr class=hdr><th>datasetURI</th>\n",
       "<th>datasetTitle</th>\n",
       "<th>distribution</th>\n",
       "<th>format</th></tr><tr class=odd><td class=val><a href=\"https://geoportal.sachsen.de/md/3a45fa9c-dbba-47da-91dc-1a62f79e63c8\" target=\"_other\">https://geoportal.sachsen.de/md/3a45fa9c-dbba-47da-91dc-1a62f79e63c8</a></td>\n",
       "<td class=val>Verwaltungsatlas-Staatsbetrieb Sächsisches Immobilien- und Baumanagement</td>\n",
       "<td class=val><a href=\"urn:uuid:02fb5df8-91e3-f0db-3f06-bf7c1fbfdbca\" target=\"_other\">urn:uuid:02fb5df8-91e3-f0db-3f06-bf7c1fbfdbca</a></td>\n",
       "<td class=val>text/html</td></tr><tr class=even><td class=val><a href=\"https://geoportal.sachsen.de/md/3a45fa9c-dbba-47da-91dc-1a62f79e63c8\" target=\"_other\">https://geoportal.sachsen.de/md/3a45fa9c-dbba-47da-91dc-1a62f79e63c8</a></td>\n",
       "<td class=val>Verwaltungsatlas-Staatsbetrieb Sächsisches Immobilien- und Baumanagement</td>\n",
       "<td class=val><a href=\"urn:uuid:3c3a2619-1109-4883-eb2a-8e02b8a0f158\" target=\"_other\">urn:uuid:3c3a2619-1109-4883-eb2a-8e02b8a0f158</a></td>\n",
       "<td class=val>application/vnd.ogc.wms_xml</td></tr><tr class=odd><td class=val><a href=\"https://datenregister.berlin.de/dataset/cee8c73a-88a2-431b-9ed3-7b800a85e643\" target=\"_other\">https://datenregister.berlin.de/dataset/cee8c73a-88a2-431b-9ed3-7b800a85e643</a></td>\n",
       "<td class=val>Straßenbaumfällungen in Steglitz-Zehlendorf</td>\n",
       "<td class=val><a href=\"https://datenregister.berlin.de/dataset/cee8c73a-88a2-431b-9ed3-7b800a85e643/resource/11480bf5-1e73-48fa-8dda-85cb815adcf0\" target=\"_other\">https://datenregister.berlin.de/dataset/cee8c73a-88a2-431b-9ed3-7b800a85e643/resource/11480bf5-1e73-48fa-8dda-85cb815adcf0</a></td>\n",
       "<td class=val><a href=\"http://publications.europa.eu/resource/authority/file-type/CSV\" target=\"_other\">http://publications.europa.eu/resource/authority/file-type/CSV</a></td></tr><tr class=even><td class=val><a href=\"https://datenregister.berlin.de/dataset/cee8c73a-88a2-431b-9ed3-7b800a85e643\" target=\"_other\">https://datenregister.berlin.de/dataset/cee8c73a-88a2-431b-9ed3-7b800a85e643</a></td>\n",
       "<td class=val>Straßenbaumfällungen in Steglitz-Zehlendorf</td>\n",
       "<td class=val><a href=\"https://datenregister.berlin.de/dataset/cee8c73a-88a2-431b-9ed3-7b800a85e643/resource/30ac674e-f685-4cce-8cf1-96ac6d3dc7ba\" target=\"_other\">https://datenregister.berlin.de/dataset/cee8c73a-88a2-431b-9ed3-7b800a85e643/resource/30ac674e-f685-4cce-8cf1-96ac6d3dc7ba</a></td>\n",
       "<td class=val><a href=\"http://publications.europa.eu/resource/authority/file-type/HTML\" target=\"_other\">http://publications.europa.eu/resource/authority/file-type/HTML</a></td></tr><tr class=odd><td class=val><a href=\"https://datenregister.berlin.de/dataset/cee8c73a-88a2-431b-9ed3-7b800a85e643\" target=\"_other\">https://datenregister.berlin.de/dataset/cee8c73a-88a2-431b-9ed3-7b800a85e643</a></td>\n",
       "<td class=val>Straßenbaumfällungen in Steglitz-Zehlendorf</td>\n",
       "<td class=val><a href=\"https://datenregister.berlin.de/dataset/cee8c73a-88a2-431b-9ed3-7b800a85e643/resource/8e641398-be20-4a13-92a4-1beb53f653fe\" target=\"_other\">https://datenregister.berlin.de/dataset/cee8c73a-88a2-431b-9ed3-7b800a85e643/resource/8e641398-be20-4a13-92a4-1beb53f653fe</a></td>\n",
       "<td class=val><a href=\"http://publications.europa.eu/resource/authority/file-type/XML\" target=\"_other\">http://publications.europa.eu/resource/authority/file-type/XML</a></td></tr><tr class=even><td class=val><a href=\"https://datenregister.berlin.de/dataset/cee8c73a-88a2-431b-9ed3-7b800a85e643\" target=\"_other\">https://datenregister.berlin.de/dataset/cee8c73a-88a2-431b-9ed3-7b800a85e643</a></td>\n",
       "<td class=val>Straßenbaumfällungen in Steglitz-Zehlendorf</td>\n",
       "<td class=val><a href=\"https://datenregister.berlin.de/dataset/cee8c73a-88a2-431b-9ed3-7b800a85e643/resource/9fbf5b2e-1440-431a-af5c-c8915c409699\" target=\"_other\">https://datenregister.berlin.de/dataset/cee8c73a-88a2-431b-9ed3-7b800a85e643/resource/9fbf5b2e-1440-431a-af5c-c8915c409699</a></td>\n",
       "<td class=val><a href=\"http://publications.europa.eu/resource/authority/file-type/XLS\" target=\"_other\">http://publications.europa.eu/resource/authority/file-type/XLS</a></td></tr><tr class=odd><td class=val><a href=\"https://datenregister.berlin.de/dataset/cee8c73a-88a2-431b-9ed3-7b800a85e643\" target=\"_other\">https://datenregister.berlin.de/dataset/cee8c73a-88a2-431b-9ed3-7b800a85e643</a></td>\n",
       "<td class=val>Straßenbaumfällungen in Steglitz-Zehlendorf</td>\n",
       "<td class=val><a href=\"https://datenregister.berlin.de/dataset/cee8c73a-88a2-431b-9ed3-7b800a85e643/resource/bffbaa6d-99a2-448d-8631-09cd3b351825\" target=\"_other\">https://datenregister.berlin.de/dataset/cee8c73a-88a2-431b-9ed3-7b800a85e643/resource/bffbaa6d-99a2-448d-8631-09cd3b351825</a></td>\n",
       "<td class=val><a href=\"http://publications.europa.eu/resource/authority/file-type/JSON\" target=\"_other\">http://publications.europa.eu/resource/authority/file-type/JSON</a></td></tr><tr class=even><td class=val><a href=\"https://datenregister.berlin.de/dataset/e6c905f8-0bf3-4577-a525-95511e1b9f47\" target=\"_other\">https://datenregister.berlin.de/dataset/e6c905f8-0bf3-4577-a525-95511e1b9f47</a></td>\n",
       "<td class=val>Suchverzeichnis - Alle Baumaßnahmen an Schulen in Steglitz-Zehlendorf</td>\n",
       "<td class=val><a href=\"https://datenregister.berlin.de/dataset/e6c905f8-0bf3-4577-a525-95511e1b9f47/resource/07adf5b5-ba6b-479f-af4f-90e488d9a97a\" target=\"_other\">https://datenregister.berlin.de/dataset/e6c905f8-0bf3-4577-a525-95511e1b9f47/resource/07adf5b5-ba6b-479f-af4f-90e488d9a97a</a></td>\n",
       "<td class=val><a href=\"http://publications.europa.eu/resource/authority/file-type/XML\" target=\"_other\">http://publications.europa.eu/resource/authority/file-type/XML</a></td></tr><tr class=odd><td class=val><a href=\"https://datenregister.berlin.de/dataset/e6c905f8-0bf3-4577-a525-95511e1b9f47\" target=\"_other\">https://datenregister.berlin.de/dataset/e6c905f8-0bf3-4577-a525-95511e1b9f47</a></td>\n",
       "<td class=val>Suchverzeichnis - Alle Baumaßnahmen an Schulen in Steglitz-Zehlendorf</td>\n",
       "<td class=val><a href=\"https://datenregister.berlin.de/dataset/e6c905f8-0bf3-4577-a525-95511e1b9f47/resource/2f628505-2d52-4862-b390-f022d973e24d\" target=\"_other\">https://datenregister.berlin.de/dataset/e6c905f8-0bf3-4577-a525-95511e1b9f47/resource/2f628505-2d52-4862-b390-f022d973e24d</a></td>\n",
       "<td class=val><a href=\"http://publications.europa.eu/resource/authority/file-type/XLS\" target=\"_other\">http://publications.europa.eu/resource/authority/file-type/XLS</a></td></tr><tr class=even><td class=val><a href=\"https://datenregister.berlin.de/dataset/e6c905f8-0bf3-4577-a525-95511e1b9f47\" target=\"_other\">https://datenregister.berlin.de/dataset/e6c905f8-0bf3-4577-a525-95511e1b9f47</a></td>\n",
       "<td class=val>Suchverzeichnis - Alle Baumaßnahmen an Schulen in Steglitz-Zehlendorf</td>\n",
       "<td class=val><a href=\"https://datenregister.berlin.de/dataset/e6c905f8-0bf3-4577-a525-95511e1b9f47/resource/74778d3c-5a21-4c97-a714-38050734b7c7\" target=\"_other\">https://datenregister.berlin.de/dataset/e6c905f8-0bf3-4577-a525-95511e1b9f47/resource/74778d3c-5a21-4c97-a714-38050734b7c7</a></td>\n",
       "<td class=val><a href=\"http://publications.europa.eu/resource/authority/file-type/HTML\" target=\"_other\">http://publications.europa.eu/resource/authority/file-type/HTML</a></td></tr><tr class=odd><td class=val><a href=\"https://datenregister.berlin.de/dataset/e6c905f8-0bf3-4577-a525-95511e1b9f47\" target=\"_other\">https://datenregister.berlin.de/dataset/e6c905f8-0bf3-4577-a525-95511e1b9f47</a></td>\n",
       "<td class=val>Suchverzeichnis - Alle Baumaßnahmen an Schulen in Steglitz-Zehlendorf</td>\n",
       "<td class=val><a href=\"https://datenregister.berlin.de/dataset/e6c905f8-0bf3-4577-a525-95511e1b9f47/resource/cfbd6083-086b-4601-afab-3ae7f3de6ece\" target=\"_other\">https://datenregister.berlin.de/dataset/e6c905f8-0bf3-4577-a525-95511e1b9f47/resource/cfbd6083-086b-4601-afab-3ae7f3de6ece</a></td>\n",
       "<td class=val><a href=\"http://publications.europa.eu/resource/authority/file-type/CSV\" target=\"_other\">http://publications.europa.eu/resource/authority/file-type/CSV</a></td></tr><tr class=even><td class=val><a href=\"https://datenregister.berlin.de/dataset/e6c905f8-0bf3-4577-a525-95511e1b9f47\" target=\"_other\">https://datenregister.berlin.de/dataset/e6c905f8-0bf3-4577-a525-95511e1b9f47</a></td>\n",
       "<td class=val>Suchverzeichnis - Alle Baumaßnahmen an Schulen in Steglitz-Zehlendorf</td>\n",
       "<td class=val><a href=\"https://datenregister.berlin.de/dataset/e6c905f8-0bf3-4577-a525-95511e1b9f47/resource/f68f5352-1421-4977-885b-d9936ce9d64c\" target=\"_other\">https://datenregister.berlin.de/dataset/e6c905f8-0bf3-4577-a525-95511e1b9f47/resource/f68f5352-1421-4977-885b-d9936ce9d64c</a></td>\n",
       "<td class=val><a href=\"http://publications.europa.eu/resource/authority/file-type/JSON\" target=\"_other\">http://publications.europa.eu/resource/authority/file-type/JSON</a></td></tr><tr class=odd><td class=val><a href=\"https://datenregister.berlin.de/dataset/324910a8-ee97-489c-a519-8694077e0863\" target=\"_other\">https://datenregister.berlin.de/dataset/324910a8-ee97-489c-a519-8694077e0863</a></td>\n",
       "<td class=val>Straßenbaumpflanzungen in Steglitz-Zehlendorf</td>\n",
       "<td class=val><a href=\"https://datenregister.berlin.de/dataset/324910a8-ee97-489c-a519-8694077e0863/resource/08b63dce-867f-453a-ae2d-abcbd99a6407\" target=\"_other\">https://datenregister.berlin.de/dataset/324910a8-ee97-489c-a519-8694077e0863/resource/08b63dce-867f-453a-ae2d-abcbd99a6407</a></td>\n",
       "<td class=val><a href=\"http://publications.europa.eu/resource/authority/file-type/HTML\" target=\"_other\">http://publications.europa.eu/resource/authority/file-type/HTML</a></td></tr><tr class=even><td class=val><a href=\"https://datenregister.berlin.de/dataset/324910a8-ee97-489c-a519-8694077e0863\" target=\"_other\">https://datenregister.berlin.de/dataset/324910a8-ee97-489c-a519-8694077e0863</a></td>\n",
       "<td class=val>Straßenbaumpflanzungen in Steglitz-Zehlendorf</td>\n",
       "<td class=val><a href=\"https://datenregister.berlin.de/dataset/324910a8-ee97-489c-a519-8694077e0863/resource/2e721358-21f3-4c98-bdc1-1bfa9baeb512\" target=\"_other\">https://datenregister.berlin.de/dataset/324910a8-ee97-489c-a519-8694077e0863/resource/2e721358-21f3-4c98-bdc1-1bfa9baeb512</a></td>\n",
       "<td class=val><a href=\"http://publications.europa.eu/resource/authority/file-type/JSON\" target=\"_other\">http://publications.europa.eu/resource/authority/file-type/JSON</a></td></tr><tr class=odd><td class=val><a href=\"https://datenregister.berlin.de/dataset/324910a8-ee97-489c-a519-8694077e0863\" target=\"_other\">https://datenregister.berlin.de/dataset/324910a8-ee97-489c-a519-8694077e0863</a></td>\n",
       "<td class=val>Straßenbaumpflanzungen in Steglitz-Zehlendorf</td>\n",
       "<td class=val><a href=\"https://datenregister.berlin.de/dataset/324910a8-ee97-489c-a519-8694077e0863/resource/608b1e60-30d4-4447-bbac-77b8bda3f6f5\" target=\"_other\">https://datenregister.berlin.de/dataset/324910a8-ee97-489c-a519-8694077e0863/resource/608b1e60-30d4-4447-bbac-77b8bda3f6f5</a></td>\n",
       "<td class=val><a href=\"http://publications.europa.eu/resource/authority/file-type/XML\" target=\"_other\">http://publications.europa.eu/resource/authority/file-type/XML</a></td></tr><tr class=even><td class=val><a href=\"https://datenregister.berlin.de/dataset/324910a8-ee97-489c-a519-8694077e0863\" target=\"_other\">https://datenregister.berlin.de/dataset/324910a8-ee97-489c-a519-8694077e0863</a></td>\n",
       "<td class=val>Straßenbaumpflanzungen in Steglitz-Zehlendorf</td>\n",
       "<td class=val><a href=\"https://datenregister.berlin.de/dataset/324910a8-ee97-489c-a519-8694077e0863/resource/70d07b47-c600-47c9-8fe9-52f7acb28ca7\" target=\"_other\">https://datenregister.berlin.de/dataset/324910a8-ee97-489c-a519-8694077e0863/resource/70d07b47-c600-47c9-8fe9-52f7acb28ca7</a></td>\n",
       "<td class=val><a href=\"http://publications.europa.eu/resource/authority/file-type/XLS\" target=\"_other\">http://publications.europa.eu/resource/authority/file-type/XLS</a></td></tr><tr class=odd><td class=val><a href=\"https://datenregister.berlin.de/dataset/324910a8-ee97-489c-a519-8694077e0863\" target=\"_other\">https://datenregister.berlin.de/dataset/324910a8-ee97-489c-a519-8694077e0863</a></td>\n",
       "<td class=val>Straßenbaumpflanzungen in Steglitz-Zehlendorf</td>\n",
       "<td class=val><a href=\"https://datenregister.berlin.de/dataset/324910a8-ee97-489c-a519-8694077e0863/resource/8f2d81e7-2bed-4628-bcaf-b579e0cea920\" target=\"_other\">https://datenregister.berlin.de/dataset/324910a8-ee97-489c-a519-8694077e0863/resource/8f2d81e7-2bed-4628-bcaf-b579e0cea920</a></td>\n",
       "<td class=val><a href=\"http://publications.europa.eu/resource/authority/file-type/CSV\" target=\"_other\">http://publications.europa.eu/resource/authority/file-type/CSV</a></td></tr><tr class=even><td class=val><a href=\"https://gdk.gdi-de.org/inspire/srv/eng/xml_iso19139?uuid=0D1549C5-FBAE-4C1A-B18C-1284F2C7424D\" target=\"_other\">https://gdk.gdi-de.org/inspire/srv/eng/xml_iso19139?uuid=0D1549C5-FBAE-4C1A-B18C-1284F2C7424D</a></td>\n",
       "<td class=val>Bebauungsplan Rotherbaum 15 Hamburg</td>\n",
       "<td class=val><a href=\"https://geodienste.hamburg.de/HH_WFS_xplan_dls?service=WFS&request=GetFeature&version=2.0.0&resolvedepth=*&StoredQuery_ID=urn:ogc:def:query:OGC-WFS::PlanName&planName=Rotherbaum15#distribution\" target=\"_other\">https://geodienste.hamburg.de/HH_WFS_xplan_dls?service=WFS&amp;request=GetFeature&amp;version=2.0.0&amp;resolvedepth=*&amp;StoredQuery_ID=urn:ogc:def:query:OGC-WFS::PlanName&amp;planName=Rotherbaum15#distribution</a></td>\n",
       "<td class=val><a href=\"http://publications.europa.eu/resource/authority/file-type/GML\" target=\"_other\">http://publications.europa.eu/resource/authority/file-type/GML</a></td></tr><tr class=odd><td class=val><a href=\"https://gdk.gdi-de.org/inspire/srv/eng/xml_iso19139?uuid=0D1549C5-FBAE-4C1A-B18C-1284F2C7424D\" target=\"_other\">https://gdk.gdi-de.org/inspire/srv/eng/xml_iso19139?uuid=0D1549C5-FBAE-4C1A-B18C-1284F2C7424D</a></td>\n",
       "<td class=val>Bebauungsplan Rotherbaum 15 Hamburg</td>\n",
       "<td class=val><a href=\"https://geodienste.hamburg.de/HH_WFS_xplan_dls?service=WFS&request=GetFeature&version=2.0.0&resolvedepth=*&StoredQuery_ID=urn:ogc:def:query:OGC-WFS::PlanName&planName=Rotherbaum15#distribution\" target=\"_other\">https://geodienste.hamburg.de/HH_WFS_xplan_dls?service=WFS&amp;request=GetFeature&amp;version=2.0.0&amp;resolvedepth=*&amp;StoredQuery_ID=urn:ogc:def:query:OGC-WFS::PlanName&amp;planName=Rotherbaum15#distribution</a></td>\n",
       "<td class=val>XPlanGML</td></tr><tr class=even><td class=val><a href=\"https://gdk.gdi-de.org/inspire/srv/eng/xml_iso19139?uuid=0D1549C5-FBAE-4C1A-B18C-1284F2C7424D\" target=\"_other\">https://gdk.gdi-de.org/inspire/srv/eng/xml_iso19139?uuid=0D1549C5-FBAE-4C1A-B18C-1284F2C7424D</a></td>\n",
       "<td class=val>Bebauungsplan Rotherbaum 15 Hamburg</td>\n",
       "<td class=val><a href=\"https://daten-hamburg.de/infrastruktur_bauen_wohnen/bebauungsplaene/pdfs/bplan/rotherbaum15.pdf#distribution\" target=\"_other\">https://daten-hamburg.de/infrastruktur_bauen_wohnen/bebauungsplaene/pdfs/bplan/rotherbaum15.pdf#distribution</a></td>\n",
       "<td class=val><a href=\"http://publications.europa.eu/resource/authority/file-type/PDF\" target=\"_other\">http://publications.europa.eu/resource/authority/file-type/PDF</a></td></tr></table><div class=\"tinfo\">Total: 100, Shown: 20</div></div>"
      ]
     },
     "metadata": {},
     "output_type": "display_data"
    }
   ],
   "source": [
    "PREFIX dcat: <http://www.w3.org/ns/dcat#>\n",
    "PREFIX dct: <http://purl.org/dc/terms/>\n",
    "\n",
    "SELECT DISTINCT ?datasetURI ?datasetTitle ?distribution ?format\n",
    "WHERE {\n",
    "  ?datasetURI a dcat:Dataset;\n",
    "              dct:title ?datasetTitle.\n",
    "  OPTIONAL {\n",
    "    ?datasetURI dcat:distribution ?distribution.\n",
    "    ?distribution dct:format ?format.\n",
    "  }\n",
    "  FILTER((LANG(?datasetTitle) = \"\" || LANG(?datasetTitle) = \"de\") && CONTAINS(LCASE(?datasetTitle), \"baum\"))\n",
    "}\n",
    "LIMIT 100"
   ]
  },
  {
   "cell_type": "code",
   "execution_count": null,
   "id": "625aa0bf",
   "metadata": {
    "vscode": {
     "languageId": "python"
    }
   },
   "outputs": [
    {
     "data": {
      "text/html": [
       "<div class=\"krn-spql\"><table><tr class=hdr><th>datasetURI</th>\n",
       "<th>datasetTitle</th>\n",
       "<th>spatial</th>\n",
       "<th>temporal</th>\n",
       "<th>distribution</th>\n",
       "<th>format</th></tr><tr class=odd><td class=val><a href=\"https://geoportal.sachsen.de/md/70bf5265-b1ef-42f8-944c-de1412db39e8\" target=\"_other\">https://geoportal.sachsen.de/md/70bf5265-b1ef-42f8-944c-de1412db39e8</a></td>\n",
       "<td class=val>Digitale Orthophotos (DOP) - Befliegung 2022, Weißwasser</td>\n",
       "<td class=val>b0</td>\n",
       "<td class=val></td>\n",
       "<td class=val><a href=\"urn:uuid:f8224727-3db4-d9b6-0b1a-5397a69a6395\" target=\"_other\">urn:uuid:f8224727-3db4-d9b6-0b1a-5397a69a6395</a></td>\n",
       "<td class=val>application/vnd.ogc.wms_xml</td></tr><tr class=even><td class=val><a href=\"https://geoportal.sachsen.de/md/70bf5265-b1ef-42f8-944c-de1412db39e8\" target=\"_other\">https://geoportal.sachsen.de/md/70bf5265-b1ef-42f8-944c-de1412db39e8</a></td>\n",
       "<td class=val>Digitale Orthophotos (DOP) - Befliegung 2022, Weißwasser</td>\n",
       "<td class=val>b0</td>\n",
       "<td class=val></td>\n",
       "<td class=val><a href=\"urn:uuid:a5a87d1c-e0dd-3132-e6ea-74f46178ff40\" target=\"_other\">urn:uuid:a5a87d1c-e0dd-3132-e6ea-74f46178ff40</a></td>\n",
       "<td class=val>application/vnd.ogc.wmts_xml</td></tr><tr class=odd><td class=val><a href=\"https://geoportal.sachsen.de/md/70bf5265-b1ef-42f8-944c-de1412db39e8\" target=\"_other\">https://geoportal.sachsen.de/md/70bf5265-b1ef-42f8-944c-de1412db39e8</a></td>\n",
       "<td class=val>Digitale Orthophotos (DOP) - Befliegung 2022, Weißwasser</td>\n",
       "<td class=val>b0</td>\n",
       "<td class=val></td>\n",
       "<td class=val><a href=\"urn:uuid:1b62e7f3-fc01-0324-1a36-4702f9faa2b9\" target=\"_other\">urn:uuid:1b62e7f3-fc01-0324-1a36-4702f9faa2b9</a></td>\n",
       "<td class=val>application/vnd.ogc.wms_xml</td></tr><tr class=even><td class=val><a href=\"https://geoportal.sachsen.de/md/70bf5265-b1ef-42f8-944c-de1412db39e8\" target=\"_other\">https://geoportal.sachsen.de/md/70bf5265-b1ef-42f8-944c-de1412db39e8</a></td>\n",
       "<td class=val>Digitale Orthophotos (DOP) - Befliegung 2022, Weißwasser</td>\n",
       "<td class=val>b0</td>\n",
       "<td class=val></td>\n",
       "<td class=val><a href=\"urn:uuid:574b8ce8-92f2-4cf4-4e21-bd101892acc9\" target=\"_other\">urn:uuid:574b8ce8-92f2-4cf4-4e21-bd101892acc9</a></td>\n",
       "<td class=val>application/vnd.ogc.wms_xml</td></tr><tr class=odd><td class=val><a href=\"https://geoportal.sachsen.de/md/70bf5265-b1ef-42f8-944c-de1412db39e8\" target=\"_other\">https://geoportal.sachsen.de/md/70bf5265-b1ef-42f8-944c-de1412db39e8</a></td>\n",
       "<td class=val>Digitale Orthophotos (DOP) - Befliegung 2022, Weißwasser</td>\n",
       "<td class=val>b0</td>\n",
       "<td class=val></td>\n",
       "<td class=val><a href=\"urn:uuid:ea934317-3368-54d6-b07d-9e5030fff050\" target=\"_other\">urn:uuid:ea934317-3368-54d6-b07d-9e5030fff050</a></td>\n",
       "<td class=val>text/html</td></tr><tr class=even><td class=val><a href=\"https://geoportal.sachsen.de/md/70bf5265-b1ef-42f8-944c-de1412db39e8\" target=\"_other\">https://geoportal.sachsen.de/md/70bf5265-b1ef-42f8-944c-de1412db39e8</a></td>\n",
       "<td class=val>Digitale Orthophotos (DOP) - Befliegung 2022, Weißwasser</td>\n",
       "<td class=val>b0</td>\n",
       "<td class=val></td>\n",
       "<td class=val><a href=\"urn:uuid:f4c4a169-a552-25ad-3cfb-a7095172fa2d\" target=\"_other\">urn:uuid:f4c4a169-a552-25ad-3cfb-a7095172fa2d</a></td>\n",
       "<td class=val>text/html</td></tr><tr class=odd><td class=val><a href=\"https://www.opendata-hro.de/dataset/9e6df860-7eb4-4c5c-906a-632b6dfcec9d\" target=\"_other\">https://www.opendata-hro.de/dataset/9e6df860-7eb4-4c5c-906a-632b6dfcec9d</a></td>\n",
       "<td class=val>Wassersportanlagen</td>\n",
       "<td class=val>b1</td>\n",
       "<td class=val></td>\n",
       "<td class=val><a href=\"https://www.opendata-hro.de/dataset/9e6df860-7eb4-4c5c-906a-632b6dfcec9d/resource/6e237986-28bd-42a5-8a2e-b0e241f2abdf\" target=\"_other\">https://www.opendata-hro.de/dataset/9e6df860-7eb4-4c5c-906a-632b6dfcec9d/resource/6e237986-28bd-42a5-8a2e-b0e241f2abdf</a></td>\n",
       "<td class=val><a href=\"http://publications.europa.eu/resource/authority/file-type/KML\" target=\"_other\">http://publications.europa.eu/resource/authority/file-type/KML</a></td></tr><tr class=even><td class=val><a href=\"https://www.opendata-hro.de/dataset/9e6df860-7eb4-4c5c-906a-632b6dfcec9d\" target=\"_other\">https://www.opendata-hro.de/dataset/9e6df860-7eb4-4c5c-906a-632b6dfcec9d</a></td>\n",
       "<td class=val>Wassersportanlagen</td>\n",
       "<td class=val>b1</td>\n",
       "<td class=val></td>\n",
       "<td class=val><a href=\"https://www.opendata-hro.de/dataset/9e6df860-7eb4-4c5c-906a-632b6dfcec9d/resource/5ffbd393-6c18-4dc0-8a98-212ebb4b424e\" target=\"_other\">https://www.opendata-hro.de/dataset/9e6df860-7eb4-4c5c-906a-632b6dfcec9d/resource/5ffbd393-6c18-4dc0-8a98-212ebb4b424e</a></td>\n",
       "<td class=val><a href=\"http://publications.europa.eu/resource/authority/file-type/GML\" target=\"_other\">http://publications.europa.eu/resource/authority/file-type/GML</a></td></tr><tr class=odd><td class=val><a href=\"https://www.opendata-hro.de/dataset/9e6df860-7eb4-4c5c-906a-632b6dfcec9d\" target=\"_other\">https://www.opendata-hro.de/dataset/9e6df860-7eb4-4c5c-906a-632b6dfcec9d</a></td>\n",
       "<td class=val>Wassersportanlagen</td>\n",
       "<td class=val>b1</td>\n",
       "<td class=val></td>\n",
       "<td class=val><a href=\"https://www.opendata-hro.de/dataset/9e6df860-7eb4-4c5c-906a-632b6dfcec9d/resource/ab587180-a7b0-4473-a3d0-d76c30908a22\" target=\"_other\">https://www.opendata-hro.de/dataset/9e6df860-7eb4-4c5c-906a-632b6dfcec9d/resource/ab587180-a7b0-4473-a3d0-d76c30908a22</a></td>\n",
       "<td class=val><a href=\"http://publications.europa.eu/resource/authority/file-type/CSV\" target=\"_other\">http://publications.europa.eu/resource/authority/file-type/CSV</a></td></tr><tr class=even><td class=val><a href=\"https://www.opendata-hro.de/dataset/9e6df860-7eb4-4c5c-906a-632b6dfcec9d\" target=\"_other\">https://www.opendata-hro.de/dataset/9e6df860-7eb4-4c5c-906a-632b6dfcec9d</a></td>\n",
       "<td class=val>Wassersportanlagen</td>\n",
       "<td class=val>b1</td>\n",
       "<td class=val></td>\n",
       "<td class=val><a href=\"https://www.opendata-hro.de/dataset/9e6df860-7eb4-4c5c-906a-632b6dfcec9d/resource/63caf14e-99d5-40ae-993b-86db3117ab21\" target=\"_other\">https://www.opendata-hro.de/dataset/9e6df860-7eb4-4c5c-906a-632b6dfcec9d/resource/63caf14e-99d5-40ae-993b-86db3117ab21</a></td>\n",
       "<td class=val><a href=\"http://publications.europa.eu/resource/authority/file-type/XLSX\" target=\"_other\">http://publications.europa.eu/resource/authority/file-type/XLSX</a></td></tr><tr class=odd><td class=val><a href=\"https://www.opendata-hro.de/dataset/9e6df860-7eb4-4c5c-906a-632b6dfcec9d\" target=\"_other\">https://www.opendata-hro.de/dataset/9e6df860-7eb4-4c5c-906a-632b6dfcec9d</a></td>\n",
       "<td class=val>Wassersportanlagen</td>\n",
       "<td class=val>b1</td>\n",
       "<td class=val></td>\n",
       "<td class=val><a href=\"https://www.opendata-hro.de/dataset/9e6df860-7eb4-4c5c-906a-632b6dfcec9d/resource/3101944b-568b-44cf-87a0-f3fc2e3ab31c\" target=\"_other\">https://www.opendata-hro.de/dataset/9e6df860-7eb4-4c5c-906a-632b6dfcec9d/resource/3101944b-568b-44cf-87a0-f3fc2e3ab31c</a></td>\n",
       "<td class=val><a href=\"http://publications.europa.eu/resource/authority/file-type/GEOJSON\" target=\"_other\">http://publications.europa.eu/resource/authority/file-type/GEOJSON</a></td></tr><tr class=even><td class=val><a href=\"https://www.opendata-hro.de/dataset/4eea0afb-3ca1-4467-bad0-c6b4311adbf5\" target=\"_other\">https://www.opendata-hro.de/dataset/4eea0afb-3ca1-4467-bad0-c6b4311adbf5</a></td>\n",
       "<td class=val>Hoch anstehendes Grundwasser</td>\n",
       "<td class=val>b2</td>\n",
       "<td class=val></td>\n",
       "<td class=val><a href=\"https://www.opendata-hro.de/dataset/4eea0afb-3ca1-4467-bad0-c6b4311adbf5/resource/5c7724f7-32f0-4f2d-935e-4b3675c70482\" target=\"_other\">https://www.opendata-hro.de/dataset/4eea0afb-3ca1-4467-bad0-c6b4311adbf5/resource/5c7724f7-32f0-4f2d-935e-4b3675c70482</a></td>\n",
       "<td class=val><a href=\"http://publications.europa.eu/resource/authority/file-type/SHP\" target=\"_other\">http://publications.europa.eu/resource/authority/file-type/SHP</a></td></tr><tr class=odd><td class=val><a href=\"https://www.opendata-hro.de/dataset/4eea0afb-3ca1-4467-bad0-c6b4311adbf5\" target=\"_other\">https://www.opendata-hro.de/dataset/4eea0afb-3ca1-4467-bad0-c6b4311adbf5</a></td>\n",
       "<td class=val>Hoch anstehendes Grundwasser</td>\n",
       "<td class=val>b2</td>\n",
       "<td class=val></td>\n",
       "<td class=val><a href=\"https://www.opendata-hro.de/dataset/4eea0afb-3ca1-4467-bad0-c6b4311adbf5/resource/7463676f-77ca-4ac7-8f51-81582d80a455\" target=\"_other\">https://www.opendata-hro.de/dataset/4eea0afb-3ca1-4467-bad0-c6b4311adbf5/resource/7463676f-77ca-4ac7-8f51-81582d80a455</a></td>\n",
       "<td class=val><a href=\"http://publications.europa.eu/resource/authority/file-type/GEOJSON\" target=\"_other\">http://publications.europa.eu/resource/authority/file-type/GEOJSON</a></td></tr><tr class=even><td class=val><a href=\"https://www.opendata-hro.de/dataset/4eea0afb-3ca1-4467-bad0-c6b4311adbf5\" target=\"_other\">https://www.opendata-hro.de/dataset/4eea0afb-3ca1-4467-bad0-c6b4311adbf5</a></td>\n",
       "<td class=val>Hoch anstehendes Grundwasser</td>\n",
       "<td class=val>b2</td>\n",
       "<td class=val></td>\n",
       "<td class=val><a href=\"https://www.opendata-hro.de/dataset/4eea0afb-3ca1-4467-bad0-c6b4311adbf5/resource/ceda3273-dcbf-4467-b8bc-89bf9f9d4dc1\" target=\"_other\">https://www.opendata-hro.de/dataset/4eea0afb-3ca1-4467-bad0-c6b4311adbf5/resource/ceda3273-dcbf-4467-b8bc-89bf9f9d4dc1</a></td>\n",
       "<td class=val><a href=\"http://publications.europa.eu/resource/authority/file-type/GML\" target=\"_other\">http://publications.europa.eu/resource/authority/file-type/GML</a></td></tr><tr class=odd><td class=val><a href=\"https://www.opendata-hro.de/dataset/4eea0afb-3ca1-4467-bad0-c6b4311adbf5\" target=\"_other\">https://www.opendata-hro.de/dataset/4eea0afb-3ca1-4467-bad0-c6b4311adbf5</a></td>\n",
       "<td class=val>Hoch anstehendes Grundwasser</td>\n",
       "<td class=val>b2</td>\n",
       "<td class=val></td>\n",
       "<td class=val><a href=\"https://www.opendata-hro.de/dataset/4eea0afb-3ca1-4467-bad0-c6b4311adbf5/resource/2e8d6f05-f6e2-449f-93a0-d1db05186fa3\" target=\"_other\">https://www.opendata-hro.de/dataset/4eea0afb-3ca1-4467-bad0-c6b4311adbf5/resource/2e8d6f05-f6e2-449f-93a0-d1db05186fa3</a></td>\n",
       "<td class=val><a href=\"http://publications.europa.eu/resource/authority/file-type/XLSX\" target=\"_other\">http://publications.europa.eu/resource/authority/file-type/XLSX</a></td></tr><tr class=even><td class=val><a href=\"https://www.opendata-hro.de/dataset/4eea0afb-3ca1-4467-bad0-c6b4311adbf5\" target=\"_other\">https://www.opendata-hro.de/dataset/4eea0afb-3ca1-4467-bad0-c6b4311adbf5</a></td>\n",
       "<td class=val>Hoch anstehendes Grundwasser</td>\n",
       "<td class=val>b2</td>\n",
       "<td class=val></td>\n",
       "<td class=val><a href=\"https://www.opendata-hro.de/dataset/4eea0afb-3ca1-4467-bad0-c6b4311adbf5/resource/a856b3d5-94c5-4cd0-8e43-143f5f4a6274\" target=\"_other\">https://www.opendata-hro.de/dataset/4eea0afb-3ca1-4467-bad0-c6b4311adbf5/resource/a856b3d5-94c5-4cd0-8e43-143f5f4a6274</a></td>\n",
       "<td class=val><a href=\"http://publications.europa.eu/resource/authority/file-type/CSV\" target=\"_other\">http://publications.europa.eu/resource/authority/file-type/CSV</a></td></tr><tr class=odd><td class=val><a href=\"https://www.opendata-hro.de/dataset/4eea0afb-3ca1-4467-bad0-c6b4311adbf5\" target=\"_other\">https://www.opendata-hro.de/dataset/4eea0afb-3ca1-4467-bad0-c6b4311adbf5</a></td>\n",
       "<td class=val>Hoch anstehendes Grundwasser</td>\n",
       "<td class=val>b2</td>\n",
       "<td class=val></td>\n",
       "<td class=val><a href=\"https://www.opendata-hro.de/dataset/4eea0afb-3ca1-4467-bad0-c6b4311adbf5/resource/53303fde-7213-4e8f-8bc5-1a32792471ef\" target=\"_other\">https://www.opendata-hro.de/dataset/4eea0afb-3ca1-4467-bad0-c6b4311adbf5/resource/53303fde-7213-4e8f-8bc5-1a32792471ef</a></td>\n",
       "<td class=val><a href=\"http://publications.europa.eu/resource/authority/file-type/KML\" target=\"_other\">http://publications.europa.eu/resource/authority/file-type/KML</a></td></tr><tr class=even><td class=val><a href=\"https://datenregister.berlin.de/dataset/e1f94372-ae9a-4ed6-87ad-a085c4ccfc55\" target=\"_other\">https://datenregister.berlin.de/dataset/e1f94372-ae9a-4ed6-87ad-a085c4ccfc55</a></td>\n",
       "<td class=val>Berliner Wasserbetriebe - Wasseranalysedaten der Wasserwerke</td>\n",
       "<td class=val><a href=\"http://www.geonames.org/2950157\" target=\"_other\">http://www.geonames.org/2950157</a></td>\n",
       "<td class=val></td>\n",
       "<td class=val><a href=\"https://datenregister.berlin.de/dataset/e1f94372-ae9a-4ed6-87ad-a085c4ccfc55/resource/897738a8-165b-4c1f-9b10-55f2f6cb1184\" target=\"_other\">https://datenregister.berlin.de/dataset/e1f94372-ae9a-4ed6-87ad-a085c4ccfc55/resource/897738a8-165b-4c1f-9b10-55f2f6cb1184</a></td>\n",
       "<td class=val><a href=\"http://publications.europa.eu/resource/authority/file-type/PDF\" target=\"_other\">http://publications.europa.eu/resource/authority/file-type/PDF</a></td></tr><tr class=odd><td class=val><a href=\"https://datenregister.berlin.de/dataset/e1f94372-ae9a-4ed6-87ad-a085c4ccfc55\" target=\"_other\">https://datenregister.berlin.de/dataset/e1f94372-ae9a-4ed6-87ad-a085c4ccfc55</a></td>\n",
       "<td class=val>Berliner Wasserbetriebe - Wasseranalysedaten der Wasserwerke</td>\n",
       "<td class=val><a href=\"http://www.geonames.org/2950157\" target=\"_other\">http://www.geonames.org/2950157</a></td>\n",
       "<td class=val></td>\n",
       "<td class=val><a href=\"https://datenregister.berlin.de/dataset/e1f94372-ae9a-4ed6-87ad-a085c4ccfc55/resource/5e0795c5-88d5-4b7c-81d9-f782758a3d48\" target=\"_other\">https://datenregister.berlin.de/dataset/e1f94372-ae9a-4ed6-87ad-a085c4ccfc55/resource/5e0795c5-88d5-4b7c-81d9-f782758a3d48</a></td>\n",
       "<td class=val><a href=\"http://publications.europa.eu/resource/authority/file-type/XLSX\" target=\"_other\">http://publications.europa.eu/resource/authority/file-type/XLSX</a></td></tr><tr class=even><td class=val><a href=\"https://datenregister.berlin.de/dataset/719eeeea-18fa-4e9b-8e7c-9a2be43ad0ce\" target=\"_other\">https://datenregister.berlin.de/dataset/719eeeea-18fa-4e9b-8e7c-9a2be43ad0ce</a></td>\n",
       "<td class=val>Gesundheitsberichterstattung Berlin: Umweltbezogener Gesundheitsschutz und Verbraucherschutz im Gesundheitswesen -&gt; Lebens- und Arbeitsbedingungen -&gt; Belastungen durch Schadstoffe im Trinkwasser und umweltbedingte Lärmbelastung</td>\n",
       "<td class=val><a href=\"http://www.geonames.org/2950157\" target=\"_other\">http://www.geonames.org/2950157</a></td>\n",
       "<td class=val></td>\n",
       "<td class=val><a href=\"https://datenregister.berlin.de/dataset/719eeeea-18fa-4e9b-8e7c-9a2be43ad0ce/resource/30c743a6-a603-4390-9483-41c44cada90c\" target=\"_other\">https://datenregister.berlin.de/dataset/719eeeea-18fa-4e9b-8e7c-9a2be43ad0ce/resource/30c743a6-a603-4390-9483-41c44cada90c</a></td>\n",
       "<td class=val><a href=\"http://publications.europa.eu/resource/authority/file-type/HTML\" target=\"_other\">http://publications.europa.eu/resource/authority/file-type/HTML</a></td></tr></table><div class=\"tinfo\">Total: 100, Shown: 20</div></div>"
      ]
     },
     "metadata": {},
     "output_type": "display_data"
    }
   ],
   "source": [
    "PREFIX dcat: <http://www.w3.org/ns/dcat#>\n",
    "PREFIX dct: <http://purl.org/dc/terms/>\n",
    "\n",
    "SELECT DISTINCT ?datasetURI ?datasetTitle ?spatial ?temporal ?distribution ?format\n",
    "WHERE {\n",
    "  ?datasetURI a dcat:Dataset;\n",
    "              dct:title ?datasetTitle.\n",
    "  OPTIONAL { ?datasetURI dct:spatial ?spatial. }\n",
    "  OPTIONAL { ?datasetURI dct:temporal ?temporal. }\n",
    "  OPTIONAL {\n",
    "    ?datasetURI dcat:distribution ?distribution.\n",
    "    ?distribution dct:format ?format.\n",
    "  }\n",
    "  FILTER((LANG(?datasetTitle) = \"\" || LANG(?datasetTitle) = \"de\") && CONTAINS(LCASE(?datasetTitle), \"wasser\"))\n",
    "}\n",
    "LIMIT 100"
   ]
  },
  {
   "cell_type": "code",
   "execution_count": null,
   "id": "d356f429",
   "metadata": {
    "vscode": {
     "languageId": "python"
    }
   },
   "outputs": [
    {
     "data": {
      "text/html": [
       "<div class=\"krn-spql\"><table><tr class=hdr><th>datasetURI</th>\n",
       "<th>datasetTitle</th>\n",
       "<th>spatial</th>\n",
       "<th>temporal</th>\n",
       "<th>distribution</th>\n",
       "<th>format</th>\n",
       "<th>distributionTitle</th></tr><tr class=odd><td class=val><a href=\"https://geoportal.sachsen.de/md/3a45fa9c-dbba-47da-91dc-1a62f79e63c8\" target=\"_other\">https://geoportal.sachsen.de/md/3a45fa9c-dbba-47da-91dc-1a62f79e63c8</a></td>\n",
       "<td class=val>Verwaltungsatlas-Staatsbetrieb Sächsisches Immobilien- und Baumanagement</td>\n",
       "<td class=val>b0</td>\n",
       "<td class=val></td>\n",
       "<td class=val><a href=\"urn:uuid:02fb5df8-91e3-f0db-3f06-bf7c1fbfdbca\" target=\"_other\">urn:uuid:02fb5df8-91e3-f0db-3f06-bf7c1fbfdbca</a></td>\n",
       "<td class=val>text/html</td>\n",
       "<td class=val>http://www.verwaltungsatlas.sachsen.de/</td></tr><tr class=even><td class=val><a href=\"https://geoportal.sachsen.de/md/3a45fa9c-dbba-47da-91dc-1a62f79e63c8\" target=\"_other\">https://geoportal.sachsen.de/md/3a45fa9c-dbba-47da-91dc-1a62f79e63c8</a></td>\n",
       "<td class=val>Verwaltungsatlas-Staatsbetrieb Sächsisches Immobilien- und Baumanagement</td>\n",
       "<td class=val>b0</td>\n",
       "<td class=val></td>\n",
       "<td class=val><a href=\"urn:uuid:3c3a2619-1109-4883-eb2a-8e02b8a0f158\" target=\"_other\">urn:uuid:3c3a2619-1109-4883-eb2a-8e02b8a0f158</a></td>\n",
       "<td class=val>application/vnd.ogc.wms_xml</td>\n",
       "<td class=val>Verwaltungsatlas-Finanzen, Bau und Immobilien</td></tr><tr class=odd><td class=val><a href=\"https://geoportal.sachsen.de/md/3a45fa9c-dbba-47da-91dc-1a62f79e63c8\" target=\"_other\">https://geoportal.sachsen.de/md/3a45fa9c-dbba-47da-91dc-1a62f79e63c8</a></td>\n",
       "<td class=val>Verwaltungsatlas-Staatsbetrieb Sächsisches Immobilien- und Baumanagement</td>\n",
       "<td class=val>b0</td>\n",
       "<td class=val></td>\n",
       "<td class=val><a href=\"urn:uuid:3c3a2619-1109-4883-eb2a-8e02b8a0f158\" target=\"_other\">urn:uuid:3c3a2619-1109-4883-eb2a-8e02b8a0f158</a></td>\n",
       "<td class=val>application/vnd.ogc.wms_xml</td>\n",
       "<td class=val>\n",
       "                  WMS Verwaltungsatlas-Finanzen, Bau und Immobilien\n",
       "               </td></tr><tr class=even><td class=val><a href=\"https://datenregister.berlin.de/dataset/cee8c73a-88a2-431b-9ed3-7b800a85e643\" target=\"_other\">https://datenregister.berlin.de/dataset/cee8c73a-88a2-431b-9ed3-7b800a85e643</a></td>\n",
       "<td class=val>Straßenbaumfällungen in Steglitz-Zehlendorf</td>\n",
       "<td class=val><a href=\"http://www.geonames.org/3336293\" target=\"_other\">http://www.geonames.org/3336293</a></td>\n",
       "<td class=val></td>\n",
       "<td class=val><a href=\"https://datenregister.berlin.de/dataset/cee8c73a-88a2-431b-9ed3-7b800a85e643/resource/11480bf5-1e73-48fa-8dda-85cb815adcf0\" target=\"_other\">https://datenregister.berlin.de/dataset/cee8c73a-88a2-431b-9ed3-7b800a85e643/resource/11480bf5-1e73-48fa-8dda-85cb815adcf0</a></td>\n",
       "<td class=val><a href=\"http://publications.europa.eu/resource/authority/file-type/CSV\" target=\"_other\">http://publications.europa.eu/resource/authority/file-type/CSV</a></td>\n",
       "<td class=val></td></tr><tr class=odd><td class=val><a href=\"https://datenregister.berlin.de/dataset/cee8c73a-88a2-431b-9ed3-7b800a85e643\" target=\"_other\">https://datenregister.berlin.de/dataset/cee8c73a-88a2-431b-9ed3-7b800a85e643</a></td>\n",
       "<td class=val>Straßenbaumfällungen in Steglitz-Zehlendorf</td>\n",
       "<td class=val><a href=\"http://www.geonames.org/3336293\" target=\"_other\">http://www.geonames.org/3336293</a></td>\n",
       "<td class=val></td>\n",
       "<td class=val><a href=\"https://datenregister.berlin.de/dataset/cee8c73a-88a2-431b-9ed3-7b800a85e643/resource/30ac674e-f685-4cce-8cf1-96ac6d3dc7ba\" target=\"_other\">https://datenregister.berlin.de/dataset/cee8c73a-88a2-431b-9ed3-7b800a85e643/resource/30ac674e-f685-4cce-8cf1-96ac6d3dc7ba</a></td>\n",
       "<td class=val><a href=\"http://publications.europa.eu/resource/authority/file-type/HTML\" target=\"_other\">http://publications.europa.eu/resource/authority/file-type/HTML</a></td>\n",
       "<td class=val></td></tr><tr class=even><td class=val><a href=\"https://datenregister.berlin.de/dataset/cee8c73a-88a2-431b-9ed3-7b800a85e643\" target=\"_other\">https://datenregister.berlin.de/dataset/cee8c73a-88a2-431b-9ed3-7b800a85e643</a></td>\n",
       "<td class=val>Straßenbaumfällungen in Steglitz-Zehlendorf</td>\n",
       "<td class=val><a href=\"http://www.geonames.org/3336293\" target=\"_other\">http://www.geonames.org/3336293</a></td>\n",
       "<td class=val></td>\n",
       "<td class=val><a href=\"https://datenregister.berlin.de/dataset/cee8c73a-88a2-431b-9ed3-7b800a85e643/resource/8e641398-be20-4a13-92a4-1beb53f653fe\" target=\"_other\">https://datenregister.berlin.de/dataset/cee8c73a-88a2-431b-9ed3-7b800a85e643/resource/8e641398-be20-4a13-92a4-1beb53f653fe</a></td>\n",
       "<td class=val><a href=\"http://publications.europa.eu/resource/authority/file-type/XML\" target=\"_other\">http://publications.europa.eu/resource/authority/file-type/XML</a></td>\n",
       "<td class=val></td></tr><tr class=odd><td class=val><a href=\"https://datenregister.berlin.de/dataset/cee8c73a-88a2-431b-9ed3-7b800a85e643\" target=\"_other\">https://datenregister.berlin.de/dataset/cee8c73a-88a2-431b-9ed3-7b800a85e643</a></td>\n",
       "<td class=val>Straßenbaumfällungen in Steglitz-Zehlendorf</td>\n",
       "<td class=val><a href=\"http://www.geonames.org/3336293\" target=\"_other\">http://www.geonames.org/3336293</a></td>\n",
       "<td class=val></td>\n",
       "<td class=val><a href=\"https://datenregister.berlin.de/dataset/cee8c73a-88a2-431b-9ed3-7b800a85e643/resource/9fbf5b2e-1440-431a-af5c-c8915c409699\" target=\"_other\">https://datenregister.berlin.de/dataset/cee8c73a-88a2-431b-9ed3-7b800a85e643/resource/9fbf5b2e-1440-431a-af5c-c8915c409699</a></td>\n",
       "<td class=val><a href=\"http://publications.europa.eu/resource/authority/file-type/XLS\" target=\"_other\">http://publications.europa.eu/resource/authority/file-type/XLS</a></td>\n",
       "<td class=val></td></tr><tr class=even><td class=val><a href=\"https://datenregister.berlin.de/dataset/cee8c73a-88a2-431b-9ed3-7b800a85e643\" target=\"_other\">https://datenregister.berlin.de/dataset/cee8c73a-88a2-431b-9ed3-7b800a85e643</a></td>\n",
       "<td class=val>Straßenbaumfällungen in Steglitz-Zehlendorf</td>\n",
       "<td class=val><a href=\"http://www.geonames.org/3336293\" target=\"_other\">http://www.geonames.org/3336293</a></td>\n",
       "<td class=val></td>\n",
       "<td class=val><a href=\"https://datenregister.berlin.de/dataset/cee8c73a-88a2-431b-9ed3-7b800a85e643/resource/bffbaa6d-99a2-448d-8631-09cd3b351825\" target=\"_other\">https://datenregister.berlin.de/dataset/cee8c73a-88a2-431b-9ed3-7b800a85e643/resource/bffbaa6d-99a2-448d-8631-09cd3b351825</a></td>\n",
       "<td class=val><a href=\"http://publications.europa.eu/resource/authority/file-type/JSON\" target=\"_other\">http://publications.europa.eu/resource/authority/file-type/JSON</a></td>\n",
       "<td class=val></td></tr><tr class=odd><td class=val><a href=\"https://datenregister.berlin.de/dataset/e6c905f8-0bf3-4577-a525-95511e1b9f47\" target=\"_other\">https://datenregister.berlin.de/dataset/e6c905f8-0bf3-4577-a525-95511e1b9f47</a></td>\n",
       "<td class=val>Suchverzeichnis - Alle Baumaßnahmen an Schulen in Steglitz-Zehlendorf</td>\n",
       "<td class=val><a href=\"http://www.geonames.org/3336293\" target=\"_other\">http://www.geonames.org/3336293</a></td>\n",
       "<td class=val></td>\n",
       "<td class=val><a href=\"https://datenregister.berlin.de/dataset/e6c905f8-0bf3-4577-a525-95511e1b9f47/resource/07adf5b5-ba6b-479f-af4f-90e488d9a97a\" target=\"_other\">https://datenregister.berlin.de/dataset/e6c905f8-0bf3-4577-a525-95511e1b9f47/resource/07adf5b5-ba6b-479f-af4f-90e488d9a97a</a></td>\n",
       "<td class=val><a href=\"http://publications.europa.eu/resource/authority/file-type/XML\" target=\"_other\">http://publications.europa.eu/resource/authority/file-type/XML</a></td>\n",
       "<td class=val></td></tr><tr class=even><td class=val><a href=\"https://datenregister.berlin.de/dataset/e6c905f8-0bf3-4577-a525-95511e1b9f47\" target=\"_other\">https://datenregister.berlin.de/dataset/e6c905f8-0bf3-4577-a525-95511e1b9f47</a></td>\n",
       "<td class=val>Suchverzeichnis - Alle Baumaßnahmen an Schulen in Steglitz-Zehlendorf</td>\n",
       "<td class=val><a href=\"http://www.geonames.org/3336293\" target=\"_other\">http://www.geonames.org/3336293</a></td>\n",
       "<td class=val></td>\n",
       "<td class=val><a href=\"https://datenregister.berlin.de/dataset/e6c905f8-0bf3-4577-a525-95511e1b9f47/resource/2f628505-2d52-4862-b390-f022d973e24d\" target=\"_other\">https://datenregister.berlin.de/dataset/e6c905f8-0bf3-4577-a525-95511e1b9f47/resource/2f628505-2d52-4862-b390-f022d973e24d</a></td>\n",
       "<td class=val><a href=\"http://publications.europa.eu/resource/authority/file-type/XLS\" target=\"_other\">http://publications.europa.eu/resource/authority/file-type/XLS</a></td>\n",
       "<td class=val></td></tr><tr class=odd><td class=val><a href=\"https://datenregister.berlin.de/dataset/e6c905f8-0bf3-4577-a525-95511e1b9f47\" target=\"_other\">https://datenregister.berlin.de/dataset/e6c905f8-0bf3-4577-a525-95511e1b9f47</a></td>\n",
       "<td class=val>Suchverzeichnis - Alle Baumaßnahmen an Schulen in Steglitz-Zehlendorf</td>\n",
       "<td class=val><a href=\"http://www.geonames.org/3336293\" target=\"_other\">http://www.geonames.org/3336293</a></td>\n",
       "<td class=val></td>\n",
       "<td class=val><a href=\"https://datenregister.berlin.de/dataset/e6c905f8-0bf3-4577-a525-95511e1b9f47/resource/74778d3c-5a21-4c97-a714-38050734b7c7\" target=\"_other\">https://datenregister.berlin.de/dataset/e6c905f8-0bf3-4577-a525-95511e1b9f47/resource/74778d3c-5a21-4c97-a714-38050734b7c7</a></td>\n",
       "<td class=val><a href=\"http://publications.europa.eu/resource/authority/file-type/HTML\" target=\"_other\">http://publications.europa.eu/resource/authority/file-type/HTML</a></td>\n",
       "<td class=val></td></tr><tr class=even><td class=val><a href=\"https://datenregister.berlin.de/dataset/e6c905f8-0bf3-4577-a525-95511e1b9f47\" target=\"_other\">https://datenregister.berlin.de/dataset/e6c905f8-0bf3-4577-a525-95511e1b9f47</a></td>\n",
       "<td class=val>Suchverzeichnis - Alle Baumaßnahmen an Schulen in Steglitz-Zehlendorf</td>\n",
       "<td class=val><a href=\"http://www.geonames.org/3336293\" target=\"_other\">http://www.geonames.org/3336293</a></td>\n",
       "<td class=val></td>\n",
       "<td class=val><a href=\"https://datenregister.berlin.de/dataset/e6c905f8-0bf3-4577-a525-95511e1b9f47/resource/cfbd6083-086b-4601-afab-3ae7f3de6ece\" target=\"_other\">https://datenregister.berlin.de/dataset/e6c905f8-0bf3-4577-a525-95511e1b9f47/resource/cfbd6083-086b-4601-afab-3ae7f3de6ece</a></td>\n",
       "<td class=val><a href=\"http://publications.europa.eu/resource/authority/file-type/CSV\" target=\"_other\">http://publications.europa.eu/resource/authority/file-type/CSV</a></td>\n",
       "<td class=val></td></tr><tr class=odd><td class=val><a href=\"https://datenregister.berlin.de/dataset/e6c905f8-0bf3-4577-a525-95511e1b9f47\" target=\"_other\">https://datenregister.berlin.de/dataset/e6c905f8-0bf3-4577-a525-95511e1b9f47</a></td>\n",
       "<td class=val>Suchverzeichnis - Alle Baumaßnahmen an Schulen in Steglitz-Zehlendorf</td>\n",
       "<td class=val><a href=\"http://www.geonames.org/3336293\" target=\"_other\">http://www.geonames.org/3336293</a></td>\n",
       "<td class=val></td>\n",
       "<td class=val><a href=\"https://datenregister.berlin.de/dataset/e6c905f8-0bf3-4577-a525-95511e1b9f47/resource/f68f5352-1421-4977-885b-d9936ce9d64c\" target=\"_other\">https://datenregister.berlin.de/dataset/e6c905f8-0bf3-4577-a525-95511e1b9f47/resource/f68f5352-1421-4977-885b-d9936ce9d64c</a></td>\n",
       "<td class=val><a href=\"http://publications.europa.eu/resource/authority/file-type/JSON\" target=\"_other\">http://publications.europa.eu/resource/authority/file-type/JSON</a></td>\n",
       "<td class=val></td></tr><tr class=even><td class=val><a href=\"https://datenregister.berlin.de/dataset/324910a8-ee97-489c-a519-8694077e0863\" target=\"_other\">https://datenregister.berlin.de/dataset/324910a8-ee97-489c-a519-8694077e0863</a></td>\n",
       "<td class=val>Straßenbaumpflanzungen in Steglitz-Zehlendorf</td>\n",
       "<td class=val><a href=\"http://www.geonames.org/3336293\" target=\"_other\">http://www.geonames.org/3336293</a></td>\n",
       "<td class=val></td>\n",
       "<td class=val><a href=\"https://datenregister.berlin.de/dataset/324910a8-ee97-489c-a519-8694077e0863/resource/08b63dce-867f-453a-ae2d-abcbd99a6407\" target=\"_other\">https://datenregister.berlin.de/dataset/324910a8-ee97-489c-a519-8694077e0863/resource/08b63dce-867f-453a-ae2d-abcbd99a6407</a></td>\n",
       "<td class=val><a href=\"http://publications.europa.eu/resource/authority/file-type/HTML\" target=\"_other\">http://publications.europa.eu/resource/authority/file-type/HTML</a></td>\n",
       "<td class=val></td></tr><tr class=odd><td class=val><a href=\"https://datenregister.berlin.de/dataset/324910a8-ee97-489c-a519-8694077e0863\" target=\"_other\">https://datenregister.berlin.de/dataset/324910a8-ee97-489c-a519-8694077e0863</a></td>\n",
       "<td class=val>Straßenbaumpflanzungen in Steglitz-Zehlendorf</td>\n",
       "<td class=val><a href=\"http://www.geonames.org/3336293\" target=\"_other\">http://www.geonames.org/3336293</a></td>\n",
       "<td class=val></td>\n",
       "<td class=val><a href=\"https://datenregister.berlin.de/dataset/324910a8-ee97-489c-a519-8694077e0863/resource/2e721358-21f3-4c98-bdc1-1bfa9baeb512\" target=\"_other\">https://datenregister.berlin.de/dataset/324910a8-ee97-489c-a519-8694077e0863/resource/2e721358-21f3-4c98-bdc1-1bfa9baeb512</a></td>\n",
       "<td class=val><a href=\"http://publications.europa.eu/resource/authority/file-type/JSON\" target=\"_other\">http://publications.europa.eu/resource/authority/file-type/JSON</a></td>\n",
       "<td class=val></td></tr><tr class=even><td class=val><a href=\"https://datenregister.berlin.de/dataset/324910a8-ee97-489c-a519-8694077e0863\" target=\"_other\">https://datenregister.berlin.de/dataset/324910a8-ee97-489c-a519-8694077e0863</a></td>\n",
       "<td class=val>Straßenbaumpflanzungen in Steglitz-Zehlendorf</td>\n",
       "<td class=val><a href=\"http://www.geonames.org/3336293\" target=\"_other\">http://www.geonames.org/3336293</a></td>\n",
       "<td class=val></td>\n",
       "<td class=val><a href=\"https://datenregister.berlin.de/dataset/324910a8-ee97-489c-a519-8694077e0863/resource/608b1e60-30d4-4447-bbac-77b8bda3f6f5\" target=\"_other\">https://datenregister.berlin.de/dataset/324910a8-ee97-489c-a519-8694077e0863/resource/608b1e60-30d4-4447-bbac-77b8bda3f6f5</a></td>\n",
       "<td class=val><a href=\"http://publications.europa.eu/resource/authority/file-type/XML\" target=\"_other\">http://publications.europa.eu/resource/authority/file-type/XML</a></td>\n",
       "<td class=val></td></tr><tr class=odd><td class=val><a href=\"https://datenregister.berlin.de/dataset/324910a8-ee97-489c-a519-8694077e0863\" target=\"_other\">https://datenregister.berlin.de/dataset/324910a8-ee97-489c-a519-8694077e0863</a></td>\n",
       "<td class=val>Straßenbaumpflanzungen in Steglitz-Zehlendorf</td>\n",
       "<td class=val><a href=\"http://www.geonames.org/3336293\" target=\"_other\">http://www.geonames.org/3336293</a></td>\n",
       "<td class=val></td>\n",
       "<td class=val><a href=\"https://datenregister.berlin.de/dataset/324910a8-ee97-489c-a519-8694077e0863/resource/70d07b47-c600-47c9-8fe9-52f7acb28ca7\" target=\"_other\">https://datenregister.berlin.de/dataset/324910a8-ee97-489c-a519-8694077e0863/resource/70d07b47-c600-47c9-8fe9-52f7acb28ca7</a></td>\n",
       "<td class=val><a href=\"http://publications.europa.eu/resource/authority/file-type/XLS\" target=\"_other\">http://publications.europa.eu/resource/authority/file-type/XLS</a></td>\n",
       "<td class=val></td></tr><tr class=even><td class=val><a href=\"https://datenregister.berlin.de/dataset/324910a8-ee97-489c-a519-8694077e0863\" target=\"_other\">https://datenregister.berlin.de/dataset/324910a8-ee97-489c-a519-8694077e0863</a></td>\n",
       "<td class=val>Straßenbaumpflanzungen in Steglitz-Zehlendorf</td>\n",
       "<td class=val><a href=\"http://www.geonames.org/3336293\" target=\"_other\">http://www.geonames.org/3336293</a></td>\n",
       "<td class=val></td>\n",
       "<td class=val><a href=\"https://datenregister.berlin.de/dataset/324910a8-ee97-489c-a519-8694077e0863/resource/8f2d81e7-2bed-4628-bcaf-b579e0cea920\" target=\"_other\">https://datenregister.berlin.de/dataset/324910a8-ee97-489c-a519-8694077e0863/resource/8f2d81e7-2bed-4628-bcaf-b579e0cea920</a></td>\n",
       "<td class=val><a href=\"http://publications.europa.eu/resource/authority/file-type/CSV\" target=\"_other\">http://publications.europa.eu/resource/authority/file-type/CSV</a></td>\n",
       "<td class=val></td></tr><tr class=odd><td class=val><a href=\"https://gdk.gdi-de.org/inspire/srv/eng/xml_iso19139?uuid=0D1549C5-FBAE-4C1A-B18C-1284F2C7424D\" target=\"_other\">https://gdk.gdi-de.org/inspire/srv/eng/xml_iso19139?uuid=0D1549C5-FBAE-4C1A-B18C-1284F2C7424D</a></td>\n",
       "<td class=val>Bebauungsplan Rotherbaum 15 Hamburg</td>\n",
       "<td class=val>b1</td>\n",
       "<td class=val>b2</td>\n",
       "<td class=val><a href=\"https://geodienste.hamburg.de/HH_WFS_xplan_dls?service=WFS&request=GetFeature&version=2.0.0&resolvedepth=*&StoredQuery_ID=urn:ogc:def:query:OGC-WFS::PlanName&planName=Rotherbaum15#distribution\" target=\"_other\">https://geodienste.hamburg.de/HH_WFS_xplan_dls?service=WFS&amp;request=GetFeature&amp;version=2.0.0&amp;resolvedepth=*&amp;StoredQuery_ID=urn:ogc:def:query:OGC-WFS::PlanName&amp;planName=Rotherbaum15#distribution</a></td>\n",
       "<td class=val><a href=\"http://publications.europa.eu/resource/authority/file-type/GML\" target=\"_other\">http://publications.europa.eu/resource/authority/file-type/GML</a></td>\n",
       "<td class=val>Download WFS Bebauungsplan (XPlanGML)</td></tr><tr class=even><td class=val><a href=\"https://gdk.gdi-de.org/inspire/srv/eng/xml_iso19139?uuid=0D1549C5-FBAE-4C1A-B18C-1284F2C7424D\" target=\"_other\">https://gdk.gdi-de.org/inspire/srv/eng/xml_iso19139?uuid=0D1549C5-FBAE-4C1A-B18C-1284F2C7424D</a></td>\n",
       "<td class=val>Bebauungsplan Rotherbaum 15 Hamburg</td>\n",
       "<td class=val>b1</td>\n",
       "<td class=val>b2</td>\n",
       "<td class=val><a href=\"https://geodienste.hamburg.de/HH_WFS_xplan_dls?service=WFS&request=GetFeature&version=2.0.0&resolvedepth=*&StoredQuery_ID=urn:ogc:def:query:OGC-WFS::PlanName&planName=Rotherbaum15#distribution\" target=\"_other\">https://geodienste.hamburg.de/HH_WFS_xplan_dls?service=WFS&amp;request=GetFeature&amp;version=2.0.0&amp;resolvedepth=*&amp;StoredQuery_ID=urn:ogc:def:query:OGC-WFS::PlanName&amp;planName=Rotherbaum15#distribution</a></td>\n",
       "<td class=val>XPlanGML</td>\n",
       "<td class=val>Download WFS Bebauungsplan (XPlanGML)</td></tr></table><div class=\"tinfo\">Total: 100, Shown: 20</div></div>"
      ]
     },
     "metadata": {},
     "output_type": "display_data"
    }
   ],
   "source": [
    "PREFIX dcat: <http://www.w3.org/ns/dcat#>\n",
    "PREFIX dct: <http://purl.org/dc/terms/>\n",
    "PREFIX rdfs: <http://www.w3.org/2000/01/rdf-schema#>\n",
    "\n",
    "SELECT DISTINCT ?datasetURI ?datasetTitle ?spatial ?temporal ?distribution ?format ?distributionTitle\n",
    "WHERE {\n",
    "  ?datasetURI a dcat:Dataset;\n",
    "              dct:title ?datasetTitle.\n",
    "  OPTIONAL { ?datasetURI dct:spatial ?spatial. }\n",
    "  OPTIONAL { ?datasetURI dct:temporal ?temporal. }\n",
    "  OPTIONAL {\n",
    "    ?datasetURI dcat:distribution ?distribution.\n",
    "    OPTIONAL { ?distribution dct:format ?format. }\n",
    "    OPTIONAL { ?distribution dct:title ?distributionTitle. }\n",
    "    OPTIONAL { ?distribution rdfs:label ?distributionLabel. }\n",
    "  }\n",
    "  FILTER((LANG(?datasetTitle) = \"\" || LANG(?datasetTitle) = \"de\") && CONTAINS(LCASE(?datasetTitle), \"baum\"))\n",
    "}\n",
    "LIMIT 100"
   ]
  },
  {
   "cell_type": "code",
   "execution_count": null,
   "id": "bc0a8de1",
   "metadata": {
    "vscode": {
     "languageId": "python"
    }
   },
   "outputs": [
    {
     "data": {
      "text/html": [
       "<div class=\"krn-spql\"><table><tr class=hdr><th>datasetURI</th>\n",
       "<th>datasetTitle</th>\n",
       "<th>publisher</th>\n",
       "<th>distribution</th>\n",
       "<th>format</th>\n",
       "<th>distributionTitle</th></tr><tr class=odd><td class=val><a href=\"https://opendata.schleswig-holstein.de/dataset/5f0aaf45-f380-49b3-87be-51abaddacbe0\" target=\"_other\">https://opendata.schleswig-holstein.de/dataset/5f0aaf45-f380-49b3-87be-51abaddacbe0</a></td>\n",
       "<td class=val>Baumkataster Norderstedt</td>\n",
       "<td class=val><a href=\"https://opendata.schleswig-holstein.de/organization/2ef5f9b0-7e24-4197-be06-3c1b2b19bc2a\" target=\"_other\">https://opendata.schleswig-holstein.de/organization/2ef5f9b0-7e24-4197-be06-3c1b2b19bc2a</a></td>\n",
       "<td class=val></td>\n",
       "<td class=val></td>\n",
       "<td class=val></td></tr><tr class=even><td class=val><a href=\"https://gdk.gdi-de.org/inspire/srv/eng/xml_iso19139?uuid=19676799-FEDB-4D1A-A89A-26FBA887B3F0\" target=\"_other\">https://gdk.gdi-de.org/inspire/srv/eng/xml_iso19139?uuid=19676799-FEDB-4D1A-A89A-26FBA887B3F0</a></td>\n",
       "<td class=val>Straßenbaumkataster Hamburger Hafen</td>\n",
       "<td class=val>b0</td>\n",
       "<td class=val><a href=\"https://daten-hamburg.de/umwelt_klima/strassenbaumkataster_hafen/Strassenbaumkataster_Hafen_HH_2017-01-06.zip#distribution\" target=\"_other\">https://daten-hamburg.de/umwelt_klima/strassenbaumkataster_hafen/Strassenbaumkataster_Hafen_HH_2017-01-06.zip#distribution</a></td>\n",
       "<td class=val><a href=\"http://publications.europa.eu/resource/authority/file-type/GML\" target=\"_other\">http://publications.europa.eu/resource/authority/file-type/GML</a></td>\n",
       "<td class=val>Download Straßenbaumkataster Hamburger Hafen, 2017-01 (GML)</td></tr><tr class=odd><td class=val><a href=\"https://gdk.gdi-de.org/inspire/srv/eng/xml_iso19139?uuid=19676799-FEDB-4D1A-A89A-26FBA887B3F0\" target=\"_other\">https://gdk.gdi-de.org/inspire/srv/eng/xml_iso19139?uuid=19676799-FEDB-4D1A-A89A-26FBA887B3F0</a></td>\n",
       "<td class=val>Straßenbaumkataster Hamburger Hafen</td>\n",
       "<td class=val>b0</td>\n",
       "<td class=val><a href=\"https://daten-hamburg.de/umwelt_klima/strassenbaumkataster_hafen/Strassenbaumkataster_Hafen_HH_2017-01-06.zip#distribution\" target=\"_other\">https://daten-hamburg.de/umwelt_klima/strassenbaumkataster_hafen/Strassenbaumkataster_Hafen_HH_2017-01-06.zip#distribution</a></td>\n",
       "<td class=val><a href=\"http://publications.europa.eu/resource/authority/file-type/MDB\" target=\"_other\">http://publications.europa.eu/resource/authority/file-type/MDB</a></td>\n",
       "<td class=val>Download Straßenbaumkataster Hamburger Hafen, 2017-01 (GML)</td></tr><tr class=even><td class=val><a href=\"https://gdk.gdi-de.org/inspire/srv/eng/xml_iso19139?uuid=19676799-FEDB-4D1A-A89A-26FBA887B3F0\" target=\"_other\">https://gdk.gdi-de.org/inspire/srv/eng/xml_iso19139?uuid=19676799-FEDB-4D1A-A89A-26FBA887B3F0</a></td>\n",
       "<td class=val>Straßenbaumkataster Hamburger Hafen</td>\n",
       "<td class=val>b0</td>\n",
       "<td class=val><a href=\"https://geodienste.hamburg.de/download?url=https://geodienste.hamburg.de/HH_WFS_Strassenbaumkataster&f=csv#distribution\" target=\"_other\">https://geodienste.hamburg.de/download?url=https://geodienste.hamburg.de/HH_WFS_Strassenbaumkataster&amp;f=csv#distribution</a></td>\n",
       "<td class=val><a href=\"http://publications.europa.eu/resource/authority/file-type/CSV\" target=\"_other\">http://publications.europa.eu/resource/authority/file-type/CSV</a></td>\n",
       "<td class=val>Download Straßenbaumkataster Hamburg (CSV)</td></tr><tr class=odd><td class=val><a href=\"https://gdk.gdi-de.org/inspire/srv/eng/xml_iso19139?uuid=19676799-FEDB-4D1A-A89A-26FBA887B3F0\" target=\"_other\">https://gdk.gdi-de.org/inspire/srv/eng/xml_iso19139?uuid=19676799-FEDB-4D1A-A89A-26FBA887B3F0</a></td>\n",
       "<td class=val>Straßenbaumkataster Hamburger Hafen</td>\n",
       "<td class=val>b0</td>\n",
       "<td class=val><a href=\"https://geodienste.hamburg.de/download?url=https://geodienste.hamburg.de/HH_WFS_Strassenbaumkataster&f=csv#distribution\" target=\"_other\">https://geodienste.hamburg.de/download?url=https://geodienste.hamburg.de/HH_WFS_Strassenbaumkataster&amp;f=csv#distribution</a></td>\n",
       "<td class=val><a href=\"http://publications.europa.eu/resource/authority/file-type/MDB\" target=\"_other\">http://publications.europa.eu/resource/authority/file-type/MDB</a></td>\n",
       "<td class=val>Download Straßenbaumkataster Hamburg (CSV)</td></tr><tr class=even><td class=val><a href=\"https://gdk.gdi-de.org/inspire/srv/eng/xml_iso19139?uuid=19676799-FEDB-4D1A-A89A-26FBA887B3F0\" target=\"_other\">https://gdk.gdi-de.org/inspire/srv/eng/xml_iso19139?uuid=19676799-FEDB-4D1A-A89A-26FBA887B3F0</a></td>\n",
       "<td class=val>Straßenbaumkataster Hamburger Hafen</td>\n",
       "<td class=val>b0</td>\n",
       "<td class=val><a href=\"https://geodienste.hamburg.de/download?url=https://geodienste.hamburg.de/HH_WFS_Strassenbaumkataster&f=json#distribution\" target=\"_other\">https://geodienste.hamburg.de/download?url=https://geodienste.hamburg.de/HH_WFS_Strassenbaumkataster&amp;f=json#distribution</a></td>\n",
       "<td class=val><a href=\"http://publications.europa.eu/resource/authority/file-type/GEOJSON\" target=\"_other\">http://publications.europa.eu/resource/authority/file-type/GEOJSON</a></td>\n",
       "<td class=val>Download Straßenbaumkataster Hamburg (GeoJSON)</td></tr><tr class=odd><td class=val><a href=\"https://gdk.gdi-de.org/inspire/srv/eng/xml_iso19139?uuid=19676799-FEDB-4D1A-A89A-26FBA887B3F0\" target=\"_other\">https://gdk.gdi-de.org/inspire/srv/eng/xml_iso19139?uuid=19676799-FEDB-4D1A-A89A-26FBA887B3F0</a></td>\n",
       "<td class=val>Straßenbaumkataster Hamburger Hafen</td>\n",
       "<td class=val>b0</td>\n",
       "<td class=val><a href=\"https://geodienste.hamburg.de/download?url=https://geodienste.hamburg.de/HH_WFS_Strassenbaumkataster&f=json#distribution\" target=\"_other\">https://geodienste.hamburg.de/download?url=https://geodienste.hamburg.de/HH_WFS_Strassenbaumkataster&amp;f=json#distribution</a></td>\n",
       "<td class=val><a href=\"http://publications.europa.eu/resource/authority/file-type/MDB\" target=\"_other\">http://publications.europa.eu/resource/authority/file-type/MDB</a></td>\n",
       "<td class=val>Download Straßenbaumkataster Hamburg (GeoJSON)</td></tr><tr class=even><td class=val><a href=\"https://offenedaten.frankfurt.de/dataset/73c5a6b3-c033-4dad-bb7d-8783427dd233\" target=\"_other\">https://offenedaten.frankfurt.de/dataset/73c5a6b3-c033-4dad-bb7d-8783427dd233</a></td>\n",
       "<td class=val>Baumkataster Frankfurt am Main</td>\n",
       "<td class=val>b1</td>\n",
       "<td class=val><a href=\"https://offenedaten.frankfurt.de/dataset/73c5a6b3-c033-4dad-bb7d-8783427dd233/resource/3b7617c7-7547-48bb-85d3-0da8731a4d22\" target=\"_other\">https://offenedaten.frankfurt.de/dataset/73c5a6b3-c033-4dad-bb7d-8783427dd233/resource/3b7617c7-7547-48bb-85d3-0da8731a4d22</a></td>\n",
       "<td class=val><a href=\"http://publications.europa.eu/resource/authority/file-type/CSV\" target=\"_other\">http://publications.europa.eu/resource/authority/file-type/CSV</a></td>\n",
       "<td class=val>Baumkataster Oktober 2021</td></tr><tr class=odd><td class=val><a href=\"https://offenedaten.frankfurt.de/dataset/73c5a6b3-c033-4dad-bb7d-8783427dd233\" target=\"_other\">https://offenedaten.frankfurt.de/dataset/73c5a6b3-c033-4dad-bb7d-8783427dd233</a></td>\n",
       "<td class=val>Baumkataster Frankfurt am Main</td>\n",
       "<td class=val>b1</td>\n",
       "<td class=val><a href=\"https://offenedaten.frankfurt.de/dataset/73c5a6b3-c033-4dad-bb7d-8783427dd233/resource/7a73520b-961a-4aad-a582-449e676c247c\" target=\"_other\">https://offenedaten.frankfurt.de/dataset/73c5a6b3-c033-4dad-bb7d-8783427dd233/resource/7a73520b-961a-4aad-a582-449e676c247c</a></td>\n",
       "<td class=val><a href=\"http://publications.europa.eu/resource/authority/file-type/CSV\" target=\"_other\">http://publications.europa.eu/resource/authority/file-type/CSV</a></td>\n",
       "<td class=val>Baumkataster September 2016</td></tr><tr class=even><td class=val><a href=\"https://offenedaten.frankfurt.de/dataset/73c5a6b3-c033-4dad-bb7d-8783427dd233\" target=\"_other\">https://offenedaten.frankfurt.de/dataset/73c5a6b3-c033-4dad-bb7d-8783427dd233</a></td>\n",
       "<td class=val>Baumkataster Frankfurt am Main</td>\n",
       "<td class=val>b1</td>\n",
       "<td class=val><a href=\"https://offenedaten.frankfurt.de/dataset/73c5a6b3-c033-4dad-bb7d-8783427dd233/resource/bf3b80d3-01b4-4868-8bde-5886c319060a\" target=\"_other\">https://offenedaten.frankfurt.de/dataset/73c5a6b3-c033-4dad-bb7d-8783427dd233/resource/bf3b80d3-01b4-4868-8bde-5886c319060a</a></td>\n",
       "<td class=val><a href=\"http://publications.europa.eu/resource/authority/file-type/CSV\" target=\"_other\">http://publications.europa.eu/resource/authority/file-type/CSV</a></td>\n",
       "<td class=val>Baumkataster Mai 2022</td></tr><tr class=odd><td class=val><a href=\"https://offenedaten.frankfurt.de/dataset/73c5a6b3-c033-4dad-bb7d-8783427dd233\" target=\"_other\">https://offenedaten.frankfurt.de/dataset/73c5a6b3-c033-4dad-bb7d-8783427dd233</a></td>\n",
       "<td class=val>Baumkataster Frankfurt am Main</td>\n",
       "<td class=val>b1</td>\n",
       "<td class=val><a href=\"https://offenedaten.frankfurt.de/dataset/73c5a6b3-c033-4dad-bb7d-8783427dd233/resource/e53aacb4-4462-4b69-ab9f-4252a402a082\" target=\"_other\">https://offenedaten.frankfurt.de/dataset/73c5a6b3-c033-4dad-bb7d-8783427dd233/resource/e53aacb4-4462-4b69-ab9f-4252a402a082</a></td>\n",
       "<td class=val><a href=\"http://publications.europa.eu/resource/authority/file-type/CSV\" target=\"_other\">http://publications.europa.eu/resource/authority/file-type/CSV</a></td>\n",
       "<td class=val>Baumkataster November 2020</td></tr><tr class=even><td class=val><a href=\"https://offenedaten.frankfurt.de/dataset/73c5a6b3-c033-4dad-bb7d-8783427dd233\" target=\"_other\">https://offenedaten.frankfurt.de/dataset/73c5a6b3-c033-4dad-bb7d-8783427dd233</a></td>\n",
       "<td class=val>Baumkataster Frankfurt am Main</td>\n",
       "<td class=val>b1</td>\n",
       "<td class=val><a href=\"https://offenedaten.frankfurt.de/dataset/73c5a6b3-c033-4dad-bb7d-8783427dd233/resource/257690bb-f40a-4e3a-93da-1310214f392f\" target=\"_other\">https://offenedaten.frankfurt.de/dataset/73c5a6b3-c033-4dad-bb7d-8783427dd233/resource/257690bb-f40a-4e3a-93da-1310214f392f</a></td>\n",
       "<td class=val><a href=\"http://publications.europa.eu/resource/authority/file-type/CSV\" target=\"_other\">http://publications.europa.eu/resource/authority/file-type/CSV</a></td>\n",
       "<td class=val>Baumkataster August 2023</td></tr><tr class=odd><td class=val><a href=\"https://opendata.schleswig-holstein.de/dataset/cfbe70e6-6078-42db-8c9b-f8745ee8916e\" target=\"_other\">https://opendata.schleswig-holstein.de/dataset/cfbe70e6-6078-42db-8c9b-f8745ee8916e</a></td>\n",
       "<td class=val>Baumkataster</td>\n",
       "<td class=val><a href=\"https://opendata.schleswig-holstein.de/organization/8dfc1059-b978-4553-81ec-a34573109517\" target=\"_other\">https://opendata.schleswig-holstein.de/organization/8dfc1059-b978-4553-81ec-a34573109517</a></td>\n",
       "<td class=val><a href=\"https://opendata.schleswig-holstein.de/dataset/cfbe70e6-6078-42db-8c9b-f8745ee8916e/resource/ab25fad6-f708-4f79-9522-c91ad2006fd6\" target=\"_other\">https://opendata.schleswig-holstein.de/dataset/cfbe70e6-6078-42db-8c9b-f8745ee8916e/resource/ab25fad6-f708-4f79-9522-c91ad2006fd6</a></td>\n",
       "<td class=val><a href=\"http://publications.europa.eu/resource/authority/file-type/SHP\" target=\"_other\">http://publications.europa.eu/resource/authority/file-type/SHP</a></td>\n",
       "<td class=val>Baumkataster_SHP.zip</td></tr><tr class=even><td class=val><a href=\"https://opendata.stadt-muenster.de/dataset/digitales-baumkataster-m%C3%BCnster\" target=\"_other\">https://opendata.stadt-muenster.de/dataset/digitales-baumkataster-m%C3%BCnster</a></td>\n",
       "<td class=val>Digitales Baumkataster Münster</td>\n",
       "<td class=val><a href=\"https://ckan.open.nrw.de/organization/74914aad-dcf1-4df9-9e70-c3319902651c\" target=\"_other\">https://ckan.open.nrw.de/organization/74914aad-dcf1-4df9-9e70-c3319902651c</a></td>\n",
       "<td class=val><a href=\"https://opendata.stadt-muenster.de/dataset/digitales-baumkataster-m%C3%BCnster/resource/096c4fc2-cfdb-4b9b-840f-da9e638e65ec\" target=\"_other\">https://opendata.stadt-muenster.de/dataset/digitales-baumkataster-m%C3%BCnster/resource/096c4fc2-cfdb-4b9b-840f-da9e638e65ec</a></td>\n",
       "<td class=val>shape</td>\n",
       "<td class=val>Digitales Baumkataster Münster - Shape</td></tr><tr class=odd><td class=val><a href=\"https://opendata.stadt-muenster.de/dataset/digitales-baumkataster-m%C3%BCnster\" target=\"_other\">https://opendata.stadt-muenster.de/dataset/digitales-baumkataster-m%C3%BCnster</a></td>\n",
       "<td class=val>Digitales Baumkataster Münster</td>\n",
       "<td class=val><a href=\"https://ckan.open.nrw.de/organization/74914aad-dcf1-4df9-9e70-c3319902651c\" target=\"_other\">https://ckan.open.nrw.de/organization/74914aad-dcf1-4df9-9e70-c3319902651c</a></td>\n",
       "<td class=val><a href=\"https://opendata.stadt-muenster.de/dataset/digitales-baumkataster-m%C3%BCnster/resource/179125e7-f57d-48a4-94bb-8da0cd38f2a6\" target=\"_other\">https://opendata.stadt-muenster.de/dataset/digitales-baumkataster-m%C3%BCnster/resource/179125e7-f57d-48a4-94bb-8da0cd38f2a6</a></td>\n",
       "<td class=val><a href=\"http://publications.europa.eu/resource/authority/file-type/GEOJSON\" target=\"_other\">http://publications.europa.eu/resource/authority/file-type/GEOJSON</a></td>\n",
       "<td class=val>Digitales Baumkataster Münster - GeoJSON</td></tr><tr class=even><td class=val><a href=\"https://opendata.stadt-muenster.de/dataset/digitales-baumkataster-m%C3%BCnster\" target=\"_other\">https://opendata.stadt-muenster.de/dataset/digitales-baumkataster-m%C3%BCnster</a></td>\n",
       "<td class=val>Digitales Baumkataster Münster</td>\n",
       "<td class=val><a href=\"https://ckan.open.nrw.de/organization/74914aad-dcf1-4df9-9e70-c3319902651c\" target=\"_other\">https://ckan.open.nrw.de/organization/74914aad-dcf1-4df9-9e70-c3319902651c</a></td>\n",
       "<td class=val><a href=\"https://opendata.stadt-muenster.de/dataset/digitales-baumkataster-m%C3%BCnster/resource/361bdc2a-6672-4392-8054-0e4466f599b3\" target=\"_other\">https://opendata.stadt-muenster.de/dataset/digitales-baumkataster-m%C3%BCnster/resource/361bdc2a-6672-4392-8054-0e4466f599b3</a></td>\n",
       "<td class=val>WMS</td>\n",
       "<td class=val>Digitales Baumkataster Münster - WMS</td></tr><tr class=odd><td class=val><a href=\"https://opendata.stadt-muenster.de/dataset/digitales-baumkataster-m%C3%BCnster\" target=\"_other\">https://opendata.stadt-muenster.de/dataset/digitales-baumkataster-m%C3%BCnster</a></td>\n",
       "<td class=val>Digitales Baumkataster Münster</td>\n",
       "<td class=val><a href=\"https://ckan.open.nrw.de/organization/74914aad-dcf1-4df9-9e70-c3319902651c\" target=\"_other\">https://ckan.open.nrw.de/organization/74914aad-dcf1-4df9-9e70-c3319902651c</a></td>\n",
       "<td class=val><a href=\"https://opendata.stadt-muenster.de/dataset/digitales-baumkataster-m%C3%BCnster/resource/53c9f6f3-ca4b-4418-b551-52d0e6b1b020\" target=\"_other\">https://opendata.stadt-muenster.de/dataset/digitales-baumkataster-m%C3%BCnster/resource/53c9f6f3-ca4b-4418-b551-52d0e6b1b020</a></td>\n",
       "<td class=val><a href=\"http://publications.europa.eu/resource/authority/file-type/CSV\" target=\"_other\">http://publications.europa.eu/resource/authority/file-type/CSV</a></td>\n",
       "<td class=val>Digitales Baumkataster Münster - CSV</td></tr><tr class=even><td class=val><a href=\"https://opendata.stadt-muenster.de/dataset/digitales-baumkataster-m%C3%BCnster\" target=\"_other\">https://opendata.stadt-muenster.de/dataset/digitales-baumkataster-m%C3%BCnster</a></td>\n",
       "<td class=val>Digitales Baumkataster Münster</td>\n",
       "<td class=val><a href=\"https://ckan.open.nrw.de/organization/74914aad-dcf1-4df9-9e70-c3319902651c\" target=\"_other\">https://ckan.open.nrw.de/organization/74914aad-dcf1-4df9-9e70-c3319902651c</a></td>\n",
       "<td class=val><a href=\"https://opendata.stadt-muenster.de/dataset/digitales-baumkataster-m%C3%BCnster/resource/9db38741-f6e1-4a14-b62e-cbe048fd1299\" target=\"_other\">https://opendata.stadt-muenster.de/dataset/digitales-baumkataster-m%C3%BCnster/resource/9db38741-f6e1-4a14-b62e-cbe048fd1299</a></td>\n",
       "<td class=val>HTML</td>\n",
       "<td class=val>Digitales Baumkataster Münster - Vorschau</td></tr><tr class=odd><td class=val><a href=\"https://opendata.stadt-muenster.de/dataset/digitales-baumkataster-m%C3%BCnster\" target=\"_other\">https://opendata.stadt-muenster.de/dataset/digitales-baumkataster-m%C3%BCnster</a></td>\n",
       "<td class=val>Digitales Baumkataster Münster</td>\n",
       "<td class=val><a href=\"https://ckan.open.nrw.de/organization/74914aad-dcf1-4df9-9e70-c3319902651c\" target=\"_other\">https://ckan.open.nrw.de/organization/74914aad-dcf1-4df9-9e70-c3319902651c</a></td>\n",
       "<td class=val><a href=\"https://opendata.stadt-muenster.de/dataset/digitales-baumkataster-m%C3%BCnster/resource/9ff886e2-782c-4058-8689-027696691e46\" target=\"_other\">https://opendata.stadt-muenster.de/dataset/digitales-baumkataster-m%C3%BCnster/resource/9ff886e2-782c-4058-8689-027696691e46</a></td>\n",
       "<td class=val><a href=\"http://publications.europa.eu/resource/authority/file-type/KML\" target=\"_other\">http://publications.europa.eu/resource/authority/file-type/KML</a></td>\n",
       "<td class=val>Digitales Baumkataster Münster - KML</td></tr><tr class=even><td class=val><a href=\"https://opendata.stadt-muenster.de/dataset/digitales-baumkataster-m%C3%BCnster\" target=\"_other\">https://opendata.stadt-muenster.de/dataset/digitales-baumkataster-m%C3%BCnster</a></td>\n",
       "<td class=val>Digitales Baumkataster Münster</td>\n",
       "<td class=val><a href=\"https://ckan.open.nrw.de/organization/74914aad-dcf1-4df9-9e70-c3319902651c\" target=\"_other\">https://ckan.open.nrw.de/organization/74914aad-dcf1-4df9-9e70-c3319902651c</a></td>\n",
       "<td class=val><a href=\"https://opendata.stadt-muenster.de/dataset/digitales-baumkataster-m%C3%BCnster/resource/d2580588-be8a-4550-a9c0-96350b2dd122\" target=\"_other\">https://opendata.stadt-muenster.de/dataset/digitales-baumkataster-m%C3%BCnster/resource/d2580588-be8a-4550-a9c0-96350b2dd122</a></td>\n",
       "<td class=val>WFS</td>\n",
       "<td class=val>Digitales Baumkataster Münster - WFS 1.1.0</td></tr></table><div class=\"tinfo\">Total: 100, Shown: 20</div></div>"
      ]
     },
     "metadata": {},
     "output_type": "display_data"
    }
   ],
   "source": [
    "PREFIX dcat: <http://www.w3.org/ns/dcat#>\n",
    "PREFIX dct: <http://purl.org/dc/terms/>\n",
    "PREFIX rdfs: <http://www.w3.org/2000/01/rdf-schema#>\n",
    "\n",
    "SELECT DISTINCT ?datasetURI ?datasetTitle ?publisher ?distribution ?format ?distributionTitle\n",
    "WHERE {\n",
    "  ?datasetURI a dcat:Dataset;\n",
    "              dct:title ?datasetTitle;\n",
    "              dct:publisher ?publisher.\n",
    "  FILTER((LANG(?datasetTitle) = \"\" || LANG(?datasetTitle) = \"de\") && CONTAINS(LCASE(?datasetTitle), \"baumkataster\"))\n",
    "\n",
    "  OPTIONAL {\n",
    "    ?datasetURI dcat:distribution ?distribution.\n",
    "    OPTIONAL { ?distribution dct:format ?format. }\n",
    "    OPTIONAL { ?distribution dct:title ?distributionTitle. }\n",
    "    OPTIONAL { ?distribution rdfs:label ?distributionLabel. }\n",
    "  }\n",
    "}\n",
    "LIMIT 100"
   ]
  },
  {
   "cell_type": "code",
   "execution_count": null,
   "id": "8843bbe7",
   "metadata": {
    "vscode": {
     "languageId": "python"
    }
   },
   "outputs": [
    {
     "data": {
      "text/html": [
       "<div class=\"krn-spql\"><table><tr class=hdr><th>datasetURI</th>\n",
       "<th>datasetTitle</th>\n",
       "<th>publisher</th>\n",
       "<th>modified</th>\n",
       "<th>distribution</th>\n",
       "<th>format</th>\n",
       "<th>distributionTitle</th></tr><tr class=odd><td class=val><a href=\"https://opendata.schleswig-holstein.de/dataset/5f0aaf45-f380-49b3-87be-51abaddacbe0\" target=\"_other\">https://opendata.schleswig-holstein.de/dataset/5f0aaf45-f380-49b3-87be-51abaddacbe0</a></td>\n",
       "<td class=val>Baumkataster Norderstedt</td>\n",
       "<td class=val><a href=\"https://opendata.schleswig-holstein.de/organization/2ef5f9b0-7e24-4197-be06-3c1b2b19bc2a\" target=\"_other\">https://opendata.schleswig-holstein.de/organization/2ef5f9b0-7e24-4197-be06-3c1b2b19bc2a</a></td>\n",
       "<td class=val>2022-04-12T07:58:22.519048</td>\n",
       "<td class=val></td>\n",
       "<td class=val></td>\n",
       "<td class=val></td></tr><tr class=even><td class=val><a href=\"https://gdk.gdi-de.org/inspire/srv/eng/xml_iso19139?uuid=19676799-FEDB-4D1A-A89A-26FBA887B3F0\" target=\"_other\">https://gdk.gdi-de.org/inspire/srv/eng/xml_iso19139?uuid=19676799-FEDB-4D1A-A89A-26FBA887B3F0</a></td>\n",
       "<td class=val>Straßenbaumkataster Hamburger Hafen</td>\n",
       "<td class=val>b0</td>\n",
       "<td class=val>2024-07-02</td>\n",
       "<td class=val><a href=\"https://daten-hamburg.de/umwelt_klima/strassenbaumkataster_hafen/Strassenbaumkataster_Hafen_HH_2017-01-06.zip#distribution\" target=\"_other\">https://daten-hamburg.de/umwelt_klima/strassenbaumkataster_hafen/Strassenbaumkataster_Hafen_HH_2017-01-06.zip#distribution</a></td>\n",
       "<td class=val><a href=\"http://publications.europa.eu/resource/authority/file-type/GML\" target=\"_other\">http://publications.europa.eu/resource/authority/file-type/GML</a></td>\n",
       "<td class=val>Download Straßenbaumkataster Hamburger Hafen, 2017-01 (GML)</td></tr><tr class=odd><td class=val><a href=\"https://gdk.gdi-de.org/inspire/srv/eng/xml_iso19139?uuid=19676799-FEDB-4D1A-A89A-26FBA887B3F0\" target=\"_other\">https://gdk.gdi-de.org/inspire/srv/eng/xml_iso19139?uuid=19676799-FEDB-4D1A-A89A-26FBA887B3F0</a></td>\n",
       "<td class=val>Straßenbaumkataster Hamburger Hafen</td>\n",
       "<td class=val>b0</td>\n",
       "<td class=val>2024-07-02</td>\n",
       "<td class=val><a href=\"https://daten-hamburg.de/umwelt_klima/strassenbaumkataster_hafen/Strassenbaumkataster_Hafen_HH_2017-01-06.zip#distribution\" target=\"_other\">https://daten-hamburg.de/umwelt_klima/strassenbaumkataster_hafen/Strassenbaumkataster_Hafen_HH_2017-01-06.zip#distribution</a></td>\n",
       "<td class=val><a href=\"http://publications.europa.eu/resource/authority/file-type/MDB\" target=\"_other\">http://publications.europa.eu/resource/authority/file-type/MDB</a></td>\n",
       "<td class=val>Download Straßenbaumkataster Hamburger Hafen, 2017-01 (GML)</td></tr><tr class=even><td class=val><a href=\"https://gdk.gdi-de.org/inspire/srv/eng/xml_iso19139?uuid=19676799-FEDB-4D1A-A89A-26FBA887B3F0\" target=\"_other\">https://gdk.gdi-de.org/inspire/srv/eng/xml_iso19139?uuid=19676799-FEDB-4D1A-A89A-26FBA887B3F0</a></td>\n",
       "<td class=val>Straßenbaumkataster Hamburger Hafen</td>\n",
       "<td class=val>b0</td>\n",
       "<td class=val>2024-07-02</td>\n",
       "<td class=val><a href=\"https://geodienste.hamburg.de/download?url=https://geodienste.hamburg.de/HH_WFS_Strassenbaumkataster&f=csv#distribution\" target=\"_other\">https://geodienste.hamburg.de/download?url=https://geodienste.hamburg.de/HH_WFS_Strassenbaumkataster&amp;f=csv#distribution</a></td>\n",
       "<td class=val><a href=\"http://publications.europa.eu/resource/authority/file-type/CSV\" target=\"_other\">http://publications.europa.eu/resource/authority/file-type/CSV</a></td>\n",
       "<td class=val>Download Straßenbaumkataster Hamburg (CSV)</td></tr><tr class=odd><td class=val><a href=\"https://gdk.gdi-de.org/inspire/srv/eng/xml_iso19139?uuid=19676799-FEDB-4D1A-A89A-26FBA887B3F0\" target=\"_other\">https://gdk.gdi-de.org/inspire/srv/eng/xml_iso19139?uuid=19676799-FEDB-4D1A-A89A-26FBA887B3F0</a></td>\n",
       "<td class=val>Straßenbaumkataster Hamburger Hafen</td>\n",
       "<td class=val>b0</td>\n",
       "<td class=val>2024-07-02</td>\n",
       "<td class=val><a href=\"https://geodienste.hamburg.de/download?url=https://geodienste.hamburg.de/HH_WFS_Strassenbaumkataster&f=csv#distribution\" target=\"_other\">https://geodienste.hamburg.de/download?url=https://geodienste.hamburg.de/HH_WFS_Strassenbaumkataster&amp;f=csv#distribution</a></td>\n",
       "<td class=val><a href=\"http://publications.europa.eu/resource/authority/file-type/MDB\" target=\"_other\">http://publications.europa.eu/resource/authority/file-type/MDB</a></td>\n",
       "<td class=val>Download Straßenbaumkataster Hamburg (CSV)</td></tr><tr class=even><td class=val><a href=\"https://gdk.gdi-de.org/inspire/srv/eng/xml_iso19139?uuid=19676799-FEDB-4D1A-A89A-26FBA887B3F0\" target=\"_other\">https://gdk.gdi-de.org/inspire/srv/eng/xml_iso19139?uuid=19676799-FEDB-4D1A-A89A-26FBA887B3F0</a></td>\n",
       "<td class=val>Straßenbaumkataster Hamburger Hafen</td>\n",
       "<td class=val>b0</td>\n",
       "<td class=val>2024-07-02</td>\n",
       "<td class=val><a href=\"https://geodienste.hamburg.de/download?url=https://geodienste.hamburg.de/HH_WFS_Strassenbaumkataster&f=json#distribution\" target=\"_other\">https://geodienste.hamburg.de/download?url=https://geodienste.hamburg.de/HH_WFS_Strassenbaumkataster&amp;f=json#distribution</a></td>\n",
       "<td class=val><a href=\"http://publications.europa.eu/resource/authority/file-type/GEOJSON\" target=\"_other\">http://publications.europa.eu/resource/authority/file-type/GEOJSON</a></td>\n",
       "<td class=val>Download Straßenbaumkataster Hamburg (GeoJSON)</td></tr><tr class=odd><td class=val><a href=\"https://gdk.gdi-de.org/inspire/srv/eng/xml_iso19139?uuid=19676799-FEDB-4D1A-A89A-26FBA887B3F0\" target=\"_other\">https://gdk.gdi-de.org/inspire/srv/eng/xml_iso19139?uuid=19676799-FEDB-4D1A-A89A-26FBA887B3F0</a></td>\n",
       "<td class=val>Straßenbaumkataster Hamburger Hafen</td>\n",
       "<td class=val>b0</td>\n",
       "<td class=val>2024-07-02</td>\n",
       "<td class=val><a href=\"https://geodienste.hamburg.de/download?url=https://geodienste.hamburg.de/HH_WFS_Strassenbaumkataster&f=json#distribution\" target=\"_other\">https://geodienste.hamburg.de/download?url=https://geodienste.hamburg.de/HH_WFS_Strassenbaumkataster&amp;f=json#distribution</a></td>\n",
       "<td class=val><a href=\"http://publications.europa.eu/resource/authority/file-type/MDB\" target=\"_other\">http://publications.europa.eu/resource/authority/file-type/MDB</a></td>\n",
       "<td class=val>Download Straßenbaumkataster Hamburg (GeoJSON)</td></tr><tr class=even><td class=val><a href=\"https://offenedaten.frankfurt.de/dataset/73c5a6b3-c033-4dad-bb7d-8783427dd233\" target=\"_other\">https://offenedaten.frankfurt.de/dataset/73c5a6b3-c033-4dad-bb7d-8783427dd233</a></td>\n",
       "<td class=val>Baumkataster Frankfurt am Main</td>\n",
       "<td class=val>b1</td>\n",
       "<td class=val>2023-08-23T05:44:14.694853</td>\n",
       "<td class=val><a href=\"https://offenedaten.frankfurt.de/dataset/73c5a6b3-c033-4dad-bb7d-8783427dd233/resource/3b7617c7-7547-48bb-85d3-0da8731a4d22\" target=\"_other\">https://offenedaten.frankfurt.de/dataset/73c5a6b3-c033-4dad-bb7d-8783427dd233/resource/3b7617c7-7547-48bb-85d3-0da8731a4d22</a></td>\n",
       "<td class=val><a href=\"http://publications.europa.eu/resource/authority/file-type/CSV\" target=\"_other\">http://publications.europa.eu/resource/authority/file-type/CSV</a></td>\n",
       "<td class=val>Baumkataster Oktober 2021</td></tr><tr class=odd><td class=val><a href=\"https://offenedaten.frankfurt.de/dataset/73c5a6b3-c033-4dad-bb7d-8783427dd233\" target=\"_other\">https://offenedaten.frankfurt.de/dataset/73c5a6b3-c033-4dad-bb7d-8783427dd233</a></td>\n",
       "<td class=val>Baumkataster Frankfurt am Main</td>\n",
       "<td class=val>b1</td>\n",
       "<td class=val>2023-08-23T05:44:14.694853</td>\n",
       "<td class=val><a href=\"https://offenedaten.frankfurt.de/dataset/73c5a6b3-c033-4dad-bb7d-8783427dd233/resource/7a73520b-961a-4aad-a582-449e676c247c\" target=\"_other\">https://offenedaten.frankfurt.de/dataset/73c5a6b3-c033-4dad-bb7d-8783427dd233/resource/7a73520b-961a-4aad-a582-449e676c247c</a></td>\n",
       "<td class=val><a href=\"http://publications.europa.eu/resource/authority/file-type/CSV\" target=\"_other\">http://publications.europa.eu/resource/authority/file-type/CSV</a></td>\n",
       "<td class=val>Baumkataster September 2016</td></tr><tr class=even><td class=val><a href=\"https://offenedaten.frankfurt.de/dataset/73c5a6b3-c033-4dad-bb7d-8783427dd233\" target=\"_other\">https://offenedaten.frankfurt.de/dataset/73c5a6b3-c033-4dad-bb7d-8783427dd233</a></td>\n",
       "<td class=val>Baumkataster Frankfurt am Main</td>\n",
       "<td class=val>b1</td>\n",
       "<td class=val>2023-08-23T05:44:14.694853</td>\n",
       "<td class=val><a href=\"https://offenedaten.frankfurt.de/dataset/73c5a6b3-c033-4dad-bb7d-8783427dd233/resource/bf3b80d3-01b4-4868-8bde-5886c319060a\" target=\"_other\">https://offenedaten.frankfurt.de/dataset/73c5a6b3-c033-4dad-bb7d-8783427dd233/resource/bf3b80d3-01b4-4868-8bde-5886c319060a</a></td>\n",
       "<td class=val><a href=\"http://publications.europa.eu/resource/authority/file-type/CSV\" target=\"_other\">http://publications.europa.eu/resource/authority/file-type/CSV</a></td>\n",
       "<td class=val>Baumkataster Mai 2022</td></tr><tr class=odd><td class=val><a href=\"https://offenedaten.frankfurt.de/dataset/73c5a6b3-c033-4dad-bb7d-8783427dd233\" target=\"_other\">https://offenedaten.frankfurt.de/dataset/73c5a6b3-c033-4dad-bb7d-8783427dd233</a></td>\n",
       "<td class=val>Baumkataster Frankfurt am Main</td>\n",
       "<td class=val>b1</td>\n",
       "<td class=val>2023-08-23T05:44:14.694853</td>\n",
       "<td class=val><a href=\"https://offenedaten.frankfurt.de/dataset/73c5a6b3-c033-4dad-bb7d-8783427dd233/resource/e53aacb4-4462-4b69-ab9f-4252a402a082\" target=\"_other\">https://offenedaten.frankfurt.de/dataset/73c5a6b3-c033-4dad-bb7d-8783427dd233/resource/e53aacb4-4462-4b69-ab9f-4252a402a082</a></td>\n",
       "<td class=val><a href=\"http://publications.europa.eu/resource/authority/file-type/CSV\" target=\"_other\">http://publications.europa.eu/resource/authority/file-type/CSV</a></td>\n",
       "<td class=val>Baumkataster November 2020</td></tr><tr class=even><td class=val><a href=\"https://offenedaten.frankfurt.de/dataset/73c5a6b3-c033-4dad-bb7d-8783427dd233\" target=\"_other\">https://offenedaten.frankfurt.de/dataset/73c5a6b3-c033-4dad-bb7d-8783427dd233</a></td>\n",
       "<td class=val>Baumkataster Frankfurt am Main</td>\n",
       "<td class=val>b1</td>\n",
       "<td class=val>2023-08-23T05:44:14.694853</td>\n",
       "<td class=val><a href=\"https://offenedaten.frankfurt.de/dataset/73c5a6b3-c033-4dad-bb7d-8783427dd233/resource/257690bb-f40a-4e3a-93da-1310214f392f\" target=\"_other\">https://offenedaten.frankfurt.de/dataset/73c5a6b3-c033-4dad-bb7d-8783427dd233/resource/257690bb-f40a-4e3a-93da-1310214f392f</a></td>\n",
       "<td class=val><a href=\"http://publications.europa.eu/resource/authority/file-type/CSV\" target=\"_other\">http://publications.europa.eu/resource/authority/file-type/CSV</a></td>\n",
       "<td class=val>Baumkataster August 2023</td></tr><tr class=odd><td class=val><a href=\"https://opendata.schleswig-holstein.de/dataset/cfbe70e6-6078-42db-8c9b-f8745ee8916e\" target=\"_other\">https://opendata.schleswig-holstein.de/dataset/cfbe70e6-6078-42db-8c9b-f8745ee8916e</a></td>\n",
       "<td class=val>Baumkataster</td>\n",
       "<td class=val><a href=\"https://opendata.schleswig-holstein.de/organization/8dfc1059-b978-4553-81ec-a34573109517\" target=\"_other\">https://opendata.schleswig-holstein.de/organization/8dfc1059-b978-4553-81ec-a34573109517</a></td>\n",
       "<td class=val>2023-06-09T05:25:52.631385</td>\n",
       "<td class=val><a href=\"https://opendata.schleswig-holstein.de/dataset/cfbe70e6-6078-42db-8c9b-f8745ee8916e/resource/ab25fad6-f708-4f79-9522-c91ad2006fd6\" target=\"_other\">https://opendata.schleswig-holstein.de/dataset/cfbe70e6-6078-42db-8c9b-f8745ee8916e/resource/ab25fad6-f708-4f79-9522-c91ad2006fd6</a></td>\n",
       "<td class=val><a href=\"http://publications.europa.eu/resource/authority/file-type/SHP\" target=\"_other\">http://publications.europa.eu/resource/authority/file-type/SHP</a></td>\n",
       "<td class=val>Baumkataster_SHP.zip</td></tr><tr class=even><td class=val><a href=\"https://opendata.stadt-muenster.de/dataset/digitales-baumkataster-m%C3%BCnster\" target=\"_other\">https://opendata.stadt-muenster.de/dataset/digitales-baumkataster-m%C3%BCnster</a></td>\n",
       "<td class=val>Digitales Baumkataster Münster</td>\n",
       "<td class=val><a href=\"https://ckan.open.nrw.de/organization/74914aad-dcf1-4df9-9e70-c3319902651c\" target=\"_other\">https://ckan.open.nrw.de/organization/74914aad-dcf1-4df9-9e70-c3319902651c</a></td>\n",
       "<td class=val>2023-01-24T13:05:20+01:00</td>\n",
       "<td class=val><a href=\"https://opendata.stadt-muenster.de/dataset/digitales-baumkataster-m%C3%BCnster/resource/096c4fc2-cfdb-4b9b-840f-da9e638e65ec\" target=\"_other\">https://opendata.stadt-muenster.de/dataset/digitales-baumkataster-m%C3%BCnster/resource/096c4fc2-cfdb-4b9b-840f-da9e638e65ec</a></td>\n",
       "<td class=val>shape</td>\n",
       "<td class=val>Digitales Baumkataster Münster - Shape</td></tr><tr class=odd><td class=val><a href=\"https://opendata.stadt-muenster.de/dataset/digitales-baumkataster-m%C3%BCnster\" target=\"_other\">https://opendata.stadt-muenster.de/dataset/digitales-baumkataster-m%C3%BCnster</a></td>\n",
       "<td class=val>Digitales Baumkataster Münster</td>\n",
       "<td class=val><a href=\"https://ckan.open.nrw.de/organization/74914aad-dcf1-4df9-9e70-c3319902651c\" target=\"_other\">https://ckan.open.nrw.de/organization/74914aad-dcf1-4df9-9e70-c3319902651c</a></td>\n",
       "<td class=val>2023-01-24T13:05:20+01:00</td>\n",
       "<td class=val><a href=\"https://opendata.stadt-muenster.de/dataset/digitales-baumkataster-m%C3%BCnster/resource/179125e7-f57d-48a4-94bb-8da0cd38f2a6\" target=\"_other\">https://opendata.stadt-muenster.de/dataset/digitales-baumkataster-m%C3%BCnster/resource/179125e7-f57d-48a4-94bb-8da0cd38f2a6</a></td>\n",
       "<td class=val><a href=\"http://publications.europa.eu/resource/authority/file-type/GEOJSON\" target=\"_other\">http://publications.europa.eu/resource/authority/file-type/GEOJSON</a></td>\n",
       "<td class=val>Digitales Baumkataster Münster - GeoJSON</td></tr><tr class=even><td class=val><a href=\"https://opendata.stadt-muenster.de/dataset/digitales-baumkataster-m%C3%BCnster\" target=\"_other\">https://opendata.stadt-muenster.de/dataset/digitales-baumkataster-m%C3%BCnster</a></td>\n",
       "<td class=val>Digitales Baumkataster Münster</td>\n",
       "<td class=val><a href=\"https://ckan.open.nrw.de/organization/74914aad-dcf1-4df9-9e70-c3319902651c\" target=\"_other\">https://ckan.open.nrw.de/organization/74914aad-dcf1-4df9-9e70-c3319902651c</a></td>\n",
       "<td class=val>2023-01-24T13:05:20+01:00</td>\n",
       "<td class=val><a href=\"https://opendata.stadt-muenster.de/dataset/digitales-baumkataster-m%C3%BCnster/resource/361bdc2a-6672-4392-8054-0e4466f599b3\" target=\"_other\">https://opendata.stadt-muenster.de/dataset/digitales-baumkataster-m%C3%BCnster/resource/361bdc2a-6672-4392-8054-0e4466f599b3</a></td>\n",
       "<td class=val>WMS</td>\n",
       "<td class=val>Digitales Baumkataster Münster - WMS</td></tr><tr class=odd><td class=val><a href=\"https://opendata.stadt-muenster.de/dataset/digitales-baumkataster-m%C3%BCnster\" target=\"_other\">https://opendata.stadt-muenster.de/dataset/digitales-baumkataster-m%C3%BCnster</a></td>\n",
       "<td class=val>Digitales Baumkataster Münster</td>\n",
       "<td class=val><a href=\"https://ckan.open.nrw.de/organization/74914aad-dcf1-4df9-9e70-c3319902651c\" target=\"_other\">https://ckan.open.nrw.de/organization/74914aad-dcf1-4df9-9e70-c3319902651c</a></td>\n",
       "<td class=val>2023-01-24T13:05:20+01:00</td>\n",
       "<td class=val><a href=\"https://opendata.stadt-muenster.de/dataset/digitales-baumkataster-m%C3%BCnster/resource/53c9f6f3-ca4b-4418-b551-52d0e6b1b020\" target=\"_other\">https://opendata.stadt-muenster.de/dataset/digitales-baumkataster-m%C3%BCnster/resource/53c9f6f3-ca4b-4418-b551-52d0e6b1b020</a></td>\n",
       "<td class=val><a href=\"http://publications.europa.eu/resource/authority/file-type/CSV\" target=\"_other\">http://publications.europa.eu/resource/authority/file-type/CSV</a></td>\n",
       "<td class=val>Digitales Baumkataster Münster - CSV</td></tr><tr class=even><td class=val><a href=\"https://opendata.stadt-muenster.de/dataset/digitales-baumkataster-m%C3%BCnster\" target=\"_other\">https://opendata.stadt-muenster.de/dataset/digitales-baumkataster-m%C3%BCnster</a></td>\n",
       "<td class=val>Digitales Baumkataster Münster</td>\n",
       "<td class=val><a href=\"https://ckan.open.nrw.de/organization/74914aad-dcf1-4df9-9e70-c3319902651c\" target=\"_other\">https://ckan.open.nrw.de/organization/74914aad-dcf1-4df9-9e70-c3319902651c</a></td>\n",
       "<td class=val>2023-01-24T13:05:20+01:00</td>\n",
       "<td class=val><a href=\"https://opendata.stadt-muenster.de/dataset/digitales-baumkataster-m%C3%BCnster/resource/9db38741-f6e1-4a14-b62e-cbe048fd1299\" target=\"_other\">https://opendata.stadt-muenster.de/dataset/digitales-baumkataster-m%C3%BCnster/resource/9db38741-f6e1-4a14-b62e-cbe048fd1299</a></td>\n",
       "<td class=val>HTML</td>\n",
       "<td class=val>Digitales Baumkataster Münster - Vorschau</td></tr><tr class=odd><td class=val><a href=\"https://opendata.stadt-muenster.de/dataset/digitales-baumkataster-m%C3%BCnster\" target=\"_other\">https://opendata.stadt-muenster.de/dataset/digitales-baumkataster-m%C3%BCnster</a></td>\n",
       "<td class=val>Digitales Baumkataster Münster</td>\n",
       "<td class=val><a href=\"https://ckan.open.nrw.de/organization/74914aad-dcf1-4df9-9e70-c3319902651c\" target=\"_other\">https://ckan.open.nrw.de/organization/74914aad-dcf1-4df9-9e70-c3319902651c</a></td>\n",
       "<td class=val>2023-01-24T13:05:20+01:00</td>\n",
       "<td class=val><a href=\"https://opendata.stadt-muenster.de/dataset/digitales-baumkataster-m%C3%BCnster/resource/9ff886e2-782c-4058-8689-027696691e46\" target=\"_other\">https://opendata.stadt-muenster.de/dataset/digitales-baumkataster-m%C3%BCnster/resource/9ff886e2-782c-4058-8689-027696691e46</a></td>\n",
       "<td class=val><a href=\"http://publications.europa.eu/resource/authority/file-type/KML\" target=\"_other\">http://publications.europa.eu/resource/authority/file-type/KML</a></td>\n",
       "<td class=val>Digitales Baumkataster Münster - KML</td></tr><tr class=even><td class=val><a href=\"https://opendata.stadt-muenster.de/dataset/digitales-baumkataster-m%C3%BCnster\" target=\"_other\">https://opendata.stadt-muenster.de/dataset/digitales-baumkataster-m%C3%BCnster</a></td>\n",
       "<td class=val>Digitales Baumkataster Münster</td>\n",
       "<td class=val><a href=\"https://ckan.open.nrw.de/organization/74914aad-dcf1-4df9-9e70-c3319902651c\" target=\"_other\">https://ckan.open.nrw.de/organization/74914aad-dcf1-4df9-9e70-c3319902651c</a></td>\n",
       "<td class=val>2023-01-24T13:05:20+01:00</td>\n",
       "<td class=val><a href=\"https://opendata.stadt-muenster.de/dataset/digitales-baumkataster-m%C3%BCnster/resource/d2580588-be8a-4550-a9c0-96350b2dd122\" target=\"_other\">https://opendata.stadt-muenster.de/dataset/digitales-baumkataster-m%C3%BCnster/resource/d2580588-be8a-4550-a9c0-96350b2dd122</a></td>\n",
       "<td class=val>WFS</td>\n",
       "<td class=val>Digitales Baumkataster Münster - WFS 1.1.0</td></tr></table><div class=\"tinfo\">Total: 100, Shown: 20</div></div>"
      ]
     },
     "metadata": {},
     "output_type": "display_data"
    }
   ],
   "source": [
    "PREFIX dcat: <http://www.w3.org/ns/dcat#>\n",
    "PREFIX dct: <http://purl.org/dc/terms/>\n",
    "PREFIX rdfs: <http://www.w3.org/2000/01/rdf-schema#>\n",
    "\n",
    "SELECT DISTINCT ?datasetURI ?datasetTitle ?publisher ?modified ?distribution ?format ?distributionTitle\n",
    "WHERE {\n",
    "  ?datasetURI a dcat:Dataset;\n",
    "              dct:title ?datasetTitle;\n",
    "              dct:publisher ?publisher;\n",
    "              dct:modified ?modified.\n",
    "  FILTER((LANG(?datasetTitle) = \"\" || LANG(?datasetTitle) = \"de\") && CONTAINS(LCASE(?datasetTitle), \"baumkataster\"))\n",
    "\n",
    "  OPTIONAL {\n",
    "    ?datasetURI dcat:distribution ?distribution.\n",
    "    OPTIONAL { ?distribution dct:format ?format. }\n",
    "    OPTIONAL { ?distribution dct:title ?distributionTitle. }\n",
    "    OPTIONAL { ?distribution rdfs:label ?distributionLabel. }\n",
    "  }\n",
    "}\n",
    "LIMIT 100"
   ]
  },
  {
   "cell_type": "code",
   "execution_count": null,
   "id": "7c2a07f9",
   "metadata": {
    "vscode": {
     "languageId": "python"
    }
   },
   "outputs": [
    {
     "data": {
      "text/html": [
       "<div class=\"krn-spql\"><table><tr class=hdr><th>datasetURI</th>\n",
       "<th>datasetTitle</th>\n",
       "<th>publisher</th>\n",
       "<th>modified</th>\n",
       "<th>distribution</th>\n",
       "<th>format</th>\n",
       "<th>distributionTitle</th></tr><tr class=odd><td class=val><a href=\"https://open.bydata.de/api/hub/repo/datasets/baumkataster-haar\" target=\"_other\">https://open.bydata.de/api/hub/repo/datasets/baumkataster-haar</a></td>\n",
       "<td class=val>Baumkataster der Gemeinde Haar</td>\n",
       "<td class=val>b0</td>\n",
       "<td class=val>2024-03-06T08:27:55.945363</td>\n",
       "<td class=val><a href=\"https://open.bydata.de/api/hub/repo/distributions/793ba01f-c8a6-4c30-a520-797338734ab1\" target=\"_other\">https://open.bydata.de/api/hub/repo/distributions/793ba01f-c8a6-4c30-a520-797338734ab1</a></td>\n",
       "<td class=val><a href=\"http://publications.europa.eu/resource/authority/file-type/Link\" target=\"_other\">http://publications.europa.eu/resource/authority/file-type/Link</a></td>\n",
       "<td class=val>Baumkataster Gemeinde Haar (Format: shp)</td></tr><tr class=even><td class=val><a href=\"https://open.bydata.de/api/hub/repo/datasets/baumkataster-haar\" target=\"_other\">https://open.bydata.de/api/hub/repo/datasets/baumkataster-haar</a></td>\n",
       "<td class=val>Baumkataster der Gemeinde Haar</td>\n",
       "<td class=val>b0</td>\n",
       "<td class=val>2024-03-06T08:27:55.945363</td>\n",
       "<td class=val><a href=\"https://open.bydata.de/api/hub/repo/distributions/e0243a7b-9fb5-4d29-9de9-d56be9b73630\" target=\"_other\">https://open.bydata.de/api/hub/repo/distributions/e0243a7b-9fb5-4d29-9de9-d56be9b73630</a></td>\n",
       "<td class=val><a href=\"http://publications.europa.eu/resource/authority/file-type/Link\" target=\"_other\">http://publications.europa.eu/resource/authority/file-type/Link</a></td>\n",
       "<td class=val>Baumkataster Gemeinde Haar (Format: xlsx)</td></tr><tr class=odd><td class=val><a href=\"https://open.bydata.de/api/hub/repo/datasets/baumkataster-haar\" target=\"_other\">https://open.bydata.de/api/hub/repo/datasets/baumkataster-haar</a></td>\n",
       "<td class=val>Baumkataster der Gemeinde Haar</td>\n",
       "<td class=val>b0</td>\n",
       "<td class=val>2024-03-06T08:27:55.945363</td>\n",
       "<td class=val><a href=\"https://open.bydata.de/api/hub/repo/distributions/e19ee86b-d2df-4f65-864a-15478237fffd\" target=\"_other\">https://open.bydata.de/api/hub/repo/distributions/e19ee86b-d2df-4f65-864a-15478237fffd</a></td>\n",
       "<td class=val><a href=\"http://publications.europa.eu/resource/authority/file-type/Link\" target=\"_other\">http://publications.europa.eu/resource/authority/file-type/Link</a></td>\n",
       "<td class=val>Baumkataster Gemeinde Haar (Format: csv)</td></tr><tr class=even><td class=val><a href=\"https://open.bydata.de/api/hub/repo/datasets/baumkataster-der-stadt-erlangen\" target=\"_other\">https://open.bydata.de/api/hub/repo/datasets/baumkataster-der-stadt-erlangen</a></td>\n",
       "<td class=val>Baumkataster der Stadt Erlangen</td>\n",
       "<td class=val>b1</td>\n",
       "<td class=val>2024-04-11T05:39:58.589234</td>\n",
       "<td class=val><a href=\"https://open.bydata.de/api/hub/repo/distributions/90ff99b5-4180-41ff-800f-11bf3bf718c0\" target=\"_other\">https://open.bydata.de/api/hub/repo/distributions/90ff99b5-4180-41ff-800f-11bf3bf718c0</a></td>\n",
       "<td class=val><a href=\"http://publications.europa.eu/resource/authority/file-type/GeoJSON\" target=\"_other\">http://publications.europa.eu/resource/authority/file-type/GeoJSON</a></td>\n",
       "<td class=val>baumkataster_2024-04-10.geojson</td></tr></table><div class=\"tinfo\">Total: 4, Shown: 4</div></div>"
      ]
     },
     "metadata": {},
     "output_type": "display_data"
    }
   ],
   "source": [
    "PREFIX dcat: <http://www.w3.org/ns/dcat#>\n",
    "PREFIX dct: <http://purl.org/dc/terms/>\n",
    "PREFIX rdfs: <http://www.w3.org/2000/01/rdf-schema#>\n",
    "\n",
    "SELECT DISTINCT ?datasetURI ?datasetTitle ?publisher ?modified ?distribution ?format ?distributionTitle\n",
    "WHERE {\n",
    "  ?datasetURI a dcat:Dataset;\n",
    "              dct:title ?datasetTitle;\n",
    "              dct:publisher ?publisher;\n",
    "              dct:modified ?modified.\n",
    "  FILTER((LANG(?datasetTitle) = \"\" || LANG(?datasetTitle) = \"de\") && CONTAINS(LCASE(?datasetTitle), \"baumkataster\"))\n",
    "  FILTER(CONTAINS(?modified, \"2020\") || CONTAINS(?modified, \"2021\") || CONTAINS(?modified, \"2022\") || CONTAINS(?modified, \"2023\") || CONTAINS(?modified, \"2024\"))\n",
    "\n",
    "  OPTIONAL {\n",
    "    ?datasetURI dcat:distribution ?distribution.\n",
    "    OPTIONAL { ?distribution dct:format ?format. }\n",
    "    OPTIONAL { ?distribution dct:title ?distributionTitle. }\n",
    "    OPTIONAL { ?distribution rdfs:label ?distributionLabel. }\n",
    "  }\n",
    "}\n",
    "LIMIT 100"
   ]
  },
  {
   "cell_type": "code",
   "execution_count": null,
   "id": "553d8fbb",
   "metadata": {
    "vscode": {
     "languageId": "python"
    }
   },
   "outputs": [
    {
     "data": {
      "text/html": [
       "<div class=\"krn-spql\"><table><tr class=hdr><th>datasetURI</th>\n",
       "<th>datasetTitle</th>\n",
       "<th>publisher</th>\n",
       "<th>modified</th>\n",
       "<th>distribution</th>\n",
       "<th>format</th>\n",
       "<th>distributionTitle</th></tr><tr class=odd><td class=val><a href=\"https://opendata.schleswig-holstein.de/dataset/5f0aaf45-f380-49b3-87be-51abaddacbe0\" target=\"_other\">https://opendata.schleswig-holstein.de/dataset/5f0aaf45-f380-49b3-87be-51abaddacbe0</a></td>\n",
       "<td class=val>Baumkataster Norderstedt</td>\n",
       "<td class=val><a href=\"https://opendata.schleswig-holstein.de/organization/2ef5f9b0-7e24-4197-be06-3c1b2b19bc2a\" target=\"_other\">https://opendata.schleswig-holstein.de/organization/2ef5f9b0-7e24-4197-be06-3c1b2b19bc2a</a></td>\n",
       "<td class=val>2022-04-12T07:58:22.519048</td>\n",
       "<td class=val></td>\n",
       "<td class=val></td>\n",
       "<td class=val></td></tr><tr class=even><td class=val><a href=\"https://gdk.gdi-de.org/inspire/srv/eng/xml_iso19139?uuid=19676799-FEDB-4D1A-A89A-26FBA887B3F0\" target=\"_other\">https://gdk.gdi-de.org/inspire/srv/eng/xml_iso19139?uuid=19676799-FEDB-4D1A-A89A-26FBA887B3F0</a></td>\n",
       "<td class=val>Straßenbaumkataster Hamburger Hafen</td>\n",
       "<td class=val>b0</td>\n",
       "<td class=val>2024-07-02</td>\n",
       "<td class=val><a href=\"https://daten-hamburg.de/umwelt_klima/strassenbaumkataster_hafen/Strassenbaumkataster_Hafen_HH_2017-01-06.zip#distribution\" target=\"_other\">https://daten-hamburg.de/umwelt_klima/strassenbaumkataster_hafen/Strassenbaumkataster_Hafen_HH_2017-01-06.zip#distribution</a></td>\n",
       "<td class=val><a href=\"http://publications.europa.eu/resource/authority/file-type/GML\" target=\"_other\">http://publications.europa.eu/resource/authority/file-type/GML</a></td>\n",
       "<td class=val>Download Straßenbaumkataster Hamburger Hafen, 2017-01 (GML)</td></tr><tr class=odd><td class=val><a href=\"https://gdk.gdi-de.org/inspire/srv/eng/xml_iso19139?uuid=19676799-FEDB-4D1A-A89A-26FBA887B3F0\" target=\"_other\">https://gdk.gdi-de.org/inspire/srv/eng/xml_iso19139?uuid=19676799-FEDB-4D1A-A89A-26FBA887B3F0</a></td>\n",
       "<td class=val>Straßenbaumkataster Hamburger Hafen</td>\n",
       "<td class=val>b0</td>\n",
       "<td class=val>2024-07-02</td>\n",
       "<td class=val><a href=\"https://daten-hamburg.de/umwelt_klima/strassenbaumkataster_hafen/Strassenbaumkataster_Hafen_HH_2017-01-06.zip#distribution\" target=\"_other\">https://daten-hamburg.de/umwelt_klima/strassenbaumkataster_hafen/Strassenbaumkataster_Hafen_HH_2017-01-06.zip#distribution</a></td>\n",
       "<td class=val><a href=\"http://publications.europa.eu/resource/authority/file-type/MDB\" target=\"_other\">http://publications.europa.eu/resource/authority/file-type/MDB</a></td>\n",
       "<td class=val>Download Straßenbaumkataster Hamburger Hafen, 2017-01 (GML)</td></tr><tr class=even><td class=val><a href=\"https://gdk.gdi-de.org/inspire/srv/eng/xml_iso19139?uuid=19676799-FEDB-4D1A-A89A-26FBA887B3F0\" target=\"_other\">https://gdk.gdi-de.org/inspire/srv/eng/xml_iso19139?uuid=19676799-FEDB-4D1A-A89A-26FBA887B3F0</a></td>\n",
       "<td class=val>Straßenbaumkataster Hamburger Hafen</td>\n",
       "<td class=val>b0</td>\n",
       "<td class=val>2024-07-02</td>\n",
       "<td class=val><a href=\"https://geodienste.hamburg.de/download?url=https://geodienste.hamburg.de/HH_WFS_Strassenbaumkataster&f=csv#distribution\" target=\"_other\">https://geodienste.hamburg.de/download?url=https://geodienste.hamburg.de/HH_WFS_Strassenbaumkataster&amp;f=csv#distribution</a></td>\n",
       "<td class=val><a href=\"http://publications.europa.eu/resource/authority/file-type/CSV\" target=\"_other\">http://publications.europa.eu/resource/authority/file-type/CSV</a></td>\n",
       "<td class=val>Download Straßenbaumkataster Hamburg (CSV)</td></tr><tr class=odd><td class=val><a href=\"https://gdk.gdi-de.org/inspire/srv/eng/xml_iso19139?uuid=19676799-FEDB-4D1A-A89A-26FBA887B3F0\" target=\"_other\">https://gdk.gdi-de.org/inspire/srv/eng/xml_iso19139?uuid=19676799-FEDB-4D1A-A89A-26FBA887B3F0</a></td>\n",
       "<td class=val>Straßenbaumkataster Hamburger Hafen</td>\n",
       "<td class=val>b0</td>\n",
       "<td class=val>2024-07-02</td>\n",
       "<td class=val><a href=\"https://geodienste.hamburg.de/download?url=https://geodienste.hamburg.de/HH_WFS_Strassenbaumkataster&f=csv#distribution\" target=\"_other\">https://geodienste.hamburg.de/download?url=https://geodienste.hamburg.de/HH_WFS_Strassenbaumkataster&amp;f=csv#distribution</a></td>\n",
       "<td class=val><a href=\"http://publications.europa.eu/resource/authority/file-type/MDB\" target=\"_other\">http://publications.europa.eu/resource/authority/file-type/MDB</a></td>\n",
       "<td class=val>Download Straßenbaumkataster Hamburg (CSV)</td></tr><tr class=even><td class=val><a href=\"https://gdk.gdi-de.org/inspire/srv/eng/xml_iso19139?uuid=19676799-FEDB-4D1A-A89A-26FBA887B3F0\" target=\"_other\">https://gdk.gdi-de.org/inspire/srv/eng/xml_iso19139?uuid=19676799-FEDB-4D1A-A89A-26FBA887B3F0</a></td>\n",
       "<td class=val>Straßenbaumkataster Hamburger Hafen</td>\n",
       "<td class=val>b0</td>\n",
       "<td class=val>2024-07-02</td>\n",
       "<td class=val><a href=\"https://geodienste.hamburg.de/download?url=https://geodienste.hamburg.de/HH_WFS_Strassenbaumkataster&f=json#distribution\" target=\"_other\">https://geodienste.hamburg.de/download?url=https://geodienste.hamburg.de/HH_WFS_Strassenbaumkataster&amp;f=json#distribution</a></td>\n",
       "<td class=val><a href=\"http://publications.europa.eu/resource/authority/file-type/GEOJSON\" target=\"_other\">http://publications.europa.eu/resource/authority/file-type/GEOJSON</a></td>\n",
       "<td class=val>Download Straßenbaumkataster Hamburg (GeoJSON)</td></tr><tr class=odd><td class=val><a href=\"https://gdk.gdi-de.org/inspire/srv/eng/xml_iso19139?uuid=19676799-FEDB-4D1A-A89A-26FBA887B3F0\" target=\"_other\">https://gdk.gdi-de.org/inspire/srv/eng/xml_iso19139?uuid=19676799-FEDB-4D1A-A89A-26FBA887B3F0</a></td>\n",
       "<td class=val>Straßenbaumkataster Hamburger Hafen</td>\n",
       "<td class=val>b0</td>\n",
       "<td class=val>2024-07-02</td>\n",
       "<td class=val><a href=\"https://geodienste.hamburg.de/download?url=https://geodienste.hamburg.de/HH_WFS_Strassenbaumkataster&f=json#distribution\" target=\"_other\">https://geodienste.hamburg.de/download?url=https://geodienste.hamburg.de/HH_WFS_Strassenbaumkataster&amp;f=json#distribution</a></td>\n",
       "<td class=val><a href=\"http://publications.europa.eu/resource/authority/file-type/MDB\" target=\"_other\">http://publications.europa.eu/resource/authority/file-type/MDB</a></td>\n",
       "<td class=val>Download Straßenbaumkataster Hamburg (GeoJSON)</td></tr><tr class=even><td class=val><a href=\"https://offenedaten.frankfurt.de/dataset/73c5a6b3-c033-4dad-bb7d-8783427dd233\" target=\"_other\">https://offenedaten.frankfurt.de/dataset/73c5a6b3-c033-4dad-bb7d-8783427dd233</a></td>\n",
       "<td class=val>Baumkataster Frankfurt am Main</td>\n",
       "<td class=val>b1</td>\n",
       "<td class=val>2023-08-23T05:44:14.694853</td>\n",
       "<td class=val><a href=\"https://offenedaten.frankfurt.de/dataset/73c5a6b3-c033-4dad-bb7d-8783427dd233/resource/3b7617c7-7547-48bb-85d3-0da8731a4d22\" target=\"_other\">https://offenedaten.frankfurt.de/dataset/73c5a6b3-c033-4dad-bb7d-8783427dd233/resource/3b7617c7-7547-48bb-85d3-0da8731a4d22</a></td>\n",
       "<td class=val><a href=\"http://publications.europa.eu/resource/authority/file-type/CSV\" target=\"_other\">http://publications.europa.eu/resource/authority/file-type/CSV</a></td>\n",
       "<td class=val>Baumkataster Oktober 2021</td></tr><tr class=odd><td class=val><a href=\"https://offenedaten.frankfurt.de/dataset/73c5a6b3-c033-4dad-bb7d-8783427dd233\" target=\"_other\">https://offenedaten.frankfurt.de/dataset/73c5a6b3-c033-4dad-bb7d-8783427dd233</a></td>\n",
       "<td class=val>Baumkataster Frankfurt am Main</td>\n",
       "<td class=val>b1</td>\n",
       "<td class=val>2023-08-23T05:44:14.694853</td>\n",
       "<td class=val><a href=\"https://offenedaten.frankfurt.de/dataset/73c5a6b3-c033-4dad-bb7d-8783427dd233/resource/7a73520b-961a-4aad-a582-449e676c247c\" target=\"_other\">https://offenedaten.frankfurt.de/dataset/73c5a6b3-c033-4dad-bb7d-8783427dd233/resource/7a73520b-961a-4aad-a582-449e676c247c</a></td>\n",
       "<td class=val><a href=\"http://publications.europa.eu/resource/authority/file-type/CSV\" target=\"_other\">http://publications.europa.eu/resource/authority/file-type/CSV</a></td>\n",
       "<td class=val>Baumkataster September 2016</td></tr><tr class=even><td class=val><a href=\"https://offenedaten.frankfurt.de/dataset/73c5a6b3-c033-4dad-bb7d-8783427dd233\" target=\"_other\">https://offenedaten.frankfurt.de/dataset/73c5a6b3-c033-4dad-bb7d-8783427dd233</a></td>\n",
       "<td class=val>Baumkataster Frankfurt am Main</td>\n",
       "<td class=val>b1</td>\n",
       "<td class=val>2023-08-23T05:44:14.694853</td>\n",
       "<td class=val><a href=\"https://offenedaten.frankfurt.de/dataset/73c5a6b3-c033-4dad-bb7d-8783427dd233/resource/bf3b80d3-01b4-4868-8bde-5886c319060a\" target=\"_other\">https://offenedaten.frankfurt.de/dataset/73c5a6b3-c033-4dad-bb7d-8783427dd233/resource/bf3b80d3-01b4-4868-8bde-5886c319060a</a></td>\n",
       "<td class=val><a href=\"http://publications.europa.eu/resource/authority/file-type/CSV\" target=\"_other\">http://publications.europa.eu/resource/authority/file-type/CSV</a></td>\n",
       "<td class=val>Baumkataster Mai 2022</td></tr><tr class=odd><td class=val><a href=\"https://offenedaten.frankfurt.de/dataset/73c5a6b3-c033-4dad-bb7d-8783427dd233\" target=\"_other\">https://offenedaten.frankfurt.de/dataset/73c5a6b3-c033-4dad-bb7d-8783427dd233</a></td>\n",
       "<td class=val>Baumkataster Frankfurt am Main</td>\n",
       "<td class=val>b1</td>\n",
       "<td class=val>2023-08-23T05:44:14.694853</td>\n",
       "<td class=val><a href=\"https://offenedaten.frankfurt.de/dataset/73c5a6b3-c033-4dad-bb7d-8783427dd233/resource/e53aacb4-4462-4b69-ab9f-4252a402a082\" target=\"_other\">https://offenedaten.frankfurt.de/dataset/73c5a6b3-c033-4dad-bb7d-8783427dd233/resource/e53aacb4-4462-4b69-ab9f-4252a402a082</a></td>\n",
       "<td class=val><a href=\"http://publications.europa.eu/resource/authority/file-type/CSV\" target=\"_other\">http://publications.europa.eu/resource/authority/file-type/CSV</a></td>\n",
       "<td class=val>Baumkataster November 2020</td></tr><tr class=even><td class=val><a href=\"https://offenedaten.frankfurt.de/dataset/73c5a6b3-c033-4dad-bb7d-8783427dd233\" target=\"_other\">https://offenedaten.frankfurt.de/dataset/73c5a6b3-c033-4dad-bb7d-8783427dd233</a></td>\n",
       "<td class=val>Baumkataster Frankfurt am Main</td>\n",
       "<td class=val>b1</td>\n",
       "<td class=val>2023-08-23T05:44:14.694853</td>\n",
       "<td class=val><a href=\"https://offenedaten.frankfurt.de/dataset/73c5a6b3-c033-4dad-bb7d-8783427dd233/resource/257690bb-f40a-4e3a-93da-1310214f392f\" target=\"_other\">https://offenedaten.frankfurt.de/dataset/73c5a6b3-c033-4dad-bb7d-8783427dd233/resource/257690bb-f40a-4e3a-93da-1310214f392f</a></td>\n",
       "<td class=val><a href=\"http://publications.europa.eu/resource/authority/file-type/CSV\" target=\"_other\">http://publications.europa.eu/resource/authority/file-type/CSV</a></td>\n",
       "<td class=val>Baumkataster August 2023</td></tr><tr class=odd><td class=val><a href=\"https://opendata.schleswig-holstein.de/dataset/cfbe70e6-6078-42db-8c9b-f8745ee8916e\" target=\"_other\">https://opendata.schleswig-holstein.de/dataset/cfbe70e6-6078-42db-8c9b-f8745ee8916e</a></td>\n",
       "<td class=val>Baumkataster</td>\n",
       "<td class=val><a href=\"https://opendata.schleswig-holstein.de/organization/8dfc1059-b978-4553-81ec-a34573109517\" target=\"_other\">https://opendata.schleswig-holstein.de/organization/8dfc1059-b978-4553-81ec-a34573109517</a></td>\n",
       "<td class=val>2023-06-09T05:25:52.631385</td>\n",
       "<td class=val><a href=\"https://opendata.schleswig-holstein.de/dataset/cfbe70e6-6078-42db-8c9b-f8745ee8916e/resource/ab25fad6-f708-4f79-9522-c91ad2006fd6\" target=\"_other\">https://opendata.schleswig-holstein.de/dataset/cfbe70e6-6078-42db-8c9b-f8745ee8916e/resource/ab25fad6-f708-4f79-9522-c91ad2006fd6</a></td>\n",
       "<td class=val><a href=\"http://publications.europa.eu/resource/authority/file-type/SHP\" target=\"_other\">http://publications.europa.eu/resource/authority/file-type/SHP</a></td>\n",
       "<td class=val>Baumkataster_SHP.zip</td></tr><tr class=even><td class=val><a href=\"https://opendata.stadt-muenster.de/dataset/digitales-baumkataster-m%C3%BCnster\" target=\"_other\">https://opendata.stadt-muenster.de/dataset/digitales-baumkataster-m%C3%BCnster</a></td>\n",
       "<td class=val>Digitales Baumkataster Münster</td>\n",
       "<td class=val><a href=\"https://ckan.open.nrw.de/organization/74914aad-dcf1-4df9-9e70-c3319902651c\" target=\"_other\">https://ckan.open.nrw.de/organization/74914aad-dcf1-4df9-9e70-c3319902651c</a></td>\n",
       "<td class=val>2023-01-24T13:05:20+01:00</td>\n",
       "<td class=val><a href=\"https://opendata.stadt-muenster.de/dataset/digitales-baumkataster-m%C3%BCnster/resource/096c4fc2-cfdb-4b9b-840f-da9e638e65ec\" target=\"_other\">https://opendata.stadt-muenster.de/dataset/digitales-baumkataster-m%C3%BCnster/resource/096c4fc2-cfdb-4b9b-840f-da9e638e65ec</a></td>\n",
       "<td class=val>shape</td>\n",
       "<td class=val>Digitales Baumkataster Münster - Shape</td></tr><tr class=odd><td class=val><a href=\"https://opendata.stadt-muenster.de/dataset/digitales-baumkataster-m%C3%BCnster\" target=\"_other\">https://opendata.stadt-muenster.de/dataset/digitales-baumkataster-m%C3%BCnster</a></td>\n",
       "<td class=val>Digitales Baumkataster Münster</td>\n",
       "<td class=val><a href=\"https://ckan.open.nrw.de/organization/74914aad-dcf1-4df9-9e70-c3319902651c\" target=\"_other\">https://ckan.open.nrw.de/organization/74914aad-dcf1-4df9-9e70-c3319902651c</a></td>\n",
       "<td class=val>2023-01-24T13:05:20+01:00</td>\n",
       "<td class=val><a href=\"https://opendata.stadt-muenster.de/dataset/digitales-baumkataster-m%C3%BCnster/resource/179125e7-f57d-48a4-94bb-8da0cd38f2a6\" target=\"_other\">https://opendata.stadt-muenster.de/dataset/digitales-baumkataster-m%C3%BCnster/resource/179125e7-f57d-48a4-94bb-8da0cd38f2a6</a></td>\n",
       "<td class=val><a href=\"http://publications.europa.eu/resource/authority/file-type/GEOJSON\" target=\"_other\">http://publications.europa.eu/resource/authority/file-type/GEOJSON</a></td>\n",
       "<td class=val>Digitales Baumkataster Münster - GeoJSON</td></tr><tr class=even><td class=val><a href=\"https://opendata.stadt-muenster.de/dataset/digitales-baumkataster-m%C3%BCnster\" target=\"_other\">https://opendata.stadt-muenster.de/dataset/digitales-baumkataster-m%C3%BCnster</a></td>\n",
       "<td class=val>Digitales Baumkataster Münster</td>\n",
       "<td class=val><a href=\"https://ckan.open.nrw.de/organization/74914aad-dcf1-4df9-9e70-c3319902651c\" target=\"_other\">https://ckan.open.nrw.de/organization/74914aad-dcf1-4df9-9e70-c3319902651c</a></td>\n",
       "<td class=val>2023-01-24T13:05:20+01:00</td>\n",
       "<td class=val><a href=\"https://opendata.stadt-muenster.de/dataset/digitales-baumkataster-m%C3%BCnster/resource/361bdc2a-6672-4392-8054-0e4466f599b3\" target=\"_other\">https://opendata.stadt-muenster.de/dataset/digitales-baumkataster-m%C3%BCnster/resource/361bdc2a-6672-4392-8054-0e4466f599b3</a></td>\n",
       "<td class=val>WMS</td>\n",
       "<td class=val>Digitales Baumkataster Münster - WMS</td></tr><tr class=odd><td class=val><a href=\"https://opendata.stadt-muenster.de/dataset/digitales-baumkataster-m%C3%BCnster\" target=\"_other\">https://opendata.stadt-muenster.de/dataset/digitales-baumkataster-m%C3%BCnster</a></td>\n",
       "<td class=val>Digitales Baumkataster Münster</td>\n",
       "<td class=val><a href=\"https://ckan.open.nrw.de/organization/74914aad-dcf1-4df9-9e70-c3319902651c\" target=\"_other\">https://ckan.open.nrw.de/organization/74914aad-dcf1-4df9-9e70-c3319902651c</a></td>\n",
       "<td class=val>2023-01-24T13:05:20+01:00</td>\n",
       "<td class=val><a href=\"https://opendata.stadt-muenster.de/dataset/digitales-baumkataster-m%C3%BCnster/resource/53c9f6f3-ca4b-4418-b551-52d0e6b1b020\" target=\"_other\">https://opendata.stadt-muenster.de/dataset/digitales-baumkataster-m%C3%BCnster/resource/53c9f6f3-ca4b-4418-b551-52d0e6b1b020</a></td>\n",
       "<td class=val><a href=\"http://publications.europa.eu/resource/authority/file-type/CSV\" target=\"_other\">http://publications.europa.eu/resource/authority/file-type/CSV</a></td>\n",
       "<td class=val>Digitales Baumkataster Münster - CSV</td></tr><tr class=even><td class=val><a href=\"https://opendata.stadt-muenster.de/dataset/digitales-baumkataster-m%C3%BCnster\" target=\"_other\">https://opendata.stadt-muenster.de/dataset/digitales-baumkataster-m%C3%BCnster</a></td>\n",
       "<td class=val>Digitales Baumkataster Münster</td>\n",
       "<td class=val><a href=\"https://ckan.open.nrw.de/organization/74914aad-dcf1-4df9-9e70-c3319902651c\" target=\"_other\">https://ckan.open.nrw.de/organization/74914aad-dcf1-4df9-9e70-c3319902651c</a></td>\n",
       "<td class=val>2023-01-24T13:05:20+01:00</td>\n",
       "<td class=val><a href=\"https://opendata.stadt-muenster.de/dataset/digitales-baumkataster-m%C3%BCnster/resource/9db38741-f6e1-4a14-b62e-cbe048fd1299\" target=\"_other\">https://opendata.stadt-muenster.de/dataset/digitales-baumkataster-m%C3%BCnster/resource/9db38741-f6e1-4a14-b62e-cbe048fd1299</a></td>\n",
       "<td class=val>HTML</td>\n",
       "<td class=val>Digitales Baumkataster Münster - Vorschau</td></tr><tr class=odd><td class=val><a href=\"https://opendata.stadt-muenster.de/dataset/digitales-baumkataster-m%C3%BCnster\" target=\"_other\">https://opendata.stadt-muenster.de/dataset/digitales-baumkataster-m%C3%BCnster</a></td>\n",
       "<td class=val>Digitales Baumkataster Münster</td>\n",
       "<td class=val><a href=\"https://ckan.open.nrw.de/organization/74914aad-dcf1-4df9-9e70-c3319902651c\" target=\"_other\">https://ckan.open.nrw.de/organization/74914aad-dcf1-4df9-9e70-c3319902651c</a></td>\n",
       "<td class=val>2023-01-24T13:05:20+01:00</td>\n",
       "<td class=val><a href=\"https://opendata.stadt-muenster.de/dataset/digitales-baumkataster-m%C3%BCnster/resource/9ff886e2-782c-4058-8689-027696691e46\" target=\"_other\">https://opendata.stadt-muenster.de/dataset/digitales-baumkataster-m%C3%BCnster/resource/9ff886e2-782c-4058-8689-027696691e46</a></td>\n",
       "<td class=val><a href=\"http://publications.europa.eu/resource/authority/file-type/KML\" target=\"_other\">http://publications.europa.eu/resource/authority/file-type/KML</a></td>\n",
       "<td class=val>Digitales Baumkataster Münster - KML</td></tr><tr class=even><td class=val><a href=\"https://opendata.stadt-muenster.de/dataset/digitales-baumkataster-m%C3%BCnster\" target=\"_other\">https://opendata.stadt-muenster.de/dataset/digitales-baumkataster-m%C3%BCnster</a></td>\n",
       "<td class=val>Digitales Baumkataster Münster</td>\n",
       "<td class=val><a href=\"https://ckan.open.nrw.de/organization/74914aad-dcf1-4df9-9e70-c3319902651c\" target=\"_other\">https://ckan.open.nrw.de/organization/74914aad-dcf1-4df9-9e70-c3319902651c</a></td>\n",
       "<td class=val>2023-01-24T13:05:20+01:00</td>\n",
       "<td class=val><a href=\"https://opendata.stadt-muenster.de/dataset/digitales-baumkataster-m%C3%BCnster/resource/d2580588-be8a-4550-a9c0-96350b2dd122\" target=\"_other\">https://opendata.stadt-muenster.de/dataset/digitales-baumkataster-m%C3%BCnster/resource/d2580588-be8a-4550-a9c0-96350b2dd122</a></td>\n",
       "<td class=val>WFS</td>\n",
       "<td class=val>Digitales Baumkataster Münster - WFS 1.1.0</td></tr></table><div class=\"tinfo\">Total: 100, Shown: 20</div></div>"
      ]
     },
     "metadata": {},
     "output_type": "display_data"
    }
   ],
   "source": [
    "PREFIX dcat: <http://www.w3.org/ns/dcat#>\n",
    "PREFIX dct: <http://purl.org/dc/terms/>\n",
    "PREFIX rdfs: <http://www.w3.org/2000/01/rdf-schema#>\n",
    "\n",
    "SELECT DISTINCT ?datasetURI ?datasetTitle ?publisher ?modified ?distribution ?format ?distributionTitle\n",
    "WHERE {\n",
    "  ?datasetURI a dcat:Dataset;\n",
    "              dct:title ?datasetTitle;\n",
    "              dct:publisher ?publisher;\n",
    "              dct:modified ?modified.\n",
    "  FILTER((LANG(?datasetTitle) = \"\" || LANG(?datasetTitle) = \"de\") && CONTAINS(LCASE(?datasetTitle), \"baumkataster\"))\n",
    "  FILTER(CONTAINS(STR(?modified), \"2020\") || CONTAINS(STR(?modified), \"2021\") || CONTAINS(STR(?modified), \"2022\") || CONTAINS(STR(?modified), \"2023\") || CONTAINS(STR(?modified), \"2024\"))\n",
    "\n",
    "  OPTIONAL {\n",
    "    ?datasetURI dcat:distribution ?distribution.\n",
    "    OPTIONAL { ?distribution dct:format ?format. }\n",
    "    OPTIONAL { ?distribution dct:title ?distributionTitle. }\n",
    "    OPTIONAL { ?distribution rdfs:label ?distributionLabel. }\n",
    "  }\n",
    "}\n",
    "LIMIT 100"
   ]
  },
  {
   "cell_type": "code",
   "execution_count": null,
   "id": "aa54a092",
   "metadata": {
    "vscode": {
     "languageId": "python"
    }
   },
   "outputs": [
    {
     "data": {
      "text/html": [
       "<div class=\"krn-spql\"><table><tr class=hdr><th>datasetURI</th>\n",
       "<th>datasetTitle</th>\n",
       "<th>publisher</th>\n",
       "<th>modified</th>\n",
       "<th>distribution</th>\n",
       "<th>format</th>\n",
       "<th>distributionTitle</th></tr></table><div class=\"tinfo\">Total: 0, Shown: 0</div></div>"
      ]
     },
     "metadata": {},
     "output_type": "display_data"
    }
   ],
   "source": [
    "PREFIX dcat: <http://www.w3.org/ns/dcat#>\n",
    "PREFIX dct: <http://purl.org/dc/terms/>\n",
    "PREFIX rdfs: <http://www.w3.org/2000/01/rdf-schema#>\n",
    "\n",
    "SELECT DISTINCT ?datasetURI ?datasetTitle ?publisher ?modified ?distribution ?format ?distributionTitle\n",
    "WHERE {\n",
    "  ?datasetURI a dcat:Dataset;\n",
    "              dct:title ?datasetTitle;\n",
    "              dct:publisher ?publisher;\n",
    "              dct:modified ?modified.\n",
    "  FILTER((LANG(?datasetTitle) = \"\" || LANG(?datasetTitle) = \"de\") && CONTAINS(LCASE(?datasetTitle), \"baumkataster\"))\n",
    "  FILTER(CONTAINS(STR(?modified), \"2020\") || CONTAINS(STR(?modified), \"2021\") || CONTAINS(STR(?modified), \"2022\") || CONTAINS(STR(?modified), \"2023\") || CONTAINS(STR(?modified), \"2024\"))\n",
    "  FILTER(CONTAINS(LCASE(STR(?publisher)), \"wuerzburg\") || CONTAINS(LCASE(STR(?publisher)), \"dortmund\") || CONTAINS(LCASE(STR(?publisher)), \"muenster\"))\n",
    "\n",
    "  OPTIONAL {\n",
    "    ?datasetURI dcat:distribution ?distribution.\n",
    "    OPTIONAL { ?distribution dct:format ?format. }\n",
    "    OPTIONAL { ?distribution dct:title ?distributionTitle. }\n",
    "    OPTIONAL { ?distribution rdfs:label ?distributionLabel. }\n",
    "  }\n",
    "}\n",
    "LIMIT 100"
   ]
  },
  {
   "cell_type": "code",
   "execution_count": null,
   "id": "1b1c0e51",
   "metadata": {
    "vscode": {
     "languageId": "python"
    }
   },
   "outputs": [
    {
     "data": {
      "text/html": [
       "<div class=\"krn-spql\"><table><tr class=hdr><th>uri</th>\n",
       "<th>title</th>\n",
       "<th>contributorid</th>\n",
       "<th>modified</th></tr><tr class=odd><td class=val><a href=\"https://opendata.schleswig-holstein.de/dataset/cfbe70e6-6078-42db-8c9b-f8745ee8916e\" target=\"_other\">https://opendata.schleswig-holstein.de/dataset/cfbe70e6-6078-42db-8c9b-f8745ee8916e</a></td>\n",
       "<td class=val>Baumkataster</td>\n",
       "<td class=val><a href=\"http://dcat-ap.de/def/contributors/schleswigHolstein\" target=\"_other\">http://dcat-ap.de/def/contributors/schleswigHolstein</a></td>\n",
       "<td class=val>2023-06-09T05:25:52.631385</td></tr><tr class=even><td class=val><a href=\"https://open-data.dortmund.de/api/v2/catalog/datasets/baumkataster\" target=\"_other\">https://open-data.dortmund.de/api/v2/catalog/datasets/baumkataster</a></td>\n",
       "<td class=val>Baumkataster</td>\n",
       "<td class=val><a href=\"http://dcat-ap.de/def/contributors/openNRW\" target=\"_other\">http://dcat-ap.de/def/contributors/openNRW</a></td>\n",
       "<td class=val>2024-08-11T01:05:39.593+00:00</td></tr><tr class=odd><td class=val><a href=\"https://open.bydata.de/api/hub/repo/datasets/baumkat_01\" target=\"_other\">https://open.bydata.de/api/hub/repo/datasets/baumkat_01</a></td>\n",
       "<td class=val>Baumkataster</td>\n",
       "<td class=val><a href=\"http://dcat-ap.de/def/contributors/openDataBayern\" target=\"_other\">http://dcat-ap.de/def/contributors/openDataBayern</a></td>\n",
       "<td class=val>2024-08-06</td></tr><tr class=even><td class=val><a href=\"https://offenedaten-konstanz.de/dataset/baumkataster\" target=\"_other\">https://offenedaten-konstanz.de/dataset/baumkataster</a></td>\n",
       "<td class=val>Baumkataster</td>\n",
       "<td class=val><a href=\"http://dcat-ap.de/def/contributors/datenBW\" target=\"_other\">http://dcat-ap.de/def/contributors/datenBW</a></td>\n",
       "<td class=val>2024-07-19T15:15:21+02:00</td></tr><tr class=odd><td class=val><a href=\"https://opendata.schleswig-holstein.de/dataset/5f0aaf45-f380-49b3-87be-51abaddacbe0\" target=\"_other\">https://opendata.schleswig-holstein.de/dataset/5f0aaf45-f380-49b3-87be-51abaddacbe0</a></td>\n",
       "<td class=val>Baumkataster Norderstedt</td>\n",
       "<td class=val><a href=\"http://dcat-ap.de/def/contributors/schleswigHolstein\" target=\"_other\">http://dcat-ap.de/def/contributors/schleswigHolstein</a></td>\n",
       "<td class=val>2022-04-12T07:58:22.519048</td></tr><tr class=even><td class=val><a href=\"https://gdk.gdi-de.org/inspire/srv/eng/xml_iso19139?uuid=19676799-FEDB-4D1A-A89A-26FBA887B3F0\" target=\"_other\">https://gdk.gdi-de.org/inspire/srv/eng/xml_iso19139?uuid=19676799-FEDB-4D1A-A89A-26FBA887B3F0</a></td>\n",
       "<td class=val>Straßenbaumkataster Hamburger Hafen</td>\n",
       "<td class=val><a href=\"http://dcat-ap.de/def/contributors/gdiDE\" target=\"_other\">http://dcat-ap.de/def/contributors/gdiDE</a></td>\n",
       "<td class=val>2024-07-02</td></tr><tr class=odd><td class=val><a href=\"https://offenedaten.frankfurt.de/dataset/73c5a6b3-c033-4dad-bb7d-8783427dd233\" target=\"_other\">https://offenedaten.frankfurt.de/dataset/73c5a6b3-c033-4dad-bb7d-8783427dd233</a></td>\n",
       "<td class=val>Baumkataster Frankfurt am Main</td>\n",
       "<td class=val><a href=\"http://dcat-ap.de/def/contributors/stadtFrankfurtAmMain\" target=\"_other\">http://dcat-ap.de/def/contributors/stadtFrankfurtAmMain</a></td>\n",
       "<td class=val>2023-08-23T05:44:14.694853</td></tr><tr class=even><td class=val><a href=\"https://opendata.stadt-muenster.de/dataset/digitales-baumkataster-m%C3%BCnster\" target=\"_other\">https://opendata.stadt-muenster.de/dataset/digitales-baumkataster-m%C3%BCnster</a></td>\n",
       "<td class=val>Digitales Baumkataster Münster</td>\n",
       "<td class=val><a href=\"http://dcat-ap.de/def/contributors/openNRW\" target=\"_other\">http://dcat-ap.de/def/contributors/openNRW</a></td>\n",
       "<td class=val>2023-01-24T13:05:20+01:00</td></tr><tr class=odd><td class=val><a href=\"https://gdk.gdi-de.org/inspire/srv/eng/xml_iso19139?uuid=C1C61928-C602-4E37-AF31-2D23901E2540\" target=\"_other\">https://gdk.gdi-de.org/inspire/srv/eng/xml_iso19139?uuid=C1C61928-C602-4E37-AF31-2D23901E2540</a></td>\n",
       "<td class=val>Straßenbaumkataster Hamburg</td>\n",
       "<td class=val><a href=\"http://dcat-ap.de/def/contributors/gdiDE\" target=\"_other\">http://dcat-ap.de/def/contributors/gdiDE</a></td>\n",
       "<td class=val>2024-07-02</td></tr><tr class=even><td class=val><a href=\"https://gdk.gdi-de.org/inspire/srv/eng/xml_iso19139?uuid=cee75d75-4b4e-4bea-9d24-8b5993b54479\" target=\"_other\">https://gdk.gdi-de.org/inspire/srv/eng/xml_iso19139?uuid=cee75d75-4b4e-4bea-9d24-8b5993b54479</a></td>\n",
       "<td class=val>Baumkataster, Stadt Leipzig</td>\n",
       "<td class=val><a href=\"http://dcat-ap.de/def/contributors/gdiDE\" target=\"_other\">http://dcat-ap.de/def/contributors/gdiDE</a></td>\n",
       "<td class=val>2024-07-15</td></tr><tr class=odd><td class=val><a href=\"https://registry.gdi-de.org/id/de.sn.stlp/cee75d75-4b4e-4bea-9d24-8b5993b54479\" target=\"_other\">https://registry.gdi-de.org/id/de.sn.stlp/cee75d75-4b4e-4bea-9d24-8b5993b54479</a></td>\n",
       "<td class=val>Baumkataster, Stadt Leipzig</td>\n",
       "<td class=val><a href=\"http://dcat-ap.de/def/contributors/freistaatSachsen\" target=\"_other\">http://dcat-ap.de/def/contributors/freistaatSachsen</a></td>\n",
       "<td class=val>2024-07-15</td></tr><tr class=even><td class=val><a href=\"https://opendata.leipzig.de/dataset/e8ec865e-f3ca-413d-960f-7c917d7103a3\" target=\"_other\">https://opendata.leipzig.de/dataset/e8ec865e-f3ca-413d-960f-7c917d7103a3</a></td>\n",
       "<td class=val>Baumkataster, Stadt Leipzig</td>\n",
       "<td class=val><a href=\"http://dcat-ap.de/def/contributors/freistaatSachsen\" target=\"_other\">http://dcat-ap.de/def/contributors/freistaatSachsen</a></td>\n",
       "<td class=val>2024-07-17</td></tr><tr class=odd><td class=val><a href=\"https://offenedaten.kdvz.nrw/dataset/d30-baumkataster-der-kreisstadt-bergheim\" target=\"_other\">https://offenedaten.kdvz.nrw/dataset/d30-baumkataster-der-kreisstadt-bergheim</a></td>\n",
       "<td class=val>D30 Baumkataster der Kreisstadt Bergheim</td>\n",
       "<td class=val><a href=\"http://dcat-ap.de/def/contributors/openNRW\" target=\"_other\">http://dcat-ap.de/def/contributors/openNRW</a></td>\n",
       "<td class=val>2021-09-08T08:02:44+02:00</td></tr><tr class=even><td class=val><a href=\"https://opendata.ruhr/dataset/200e532c-a381-4611-ba05-4ed7afc31230\" target=\"_other\">https://opendata.ruhr/dataset/200e532c-a381-4611-ba05-4ed7afc31230</a></td>\n",
       "<td class=val>Baumkataster des ASG Wesel</td>\n",
       "<td class=val><a href=\"http://dcat-ap.de/def/contributors/openNRW\" target=\"_other\">http://dcat-ap.de/def/contributors/openNRW</a></td>\n",
       "<td class=val>2024-05-28T11:46:06.401383</td></tr><tr class=odd><td class=val><a href=\"https://transparenz.karlsruhe.de/dataset/fcdceb2e-d16d-410c-ba0f-521ba8c6effa\" target=\"_other\">https://transparenz.karlsruhe.de/dataset/fcdceb2e-d16d-410c-ba0f-521ba8c6effa</a></td>\n",
       "<td class=val>Fachpläne - Baumkataster</td>\n",
       "<td class=val><a href=\"http://dcat-ap.de/def/contributors/datenBW\" target=\"_other\">http://dcat-ap.de/def/contributors/datenBW</a></td>\n",
       "<td class=val>2024-07-11T15:00:26.072551</td></tr><tr class=even><td class=val><a href=\"https://offenedaten-koeln.de/dataset/baumkataster-koeln-2020\" target=\"_other\">https://offenedaten-koeln.de/dataset/baumkataster-koeln-2020</a></td>\n",
       "<td class=val>Baumkataster Koeln 2020</td>\n",
       "<td class=val><a href=\"http://dcat-ap.de/def/contributors/openNRW\" target=\"_other\">http://dcat-ap.de/def/contributors/openNRW</a></td>\n",
       "<td class=val>2024-06-25T08:34:10+02:00</td></tr><tr class=odd><td class=val><a href=\"https://offenedaten-koeln.de/dataset/baumkataster-koeln-2017\" target=\"_other\">https://offenedaten-koeln.de/dataset/baumkataster-koeln-2017</a></td>\n",
       "<td class=val>Baumkataster Koeln 2017</td>\n",
       "<td class=val><a href=\"http://dcat-ap.de/def/contributors/openNRW\" target=\"_other\">http://dcat-ap.de/def/contributors/openNRW</a></td>\n",
       "<td class=val>2024-06-25T08:34:10+02:00</td></tr><tr class=even><td class=val><a href=\"https://open.bydata.de/api/hub/repo/datasets/baumkataster-haar\" target=\"_other\">https://open.bydata.de/api/hub/repo/datasets/baumkataster-haar</a></td>\n",
       "<td class=val>Baumkataster der Gemeinde Haar</td>\n",
       "<td class=val><a href=\"http://dcat-ap.de/def/contributors/openDataBayern\" target=\"_other\">http://dcat-ap.de/def/contributors/openDataBayern</a></td>\n",
       "<td class=val>2024-03-06T08:27:55.945363</td></tr><tr class=odd><td class=val><a href=\"https://open.bydata.de/api/hub/repo/datasets/baumkataster-der-stadt-erlangen\" target=\"_other\">https://open.bydata.de/api/hub/repo/datasets/baumkataster-der-stadt-erlangen</a></td>\n",
       "<td class=val>Baumkataster der Stadt Erlangen</td>\n",
       "<td class=val><a href=\"http://dcat-ap.de/def/contributors/openDataBayern\" target=\"_other\">http://dcat-ap.de/def/contributors/openDataBayern</a></td>\n",
       "<td class=val>2024-04-11T05:39:58.589234</td></tr><tr class=even><td class=val><a href=\"https://open.bydata.de/api/hub/repo/datasets/baumkataster-der-stadt-erlangen\" target=\"_other\">https://open.bydata.de/api/hub/repo/datasets/baumkataster-der-stadt-erlangen</a></td>\n",
       "<td class=val>Baumkataster der Stadt Erlangen</td>\n",
       "<td class=val><a href=\"http://dcat-ap.de/def/contributors/stadtErlangen\" target=\"_other\">http://dcat-ap.de/def/contributors/stadtErlangen</a></td>\n",
       "<td class=val>2024-04-11T05:39:58.589234</td></tr></table><div class=\"tinfo\">Total: 26, Shown: 20</div></div>"
      ]
     },
     "metadata": {},
     "output_type": "display_data"
    }
   ],
   "source": [
    "PREFIX dct: <http://purl.org/dc/terms/>\n",
    "PREFIX dcatde: <http://dcat-ap.de/def/dcatde/>\n",
    "\n",
    "SELECT ?uri ?title ?contributorid ?modified WHERE {\n",
    "    {\n",
    "        SELECT ?uri ?title ?contributorid ?modified WHERE {\n",
    "            ?uri dct:title ?title .\n",
    "            ?uri dcatde:contributorID ?contributorid .\n",
    "            ?uri dct:modified ?modified .\n",
    "            FILTER(isURI(?contributorid))\n",
    "            FILTER(strstarts(str(?contributorid), \"http://dcat-ap.de/def/contributors/\"))       \n",
    "            FILTER(CONTAINS(LCASE(?title), \"baumkataster\"))\n",
    "            FILTER(CONTAINS(STR(?modified), \"2020\") || CONTAINS(STR(?modified), \"2021\") || CONTAINS(STR(?modified), \"2022\") || CONTAINS(STR(?modified), \"2023\") || CONTAINS(STR(?modified), \"2024\"))\n",
    "        }\n",
    "        LIMIT 50\n",
    "    }\n",
    "}"
   ]
  },
  {
   "cell_type": "code",
   "execution_count": null,
   "id": "eed97f9d",
   "metadata": {
    "vscode": {
     "languageId": "python"
    }
   },
   "outputs": [
    {
     "data": {
      "text/html": [
       "<div class=\"krn-spql\"><table><tr class=hdr><th>format</th></tr><tr class=odd><td class=val><a href=\"http://publications.europa.eu/resource/authority/file-type/GML\" target=\"_other\">http://publications.europa.eu/resource/authority/file-type/GML</a></td></tr><tr class=even><td class=val><a href=\"http://publications.europa.eu/resource/authority/file-type/MDB\" target=\"_other\">http://publications.europa.eu/resource/authority/file-type/MDB</a></td></tr><tr class=odd><td class=val><a href=\"http://publications.europa.eu/resource/authority/file-type/CSV\" target=\"_other\">http://publications.europa.eu/resource/authority/file-type/CSV</a></td></tr><tr class=even><td class=val><a href=\"http://publications.europa.eu/resource/authority/file-type/GEOJSON\" target=\"_other\">http://publications.europa.eu/resource/authority/file-type/GEOJSON</a></td></tr><tr class=odd><td class=val><a href=\"http://publications.europa.eu/resource/authority/file-type/SHP\" target=\"_other\">http://publications.europa.eu/resource/authority/file-type/SHP</a></td></tr><tr class=even><td class=val>shape</td></tr><tr class=odd><td class=val>WMS</td></tr><tr class=even><td class=val>HTML</td></tr><tr class=odd><td class=val><a href=\"http://publications.europa.eu/resource/authority/file-type/KML\" target=\"_other\">http://publications.europa.eu/resource/authority/file-type/KML</a></td></tr><tr class=even><td class=val>WFS</td></tr><tr class=odd><td class=val>download</td></tr><tr class=even><td class=val>view</td></tr><tr class=odd><td class=val>ACCESS2000</td></tr><tr class=even><td class=val>Excel</td></tr><tr class=odd><td class=val><a href=\"http://publications.europa.eu/resource/authority/file-type/WFS_SRVC\" target=\"_other\">http://publications.europa.eu/resource/authority/file-type/WFS_SRVC</a></td></tr><tr class=even><td class=val>XLSX</td></tr><tr class=odd><td class=val><a href=\"http://publications.europa.eu/resource/authority/file-type/ZIP\" target=\"_other\">http://publications.europa.eu/resource/authority/file-type/ZIP</a></td></tr><tr class=even><td class=val>shz</td></tr><tr class=odd><td class=val>ZIP</td></tr><tr class=even><td class=val>CSV</td></tr></table><div class=\"tinfo\">Total: 46, Shown: 20</div></div>"
      ]
     },
     "metadata": {},
     "output_type": "display_data"
    }
   ],
   "source": [
    "PREFIX dcat: <http://www.w3.org/ns/dcat#>\n",
    "PREFIX dct: <http://purl.org/dc/terms/>\n",
    "PREFIX rdfs: <http://www.w3.org/2000/01/rdf-schema#>\n",
    "\n",
    "SELECT DISTINCT ?format\n",
    "WHERE {\n",
    "  ?datasetURI a dcat:Dataset;\n",
    "              dct:title ?datasetTitle;\n",
    "              dct:modified ?modified.\n",
    "  FILTER((LANG(?datasetTitle) = \"\" || LANG(?datasetTitle) = \"de\") && CONTAINS(LCASE(?datasetTitle), \"baumkataster\"))\n",
    "  FILTER(CONTAINS(STR(?modified), \"2020\") || CONTAINS(STR(?modified), \"2021\") || CONTAINS(STR(?modified), \"2022\") || CONTAINS(STR(?modified), \"2023\") || CONTAINS(STR(?modified), \"2024\"))\n",
    "\n",
    "  ?datasetURI dcat:distribution ?distribution.\n",
    "  ?distribution dct:format ?format.\n",
    "}\n",
    "LIMIT 100"
   ]
  },
  {
   "cell_type": "code",
   "execution_count": null,
   "id": "7e7be7dd",
   "metadata": {
    "vscode": {
     "languageId": "python"
    }
   },
   "outputs": [
    {
     "data": {
      "text/html": [
       "<div class=\"krn-spql\"><table><tr class=hdr><th>datasetTitle</th>\n",
       "<th>format</th>\n",
       "<th>contributorID</th></tr><tr class=odd><td class=val>INSPIRE SN Versorgungswirtschaft</td>\n",
       "<td class=val>application/vnd.ogc.wms_xml</td>\n",
       "<td class=val><a href=\"http://dcat-ap.de/def/contributors/freistaatSachsen\" target=\"_other\">http://dcat-ap.de/def/contributors/freistaatSachsen</a></td></tr><tr class=even><td class=val>INSPIRE SN Versorgungswirtschaft</td>\n",
       "<td class=val>application/vnd.ogc.wfs_xml</td>\n",
       "<td class=val><a href=\"http://dcat-ap.de/def/contributors/freistaatSachsen\" target=\"_other\">http://dcat-ap.de/def/contributors/freistaatSachsen</a></td></tr><tr class=odd><td class=val>Digitale Orthophotos (DOP) - Befliegung 2022, Weißwasser</td>\n",
       "<td class=val>application/vnd.ogc.wms_xml</td>\n",
       "<td class=val><a href=\"http://dcat-ap.de/def/contributors/freistaatSachsen\" target=\"_other\">http://dcat-ap.de/def/contributors/freistaatSachsen</a></td></tr><tr class=even><td class=val>Digitale Orthophotos (DOP) - Befliegung 2022, Weißwasser</td>\n",
       "<td class=val>application/vnd.ogc.wmts_xml</td>\n",
       "<td class=val><a href=\"http://dcat-ap.de/def/contributors/freistaatSachsen\" target=\"_other\">http://dcat-ap.de/def/contributors/freistaatSachsen</a></td></tr><tr class=odd><td class=val>Digitale Orthophotos (DOP) - Befliegung 2022, Weißwasser</td>\n",
       "<td class=val>text/html</td>\n",
       "<td class=val><a href=\"http://dcat-ap.de/def/contributors/freistaatSachsen\" target=\"_other\">http://dcat-ap.de/def/contributors/freistaatSachsen</a></td></tr><tr class=even><td class=val>Digitale Orthophotos (DOP) - Befliegung 2022, Seiffen</td>\n",
       "<td class=val>application/vnd.ogc.wms_xml</td>\n",
       "<td class=val><a href=\"http://dcat-ap.de/def/contributors/freistaatSachsen\" target=\"_other\">http://dcat-ap.de/def/contributors/freistaatSachsen</a></td></tr><tr class=odd><td class=val>Digitale Orthophotos (DOP) - Befliegung 2022, Seiffen</td>\n",
       "<td class=val>application/vnd.ogc.wmts_xml</td>\n",
       "<td class=val><a href=\"http://dcat-ap.de/def/contributors/freistaatSachsen\" target=\"_other\">http://dcat-ap.de/def/contributors/freistaatSachsen</a></td></tr><tr class=even><td class=val>Digitale Orthophotos (DOP) - Befliegung 2022, Seiffen</td>\n",
       "<td class=val>text/html</td>\n",
       "<td class=val><a href=\"http://dcat-ap.de/def/contributors/freistaatSachsen\" target=\"_other\">http://dcat-ap.de/def/contributors/freistaatSachsen</a></td></tr><tr class=odd><td class=val>Digitale Orthophotos (DOP) - Befliegung 2023, Plauen</td>\n",
       "<td class=val>application/vnd.ogc.wms_xml</td>\n",
       "<td class=val><a href=\"http://dcat-ap.de/def/contributors/freistaatSachsen\" target=\"_other\">http://dcat-ap.de/def/contributors/freistaatSachsen</a></td></tr><tr class=even><td class=val>Digitale Orthophotos (DOP) - Befliegung 2023, Plauen</td>\n",
       "<td class=val>application/vnd.ogc.wmts_xml</td>\n",
       "<td class=val><a href=\"http://dcat-ap.de/def/contributors/freistaatSachsen\" target=\"_other\">http://dcat-ap.de/def/contributors/freistaatSachsen</a></td></tr><tr class=odd><td class=val>Digitale Orthophotos (DOP) - Befliegung 2023, Plauen</td>\n",
       "<td class=val>text/html</td>\n",
       "<td class=val><a href=\"http://dcat-ap.de/def/contributors/freistaatSachsen\" target=\"_other\">http://dcat-ap.de/def/contributors/freistaatSachsen</a></td></tr><tr class=even><td class=val>Digitale Orthophotos (DOP) - Befliegung 2022, Dresden</td>\n",
       "<td class=val>application/vnd.ogc.wms_xml</td>\n",
       "<td class=val><a href=\"http://dcat-ap.de/def/contributors/freistaatSachsen\" target=\"_other\">http://dcat-ap.de/def/contributors/freistaatSachsen</a></td></tr><tr class=odd><td class=val>Digitale Orthophotos (DOP) - Befliegung 2022, Dresden</td>\n",
       "<td class=val>application/vnd.ogc.wmts_xml</td>\n",
       "<td class=val><a href=\"http://dcat-ap.de/def/contributors/freistaatSachsen\" target=\"_other\">http://dcat-ap.de/def/contributors/freistaatSachsen</a></td></tr><tr class=even><td class=val>Digitale Orthophotos (DOP) - Befliegung 2022, Dresden</td>\n",
       "<td class=val>text/html</td>\n",
       "<td class=val><a href=\"http://dcat-ap.de/def/contributors/freistaatSachsen\" target=\"_other\">http://dcat-ap.de/def/contributors/freistaatSachsen</a></td></tr><tr class=odd><td class=val>Digitale Orthophotos (DOP) - Befliegung 2022, Hoyerswerda</td>\n",
       "<td class=val>application/vnd.ogc.wms_xml</td>\n",
       "<td class=val><a href=\"http://dcat-ap.de/def/contributors/freistaatSachsen\" target=\"_other\">http://dcat-ap.de/def/contributors/freistaatSachsen</a></td></tr><tr class=even><td class=val>Digitale Orthophotos (DOP) - Befliegung 2022, Hoyerswerda</td>\n",
       "<td class=val>application/vnd.ogc.wmts_xml</td>\n",
       "<td class=val><a href=\"http://dcat-ap.de/def/contributors/freistaatSachsen\" target=\"_other\">http://dcat-ap.de/def/contributors/freistaatSachsen</a></td></tr><tr class=odd><td class=val>Digitale Orthophotos (DOP) - Befliegung 2022, Hoyerswerda</td>\n",
       "<td class=val>text/html</td>\n",
       "<td class=val><a href=\"http://dcat-ap.de/def/contributors/freistaatSachsen\" target=\"_other\">http://dcat-ap.de/def/contributors/freistaatSachsen</a></td></tr><tr class=even><td class=val>INSPIRE SN Orthofotografie</td>\n",
       "<td class=val>application/vnd.ogc.wms_xml</td>\n",
       "<td class=val><a href=\"http://dcat-ap.de/def/contributors/freistaatSachsen\" target=\"_other\">http://dcat-ap.de/def/contributors/freistaatSachsen</a></td></tr><tr class=odd><td class=val>INSPIRE SN Orthofotografie</td>\n",
       "<td class=val>application/atom+xml</td>\n",
       "<td class=val><a href=\"http://dcat-ap.de/def/contributors/freistaatSachsen\" target=\"_other\">http://dcat-ap.de/def/contributors/freistaatSachsen</a></td></tr><tr class=even><td class=val>INSPIRE SN Orthofotografie</td>\n",
       "<td class=val>application/vnd.ogc.wmts_xml</td>\n",
       "<td class=val><a href=\"http://dcat-ap.de/def/contributors/freistaatSachsen\" target=\"_other\">http://dcat-ap.de/def/contributors/freistaatSachsen</a></td></tr></table><div class=\"tinfo\">Total: 301886, Shown: 20</div></div>"
      ]
     },
     "metadata": {},
     "output_type": "display_data"
    }
   ],
   "source": [
    "PREFIX dcat: <http://www.w3.org/ns/dcat#>\n",
    "PREFIX dct: <http://purl.org/dc/terms/>\n",
    "PREFIX dcatde: <http://dcat-ap.de/def/dcatde/>\n",
    "PREFIX rdfs: <http://www.w3.org/2000/01/rdf-schema#>\n",
    "\n",
    "SELECT DISTINCT ?datasetTitle ?format ?contributorID\n",
    "WHERE {\n",
    "  ?datasetURI a dcat:Dataset;\n",
    "              dct:title ?datasetTitle;\n",
    "              dcatde:contributorID ?contributorID.\n",
    "\n",
    "  OPTIONAL {\n",
    "    ?datasetURI dcat:distribution ?distribution.\n",
    "    OPTIONAL { ?distribution dct:format ?format. }\n",
    "  }\n",
    "}\n"
   ]
  },
  {
   "cell_type": "code",
   "execution_count": null,
   "id": "6cfd5643",
   "metadata": {
    "vscode": {
     "languageId": "python"
    }
   },
   "outputs": [
    {
     "data": {
      "text/html": [
       "<div class=\"krn-spql\"><table><tr class=hdr><th>datasetTitle</th>\n",
       "<th>format</th>\n",
       "<th>contributorID</th></tr><tr class=odd><td class=val>Güterumschlag im Hafen in der Stadt Oldenburg</td>\n",
       "<td class=val><a href=\"http://publications.europa.eu/resource/authority/file-type/PDF\" target=\"_other\">http://publications.europa.eu/resource/authority/file-type/PDF</a></td>\n",
       "<td class=val><a href=\"http://dcat-ap.de/def/contributors/stadtOldenburg\" target=\"_other\">http://dcat-ap.de/def/contributors/stadtOldenburg</a></td></tr><tr class=even><td class=val>Güterumschlag im Hafen in der Stadt Oldenburg</td>\n",
       "<td class=val><a href=\"http://publications.europa.eu/resource/authority/file-type/CSV\" target=\"_other\">http://publications.europa.eu/resource/authority/file-type/CSV</a></td>\n",
       "<td class=val><a href=\"http://dcat-ap.de/def/contributors/stadtOldenburg\" target=\"_other\">http://dcat-ap.de/def/contributors/stadtOldenburg</a></td></tr><tr class=odd><td class=val>Güterumschlag im Hafen in der Stadt Oldenburg</td>\n",
       "<td class=val><a href=\"http://publications.europa.eu/resource/authority/file-type/PDF\" target=\"_other\">http://publications.europa.eu/resource/authority/file-type/PDF</a></td>\n",
       "<td class=val><a href=\"https://opendata.oldenburg.de/\" target=\"_other\">https://opendata.oldenburg.de/</a></td></tr><tr class=even><td class=val>Güterumschlag im Hafen in der Stadt Oldenburg</td>\n",
       "<td class=val><a href=\"http://publications.europa.eu/resource/authority/file-type/CSV\" target=\"_other\">http://publications.europa.eu/resource/authority/file-type/CSV</a></td>\n",
       "<td class=val><a href=\"https://opendata.oldenburg.de/\" target=\"_other\">https://opendata.oldenburg.de/</a></td></tr><tr class=odd><td class=val>Wanderungsbewegungen</td>\n",
       "<td class=val><a href=\"http://publications.europa.eu/resource/authority/file-type/PDF\" target=\"_other\">http://publications.europa.eu/resource/authority/file-type/PDF</a></td>\n",
       "<td class=val><a href=\"http://dcat-ap.de/def/contributors/stadtOldenburg\" target=\"_other\">http://dcat-ap.de/def/contributors/stadtOldenburg</a></td></tr><tr class=even><td class=val>Wanderungsbewegungen</td>\n",
       "<td class=val><a href=\"http://publications.europa.eu/resource/authority/file-type/XLSX\" target=\"_other\">http://publications.europa.eu/resource/authority/file-type/XLSX</a></td>\n",
       "<td class=val><a href=\"http://dcat-ap.de/def/contributors/stadtOldenburg\" target=\"_other\">http://dcat-ap.de/def/contributors/stadtOldenburg</a></td></tr><tr class=odd><td class=val>Wanderungsbewegungen</td>\n",
       "<td class=val><a href=\"http://publications.europa.eu/resource/authority/file-type/CSV\" target=\"_other\">http://publications.europa.eu/resource/authority/file-type/CSV</a></td>\n",
       "<td class=val><a href=\"http://dcat-ap.de/def/contributors/stadtOldenburg\" target=\"_other\">http://dcat-ap.de/def/contributors/stadtOldenburg</a></td></tr><tr class=even><td class=val>Wanderungsbewegungen</td>\n",
       "<td class=val><a href=\"http://publications.europa.eu/resource/authority/file-type/PDF\" target=\"_other\">http://publications.europa.eu/resource/authority/file-type/PDF</a></td>\n",
       "<td class=val><a href=\"https://opendata.oldenburg.de/\" target=\"_other\">https://opendata.oldenburg.de/</a></td></tr><tr class=odd><td class=val>Wanderungsbewegungen</td>\n",
       "<td class=val><a href=\"http://publications.europa.eu/resource/authority/file-type/XLSX\" target=\"_other\">http://publications.europa.eu/resource/authority/file-type/XLSX</a></td>\n",
       "<td class=val><a href=\"https://opendata.oldenburg.de/\" target=\"_other\">https://opendata.oldenburg.de/</a></td></tr><tr class=even><td class=val>Wanderungsbewegungen</td>\n",
       "<td class=val><a href=\"http://publications.europa.eu/resource/authority/file-type/CSV\" target=\"_other\">http://publications.europa.eu/resource/authority/file-type/CSV</a></td>\n",
       "<td class=val><a href=\"https://opendata.oldenburg.de/\" target=\"_other\">https://opendata.oldenburg.de/</a></td></tr><tr class=odd><td class=val>Studierendenzahlen der Universität Oldenburg</td>\n",
       "<td class=val><a href=\"http://publications.europa.eu/resource/authority/file-type/CSV\" target=\"_other\">http://publications.europa.eu/resource/authority/file-type/CSV</a></td>\n",
       "<td class=val><a href=\"http://dcat-ap.de/def/contributors/stadtOldenburg\" target=\"_other\">http://dcat-ap.de/def/contributors/stadtOldenburg</a></td></tr><tr class=even><td class=val>Studierendenzahlen der Universität Oldenburg</td>\n",
       "<td class=val><a href=\"http://publications.europa.eu/resource/authority/file-type/PDF\" target=\"_other\">http://publications.europa.eu/resource/authority/file-type/PDF</a></td>\n",
       "<td class=val><a href=\"http://dcat-ap.de/def/contributors/stadtOldenburg\" target=\"_other\">http://dcat-ap.de/def/contributors/stadtOldenburg</a></td></tr><tr class=odd><td class=val>Studierendenzahlen der Universität Oldenburg</td>\n",
       "<td class=val><a href=\"http://publications.europa.eu/resource/authority/file-type/XLSX\" target=\"_other\">http://publications.europa.eu/resource/authority/file-type/XLSX</a></td>\n",
       "<td class=val><a href=\"http://dcat-ap.de/def/contributors/stadtOldenburg\" target=\"_other\">http://dcat-ap.de/def/contributors/stadtOldenburg</a></td></tr><tr class=even><td class=val>Studierendenzahlen der Universität Oldenburg</td>\n",
       "<td class=val><a href=\"http://publications.europa.eu/resource/authority/file-type/CSV\" target=\"_other\">http://publications.europa.eu/resource/authority/file-type/CSV</a></td>\n",
       "<td class=val><a href=\"https://opendata.oldenburg.de/\" target=\"_other\">https://opendata.oldenburg.de/</a></td></tr><tr class=odd><td class=val>Studierendenzahlen der Universität Oldenburg</td>\n",
       "<td class=val><a href=\"http://publications.europa.eu/resource/authority/file-type/PDF\" target=\"_other\">http://publications.europa.eu/resource/authority/file-type/PDF</a></td>\n",
       "<td class=val><a href=\"https://opendata.oldenburg.de/\" target=\"_other\">https://opendata.oldenburg.de/</a></td></tr><tr class=even><td class=val>Studierendenzahlen der Universität Oldenburg</td>\n",
       "<td class=val><a href=\"http://publications.europa.eu/resource/authority/file-type/XLSX\" target=\"_other\">http://publications.europa.eu/resource/authority/file-type/XLSX</a></td>\n",
       "<td class=val><a href=\"https://opendata.oldenburg.de/\" target=\"_other\">https://opendata.oldenburg.de/</a></td></tr><tr class=odd><td class=val>Baufertigstellungsstatistik: Errichtung neuer Wohngebäude und Wohnheime</td>\n",
       "<td class=val><a href=\"http://publications.europa.eu/resource/authority/file-type/CSV\" target=\"_other\">http://publications.europa.eu/resource/authority/file-type/CSV</a></td>\n",
       "<td class=val><a href=\"http://dcat-ap.de/def/contributors/stadtOldenburg\" target=\"_other\">http://dcat-ap.de/def/contributors/stadtOldenburg</a></td></tr><tr class=even><td class=val>Baufertigstellungsstatistik: Errichtung neuer Wohngebäude und Wohnheime</td>\n",
       "<td class=val><a href=\"http://publications.europa.eu/resource/authority/file-type/XLSX\" target=\"_other\">http://publications.europa.eu/resource/authority/file-type/XLSX</a></td>\n",
       "<td class=val><a href=\"http://dcat-ap.de/def/contributors/stadtOldenburg\" target=\"_other\">http://dcat-ap.de/def/contributors/stadtOldenburg</a></td></tr><tr class=odd><td class=val>Baufertigstellungsstatistik: Errichtung neuer Wohngebäude und Wohnheime</td>\n",
       "<td class=val><a href=\"http://publications.europa.eu/resource/authority/file-type/PDF\" target=\"_other\">http://publications.europa.eu/resource/authority/file-type/PDF</a></td>\n",
       "<td class=val><a href=\"http://dcat-ap.de/def/contributors/stadtOldenburg\" target=\"_other\">http://dcat-ap.de/def/contributors/stadtOldenburg</a></td></tr><tr class=even><td class=val>Baufertigstellungsstatistik: Errichtung neuer Wohngebäude und Wohnheime</td>\n",
       "<td class=val><a href=\"http://publications.europa.eu/resource/authority/file-type/CSV\" target=\"_other\">http://publications.europa.eu/resource/authority/file-type/CSV</a></td>\n",
       "<td class=val><a href=\"https://opendata.oldenburg.de/\" target=\"_other\">https://opendata.oldenburg.de/</a></td></tr></table><div class=\"tinfo\">Total: 100, Shown: 20</div></div>"
      ]
     },
     "metadata": {},
     "output_type": "display_data"
    }
   ],
   "source": [
    "PREFIX dcat: <http://www.w3.org/ns/dcat#>\n",
    "PREFIX dct: <http://purl.org/dc/terms/>\n",
    "PREFIX dcatde: <http://dcat-ap.de/def/dcatde/>\n",
    "PREFIX rdfs: <http://www.w3.org/2000/01/rdf-schema#>\n",
    "\n",
    "SELECT DISTINCT ?datasetTitle ?format ?contributorID\n",
    "WHERE {\n",
    "  ?datasetURI a dcat:Dataset;\n",
    "              dct:title ?datasetTitle;\n",
    "              dcatde:contributorID ?contributorID.\n",
    "  FILTER(CONTAINS(LCASE(STR(?contributorID)), \"augsburg\") || CONTAINS(LCASE(STR(?contributorID)), \"nürnberg\") || CONTAINS(LCASE(STR(?contributorID)), \"oldenburg\"))\n",
    "\n",
    "  OPTIONAL {\n",
    "    ?datasetURI dcat:distribution ?distribution.\n",
    "    OPTIONAL { ?distribution dct:format ?format. }\n",
    "  }\n",
    "}\n",
    "LIMIT 100"
   ]
  },
  {
   "cell_type": "code",
   "execution_count": null,
   "id": "70532d82",
   "metadata": {
    "vscode": {
     "languageId": "python"
    }
   },
   "outputs": [
    {
     "data": {
      "text/html": [
       "<div class=\"krn-spql\"><table><tr class=hdr><th>datasetTitle</th>\n",
       "<th>format</th>\n",
       "<th>contributorID</th>\n",
       "<th>modified</th></tr><tr class=odd><td class=val>Güterumschlag im Hafen in der Stadt Oldenburg</td>\n",
       "<td class=val><a href=\"http://publications.europa.eu/resource/authority/file-type/PDF\" target=\"_other\">http://publications.europa.eu/resource/authority/file-type/PDF</a></td>\n",
       "<td class=val><a href=\"http://dcat-ap.de/def/contributors/stadtOldenburg\" target=\"_other\">http://dcat-ap.de/def/contributors/stadtOldenburg</a></td>\n",
       "<td class=val>2024-06-27T10:53:56+02:00</td></tr><tr class=even><td class=val>Güterumschlag im Hafen in der Stadt Oldenburg</td>\n",
       "<td class=val><a href=\"http://publications.europa.eu/resource/authority/file-type/CSV\" target=\"_other\">http://publications.europa.eu/resource/authority/file-type/CSV</a></td>\n",
       "<td class=val><a href=\"http://dcat-ap.de/def/contributors/stadtOldenburg\" target=\"_other\">http://dcat-ap.de/def/contributors/stadtOldenburg</a></td>\n",
       "<td class=val>2024-06-27T10:53:56+02:00</td></tr><tr class=odd><td class=val>Güterumschlag im Hafen in der Stadt Oldenburg</td>\n",
       "<td class=val><a href=\"http://publications.europa.eu/resource/authority/file-type/PDF\" target=\"_other\">http://publications.europa.eu/resource/authority/file-type/PDF</a></td>\n",
       "<td class=val><a href=\"https://opendata.oldenburg.de/\" target=\"_other\">https://opendata.oldenburg.de/</a></td>\n",
       "<td class=val>2024-06-27T10:53:56+02:00</td></tr><tr class=even><td class=val>Güterumschlag im Hafen in der Stadt Oldenburg</td>\n",
       "<td class=val><a href=\"http://publications.europa.eu/resource/authority/file-type/CSV\" target=\"_other\">http://publications.europa.eu/resource/authority/file-type/CSV</a></td>\n",
       "<td class=val><a href=\"https://opendata.oldenburg.de/\" target=\"_other\">https://opendata.oldenburg.de/</a></td>\n",
       "<td class=val>2024-06-27T10:53:56+02:00</td></tr><tr class=odd><td class=val>Wanderungsbewegungen</td>\n",
       "<td class=val><a href=\"http://publications.europa.eu/resource/authority/file-type/PDF\" target=\"_other\">http://publications.europa.eu/resource/authority/file-type/PDF</a></td>\n",
       "<td class=val><a href=\"http://dcat-ap.de/def/contributors/stadtOldenburg\" target=\"_other\">http://dcat-ap.de/def/contributors/stadtOldenburg</a></td>\n",
       "<td class=val>2023-08-10T08:22:39+02:00</td></tr><tr class=even><td class=val>Wanderungsbewegungen</td>\n",
       "<td class=val><a href=\"http://publications.europa.eu/resource/authority/file-type/XLSX\" target=\"_other\">http://publications.europa.eu/resource/authority/file-type/XLSX</a></td>\n",
       "<td class=val><a href=\"http://dcat-ap.de/def/contributors/stadtOldenburg\" target=\"_other\">http://dcat-ap.de/def/contributors/stadtOldenburg</a></td>\n",
       "<td class=val>2023-08-10T08:22:39+02:00</td></tr><tr class=odd><td class=val>Wanderungsbewegungen</td>\n",
       "<td class=val><a href=\"http://publications.europa.eu/resource/authority/file-type/CSV\" target=\"_other\">http://publications.europa.eu/resource/authority/file-type/CSV</a></td>\n",
       "<td class=val><a href=\"http://dcat-ap.de/def/contributors/stadtOldenburg\" target=\"_other\">http://dcat-ap.de/def/contributors/stadtOldenburg</a></td>\n",
       "<td class=val>2023-08-10T08:22:39+02:00</td></tr><tr class=even><td class=val>Wanderungsbewegungen</td>\n",
       "<td class=val><a href=\"http://publications.europa.eu/resource/authority/file-type/PDF\" target=\"_other\">http://publications.europa.eu/resource/authority/file-type/PDF</a></td>\n",
       "<td class=val><a href=\"https://opendata.oldenburg.de/\" target=\"_other\">https://opendata.oldenburg.de/</a></td>\n",
       "<td class=val>2023-08-10T08:22:39+02:00</td></tr><tr class=odd><td class=val>Wanderungsbewegungen</td>\n",
       "<td class=val><a href=\"http://publications.europa.eu/resource/authority/file-type/XLSX\" target=\"_other\">http://publications.europa.eu/resource/authority/file-type/XLSX</a></td>\n",
       "<td class=val><a href=\"https://opendata.oldenburg.de/\" target=\"_other\">https://opendata.oldenburg.de/</a></td>\n",
       "<td class=val>2023-08-10T08:22:39+02:00</td></tr><tr class=even><td class=val>Wanderungsbewegungen</td>\n",
       "<td class=val><a href=\"http://publications.europa.eu/resource/authority/file-type/CSV\" target=\"_other\">http://publications.europa.eu/resource/authority/file-type/CSV</a></td>\n",
       "<td class=val><a href=\"https://opendata.oldenburg.de/\" target=\"_other\">https://opendata.oldenburg.de/</a></td>\n",
       "<td class=val>2023-08-10T08:22:39+02:00</td></tr><tr class=odd><td class=val>Studierendenzahlen der Universität Oldenburg</td>\n",
       "<td class=val><a href=\"http://publications.europa.eu/resource/authority/file-type/CSV\" target=\"_other\">http://publications.europa.eu/resource/authority/file-type/CSV</a></td>\n",
       "<td class=val><a href=\"http://dcat-ap.de/def/contributors/stadtOldenburg\" target=\"_other\">http://dcat-ap.de/def/contributors/stadtOldenburg</a></td>\n",
       "<td class=val>2023-03-23T10:39:53+01:00</td></tr><tr class=even><td class=val>Studierendenzahlen der Universität Oldenburg</td>\n",
       "<td class=val><a href=\"http://publications.europa.eu/resource/authority/file-type/PDF\" target=\"_other\">http://publications.europa.eu/resource/authority/file-type/PDF</a></td>\n",
       "<td class=val><a href=\"http://dcat-ap.de/def/contributors/stadtOldenburg\" target=\"_other\">http://dcat-ap.de/def/contributors/stadtOldenburg</a></td>\n",
       "<td class=val>2023-03-23T10:39:53+01:00</td></tr><tr class=odd><td class=val>Studierendenzahlen der Universität Oldenburg</td>\n",
       "<td class=val><a href=\"http://publications.europa.eu/resource/authority/file-type/XLSX\" target=\"_other\">http://publications.europa.eu/resource/authority/file-type/XLSX</a></td>\n",
       "<td class=val><a href=\"http://dcat-ap.de/def/contributors/stadtOldenburg\" target=\"_other\">http://dcat-ap.de/def/contributors/stadtOldenburg</a></td>\n",
       "<td class=val>2023-03-23T10:39:53+01:00</td></tr><tr class=even><td class=val>Studierendenzahlen der Universität Oldenburg</td>\n",
       "<td class=val><a href=\"http://publications.europa.eu/resource/authority/file-type/CSV\" target=\"_other\">http://publications.europa.eu/resource/authority/file-type/CSV</a></td>\n",
       "<td class=val><a href=\"https://opendata.oldenburg.de/\" target=\"_other\">https://opendata.oldenburg.de/</a></td>\n",
       "<td class=val>2023-03-23T10:39:53+01:00</td></tr><tr class=odd><td class=val>Studierendenzahlen der Universität Oldenburg</td>\n",
       "<td class=val><a href=\"http://publications.europa.eu/resource/authority/file-type/PDF\" target=\"_other\">http://publications.europa.eu/resource/authority/file-type/PDF</a></td>\n",
       "<td class=val><a href=\"https://opendata.oldenburg.de/\" target=\"_other\">https://opendata.oldenburg.de/</a></td>\n",
       "<td class=val>2023-03-23T10:39:53+01:00</td></tr><tr class=even><td class=val>Studierendenzahlen der Universität Oldenburg</td>\n",
       "<td class=val><a href=\"http://publications.europa.eu/resource/authority/file-type/XLSX\" target=\"_other\">http://publications.europa.eu/resource/authority/file-type/XLSX</a></td>\n",
       "<td class=val><a href=\"https://opendata.oldenburg.de/\" target=\"_other\">https://opendata.oldenburg.de/</a></td>\n",
       "<td class=val>2023-03-23T10:39:53+01:00</td></tr><tr class=odd><td class=val>Baufertigstellungsstatistik: Errichtung neuer Wohngebäude und Wohnheime</td>\n",
       "<td class=val><a href=\"http://publications.europa.eu/resource/authority/file-type/CSV\" target=\"_other\">http://publications.europa.eu/resource/authority/file-type/CSV</a></td>\n",
       "<td class=val><a href=\"http://dcat-ap.de/def/contributors/stadtOldenburg\" target=\"_other\">http://dcat-ap.de/def/contributors/stadtOldenburg</a></td>\n",
       "<td class=val>2023-07-28T12:27:07+02:00</td></tr><tr class=even><td class=val>Baufertigstellungsstatistik: Errichtung neuer Wohngebäude und Wohnheime</td>\n",
       "<td class=val><a href=\"http://publications.europa.eu/resource/authority/file-type/XLSX\" target=\"_other\">http://publications.europa.eu/resource/authority/file-type/XLSX</a></td>\n",
       "<td class=val><a href=\"http://dcat-ap.de/def/contributors/stadtOldenburg\" target=\"_other\">http://dcat-ap.de/def/contributors/stadtOldenburg</a></td>\n",
       "<td class=val>2023-07-28T12:27:07+02:00</td></tr><tr class=odd><td class=val>Baufertigstellungsstatistik: Errichtung neuer Wohngebäude und Wohnheime</td>\n",
       "<td class=val><a href=\"http://publications.europa.eu/resource/authority/file-type/PDF\" target=\"_other\">http://publications.europa.eu/resource/authority/file-type/PDF</a></td>\n",
       "<td class=val><a href=\"http://dcat-ap.de/def/contributors/stadtOldenburg\" target=\"_other\">http://dcat-ap.de/def/contributors/stadtOldenburg</a></td>\n",
       "<td class=val>2023-07-28T12:27:07+02:00</td></tr><tr class=even><td class=val>Baufertigstellungsstatistik: Errichtung neuer Wohngebäude und Wohnheime</td>\n",
       "<td class=val><a href=\"http://publications.europa.eu/resource/authority/file-type/CSV\" target=\"_other\">http://publications.europa.eu/resource/authority/file-type/CSV</a></td>\n",
       "<td class=val><a href=\"https://opendata.oldenburg.de/\" target=\"_other\">https://opendata.oldenburg.de/</a></td>\n",
       "<td class=val>2023-07-28T12:27:07+02:00</td></tr></table><div class=\"tinfo\">Total: 100, Shown: 20</div></div>"
      ]
     },
     "metadata": {},
     "output_type": "display_data"
    }
   ],
   "source": [
    "PREFIX dcat: <http://www.w3.org/ns/dcat#>\n",
    "PREFIX dct: <http://purl.org/dc/terms/>\n",
    "PREFIX dcatde: <http://dcat-ap.de/def/dcatde/>\n",
    "PREFIX rdfs: <http://www.w3.org/2000/01/rdf-schema#>\n",
    "\n",
    "SELECT DISTINCT ?datasetTitle ?format ?contributorID ?modified\n",
    "WHERE {\n",
    "  ?datasetURI a dcat:Dataset;\n",
    "              dct:title ?datasetTitle;\n",
    "              dcatde:contributorID ?contributorID;\n",
    "              dct:modified ?modified.\n",
    "  FILTER(CONTAINS(LCASE(STR(?contributorID)), \"augsburg\") || CONTAINS(LCASE(STR(?contributorID)), \"nuernberg\") || CONTAINS(LCASE(STR(?contributorID)), \"oldenburg\"))\n",
    "  FILTER(CONTAINS(STR(?modified), \"2020\") || CONTAINS(STR(?modified), \"2021\") || CONTAINS(STR(?modified), \"2022\") || CONTAINS(STR(?modified), \"2023\") || CONTAINS(STR(?modified), \"2024\"))\n",
    "\n",
    "  OPTIONAL {\n",
    "    ?datasetURI dcat:distribution ?distribution.\n",
    "    OPTIONAL { ?distribution dct:format ?format. }\n",
    "  }\n",
    "}\n",
    "LIMIT 100"
   ]
  },
  {
   "cell_type": "code",
   "execution_count": null,
   "id": "d8018961",
   "metadata": {
    "vscode": {
     "languageId": "python"
    }
   },
   "outputs": [
    {
     "data": {
      "text/html": [
       "<div class=\"krn-spql\"><table><tr class=hdr><th>contributorID</th>\n",
       "<th>formatCount</th></tr><tr class=odd><td class=val><a href=\"http://dcat-ap.de/def/contributors/stadtOldenburg\" target=\"_other\">http://dcat-ap.de/def/contributors/stadtOldenburg</a></td>\n",
       "<td class=val>6</td></tr><tr class=even><td class=val><a href=\"https://opendata.oldenburg.de/\" target=\"_other\">https://opendata.oldenburg.de/</a></td>\n",
       "<td class=val>6</td></tr></table><div class=\"tinfo\">Total: 2, Shown: 2</div></div>"
      ]
     },
     "metadata": {},
     "output_type": "display_data"
    }
   ],
   "source": [
    "PREFIX dcat: <http://www.w3.org/ns/dcat#>\n",
    "PREFIX dct: <http://purl.org/dc/terms/>\n",
    "PREFIX dcatde: <http://dcat-ap.de/def/dcatde/>\n",
    "PREFIX rdfs: <http://www.w3.org/2000/01/rdf-schema#>\n",
    "\n",
    "SELECT ?contributorID (COUNT(DISTINCT ?format) AS ?formatCount)\n",
    "WHERE {\n",
    "  ?datasetURI a dcat:Dataset;\n",
    "              dct:title ?datasetTitle;\n",
    "              dcatde:contributorID ?contributorID;\n",
    "              dct:modified ?modified.\n",
    "  FILTER(CONTAINS(LCASE(STR(?contributorID)), \"augsburg\") || CONTAINS(LCASE(STR(?contributorID)), \"nuernberg\") || CONTAINS(LCASE(STR(?contributorID)), \"oldenburg\"))\n",
    "  FILTER(CONTAINS(STR(?modified), \"2020\") || CONTAINS(STR(?modified), \"2021\") || CONTAINS(STR(?modified), \"2022\") || CONTAINS(STR(?modified), \"2023\") || CONTAINS(STR(?modified), \"2024\"))\n",
    "\n",
    "  OPTIONAL {\n",
    "    ?datasetURI dcat:distribution ?distribution.\n",
    "    OPTIONAL { ?distribution dct:format ?format. }\n",
    "  }\n",
    "}\n",
    "GROUP BY ?contributorID\n",
    "ORDER BY DESC(?formatCount)\n",
    "LIMIT 100"
   ]
  },
  {
   "cell_type": "code",
   "execution_count": 14,
   "id": "8d44b1cd",
   "metadata": {
    "vscode": {
     "languageId": "python"
    }
   },
   "outputs": [
    {
     "data": {
      "text/html": [
       "<div class=\"krn-spql\"><table><tr class=hdr><th>datasetTitle</th>\n",
       "<th>format</th></tr><tr class=odd><td class=val>Siedlungsbereiche</td>\n",
       "<td class=val></td></tr><tr class=even><td class=val>Gesetzlich geschützte Biotope</td>\n",
       "<td class=val></td></tr><tr class=odd><td class=val>Gesetzlich geschützte Wallhecken</td>\n",
       "<td class=val></td></tr><tr class=even><td class=val>Umringe rechtsverbindlicher Bebauungspläne</td>\n",
       "<td class=val></td></tr><tr class=odd><td class=val>Hundesteuer</td>\n",
       "<td class=val><a href=\"http://publications.europa.eu/resource/authority/file-type/CSV\" target=\"_other\">http://publications.europa.eu/resource/authority/file-type/CSV</a></td></tr><tr class=even><td class=val>Cáin ar mhadraí</td>\n",
       "<td class=val><a href=\"http://publications.europa.eu/resource/authority/file-type/CSV\" target=\"_other\">http://publications.europa.eu/resource/authority/file-type/CSV</a></td></tr><tr class=odd><td class=val>Davek na pse</td>\n",
       "<td class=val><a href=\"http://publications.europa.eu/resource/authority/file-type/CSV\" target=\"_other\">http://publications.europa.eu/resource/authority/file-type/CSV</a></td></tr><tr class=even><td class=val>Daň pre psov</td>\n",
       "<td class=val><a href=\"http://publications.europa.eu/resource/authority/file-type/CSV\" target=\"_other\">http://publications.europa.eu/resource/authority/file-type/CSV</a></td></tr><tr class=odd><td class=val>Dog tax</td>\n",
       "<td class=val><a href=\"http://publications.europa.eu/resource/authority/file-type/CSV\" target=\"_other\">http://publications.europa.eu/resource/authority/file-type/CSV</a></td></tr><tr class=even><td class=val>Hondenbelasting</td>\n",
       "<td class=val><a href=\"http://publications.europa.eu/resource/authority/file-type/CSV\" target=\"_other\">http://publications.europa.eu/resource/authority/file-type/CSV</a></td></tr><tr class=odd><td class=val>Hundeskat</td>\n",
       "<td class=val><a href=\"http://publications.europa.eu/resource/authority/file-type/CSV\" target=\"_other\">http://publications.europa.eu/resource/authority/file-type/CSV</a></td></tr><tr class=even><td class=val>Hundskatt</td>\n",
       "<td class=val><a href=\"http://publications.europa.eu/resource/authority/file-type/CSV\" target=\"_other\">http://publications.europa.eu/resource/authority/file-type/CSV</a></td></tr><tr class=odd><td class=val>Imposto sobre cães</td>\n",
       "<td class=val><a href=\"http://publications.europa.eu/resource/authority/file-type/CSV\" target=\"_other\">http://publications.europa.eu/resource/authority/file-type/CSV</a></td></tr><tr class=even><td class=val>Impuesto de perro</td>\n",
       "<td class=val><a href=\"http://publications.europa.eu/resource/authority/file-type/CSV\" target=\"_other\">http://publications.europa.eu/resource/authority/file-type/CSV</a></td></tr><tr class=odd><td class=val>Koeramaks</td>\n",
       "<td class=val><a href=\"http://publications.europa.eu/resource/authority/file-type/CSV\" target=\"_other\">http://publications.europa.eu/resource/authority/file-type/CSV</a></td></tr><tr class=even><td class=val>Koiran vero</td>\n",
       "<td class=val><a href=\"http://publications.europa.eu/resource/authority/file-type/CSV\" target=\"_other\">http://publications.europa.eu/resource/authority/file-type/CSV</a></td></tr><tr class=odd><td class=val>Kutya adó</td>\n",
       "<td class=val><a href=\"http://publications.europa.eu/resource/authority/file-type/CSV\" target=\"_other\">http://publications.europa.eu/resource/authority/file-type/CSV</a></td></tr><tr class=even><td class=val>Podatek od psów</td>\n",
       "<td class=val><a href=\"http://publications.europa.eu/resource/authority/file-type/CSV\" target=\"_other\">http://publications.europa.eu/resource/authority/file-type/CSV</a></td></tr><tr class=odd><td class=val>Porez na pse</td>\n",
       "<td class=val><a href=\"http://publications.europa.eu/resource/authority/file-type/CSV\" target=\"_other\">http://publications.europa.eu/resource/authority/file-type/CSV</a></td></tr><tr class=even><td class=val>Psí daň</td>\n",
       "<td class=val><a href=\"http://publications.europa.eu/resource/authority/file-type/CSV\" target=\"_other\">http://publications.europa.eu/resource/authority/file-type/CSV</a></td></tr></table><div class=\"tinfo\">Total: 50000, Shown: 20</div></div>"
      ]
     },
     "metadata": {},
     "output_type": "display_data"
    }
   ],
   "source": [
    "PREFIX dcat: <http://www.w3.org/ns/dcat#>\n",
    "PREFIX dct: <http://purl.org/dc/terms/>\n",
    "PREFIX dcatde: <http://dcat-ap.de/def/dcatde/>\n",
    "PREFIX rdfs: <http://www.w3.org/2000/01/rdf-schema#>\n",
    "\n",
    "SELECT DISTINCT ?datasetTitle ?format \n",
    "WHERE {\n",
    "  ?datasetURI a dcat:Dataset;\n",
    "              dct:title ?datasetTitle;\n",
    "              dcatde:contributorID ?contributorID;\n",
    "              dct:modified ?modified.\n",
    "  FILTER(CONTAINS(LCASE(STR(?contributorID)), \"bremen\") || CONTAINS(LCASE(STR(?contributorID)), \"hamburg\") || CONTAINS(LCASE(STR(?contributorID)), \"oldenburg\"))\n",
    "  FILTER(CONTAINS(STR(?modified), \"2020\") || CONTAINS(STR(?modified), \"2021\") || CONTAINS(STR(?modified), \"2022\") || CONTAINS(STR(?modified), \"2023\") || CONTAINS(STR(?modified), \"2024\"))\n",
    "\n",
    "  OPTIONAL {\n",
    "    ?datasetURI dcat:distribution ?distribution.\n",
    "    OPTIONAL { ?distribution dct:format ?format. }\n",
    "  }\n",
    "}\n",
    "ORDER BY ?contributorID ?format"
   ]
  },
  {
   "cell_type": "code",
   "execution_count": 13,
   "id": "86c2706c",
   "metadata": {
    "vscode": {
     "languageId": "python"
    }
   },
   "outputs": [
    {
     "data": {
      "text/html": [
       "<div class=\"krn-spql\"><table><tr class=hdr><th>format</th></tr><tr class=odd><td class=val>ASCII</td></tr><tr class=even><td class=val>CITYGML</td></tr><tr class=odd><td class=val>CSV</td></tr><tr class=even><td class=val>DOCX</td></tr><tr class=odd><td class=val>DXF</td></tr><tr class=even><td class=val>ERT</td></tr><tr class=odd><td class=val>GEOTIFF</td></tr><tr class=even><td class=val>GML</td></tr><tr class=odd><td class=val>HTML</td></tr><tr class=even><td class=val>JPEG</td></tr><tr class=odd><td class=val>JSON</td></tr><tr class=even><td class=val>MQTT</td></tr><tr class=odd><td class=val>OAF</td></tr><tr class=even><td class=val>OV2</td></tr><tr class=odd><td class=val>PDF</td></tr><tr class=even><td class=val>PNG</td></tr><tr class=odd><td class=val>RAR</td></tr><tr class=even><td class=val>SHAPEFILES</td></tr><tr class=odd><td class=val>STA</td></tr><tr class=even><td class=val>TIFF</td></tr></table><div class=\"tinfo\">Total: 36, Shown: 20</div></div>"
      ]
     },
     "metadata": {},
     "output_type": "display_data"
    }
   ],
   "source": [
    "PREFIX dcat: <http://www.w3.org/ns/dcat#>\n",
    "PREFIX dct: <http://purl.org/dc/terms/>\n",
    "PREFIX dcatde: <http://dcat-ap.de/def/dcatde/>\n",
    "PREFIX rdfs: <http://www.w3.org/2000/01/rdf-schema#>\n",
    "\n",
    "SELECT DISTINCT ?format\n",
    "WHERE {\n",
    "  ?datasetURI a dcat:Dataset;\n",
    "              dcatde:contributorID ?contributorID;\n",
    "              dct:modified ?modified.\n",
    "  FILTER(CONTAINS(LCASE(STR(?contributorID)), \"bremen\") || CONTAINS(LCASE(STR(?contributorID)), \"hamburg\") || CONTAINS(LCASE(STR(?contributorID)), \"oldenburg\"))\n",
    "  FILTER(CONTAINS(STR(?modified), \"2020\") || CONTAINS(STR(?modified), \"2021\") || CONTAINS(STR(?modified), \"2022\") || CONTAINS(STR(?modified), \"2023\") || CONTAINS(STR(?modified), \"2024\"))\n",
    "\n",
    "  ?datasetURI dcat:distribution ?distribution.\n",
    "  ?distribution dct:format ?format.\n",
    "}\n",
    "ORDER BY ?format"
   ]
  },
  {
   "cell_type": "code",
   "execution_count": null,
   "id": "0e2985d9",
   "metadata": {
    "vscode": {
     "languageId": "python"
    }
   },
   "outputs": [
    {
     "data": {
      "text/html": [
       "<div class=\"krn-spql\"><table><tr class=hdr><th>datasetURI</th>\n",
       "<th>datasetTitle</th>\n",
       "<th>contributorID</th>\n",
       "<th>format</th>\n",
       "<th>modified</th></tr></table><div class=\"tinfo\">Total: 0, Shown: 0</div></div>"
      ]
     },
     "metadata": {},
     "output_type": "display_data"
    }
   ],
   "source": [
    "PREFIX dcat: <http://www.w3.org/ns/dcat#>\n",
    "PREFIX dct: <http://purl.org/dc/terms/>\n",
    "PREFIX dcatde: <http://dcat-ap.de/def/dcatde/>\n",
    "PREFIX rdfs: <http://www.w3.org/2000/01/rdf-schema#>\n",
    "\n",
    "SELECT DISTINCT ?datasetURI ?datasetTitle ?contributorID ?format ?modified\n",
    "WHERE {\n",
    "  ?datasetURI a dcat:Dataset;\n",
    "              dcat:datasetTitle ?datasetTitle;\n",
    "              dcatde:contributorID ?contributorID;\n",
    "              dct:modified ?modified.\n",
    "  FILTER(CONTAINS(STR(?modified), \"2020\") || CONTAINS(STR(?modified), \"2021\") || CONTAINS(STR(?modified), \"2022\") || CONTAINS(STR(?modified), \"2023\") || CONTAINS(STR(?modified), \"2024\"))\n",
    "\n",
    "\n",
    "  ?datasetURI dcat:distribution ?distribution.\n",
    "  ?distribution dct:format ?format.\n",
    "}\n",
    "LIMIT 100"
   ]
  },
  {
   "cell_type": "code",
   "execution_count": null,
   "id": "e179a36e",
   "metadata": {
    "vscode": {
     "languageId": "python"
    }
   },
   "outputs": [
    {
     "data": {
      "text/html": [
       "<div class=\"krn-spql\"><table><tr class=hdr><th>datasetURI</th>\n",
       "<th>datasetTitle</th>\n",
       "<th>contributorID</th>\n",
       "<th>stateKey</th>\n",
       "<th>format</th>\n",
       "<th>modified</th></tr><tr class=odd><td class=val><a href=\"https://gdk.gdi-de.org/inspire/srv/eng/xml_iso19139?uuid=19676799-FEDB-4D1A-A89A-26FBA887B3F0\" target=\"_other\">https://gdk.gdi-de.org/inspire/srv/eng/xml_iso19139?uuid=19676799-FEDB-4D1A-A89A-26FBA887B3F0</a></td>\n",
       "<td class=val>Straßenbaumkataster Hamburger Hafen</td>\n",
       "<td class=val><a href=\"http://dcat-ap.de/def/contributors/gdiDE\" target=\"_other\">http://dcat-ap.de/def/contributors/gdiDE</a></td>\n",
       "<td class=val></td>\n",
       "<td class=val><a href=\"http://publications.europa.eu/resource/authority/file-type/GML\" target=\"_other\">http://publications.europa.eu/resource/authority/file-type/GML</a></td>\n",
       "<td class=val>2024-07-02</td></tr><tr class=even><td class=val><a href=\"https://gdk.gdi-de.org/inspire/srv/eng/xml_iso19139?uuid=19676799-FEDB-4D1A-A89A-26FBA887B3F0\" target=\"_other\">https://gdk.gdi-de.org/inspire/srv/eng/xml_iso19139?uuid=19676799-FEDB-4D1A-A89A-26FBA887B3F0</a></td>\n",
       "<td class=val>Straßenbaumkataster Hamburger Hafen</td>\n",
       "<td class=val><a href=\"http://dcat-ap.de/def/contributors/gdiDE\" target=\"_other\">http://dcat-ap.de/def/contributors/gdiDE</a></td>\n",
       "<td class=val></td>\n",
       "<td class=val><a href=\"http://publications.europa.eu/resource/authority/file-type/MDB\" target=\"_other\">http://publications.europa.eu/resource/authority/file-type/MDB</a></td>\n",
       "<td class=val>2024-07-02</td></tr><tr class=odd><td class=val><a href=\"https://gdk.gdi-de.org/inspire/srv/eng/xml_iso19139?uuid=19676799-FEDB-4D1A-A89A-26FBA887B3F0\" target=\"_other\">https://gdk.gdi-de.org/inspire/srv/eng/xml_iso19139?uuid=19676799-FEDB-4D1A-A89A-26FBA887B3F0</a></td>\n",
       "<td class=val>Straßenbaumkataster Hamburger Hafen</td>\n",
       "<td class=val><a href=\"http://dcat-ap.de/def/contributors/gdiDE\" target=\"_other\">http://dcat-ap.de/def/contributors/gdiDE</a></td>\n",
       "<td class=val></td>\n",
       "<td class=val><a href=\"http://publications.europa.eu/resource/authority/file-type/CSV\" target=\"_other\">http://publications.europa.eu/resource/authority/file-type/CSV</a></td>\n",
       "<td class=val>2024-07-02</td></tr><tr class=even><td class=val><a href=\"https://gdk.gdi-de.org/inspire/srv/eng/xml_iso19139?uuid=19676799-FEDB-4D1A-A89A-26FBA887B3F0\" target=\"_other\">https://gdk.gdi-de.org/inspire/srv/eng/xml_iso19139?uuid=19676799-FEDB-4D1A-A89A-26FBA887B3F0</a></td>\n",
       "<td class=val>Straßenbaumkataster Hamburger Hafen</td>\n",
       "<td class=val><a href=\"http://dcat-ap.de/def/contributors/gdiDE\" target=\"_other\">http://dcat-ap.de/def/contributors/gdiDE</a></td>\n",
       "<td class=val></td>\n",
       "<td class=val><a href=\"http://publications.europa.eu/resource/authority/file-type/GEOJSON\" target=\"_other\">http://publications.europa.eu/resource/authority/file-type/GEOJSON</a></td>\n",
       "<td class=val>2024-07-02</td></tr><tr class=odd><td class=val><a href=\"https://offenedaten.frankfurt.de/dataset/73c5a6b3-c033-4dad-bb7d-8783427dd233\" target=\"_other\">https://offenedaten.frankfurt.de/dataset/73c5a6b3-c033-4dad-bb7d-8783427dd233</a></td>\n",
       "<td class=val>Baumkataster Frankfurt am Main</td>\n",
       "<td class=val><a href=\"http://dcat-ap.de/def/contributors/stadtFrankfurtAmMain\" target=\"_other\">http://dcat-ap.de/def/contributors/stadtFrankfurtAmMain</a></td>\n",
       "<td class=val></td>\n",
       "<td class=val><a href=\"http://publications.europa.eu/resource/authority/file-type/CSV\" target=\"_other\">http://publications.europa.eu/resource/authority/file-type/CSV</a></td>\n",
       "<td class=val>2023-08-23T05:44:14.694853</td></tr><tr class=even><td class=val><a href=\"https://opendata.schleswig-holstein.de/dataset/cfbe70e6-6078-42db-8c9b-f8745ee8916e\" target=\"_other\">https://opendata.schleswig-holstein.de/dataset/cfbe70e6-6078-42db-8c9b-f8745ee8916e</a></td>\n",
       "<td class=val>Baumkataster</td>\n",
       "<td class=val><a href=\"http://dcat-ap.de/def/contributors/schleswigHolstein\" target=\"_other\">http://dcat-ap.de/def/contributors/schleswigHolstein</a></td>\n",
       "<td class=val></td>\n",
       "<td class=val><a href=\"http://publications.europa.eu/resource/authority/file-type/SHP\" target=\"_other\">http://publications.europa.eu/resource/authority/file-type/SHP</a></td>\n",
       "<td class=val>2023-06-09T05:25:52.631385</td></tr><tr class=odd><td class=val><a href=\"https://opendata.stadt-muenster.de/dataset/digitales-baumkataster-m%C3%BCnster\" target=\"_other\">https://opendata.stadt-muenster.de/dataset/digitales-baumkataster-m%C3%BCnster</a></td>\n",
       "<td class=val>Digitales Baumkataster Münster</td>\n",
       "<td class=val><a href=\"http://dcat-ap.de/def/contributors/openNRW\" target=\"_other\">http://dcat-ap.de/def/contributors/openNRW</a></td>\n",
       "<td class=val></td>\n",
       "<td class=val>shape</td>\n",
       "<td class=val>2023-01-24T13:05:20+01:00</td></tr><tr class=even><td class=val><a href=\"https://opendata.stadt-muenster.de/dataset/digitales-baumkataster-m%C3%BCnster\" target=\"_other\">https://opendata.stadt-muenster.de/dataset/digitales-baumkataster-m%C3%BCnster</a></td>\n",
       "<td class=val>Digitales Baumkataster Münster</td>\n",
       "<td class=val><a href=\"http://dcat-ap.de/def/contributors/openNRW\" target=\"_other\">http://dcat-ap.de/def/contributors/openNRW</a></td>\n",
       "<td class=val></td>\n",
       "<td class=val><a href=\"http://publications.europa.eu/resource/authority/file-type/GEOJSON\" target=\"_other\">http://publications.europa.eu/resource/authority/file-type/GEOJSON</a></td>\n",
       "<td class=val>2023-01-24T13:05:20+01:00</td></tr><tr class=odd><td class=val><a href=\"https://opendata.stadt-muenster.de/dataset/digitales-baumkataster-m%C3%BCnster\" target=\"_other\">https://opendata.stadt-muenster.de/dataset/digitales-baumkataster-m%C3%BCnster</a></td>\n",
       "<td class=val>Digitales Baumkataster Münster</td>\n",
       "<td class=val><a href=\"http://dcat-ap.de/def/contributors/openNRW\" target=\"_other\">http://dcat-ap.de/def/contributors/openNRW</a></td>\n",
       "<td class=val></td>\n",
       "<td class=val>WMS</td>\n",
       "<td class=val>2023-01-24T13:05:20+01:00</td></tr><tr class=even><td class=val><a href=\"https://opendata.stadt-muenster.de/dataset/digitales-baumkataster-m%C3%BCnster\" target=\"_other\">https://opendata.stadt-muenster.de/dataset/digitales-baumkataster-m%C3%BCnster</a></td>\n",
       "<td class=val>Digitales Baumkataster Münster</td>\n",
       "<td class=val><a href=\"http://dcat-ap.de/def/contributors/openNRW\" target=\"_other\">http://dcat-ap.de/def/contributors/openNRW</a></td>\n",
       "<td class=val></td>\n",
       "<td class=val><a href=\"http://publications.europa.eu/resource/authority/file-type/CSV\" target=\"_other\">http://publications.europa.eu/resource/authority/file-type/CSV</a></td>\n",
       "<td class=val>2023-01-24T13:05:20+01:00</td></tr><tr class=odd><td class=val><a href=\"https://opendata.stadt-muenster.de/dataset/digitales-baumkataster-m%C3%BCnster\" target=\"_other\">https://opendata.stadt-muenster.de/dataset/digitales-baumkataster-m%C3%BCnster</a></td>\n",
       "<td class=val>Digitales Baumkataster Münster</td>\n",
       "<td class=val><a href=\"http://dcat-ap.de/def/contributors/openNRW\" target=\"_other\">http://dcat-ap.de/def/contributors/openNRW</a></td>\n",
       "<td class=val></td>\n",
       "<td class=val>HTML</td>\n",
       "<td class=val>2023-01-24T13:05:20+01:00</td></tr><tr class=even><td class=val><a href=\"https://opendata.stadt-muenster.de/dataset/digitales-baumkataster-m%C3%BCnster\" target=\"_other\">https://opendata.stadt-muenster.de/dataset/digitales-baumkataster-m%C3%BCnster</a></td>\n",
       "<td class=val>Digitales Baumkataster Münster</td>\n",
       "<td class=val><a href=\"http://dcat-ap.de/def/contributors/openNRW\" target=\"_other\">http://dcat-ap.de/def/contributors/openNRW</a></td>\n",
       "<td class=val></td>\n",
       "<td class=val><a href=\"http://publications.europa.eu/resource/authority/file-type/KML\" target=\"_other\">http://publications.europa.eu/resource/authority/file-type/KML</a></td>\n",
       "<td class=val>2023-01-24T13:05:20+01:00</td></tr><tr class=odd><td class=val><a href=\"https://opendata.stadt-muenster.de/dataset/digitales-baumkataster-m%C3%BCnster\" target=\"_other\">https://opendata.stadt-muenster.de/dataset/digitales-baumkataster-m%C3%BCnster</a></td>\n",
       "<td class=val>Digitales Baumkataster Münster</td>\n",
       "<td class=val><a href=\"http://dcat-ap.de/def/contributors/openNRW\" target=\"_other\">http://dcat-ap.de/def/contributors/openNRW</a></td>\n",
       "<td class=val></td>\n",
       "<td class=val>WFS</td>\n",
       "<td class=val>2023-01-24T13:05:20+01:00</td></tr><tr class=even><td class=val><a href=\"https://opendata.stadt-muenster.de/dataset/digitales-baumkataster-m%C3%BCnster\" target=\"_other\">https://opendata.stadt-muenster.de/dataset/digitales-baumkataster-m%C3%BCnster</a></td>\n",
       "<td class=val>Digitales Baumkataster Münster</td>\n",
       "<td class=val><a href=\"https://opendata.stadt-muenster.de/\" target=\"_other\">https://opendata.stadt-muenster.de/</a></td>\n",
       "<td class=val></td>\n",
       "<td class=val>shape</td>\n",
       "<td class=val>2023-01-24T13:05:20+01:00</td></tr><tr class=odd><td class=val><a href=\"https://opendata.stadt-muenster.de/dataset/digitales-baumkataster-m%C3%BCnster\" target=\"_other\">https://opendata.stadt-muenster.de/dataset/digitales-baumkataster-m%C3%BCnster</a></td>\n",
       "<td class=val>Digitales Baumkataster Münster</td>\n",
       "<td class=val><a href=\"https://opendata.stadt-muenster.de/\" target=\"_other\">https://opendata.stadt-muenster.de/</a></td>\n",
       "<td class=val></td>\n",
       "<td class=val><a href=\"http://publications.europa.eu/resource/authority/file-type/GEOJSON\" target=\"_other\">http://publications.europa.eu/resource/authority/file-type/GEOJSON</a></td>\n",
       "<td class=val>2023-01-24T13:05:20+01:00</td></tr><tr class=even><td class=val><a href=\"https://opendata.stadt-muenster.de/dataset/digitales-baumkataster-m%C3%BCnster\" target=\"_other\">https://opendata.stadt-muenster.de/dataset/digitales-baumkataster-m%C3%BCnster</a></td>\n",
       "<td class=val>Digitales Baumkataster Münster</td>\n",
       "<td class=val><a href=\"https://opendata.stadt-muenster.de/\" target=\"_other\">https://opendata.stadt-muenster.de/</a></td>\n",
       "<td class=val></td>\n",
       "<td class=val>WMS</td>\n",
       "<td class=val>2023-01-24T13:05:20+01:00</td></tr><tr class=odd><td class=val><a href=\"https://opendata.stadt-muenster.de/dataset/digitales-baumkataster-m%C3%BCnster\" target=\"_other\">https://opendata.stadt-muenster.de/dataset/digitales-baumkataster-m%C3%BCnster</a></td>\n",
       "<td class=val>Digitales Baumkataster Münster</td>\n",
       "<td class=val><a href=\"https://opendata.stadt-muenster.de/\" target=\"_other\">https://opendata.stadt-muenster.de/</a></td>\n",
       "<td class=val></td>\n",
       "<td class=val><a href=\"http://publications.europa.eu/resource/authority/file-type/CSV\" target=\"_other\">http://publications.europa.eu/resource/authority/file-type/CSV</a></td>\n",
       "<td class=val>2023-01-24T13:05:20+01:00</td></tr><tr class=even><td class=val><a href=\"https://opendata.stadt-muenster.de/dataset/digitales-baumkataster-m%C3%BCnster\" target=\"_other\">https://opendata.stadt-muenster.de/dataset/digitales-baumkataster-m%C3%BCnster</a></td>\n",
       "<td class=val>Digitales Baumkataster Münster</td>\n",
       "<td class=val><a href=\"https://opendata.stadt-muenster.de/\" target=\"_other\">https://opendata.stadt-muenster.de/</a></td>\n",
       "<td class=val></td>\n",
       "<td class=val>HTML</td>\n",
       "<td class=val>2023-01-24T13:05:20+01:00</td></tr><tr class=odd><td class=val><a href=\"https://opendata.stadt-muenster.de/dataset/digitales-baumkataster-m%C3%BCnster\" target=\"_other\">https://opendata.stadt-muenster.de/dataset/digitales-baumkataster-m%C3%BCnster</a></td>\n",
       "<td class=val>Digitales Baumkataster Münster</td>\n",
       "<td class=val><a href=\"https://opendata.stadt-muenster.de/\" target=\"_other\">https://opendata.stadt-muenster.de/</a></td>\n",
       "<td class=val></td>\n",
       "<td class=val><a href=\"http://publications.europa.eu/resource/authority/file-type/KML\" target=\"_other\">http://publications.europa.eu/resource/authority/file-type/KML</a></td>\n",
       "<td class=val>2023-01-24T13:05:20+01:00</td></tr><tr class=even><td class=val><a href=\"https://opendata.stadt-muenster.de/dataset/digitales-baumkataster-m%C3%BCnster\" target=\"_other\">https://opendata.stadt-muenster.de/dataset/digitales-baumkataster-m%C3%BCnster</a></td>\n",
       "<td class=val>Digitales Baumkataster Münster</td>\n",
       "<td class=val><a href=\"https://opendata.stadt-muenster.de/\" target=\"_other\">https://opendata.stadt-muenster.de/</a></td>\n",
       "<td class=val></td>\n",
       "<td class=val>WFS</td>\n",
       "<td class=val>2023-01-24T13:05:20+01:00</td></tr></table><div class=\"tinfo\">Total: 117, Shown: 20</div></div>"
      ]
     },
     "metadata": {},
     "output_type": "display_data"
    }
   ],
   "source": [
    "PREFIX dcat: <http://www.w3.org/ns/dcat#>\n",
    "PREFIX dct: <http://purl.org/dc/terms/>\n",
    "PREFIX dcatde: <http://dcat-ap.de/def/dcatde/>\n",
    "PREFIX rdfs: <http://www.w3.org/2000/01/rdf-schema#>\n",
    "\n",
    "SELECT DISTINCT ?datasetURI ?datasetTitle ?contributorID ?stateKey ?format ?modified\n",
    "WHERE {\n",
    "  ?datasetURI a dcat:Dataset;\n",
    "              dct:title ?datasetTitle;\n",
    "              dcatde:contributorID ?contributorID;\n",
    "              dct:modified ?modified.\n",
    "  FILTER((LANG(?datasetTitle) = \"\" || LANG(?datasetTitle) = \"de\") && CONTAINS(LCASE(?datasetTitle), \"baumkataster\"))\n",
    "  FILTER(CONTAINS(STR(?modified), \"2020\") || CONTAINS(STR(?modified), \"2021\") || CONTAINS(STR(?modified), \"2022\") || CONTAINS(STR(?modified), \"2023\") || CONTAINS(STR(?modified), \"2024\"))\n",
    "\n",
    "  ?datasetURI dcat:distribution ?distribution.\n",
    "  ?distribution dct:format ?format.\n",
    "}"
   ]
  },
  {
   "cell_type": "code",
   "execution_count": null,
   "id": "d0cec589",
   "metadata": {
    "vscode": {
     "languageId": "python"
    }
   },
   "outputs": [
    {
     "data": {
      "text/html": [
       "<div class=\"krn-spql\"><table><tr class=hdr><th>datasetURI</th>\n",
       "<th>datasetTitle</th>\n",
       "<th>contributorID</th>\n",
       "<th>stateKey</th>\n",
       "<th>format</th>\n",
       "<th>modified</th>\n",
       "<th>catalog</th></tr><tr class=odd><td class=val><a href=\"https://gdk.gdi-de.org/inspire/srv/eng/xml_iso19139?uuid=19676799-FEDB-4D1A-A89A-26FBA887B3F0\" target=\"_other\">https://gdk.gdi-de.org/inspire/srv/eng/xml_iso19139?uuid=19676799-FEDB-4D1A-A89A-26FBA887B3F0</a></td>\n",
       "<td class=val>Straßenbaumkataster Hamburger Hafen</td>\n",
       "<td class=val><a href=\"http://dcat-ap.de/def/contributors/gdiDE\" target=\"_other\">http://dcat-ap.de/def/contributors/gdiDE</a></td>\n",
       "<td class=val></td>\n",
       "<td class=val><a href=\"http://publications.europa.eu/resource/authority/file-type/GML\" target=\"_other\">http://publications.europa.eu/resource/authority/file-type/GML</a></td>\n",
       "<td class=val>2024-07-02</td>\n",
       "<td class=val></td></tr><tr class=even><td class=val><a href=\"https://gdk.gdi-de.org/inspire/srv/eng/xml_iso19139?uuid=19676799-FEDB-4D1A-A89A-26FBA887B3F0\" target=\"_other\">https://gdk.gdi-de.org/inspire/srv/eng/xml_iso19139?uuid=19676799-FEDB-4D1A-A89A-26FBA887B3F0</a></td>\n",
       "<td class=val>Straßenbaumkataster Hamburger Hafen</td>\n",
       "<td class=val><a href=\"http://dcat-ap.de/def/contributors/gdiDE\" target=\"_other\">http://dcat-ap.de/def/contributors/gdiDE</a></td>\n",
       "<td class=val></td>\n",
       "<td class=val><a href=\"http://publications.europa.eu/resource/authority/file-type/MDB\" target=\"_other\">http://publications.europa.eu/resource/authority/file-type/MDB</a></td>\n",
       "<td class=val>2024-07-02</td>\n",
       "<td class=val></td></tr><tr class=odd><td class=val><a href=\"https://gdk.gdi-de.org/inspire/srv/eng/xml_iso19139?uuid=19676799-FEDB-4D1A-A89A-26FBA887B3F0\" target=\"_other\">https://gdk.gdi-de.org/inspire/srv/eng/xml_iso19139?uuid=19676799-FEDB-4D1A-A89A-26FBA887B3F0</a></td>\n",
       "<td class=val>Straßenbaumkataster Hamburger Hafen</td>\n",
       "<td class=val><a href=\"http://dcat-ap.de/def/contributors/gdiDE\" target=\"_other\">http://dcat-ap.de/def/contributors/gdiDE</a></td>\n",
       "<td class=val></td>\n",
       "<td class=val><a href=\"http://publications.europa.eu/resource/authority/file-type/CSV\" target=\"_other\">http://publications.europa.eu/resource/authority/file-type/CSV</a></td>\n",
       "<td class=val>2024-07-02</td>\n",
       "<td class=val></td></tr><tr class=even><td class=val><a href=\"https://gdk.gdi-de.org/inspire/srv/eng/xml_iso19139?uuid=19676799-FEDB-4D1A-A89A-26FBA887B3F0\" target=\"_other\">https://gdk.gdi-de.org/inspire/srv/eng/xml_iso19139?uuid=19676799-FEDB-4D1A-A89A-26FBA887B3F0</a></td>\n",
       "<td class=val>Straßenbaumkataster Hamburger Hafen</td>\n",
       "<td class=val><a href=\"http://dcat-ap.de/def/contributors/gdiDE\" target=\"_other\">http://dcat-ap.de/def/contributors/gdiDE</a></td>\n",
       "<td class=val></td>\n",
       "<td class=val><a href=\"http://publications.europa.eu/resource/authority/file-type/GEOJSON\" target=\"_other\">http://publications.europa.eu/resource/authority/file-type/GEOJSON</a></td>\n",
       "<td class=val>2024-07-02</td>\n",
       "<td class=val></td></tr><tr class=odd><td class=val><a href=\"https://offenedaten.frankfurt.de/dataset/73c5a6b3-c033-4dad-bb7d-8783427dd233\" target=\"_other\">https://offenedaten.frankfurt.de/dataset/73c5a6b3-c033-4dad-bb7d-8783427dd233</a></td>\n",
       "<td class=val>Baumkataster Frankfurt am Main</td>\n",
       "<td class=val><a href=\"http://dcat-ap.de/def/contributors/stadtFrankfurtAmMain\" target=\"_other\">http://dcat-ap.de/def/contributors/stadtFrankfurtAmMain</a></td>\n",
       "<td class=val></td>\n",
       "<td class=val><a href=\"http://publications.europa.eu/resource/authority/file-type/CSV\" target=\"_other\">http://publications.europa.eu/resource/authority/file-type/CSV</a></td>\n",
       "<td class=val>2023-08-23T05:44:14.694853</td>\n",
       "<td class=val></td></tr><tr class=even><td class=val><a href=\"https://opendata.schleswig-holstein.de/dataset/cfbe70e6-6078-42db-8c9b-f8745ee8916e\" target=\"_other\">https://opendata.schleswig-holstein.de/dataset/cfbe70e6-6078-42db-8c9b-f8745ee8916e</a></td>\n",
       "<td class=val>Baumkataster</td>\n",
       "<td class=val><a href=\"http://dcat-ap.de/def/contributors/schleswigHolstein\" target=\"_other\">http://dcat-ap.de/def/contributors/schleswigHolstein</a></td>\n",
       "<td class=val></td>\n",
       "<td class=val><a href=\"http://publications.europa.eu/resource/authority/file-type/SHP\" target=\"_other\">http://publications.europa.eu/resource/authority/file-type/SHP</a></td>\n",
       "<td class=val>2023-06-09T05:25:52.631385</td>\n",
       "<td class=val></td></tr><tr class=odd><td class=val><a href=\"https://opendata.stadt-muenster.de/dataset/digitales-baumkataster-m%C3%BCnster\" target=\"_other\">https://opendata.stadt-muenster.de/dataset/digitales-baumkataster-m%C3%BCnster</a></td>\n",
       "<td class=val>Digitales Baumkataster Münster</td>\n",
       "<td class=val><a href=\"http://dcat-ap.de/def/contributors/openNRW\" target=\"_other\">http://dcat-ap.de/def/contributors/openNRW</a></td>\n",
       "<td class=val></td>\n",
       "<td class=val>shape</td>\n",
       "<td class=val>2023-01-24T13:05:20+01:00</td>\n",
       "<td class=val></td></tr><tr class=even><td class=val><a href=\"https://opendata.stadt-muenster.de/dataset/digitales-baumkataster-m%C3%BCnster\" target=\"_other\">https://opendata.stadt-muenster.de/dataset/digitales-baumkataster-m%C3%BCnster</a></td>\n",
       "<td class=val>Digitales Baumkataster Münster</td>\n",
       "<td class=val><a href=\"http://dcat-ap.de/def/contributors/openNRW\" target=\"_other\">http://dcat-ap.de/def/contributors/openNRW</a></td>\n",
       "<td class=val></td>\n",
       "<td class=val><a href=\"http://publications.europa.eu/resource/authority/file-type/GEOJSON\" target=\"_other\">http://publications.europa.eu/resource/authority/file-type/GEOJSON</a></td>\n",
       "<td class=val>2023-01-24T13:05:20+01:00</td>\n",
       "<td class=val></td></tr><tr class=odd><td class=val><a href=\"https://opendata.stadt-muenster.de/dataset/digitales-baumkataster-m%C3%BCnster\" target=\"_other\">https://opendata.stadt-muenster.de/dataset/digitales-baumkataster-m%C3%BCnster</a></td>\n",
       "<td class=val>Digitales Baumkataster Münster</td>\n",
       "<td class=val><a href=\"http://dcat-ap.de/def/contributors/openNRW\" target=\"_other\">http://dcat-ap.de/def/contributors/openNRW</a></td>\n",
       "<td class=val></td>\n",
       "<td class=val>WMS</td>\n",
       "<td class=val>2023-01-24T13:05:20+01:00</td>\n",
       "<td class=val></td></tr><tr class=even><td class=val><a href=\"https://opendata.stadt-muenster.de/dataset/digitales-baumkataster-m%C3%BCnster\" target=\"_other\">https://opendata.stadt-muenster.de/dataset/digitales-baumkataster-m%C3%BCnster</a></td>\n",
       "<td class=val>Digitales Baumkataster Münster</td>\n",
       "<td class=val><a href=\"http://dcat-ap.de/def/contributors/openNRW\" target=\"_other\">http://dcat-ap.de/def/contributors/openNRW</a></td>\n",
       "<td class=val></td>\n",
       "<td class=val><a href=\"http://publications.europa.eu/resource/authority/file-type/CSV\" target=\"_other\">http://publications.europa.eu/resource/authority/file-type/CSV</a></td>\n",
       "<td class=val>2023-01-24T13:05:20+01:00</td>\n",
       "<td class=val></td></tr><tr class=odd><td class=val><a href=\"https://opendata.stadt-muenster.de/dataset/digitales-baumkataster-m%C3%BCnster\" target=\"_other\">https://opendata.stadt-muenster.de/dataset/digitales-baumkataster-m%C3%BCnster</a></td>\n",
       "<td class=val>Digitales Baumkataster Münster</td>\n",
       "<td class=val><a href=\"http://dcat-ap.de/def/contributors/openNRW\" target=\"_other\">http://dcat-ap.de/def/contributors/openNRW</a></td>\n",
       "<td class=val></td>\n",
       "<td class=val>HTML</td>\n",
       "<td class=val>2023-01-24T13:05:20+01:00</td>\n",
       "<td class=val></td></tr><tr class=even><td class=val><a href=\"https://opendata.stadt-muenster.de/dataset/digitales-baumkataster-m%C3%BCnster\" target=\"_other\">https://opendata.stadt-muenster.de/dataset/digitales-baumkataster-m%C3%BCnster</a></td>\n",
       "<td class=val>Digitales Baumkataster Münster</td>\n",
       "<td class=val><a href=\"http://dcat-ap.de/def/contributors/openNRW\" target=\"_other\">http://dcat-ap.de/def/contributors/openNRW</a></td>\n",
       "<td class=val></td>\n",
       "<td class=val><a href=\"http://publications.europa.eu/resource/authority/file-type/KML\" target=\"_other\">http://publications.europa.eu/resource/authority/file-type/KML</a></td>\n",
       "<td class=val>2023-01-24T13:05:20+01:00</td>\n",
       "<td class=val></td></tr><tr class=odd><td class=val><a href=\"https://opendata.stadt-muenster.de/dataset/digitales-baumkataster-m%C3%BCnster\" target=\"_other\">https://opendata.stadt-muenster.de/dataset/digitales-baumkataster-m%C3%BCnster</a></td>\n",
       "<td class=val>Digitales Baumkataster Münster</td>\n",
       "<td class=val><a href=\"http://dcat-ap.de/def/contributors/openNRW\" target=\"_other\">http://dcat-ap.de/def/contributors/openNRW</a></td>\n",
       "<td class=val></td>\n",
       "<td class=val>WFS</td>\n",
       "<td class=val>2023-01-24T13:05:20+01:00</td>\n",
       "<td class=val></td></tr><tr class=even><td class=val><a href=\"https://opendata.stadt-muenster.de/dataset/digitales-baumkataster-m%C3%BCnster\" target=\"_other\">https://opendata.stadt-muenster.de/dataset/digitales-baumkataster-m%C3%BCnster</a></td>\n",
       "<td class=val>Digitales Baumkataster Münster</td>\n",
       "<td class=val><a href=\"https://opendata.stadt-muenster.de/\" target=\"_other\">https://opendata.stadt-muenster.de/</a></td>\n",
       "<td class=val></td>\n",
       "<td class=val>shape</td>\n",
       "<td class=val>2023-01-24T13:05:20+01:00</td>\n",
       "<td class=val></td></tr><tr class=odd><td class=val><a href=\"https://opendata.stadt-muenster.de/dataset/digitales-baumkataster-m%C3%BCnster\" target=\"_other\">https://opendata.stadt-muenster.de/dataset/digitales-baumkataster-m%C3%BCnster</a></td>\n",
       "<td class=val>Digitales Baumkataster Münster</td>\n",
       "<td class=val><a href=\"https://opendata.stadt-muenster.de/\" target=\"_other\">https://opendata.stadt-muenster.de/</a></td>\n",
       "<td class=val></td>\n",
       "<td class=val><a href=\"http://publications.europa.eu/resource/authority/file-type/GEOJSON\" target=\"_other\">http://publications.europa.eu/resource/authority/file-type/GEOJSON</a></td>\n",
       "<td class=val>2023-01-24T13:05:20+01:00</td>\n",
       "<td class=val></td></tr><tr class=even><td class=val><a href=\"https://opendata.stadt-muenster.de/dataset/digitales-baumkataster-m%C3%BCnster\" target=\"_other\">https://opendata.stadt-muenster.de/dataset/digitales-baumkataster-m%C3%BCnster</a></td>\n",
       "<td class=val>Digitales Baumkataster Münster</td>\n",
       "<td class=val><a href=\"https://opendata.stadt-muenster.de/\" target=\"_other\">https://opendata.stadt-muenster.de/</a></td>\n",
       "<td class=val></td>\n",
       "<td class=val>WMS</td>\n",
       "<td class=val>2023-01-24T13:05:20+01:00</td>\n",
       "<td class=val></td></tr><tr class=odd><td class=val><a href=\"https://opendata.stadt-muenster.de/dataset/digitales-baumkataster-m%C3%BCnster\" target=\"_other\">https://opendata.stadt-muenster.de/dataset/digitales-baumkataster-m%C3%BCnster</a></td>\n",
       "<td class=val>Digitales Baumkataster Münster</td>\n",
       "<td class=val><a href=\"https://opendata.stadt-muenster.de/\" target=\"_other\">https://opendata.stadt-muenster.de/</a></td>\n",
       "<td class=val></td>\n",
       "<td class=val><a href=\"http://publications.europa.eu/resource/authority/file-type/CSV\" target=\"_other\">http://publications.europa.eu/resource/authority/file-type/CSV</a></td>\n",
       "<td class=val>2023-01-24T13:05:20+01:00</td>\n",
       "<td class=val></td></tr><tr class=even><td class=val><a href=\"https://opendata.stadt-muenster.de/dataset/digitales-baumkataster-m%C3%BCnster\" target=\"_other\">https://opendata.stadt-muenster.de/dataset/digitales-baumkataster-m%C3%BCnster</a></td>\n",
       "<td class=val>Digitales Baumkataster Münster</td>\n",
       "<td class=val><a href=\"https://opendata.stadt-muenster.de/\" target=\"_other\">https://opendata.stadt-muenster.de/</a></td>\n",
       "<td class=val></td>\n",
       "<td class=val>HTML</td>\n",
       "<td class=val>2023-01-24T13:05:20+01:00</td>\n",
       "<td class=val></td></tr><tr class=odd><td class=val><a href=\"https://opendata.stadt-muenster.de/dataset/digitales-baumkataster-m%C3%BCnster\" target=\"_other\">https://opendata.stadt-muenster.de/dataset/digitales-baumkataster-m%C3%BCnster</a></td>\n",
       "<td class=val>Digitales Baumkataster Münster</td>\n",
       "<td class=val><a href=\"https://opendata.stadt-muenster.de/\" target=\"_other\">https://opendata.stadt-muenster.de/</a></td>\n",
       "<td class=val></td>\n",
       "<td class=val><a href=\"http://publications.europa.eu/resource/authority/file-type/KML\" target=\"_other\">http://publications.europa.eu/resource/authority/file-type/KML</a></td>\n",
       "<td class=val>2023-01-24T13:05:20+01:00</td>\n",
       "<td class=val></td></tr><tr class=even><td class=val><a href=\"https://opendata.stadt-muenster.de/dataset/digitales-baumkataster-m%C3%BCnster\" target=\"_other\">https://opendata.stadt-muenster.de/dataset/digitales-baumkataster-m%C3%BCnster</a></td>\n",
       "<td class=val>Digitales Baumkataster Münster</td>\n",
       "<td class=val><a href=\"https://opendata.stadt-muenster.de/\" target=\"_other\">https://opendata.stadt-muenster.de/</a></td>\n",
       "<td class=val></td>\n",
       "<td class=val>WFS</td>\n",
       "<td class=val>2023-01-24T13:05:20+01:00</td>\n",
       "<td class=val></td></tr></table><div class=\"tinfo\">Total: 117, Shown: 20</div></div>"
      ]
     },
     "metadata": {},
     "output_type": "display_data"
    }
   ],
   "source": [
    "PREFIX dcat: <http://www.w3.org/ns/dcat#>\n",
    "PREFIX dct: <http://purl.org/dc/terms/>\n",
    "PREFIX dcatde: <http://dcat-ap.de/def/dcatde/>\n",
    "PREFIX rdfs: <http://www.w3.org/2000/01/rdf-schema#>\n",
    "PREFIX pg: <http://dcat-ap.de/def/politicalGeocoding/>\n",
    "\n",
    "SELECT DISTINCT ?datasetURI ?datasetTitle ?contributorID ?stateKey ?format ?modified ?catalog\n",
    "WHERE {\n",
    "  ?datasetURI a dcat:Dataset;\n",
    "              dct:title ?datasetTitle;\n",
    "              dcatde:contributorID ?contributorID;\n",
    "              dct:modified ?modified.\n",
    "  OPTIONAL{ ?datasetURI  dcat:catalog ?catalog.}\n",
    "  FILTER((LANG(?datasetTitle) = \"\" || LANG(?datasetTitle) = \"de\") && CONTAINS(LCASE(?datasetTitle), \"baumkataster\"))\n",
    "  FILTER(CONTAINS(STR(?modified), \"2020\") || CONTAINS(STR(?modified), \"2021\") || CONTAINS(STR(?modified), \"2022\") || CONTAINS(STR(?modified), \"2023\") || CONTAINS(STR(?modified), \"2024\"))\n",
    "\n",
    "  ?datasetURI dcat:distribution ?distribution.\n",
    "  ?distribution dct:format ?format.\n",
    "  OPTIONAL {?datasetURI pg:stateKey ?stateKey.}\n",
    "}"
   ]
  },
  {
   "cell_type": "code",
   "execution_count": null,
   "id": "9800fd72",
   "metadata": {
    "vscode": {
     "languageId": "python"
    }
   },
   "outputs": [
    {
     "data": {
      "text/html": [
       "<div class=\"krn-spql\"><table><tr class=hdr><th>contributorID</th>\n",
       "<th>formatCount</th></tr><tr class=odd><td class=val><a href=\"https://offenedaten-koeln.de/\" target=\"_other\">https://offenedaten-koeln.de/</a></td>\n",
       "<td class=val>4</td></tr><tr class=even><td class=val><a href=\"http://dcat-ap.de/def/contributors/transparenzportalHamburg\" target=\"_other\">http://dcat-ap.de/def/contributors/transparenzportalHamburg</a></td>\n",
       "<td class=val>8</td></tr><tr class=odd><td class=val><a href=\"http://dcat-ap.de/def/contributors/stadtFrankfurtAmMain\" target=\"_other\">http://dcat-ap.de/def/contributors/stadtFrankfurtAmMain</a></td>\n",
       "<td class=val>1</td></tr><tr class=even><td class=val><a href=\"https://opendata.stadt-muenster.de/\" target=\"_other\">https://opendata.stadt-muenster.de/</a></td>\n",
       "<td class=val>7</td></tr><tr class=odd><td class=val><a href=\"http://dcat-ap.de/def/contributors/schleswigHolstein\" target=\"_other\">http://dcat-ap.de/def/contributors/schleswigHolstein</a></td>\n",
       "<td class=val>2</td></tr><tr class=even><td class=val><a href=\"http://dcat-ap.de/def/contributors/stadtErlangen\" target=\"_other\">http://dcat-ap.de/def/contributors/stadtErlangen</a></td>\n",
       "<td class=val>1</td></tr><tr class=odd><td class=val><a href=\"http://dcat-ap.de/def/contributors/openNRW\" target=\"_other\">http://dcat-ap.de/def/contributors/openNRW</a></td>\n",
       "<td class=val>27</td></tr><tr class=even><td class=val><a href=\"http://dcat-ap.de/def/contributors/openDataBayern\" target=\"_other\">http://dcat-ap.de/def/contributors/openDataBayern</a></td>\n",
       "<td class=val>21</td></tr><tr class=odd><td class=val><a href=\"https://offenedaten-konstanz.de/\" target=\"_other\">https://offenedaten-konstanz.de/</a></td>\n",
       "<td class=val>2</td></tr><tr class=even><td class=val><a href=\"https://offenedaten.kdvz.nrw/\" target=\"_other\">https://offenedaten.kdvz.nrw/</a></td>\n",
       "<td class=val>3</td></tr><tr class=odd><td class=val><a href=\"http://dcat-ap.de/def/contributors/datenBW\" target=\"_other\">http://dcat-ap.de/def/contributors/datenBW</a></td>\n",
       "<td class=val>3</td></tr><tr class=even><td class=val><a href=\"http://dcat-ap.de/def/contributors/gdiDE\" target=\"_other\">http://dcat-ap.de/def/contributors/gdiDE</a></td>\n",
       "<td class=val>9</td></tr><tr class=odd><td class=val><a href=\"http://dcat-ap.de/def/contributors/freistaatSachsen\" target=\"_other\">http://dcat-ap.de/def/contributors/freistaatSachsen</a></td>\n",
       "<td class=val>3</td></tr></table><div class=\"tinfo\">Total: 13, Shown: 13</div></div>"
      ]
     },
     "metadata": {},
     "output_type": "display_data"
    }
   ],
   "source": [
    "PREFIX dcat: <http://www.w3.org/ns/dcat#>\n",
    "PREFIX dct: <http://purl.org/dc/terms/>\n",
    "PREFIX dcatde: <http://dcat-ap.de/def/dcatde/>\n",
    "PREFIX rdfs: <http://www.w3.org/2000/01/rdf-schema#>\n",
    "PREFIX pg: <http://dcat-ap.de/def/politicalGeocoding/>\n",
    "\n",
    "SELECT ?contributorID (COUNT(DISTINCT ?format) AS ?formatCount)\n",
    "WHERE {\n",
    "  ?datasetURI a dcat:Dataset;\n",
    "              dct:title ?datasetTitle;\n",
    "              dcatde:contributorID ?contributorID;\n",
    "              dct:modified ?modified.\n",
    "  OPTIONAL { ?datasetURI dcat:catalog ?catalog. }\n",
    "  FILTER((LANG(?datasetTitle) = \"\" || LANG(?datasetTitle) = \"de\") && CONTAINS(LCASE(?datasetTitle), \"baumkataster\"))\n",
    "  FILTER(CONTAINS(STR(?modified), \"2020\") || CONTAINS(STR(?modified), \"2021\") || CONTAINS(STR(?modified), \"2022\") || CONTAINS(STR(?modified), \"2023\") || CONTAINS(STR(?modified), \"2024\"))\n",
    "\n",
    "  ?datasetURI dcat:distribution ?distribution.\n",
    "  ?distribution dct:format ?format.\n",
    "  OPTIONAL { ?datasetURI pg:stateKey ?stateKey. }\n",
    "}\n",
    "GROUP BY ?contributorID"
   ]
  },
  {
   "cell_type": "code",
   "execution_count": null,
   "id": "89599d43",
   "metadata": {
    "vscode": {
     "languageId": "python"
    }
   },
   "outputs": [
    {
     "data": {
      "text/html": [
       "<div class=\"krn-spql\"><table><tr class=hdr><th>contributorID</th>\n",
       "<th>format</th>\n",
       "<th>formatCount</th></tr><tr class=odd><td class=val><a href=\"http://dcat-ap.de/def/contributors/datenBW\" target=\"_other\">http://dcat-ap.de/def/contributors/datenBW</a></td>\n",
       "<td class=val>ESRI Hub</td>\n",
       "<td class=val>1</td></tr><tr class=even><td class=val><a href=\"http://dcat-ap.de/def/contributors/datenBW\" target=\"_other\">http://dcat-ap.de/def/contributors/datenBW</a></td>\n",
       "<td class=val>ESRI Shp</td>\n",
       "<td class=val>1</td></tr><tr class=odd><td class=val><a href=\"http://dcat-ap.de/def/contributors/datenBW\" target=\"_other\">http://dcat-ap.de/def/contributors/datenBW</a></td>\n",
       "<td class=val>GeoJSON</td>\n",
       "<td class=val>1</td></tr><tr class=even><td class=val><a href=\"http://dcat-ap.de/def/contributors/freistaatSachsen\" target=\"_other\">http://dcat-ap.de/def/contributors/freistaatSachsen</a></td>\n",
       "<td class=val>application/vnd.ogc.wfs_xml</td>\n",
       "<td class=val>1</td></tr><tr class=odd><td class=val><a href=\"http://dcat-ap.de/def/contributors/freistaatSachsen\" target=\"_other\">http://dcat-ap.de/def/contributors/freistaatSachsen</a></td>\n",
       "<td class=val>text/csv</td>\n",
       "<td class=val>1</td></tr><tr class=even><td class=val><a href=\"http://dcat-ap.de/def/contributors/freistaatSachsen\" target=\"_other\">http://dcat-ap.de/def/contributors/freistaatSachsen</a></td>\n",
       "<td class=val>text/html</td>\n",
       "<td class=val>1</td></tr><tr class=odd><td class=val><a href=\"http://dcat-ap.de/def/contributors/gdiDE\" target=\"_other\">http://dcat-ap.de/def/contributors/gdiDE</a></td>\n",
       "<td class=val><a href=\"http://publications.europa.eu/resource/authority/file-type/CSV\" target=\"_other\">http://publications.europa.eu/resource/authority/file-type/CSV</a></td>\n",
       "<td class=val>1</td></tr><tr class=even><td class=val><a href=\"http://dcat-ap.de/def/contributors/gdiDE\" target=\"_other\">http://dcat-ap.de/def/contributors/gdiDE</a></td>\n",
       "<td class=val><a href=\"http://publications.europa.eu/resource/authority/file-type/GEOJSON\" target=\"_other\">http://publications.europa.eu/resource/authority/file-type/GEOJSON</a></td>\n",
       "<td class=val>1</td></tr><tr class=odd><td class=val><a href=\"http://dcat-ap.de/def/contributors/gdiDE\" target=\"_other\">http://dcat-ap.de/def/contributors/gdiDE</a></td>\n",
       "<td class=val><a href=\"http://publications.europa.eu/resource/authority/file-type/GML\" target=\"_other\">http://publications.europa.eu/resource/authority/file-type/GML</a></td>\n",
       "<td class=val>1</td></tr><tr class=even><td class=val><a href=\"http://dcat-ap.de/def/contributors/gdiDE\" target=\"_other\">http://dcat-ap.de/def/contributors/gdiDE</a></td>\n",
       "<td class=val><a href=\"http://publications.europa.eu/resource/authority/file-type/MDB\" target=\"_other\">http://publications.europa.eu/resource/authority/file-type/MDB</a></td>\n",
       "<td class=val>1</td></tr><tr class=odd><td class=val><a href=\"http://dcat-ap.de/def/contributors/gdiDE\" target=\"_other\">http://dcat-ap.de/def/contributors/gdiDE</a></td>\n",
       "<td class=val><a href=\"http://publications.europa.eu/resource/authority/file-type/WFS_SRVC\" target=\"_other\">http://publications.europa.eu/resource/authority/file-type/WFS_SRVC</a></td>\n",
       "<td class=val>1</td></tr><tr class=even><td class=val><a href=\"http://dcat-ap.de/def/contributors/gdiDE\" target=\"_other\">http://dcat-ap.de/def/contributors/gdiDE</a></td>\n",
       "<td class=val>ACCESS2000</td>\n",
       "<td class=val>1</td></tr><tr class=odd><td class=val><a href=\"http://dcat-ap.de/def/contributors/gdiDE\" target=\"_other\">http://dcat-ap.de/def/contributors/gdiDE</a></td>\n",
       "<td class=val>Excel</td>\n",
       "<td class=val>1</td></tr><tr class=even><td class=val><a href=\"http://dcat-ap.de/def/contributors/gdiDE\" target=\"_other\">http://dcat-ap.de/def/contributors/gdiDE</a></td>\n",
       "<td class=val>download</td>\n",
       "<td class=val>1</td></tr><tr class=odd><td class=val><a href=\"http://dcat-ap.de/def/contributors/gdiDE\" target=\"_other\">http://dcat-ap.de/def/contributors/gdiDE</a></td>\n",
       "<td class=val>view</td>\n",
       "<td class=val>1</td></tr><tr class=even><td class=val><a href=\"http://dcat-ap.de/def/contributors/openDataBayern\" target=\"_other\">http://dcat-ap.de/def/contributors/openDataBayern</a></td>\n",
       "<td class=val><a href=\"http://publications.europa.eu/resource/authority/file-type/CSV\" target=\"_other\">http://publications.europa.eu/resource/authority/file-type/CSV</a></td>\n",
       "<td class=val>1</td></tr><tr class=odd><td class=val><a href=\"http://dcat-ap.de/def/contributors/openDataBayern\" target=\"_other\">http://dcat-ap.de/def/contributors/openDataBayern</a></td>\n",
       "<td class=val><a href=\"http://publications.europa.eu/resource/authority/file-type/FGB\" target=\"_other\">http://publications.europa.eu/resource/authority/file-type/FGB</a></td>\n",
       "<td class=val>1</td></tr><tr class=even><td class=val><a href=\"http://dcat-ap.de/def/contributors/openDataBayern\" target=\"_other\">http://dcat-ap.de/def/contributors/openDataBayern</a></td>\n",
       "<td class=val><a href=\"http://publications.europa.eu/resource/authority/file-type/GEOJSON\" target=\"_other\">http://publications.europa.eu/resource/authority/file-type/GEOJSON</a></td>\n",
       "<td class=val>1</td></tr><tr class=odd><td class=val><a href=\"http://dcat-ap.de/def/contributors/openDataBayern\" target=\"_other\">http://dcat-ap.de/def/contributors/openDataBayern</a></td>\n",
       "<td class=val><a href=\"http://publications.europa.eu/resource/authority/file-type/GPKG\" target=\"_other\">http://publications.europa.eu/resource/authority/file-type/GPKG</a></td>\n",
       "<td class=val>1</td></tr><tr class=even><td class=val><a href=\"http://dcat-ap.de/def/contributors/openDataBayern\" target=\"_other\">http://dcat-ap.de/def/contributors/openDataBayern</a></td>\n",
       "<td class=val><a href=\"http://publications.europa.eu/resource/authority/file-type/GPX\" target=\"_other\">http://publications.europa.eu/resource/authority/file-type/GPX</a></td>\n",
       "<td class=val>1</td></tr></table><div class=\"tinfo\">Total: 91, Shown: 20</div></div>"
      ]
     },
     "metadata": {},
     "output_type": "display_data"
    }
   ],
   "source": [
    "PREFIX dcat: <http://www.w3.org/ns/dcat#>\n",
    "PREFIX dct: <http://purl.org/dc/terms/>\n",
    "PREFIX dcatde: <http://dcat-ap.de/def/dcatde/>\n",
    "PREFIX rdfs: <http://www.w3.org/2000/01/rdf-schema#>\n",
    "PREFIX pg: <http://dcat-ap.de/def/politicalGeocoding/>\n",
    "\n",
    "SELECT ?contributorID ?format (COUNT(DISTINCT ?format) AS ?formatCount)\n",
    "WHERE {\n",
    "  ?datasetURI a dcat:Dataset;\n",
    "              dct:title ?datasetTitle;\n",
    "              dcatde:contributorID ?contributorID;\n",
    "              dct:modified ?modified.\n",
    "  OPTIONAL { ?datasetURI dcat:catalog ?catalog. }\n",
    "  FILTER((LANG(?datasetTitle) = \"\" || LANG(?datasetTitle) = \"de\") && CONTAINS(LCASE(?datasetTitle), \"baumkataster\"))\n",
    "  FILTER(CONTAINS(STR(?modified), \"2020\") || CONTAINS(STR(?modified), \"2021\") || CONTAINS(STR(?modified), \"2022\") || CONTAINS(STR(?modified), \"2023\") || CONTAINS(STR(?modified), \"2024\"))\n",
    "\n",
    "  ?datasetURI dcat:distribution ?distribution.\n",
    "  ?distribution dct:format ?format.\n",
    "  OPTIONAL { ?datasetURI pg:stateKey ?stateKey. }\n",
    "}\n",
    "GROUP BY ?contributorID ?format\n",
    "ORDER BY ?contributorID ?format"
   ]
  },
  {
   "cell_type": "code",
   "execution_count": null,
   "id": "ee67cd5c",
   "metadata": {
    "vscode": {
     "languageId": "python"
    }
   },
   "outputs": [
    {
     "data": {
      "text/html": [
       "<div class=\"krn-spql\"><table><tr class=hdr><th>datasetURI</th>\n",
       "<th>datasetTitle</th>\n",
       "<th>contributorID</th>\n",
       "<th>format</th>\n",
       "<th>modified</th></tr><tr class=odd><td class=val><a href=\"https://ckan.govdata.de/dataset/0c9b93b5-b7f1-47df-b14b-5f28017749e2\" target=\"_other\">https://ckan.govdata.de/dataset/0c9b93b5-b7f1-47df-b14b-5f28017749e2</a></td>\n",
       "<td class=val>2018 Polizeiliche Kriminalstatistik - T40 Mehrfachtatverdächtige deutsch nach Alter und Geschlecht  Erwachsene ab 60 Jahre</td>\n",
       "<td class=val><a href=\"http://dcat-ap.de/def/contributors/bundesministeriumDesInnernUndHeimat\" target=\"_other\">http://dcat-ap.de/def/contributors/bundesministeriumDesInnernUndHeimat</a></td>\n",
       "<td class=val>PDF</td>\n",
       "<td class=val>2022-03-31T10:50:20.629501</td></tr><tr class=even><td class=val><a href=\"https://ckan.govdata.de/dataset/0c9b93b5-b7f1-47df-b14b-5f28017749e2\" target=\"_other\">https://ckan.govdata.de/dataset/0c9b93b5-b7f1-47df-b14b-5f28017749e2</a></td>\n",
       "<td class=val>2018 Polizeiliche Kriminalstatistik - T40 Mehrfachtatverdächtige deutsch nach Alter und Geschlecht  Erwachsene ab 60 Jahre</td>\n",
       "<td class=val><a href=\"http://dcat-ap.de/def/contributors/bundesministeriumDesInnernUndHeimat\" target=\"_other\">http://dcat-ap.de/def/contributors/bundesministeriumDesInnernUndHeimat</a></td>\n",
       "<td class=val>CSV</td>\n",
       "<td class=val>2022-03-31T10:50:20.629501</td></tr><tr class=odd><td class=val><a href=\"https://ckan.govdata.de/dataset/033fd456-87cd-4cc1-9823-d170b4530efc\" target=\"_other\">https://ckan.govdata.de/dataset/033fd456-87cd-4cc1-9823-d170b4530efc</a></td>\n",
       "<td class=val>2016 - Polizeiliche Kriminalstatistik -T02 Grundtabelle Wirtschaftskriminalität</td>\n",
       "<td class=val><a href=\"http://dcat-ap.de/def/contributors/bundesministeriumDesInnernUndHeimat\" target=\"_other\">http://dcat-ap.de/def/contributors/bundesministeriumDesInnernUndHeimat</a></td>\n",
       "<td class=val>PDF</td>\n",
       "<td class=val>2022-03-31T10:50:25.143864</td></tr><tr class=even><td class=val><a href=\"https://ckan.govdata.de/dataset/033fd456-87cd-4cc1-9823-d170b4530efc\" target=\"_other\">https://ckan.govdata.de/dataset/033fd456-87cd-4cc1-9823-d170b4530efc</a></td>\n",
       "<td class=val>2016 - Polizeiliche Kriminalstatistik -T02 Grundtabelle Wirtschaftskriminalität</td>\n",
       "<td class=val><a href=\"http://dcat-ap.de/def/contributors/bundesministeriumDesInnernUndHeimat\" target=\"_other\">http://dcat-ap.de/def/contributors/bundesministeriumDesInnernUndHeimat</a></td>\n",
       "<td class=val>CSV</td>\n",
       "<td class=val>2022-03-31T10:50:25.143864</td></tr><tr class=odd><td class=val><a href=\"https://ckan.govdata.de/dataset/234955ec-4471-4da0-9d36-71d40b6605c2\" target=\"_other\">https://ckan.govdata.de/dataset/234955ec-4471-4da0-9d36-71d40b6605c2</a></td>\n",
       "<td class=val>2019 Polizeiliche Kriminalstatistik - Grundtabelle Haeufigkeitszahl pro Tatortgemeindeklasse</td>\n",
       "<td class=val><a href=\"http://dcat-ap.de/def/contributors/bundesministeriumDesInnernUndHeimat\" target=\"_other\">http://dcat-ap.de/def/contributors/bundesministeriumDesInnernUndHeimat</a></td>\n",
       "<td class=val>PDF</td>\n",
       "<td class=val>2022-03-31T10:51:41.324872</td></tr><tr class=even><td class=val><a href=\"https://ckan.govdata.de/dataset/234955ec-4471-4da0-9d36-71d40b6605c2\" target=\"_other\">https://ckan.govdata.de/dataset/234955ec-4471-4da0-9d36-71d40b6605c2</a></td>\n",
       "<td class=val>2019 Polizeiliche Kriminalstatistik - Grundtabelle Haeufigkeitszahl pro Tatortgemeindeklasse</td>\n",
       "<td class=val><a href=\"http://dcat-ap.de/def/contributors/bundesministeriumDesInnernUndHeimat\" target=\"_other\">http://dcat-ap.de/def/contributors/bundesministeriumDesInnernUndHeimat</a></td>\n",
       "<td class=val>CSV</td>\n",
       "<td class=val>2022-03-31T10:51:41.324872</td></tr><tr class=odd><td class=val><a href=\"https://ckan.govdata.de/dataset/22abb8a7-ee29-4b33-8c23-6cfa9c54e195\" target=\"_other\">https://ckan.govdata.de/dataset/22abb8a7-ee29-4b33-8c23-6cfa9c54e195</a></td>\n",
       "<td class=val>2017 Polizeiliche Kriminalstatistik - T50 Tatverdächtige nichtdeutsch nach Alter und Geschlecht Städte ab 100.000 Einwohner</td>\n",
       "<td class=val><a href=\"http://dcat-ap.de/def/contributors/bundesministeriumDesInnernUndHeimat\" target=\"_other\">http://dcat-ap.de/def/contributors/bundesministeriumDesInnernUndHeimat</a></td>\n",
       "<td class=val>PDF</td>\n",
       "<td class=val>2022-03-31T10:50:30.722760</td></tr><tr class=even><td class=val><a href=\"https://ckan.govdata.de/dataset/22abb8a7-ee29-4b33-8c23-6cfa9c54e195\" target=\"_other\">https://ckan.govdata.de/dataset/22abb8a7-ee29-4b33-8c23-6cfa9c54e195</a></td>\n",
       "<td class=val>2017 Polizeiliche Kriminalstatistik - T50 Tatverdächtige nichtdeutsch nach Alter und Geschlecht Städte ab 100.000 Einwohner</td>\n",
       "<td class=val><a href=\"http://dcat-ap.de/def/contributors/bundesministeriumDesInnernUndHeimat\" target=\"_other\">http://dcat-ap.de/def/contributors/bundesministeriumDesInnernUndHeimat</a></td>\n",
       "<td class=val>CSV</td>\n",
       "<td class=val>2022-03-31T10:50:30.722760</td></tr><tr class=odd><td class=val><a href=\"https://ckan.govdata.de/dataset/f5fa8bd2-61df-4a88-bd56-a8405c3e1311\" target=\"_other\">https://ckan.govdata.de/dataset/f5fa8bd2-61df-4a88-bd56-a8405c3e1311</a></td>\n",
       "<td class=val>2016 Polizeiliche Kriminalstatistik - T20 Tatverdächtige insgesamt nach Alter und Geschlecht bei vollendeten Fällen</td>\n",
       "<td class=val><a href=\"http://dcat-ap.de/def/contributors/bundesministeriumDesInnernUndHeimat\" target=\"_other\">http://dcat-ap.de/def/contributors/bundesministeriumDesInnernUndHeimat</a></td>\n",
       "<td class=val>PDF</td>\n",
       "<td class=val>2022-03-31T10:50:31.871746</td></tr><tr class=even><td class=val><a href=\"https://ckan.govdata.de/dataset/f5fa8bd2-61df-4a88-bd56-a8405c3e1311\" target=\"_other\">https://ckan.govdata.de/dataset/f5fa8bd2-61df-4a88-bd56-a8405c3e1311</a></td>\n",
       "<td class=val>2016 Polizeiliche Kriminalstatistik - T20 Tatverdächtige insgesamt nach Alter und Geschlecht bei vollendeten Fällen</td>\n",
       "<td class=val><a href=\"http://dcat-ap.de/def/contributors/bundesministeriumDesInnernUndHeimat\" target=\"_other\">http://dcat-ap.de/def/contributors/bundesministeriumDesInnernUndHeimat</a></td>\n",
       "<td class=val>CSV</td>\n",
       "<td class=val>2022-03-31T10:50:31.871746</td></tr><tr class=odd><td class=val><a href=\"https://ckan.govdata.de/dataset/debd556c-781c-422f-be54-1f0c4fd860bc\" target=\"_other\">https://ckan.govdata.de/dataset/debd556c-781c-422f-be54-1f0c4fd860bc</a></td>\n",
       "<td class=val>2019 - Polizeiliche Kriminalstatistik - T01 Grundtabelle Fallentwicklung</td>\n",
       "<td class=val><a href=\"http://dcat-ap.de/def/contributors/bundesministeriumDesInnernUndHeimat\" target=\"_other\">http://dcat-ap.de/def/contributors/bundesministeriumDesInnernUndHeimat</a></td>\n",
       "<td class=val>PDF</td>\n",
       "<td class=val>2022-03-31T10:50:34.385445</td></tr><tr class=even><td class=val><a href=\"https://ckan.govdata.de/dataset/debd556c-781c-422f-be54-1f0c4fd860bc\" target=\"_other\">https://ckan.govdata.de/dataset/debd556c-781c-422f-be54-1f0c4fd860bc</a></td>\n",
       "<td class=val>2019 - Polizeiliche Kriminalstatistik - T01 Grundtabelle Fallentwicklung</td>\n",
       "<td class=val><a href=\"http://dcat-ap.de/def/contributors/bundesministeriumDesInnernUndHeimat\" target=\"_other\">http://dcat-ap.de/def/contributors/bundesministeriumDesInnernUndHeimat</a></td>\n",
       "<td class=val>CSV</td>\n",
       "<td class=val>2022-03-31T10:50:34.385445</td></tr><tr class=odd><td class=val><a href=\"https://ckan.govdata.de/dataset/e786b8dd-522f-4645-b297-8436bec68994\" target=\"_other\">https://ckan.govdata.de/dataset/e786b8dd-522f-4645-b297-8436bec68994</a></td>\n",
       "<td class=val>&quot;2019 Polizeiliche Kriminalstatistik - T933 Opfer - Tatverdaechtigen – Beziehung / raeumlich sozial Sonstige/andere Beziehung, keine Beziehung, nicht feststellbar/unbekannt &quot;</td>\n",
       "<td class=val><a href=\"http://dcat-ap.de/def/contributors/bundesministeriumDesInnernUndHeimat\" target=\"_other\">http://dcat-ap.de/def/contributors/bundesministeriumDesInnernUndHeimat</a></td>\n",
       "<td class=val>PDF</td>\n",
       "<td class=val>2022-03-31T10:50:38.012948</td></tr><tr class=even><td class=val><a href=\"https://ckan.govdata.de/dataset/e786b8dd-522f-4645-b297-8436bec68994\" target=\"_other\">https://ckan.govdata.de/dataset/e786b8dd-522f-4645-b297-8436bec68994</a></td>\n",
       "<td class=val>&quot;2019 Polizeiliche Kriminalstatistik - T933 Opfer - Tatverdaechtigen – Beziehung / raeumlich sozial Sonstige/andere Beziehung, keine Beziehung, nicht feststellbar/unbekannt &quot;</td>\n",
       "<td class=val><a href=\"http://dcat-ap.de/def/contributors/bundesministeriumDesInnernUndHeimat\" target=\"_other\">http://dcat-ap.de/def/contributors/bundesministeriumDesInnernUndHeimat</a></td>\n",
       "<td class=val>CSV</td>\n",
       "<td class=val>2022-03-31T10:50:38.012948</td></tr><tr class=odd><td class=val><a href=\"https://ckan.govdata.de/dataset/5a52643e-0b87-4509-bad5-45c070c51b91\" target=\"_other\">https://ckan.govdata.de/dataset/5a52643e-0b87-4509-bad5-45c070c51b91</a></td>\n",
       "<td class=val>2018 Polizeiliche Kriminalstatistik - T28 Tatort-Wohnsitz-Beziehung nach deutschen Tatverdächtigen</td>\n",
       "<td class=val><a href=\"http://dcat-ap.de/def/contributors/bundesministeriumDesInnernUndHeimat\" target=\"_other\">http://dcat-ap.de/def/contributors/bundesministeriumDesInnernUndHeimat</a></td>\n",
       "<td class=val>PDF</td>\n",
       "<td class=val>2022-03-31T10:50:39.365473</td></tr><tr class=even><td class=val><a href=\"https://ckan.govdata.de/dataset/5a52643e-0b87-4509-bad5-45c070c51b91\" target=\"_other\">https://ckan.govdata.de/dataset/5a52643e-0b87-4509-bad5-45c070c51b91</a></td>\n",
       "<td class=val>2018 Polizeiliche Kriminalstatistik - T28 Tatort-Wohnsitz-Beziehung nach deutschen Tatverdächtigen</td>\n",
       "<td class=val><a href=\"http://dcat-ap.de/def/contributors/bundesministeriumDesInnernUndHeimat\" target=\"_other\">http://dcat-ap.de/def/contributors/bundesministeriumDesInnernUndHeimat</a></td>\n",
       "<td class=val>CSV</td>\n",
       "<td class=val>2022-03-31T10:50:39.365473</td></tr><tr class=odd><td class=val><a href=\"https://ckan.govdata.de/dataset/9854835f-eda7-4df1-b4bd-28f23c778bcf\" target=\"_other\">https://ckan.govdata.de/dataset/9854835f-eda7-4df1-b4bd-28f23c778bcf</a></td>\n",
       "<td class=val>2017 Polizeiliche Kriminalstatistik - T51 Türkische Tatverdächtige nach Alter und Geschlecht</td>\n",
       "<td class=val><a href=\"http://dcat-ap.de/def/contributors/bundesministeriumDesInnernUndHeimat\" target=\"_other\">http://dcat-ap.de/def/contributors/bundesministeriumDesInnernUndHeimat</a></td>\n",
       "<td class=val>CSV</td>\n",
       "<td class=val>2022-03-31T10:50:40.773232</td></tr><tr class=even><td class=val><a href=\"https://ckan.govdata.de/dataset/9854835f-eda7-4df1-b4bd-28f23c778bcf\" target=\"_other\">https://ckan.govdata.de/dataset/9854835f-eda7-4df1-b4bd-28f23c778bcf</a></td>\n",
       "<td class=val>2017 Polizeiliche Kriminalstatistik - T51 Türkische Tatverdächtige nach Alter und Geschlecht</td>\n",
       "<td class=val><a href=\"http://dcat-ap.de/def/contributors/bundesministeriumDesInnernUndHeimat\" target=\"_other\">http://dcat-ap.de/def/contributors/bundesministeriumDesInnernUndHeimat</a></td>\n",
       "<td class=val>PDF</td>\n",
       "<td class=val>2022-03-31T10:50:40.773232</td></tr><tr class=odd><td class=val><a href=\"https://ckan.govdata.de/dataset/393bc4a0-8fa5-48c6-abee-69f3fd4d93cf\" target=\"_other\">https://ckan.govdata.de/dataset/393bc4a0-8fa5-48c6-abee-69f3fd4d93cf</a></td>\n",
       "<td class=val>2015 Polizeiliche Kriminalstatistik - T942 Opferspezifik „Beruf / Tätigkeit“ hier: ohne Vollstreckungsbeamte und Rettungsdienstkräfte</td>\n",
       "<td class=val><a href=\"http://dcat-ap.de/def/contributors/bundesministeriumDesInnernUndHeimat\" target=\"_other\">http://dcat-ap.de/def/contributors/bundesministeriumDesInnernUndHeimat</a></td>\n",
       "<td class=val>PDF</td>\n",
       "<td class=val>2022-03-31T10:50:44.276642</td></tr><tr class=even><td class=val><a href=\"https://ckan.govdata.de/dataset/393bc4a0-8fa5-48c6-abee-69f3fd4d93cf\" target=\"_other\">https://ckan.govdata.de/dataset/393bc4a0-8fa5-48c6-abee-69f3fd4d93cf</a></td>\n",
       "<td class=val>2015 Polizeiliche Kriminalstatistik - T942 Opferspezifik „Beruf / Tätigkeit“ hier: ohne Vollstreckungsbeamte und Rettungsdienstkräfte</td>\n",
       "<td class=val><a href=\"http://dcat-ap.de/def/contributors/bundesministeriumDesInnernUndHeimat\" target=\"_other\">http://dcat-ap.de/def/contributors/bundesministeriumDesInnernUndHeimat</a></td>\n",
       "<td class=val>CSV</td>\n",
       "<td class=val>2022-03-31T10:50:44.276642</td></tr></table><div class=\"tinfo\">Total: 1788, Shown: 20</div></div>"
      ]
     },
     "metadata": {},
     "output_type": "display_data"
    }
   ],
   "source": [
    "PREFIX dcat: <http://www.w3.org/ns/dcat#>\n",
    "PREFIX dct: <http://purl.org/dc/terms/>\n",
    "PREFIX dcatde: <http://dcat-ap.de/def/dcatde/>\n",
    "PREFIX rdfs: <http://www.w3.org/2000/01/rdf-schema#>\n",
    "PREFIX pg: <http://dcat-ap.de/def/politicalGeocoding/>\n",
    "\n",
    "SELECT DISTINCT ?datasetURI ?datasetTitle ?contributorID ?format ?modified\n",
    "WHERE {\n",
    "  ?datasetURI a dcat:Dataset;\n",
    "              dct:title ?datasetTitle;\n",
    "              dcatde:contributorID ?contributorID;\n",
    "              dct:modified ?modified.\n",
    "  FILTER((LANG(?datasetTitle) = \"\" || LANG(?datasetTitle) = \"de\"))\n",
    "  FILTER(CONTAINS(STR(?modified), \"2022\") || CONTAINS(STR(?modified), \"2023\"))\n",
    "  FILTER(CONTAINS(LCASE(STR(?contributorID)), \"bundesministerium\"))\n",
    "\n",
    "  ?datasetURI dcat:distribution ?distribution.\n",
    "  ?distribution dct:format ?format.\n",
    "}"
   ]
  },
  {
   "cell_type": "code",
   "execution_count": null,
   "id": "354548c2",
   "metadata": {
    "vscode": {
     "languageId": "python"
    }
   },
   "outputs": [
    {
     "data": {
      "text/html": [
       "<div class=\"krn-spql\"><table><tr class=hdr><th>contributorID</th>\n",
       "<th>uniqueTitleCount</th></tr><tr class=odd><td class=val><a href=\"http://dcat-ap.de/def/contributors/bundesministeriumFuerWirtschaftUndKlimaschutz\" target=\"_other\">http://dcat-ap.de/def/contributors/bundesministeriumFuerWirtschaftUndKlimaschutz</a></td>\n",
       "<td class=val>16</td></tr><tr class=even><td class=val><a href=\"http://dcat-ap.de/def/contributors/bundesministeriumDerFinanzen\" target=\"_other\">http://dcat-ap.de/def/contributors/bundesministeriumDerFinanzen</a></td>\n",
       "<td class=val>5</td></tr><tr class=odd><td class=val><a href=\"http://dcat-ap.de/def/contributors/bundesministeriumDesInnernUndHeimat\" target=\"_other\">http://dcat-ap.de/def/contributors/bundesministeriumDesInnernUndHeimat</a></td>\n",
       "<td class=val>868</td></tr><tr class=even><td class=val><a href=\"http://dcat-ap.de/def/contributors/bundesministeriumFuerWirtschaftlicheZusammenarbeitUndEntwicklung\" target=\"_other\">http://dcat-ap.de/def/contributors/bundesministeriumFuerWirtschaftlicheZusammenarbeitUndEntwicklung</a></td>\n",
       "<td class=val>1</td></tr><tr class=odd><td class=val><a href=\"http://dcat-ap.de/def/contributors/bundesministeriumFuerArbeitUndSoziales\" target=\"_other\">http://dcat-ap.de/def/contributors/bundesministeriumFuerArbeitUndSoziales</a></td>\n",
       "<td class=val>25</td></tr></table><div class=\"tinfo\">Total: 5, Shown: 5</div></div>"
      ]
     },
     "metadata": {},
     "output_type": "display_data"
    }
   ],
   "source": [
    "PREFIX dcat: <http://www.w3.org/ns/dcat#>\n",
    "PREFIX dct: <http://purl.org/dc/terms/>\n",
    "PREFIX dcatde: <http://dcat-ap.de/def/dcatde/>\n",
    "PREFIX rdfs: <http://www.w3.org/2000/01/rdf-schema#>\n",
    "PREFIX pg: <http://dcat-ap.de/def/politicalGeocoding/>\n",
    "\n",
    "SELECT ?contributorID (COUNT(DISTINCT ?datasetTitle) AS ?uniqueTitleCount)\n",
    "WHERE {\n",
    "  ?datasetURI a dcat:Dataset;\n",
    "              dct:title ?datasetTitle;\n",
    "              dcatde:contributorID ?contributorID;\n",
    "              dct:modified ?modified.\n",
    "  FILTER((LANG(?datasetTitle) = \"\" || LANG(?datasetTitle) = \"de\"))\n",
    "  FILTER(CONTAINS(STR(?modified), \"2022\") || CONTAINS(STR(?modified), \"2023\"))\n",
    "  FILTER(CONTAINS(LCASE(STR(?contributorID)), \"bundesministerium\"))\n",
    "\n",
    "  ?datasetURI dcat:distribution ?distribution.\n",
    "  ?distribution dct:format ?format.\n",
    "}\n",
    "GROUP BY ?contributorID"
   ]
  },
  {
   "cell_type": "code",
   "execution_count": null,
   "id": "991be13f",
   "metadata": {
    "vscode": {
     "languageId": "python"
    }
   },
   "outputs": [
    {
     "data": {
      "text/html": [
       "<div class=\"krn-spql\"><table><tr class=hdr><th>contributorID</th>\n",
       "<th>uniqueTitleCount</th></tr><tr class=odd><td class=val>http://dcat-ap.de/def/contributors/genesisDestatis</td>\n",
       "<td class=val>520</td></tr><tr class=even><td class=val><a href=\"http://dcat-ap.de/def/contributors/genesisDestatis\" target=\"_other\">http://dcat-ap.de/def/contributors/genesisDestatis</a></td>\n",
       "<td class=val>1870</td></tr><tr class=odd><td class=val><a href=\"http://dcat-ap.de/def/contributors/openDataHRO\" target=\"_other\">http://dcat-ap.de/def/contributors/openDataHRO</a></td>\n",
       "<td class=val>69</td></tr><tr class=even><td class=val><a href=\"http://dcat-ap.de/def/contributors/destatis\" target=\"_other\">http://dcat-ap.de/def/contributors/destatis</a></td>\n",
       "<td class=val>1</td></tr><tr class=odd><td class=val><a href=\"https://opendata.stadt-muenster.de/\" target=\"_other\">https://opendata.stadt-muenster.de/</a></td>\n",
       "<td class=val>56</td></tr><tr class=even><td class=val><a href=\"http://dcat-ap.de/def/contributors/regionalstatistik\" target=\"_other\">http://dcat-ap.de/def/contributors/regionalstatistik</a></td>\n",
       "<td class=val>520</td></tr><tr class=odd><td class=val><a href=\"http://dcat-ap.de/def/contributors/metropolregionRheinNeckar\" target=\"_other\">http://dcat-ap.de/def/contributors/metropolregionRheinNeckar</a></td>\n",
       "<td class=val>34</td></tr><tr class=even><td class=val><a href=\"http://dcat-ap.de/def/contributors/generalzolldirektion\" target=\"_other\">http://dcat-ap.de/def/contributors/generalzolldirektion</a></td>\n",
       "<td class=val>4</td></tr><tr class=odd><td class=val><a href=\"http://dcat-ap.de/def/contributors/bundesamtFuerWirtschaftUndAusfuhrkontrolle\" target=\"_other\">http://dcat-ap.de/def/contributors/bundesamtFuerWirtschaftUndAusfuhrkontrolle</a></td>\n",
       "<td class=val>3</td></tr><tr class=even><td class=val><a href=\"https://offenedaten.kdvz.nrw/\" target=\"_other\">https://offenedaten.kdvz.nrw/</a></td>\n",
       "<td class=val>233</td></tr><tr class=odd><td class=val><a href=\"http://dcat-ap.de/def/contributors/openGovernmentDataPortalRheinlandPfalz\" target=\"_other\">http://dcat-ap.de/def/contributors/openGovernmentDataPortalRheinlandPfalz</a></td>\n",
       "<td class=val>5092</td></tr><tr class=even><td class=val><a href=\"http://offenedaten.aachen.de\" target=\"_other\">http://offenedaten.aachen.de</a></td>\n",
       "<td class=val>22</td></tr><tr class=odd><td class=val><a href=\"http://dcat-ap.de/def/contributors/bundesministeriumDesInnernUndHeimat\" target=\"_other\">http://dcat-ap.de/def/contributors/bundesministeriumDesInnernUndHeimat</a></td>\n",
       "<td class=val>868</td></tr><tr class=even><td class=val><a href=\"http://dcat-ap.de/def/contributors/bundesministeriumFuerArbeitUndSoziales\" target=\"_other\">http://dcat-ap.de/def/contributors/bundesministeriumFuerArbeitUndSoziales</a></td>\n",
       "<td class=val>25</td></tr><tr class=odd><td class=val><a href=\"http://dcat-ap.de/def/contributors/freistaatSachsen\" target=\"_other\">http://dcat-ap.de/def/contributors/freistaatSachsen</a></td>\n",
       "<td class=val>2275</td></tr><tr class=even><td class=val><a href=\"http://dcat-ap.de/def/contributors/bundesministeriumFuerWirtschaftUndKlimaschutz\" target=\"_other\">http://dcat-ap.de/def/contributors/bundesministeriumFuerWirtschaftUndKlimaschutz</a></td>\n",
       "<td class=val>16</td></tr><tr class=odd><td class=val><a href=\"http://dcat-ap.de/def/contributors/schleswigHolstein\" target=\"_other\">http://dcat-ap.de/def/contributors/schleswigHolstein</a></td>\n",
       "<td class=val>7976</td></tr><tr class=even><td class=val><a href=\"http://dcat-ap.de/def/contributors/stadtErlangen\" target=\"_other\">http://dcat-ap.de/def/contributors/stadtErlangen</a></td>\n",
       "<td class=val>2</td></tr><tr class=odd><td class=val><a href=\"https://open-data.bielefeld.de/\" target=\"_other\">https://open-data.bielefeld.de/</a></td>\n",
       "<td class=val>97</td></tr><tr class=even><td class=val><a href=\"http://dcat-ap.de/def/contributors/openNRW\" target=\"_other\">http://dcat-ap.de/def/contributors/openNRW</a></td>\n",
       "<td class=val>3673</td></tr></table><div class=\"tinfo\">Total: 56, Shown: 20</div></div>"
      ]
     },
     "metadata": {},
     "output_type": "display_data"
    }
   ],
   "source": [
    "PREFIX dcat: <http://www.w3.org/ns/dcat#>\n",
    "PREFIX dct: <http://purl.org/dc/terms/>\n",
    "PREFIX dcatde: <http://dcat-ap.de/def/dcatde/>\n",
    "PREFIX rdfs: <http://www.w3.org/2000/01/rdf-schema#>\n",
    "PREFIX pg: <http://dcat-ap.de/def/politicalGeocoding/>\n",
    "\n",
    "SELECT ?contributorID (COUNT(DISTINCT ?datasetTitle) AS ?uniqueTitleCount)\n",
    "WHERE {\n",
    "  ?datasetURI a dcat:Dataset;\n",
    "              dct:title ?datasetTitle;\n",
    "              dcatde:contributorID ?contributorID;\n",
    "              dct:modified ?modified.\n",
    "  FILTER((LANG(?datasetTitle) = \"\" || LANG(?datasetTitle) = \"de\"))\n",
    "  FILTER(CONTAINS(STR(?modified), \"2022\") || CONTAINS(STR(?modified), \"2023\"))\n",
    "\n",
    "  ?datasetURI dcat:distribution ?distribution.\n",
    "  ?distribution dct:format ?format.\n",
    "}\n",
    "GROUP BY ?contributorID"
   ]
  },
  {
   "cell_type": "code",
   "execution_count": null,
   "id": "a158f303",
   "metadata": {
    "vscode": {
     "languageId": "python"
    }
   },
   "outputs": [
    {
     "data": {
      "text/html": [
       "<div class=\"krn-spql\"><table><tr class=hdr><th>contributorID</th>\n",
       "<th>formatCount</th></tr><tr class=odd><td class=val><a href=\"http://dcat-ap.de/def/contributors/bundesministeriumFuerWirtschaftUndKlimaschutz\" target=\"_other\">http://dcat-ap.de/def/contributors/bundesministeriumFuerWirtschaftUndKlimaschutz</a></td>\n",
       "<td class=val>3</td></tr><tr class=even><td class=val><a href=\"http://dcat-ap.de/def/contributors/bundesministeriumDerFinanzen\" target=\"_other\">http://dcat-ap.de/def/contributors/bundesministeriumDerFinanzen</a></td>\n",
       "<td class=val>5</td></tr><tr class=odd><td class=val><a href=\"http://dcat-ap.de/def/contributors/bundesministeriumDesInnernUndHeimat\" target=\"_other\">http://dcat-ap.de/def/contributors/bundesministeriumDesInnernUndHeimat</a></td>\n",
       "<td class=val>6</td></tr><tr class=even><td class=val><a href=\"http://dcat-ap.de/def/contributors/bundesministeriumFuerWirtschaftlicheZusammenarbeitUndEntwicklung\" target=\"_other\">http://dcat-ap.de/def/contributors/bundesministeriumFuerWirtschaftlicheZusammenarbeitUndEntwicklung</a></td>\n",
       "<td class=val>1</td></tr><tr class=odd><td class=val><a href=\"http://dcat-ap.de/def/contributors/bundesministeriumFuerArbeitUndSoziales\" target=\"_other\">http://dcat-ap.de/def/contributors/bundesministeriumFuerArbeitUndSoziales</a></td>\n",
       "<td class=val>2</td></tr></table><div class=\"tinfo\">Total: 5, Shown: 5</div></div>"
      ]
     },
     "metadata": {},
     "output_type": "display_data"
    }
   ],
   "source": [
    "PREFIX dcat: <http://www.w3.org/ns/dcat#>\n",
    "PREFIX dct: <http://purl.org/dc/terms/>\n",
    "PREFIX dcatde: <http://dcat-ap.de/def/dcatde/>\n",
    "PREFIX rdfs: <http://www.w3.org/2000/01/rdf-schema#>\n",
    "PREFIX pg: <http://dcat-ap.de/def/politicalGeocoding/>\n",
    "\n",
    "SELECT ?contributorID (COUNT(DISTINCT ?format) AS ?formatCount)\n",
    "WHERE {\n",
    "  ?datasetURI a dcat:Dataset;\n",
    "              dct:title ?datasetTitle;\n",
    "              dcatde:contributorID ?contributorID;\n",
    "              dct:modified ?modified.\n",
    "  FILTER((LANG(?datasetTitle) = \"\" || LANG(?datasetTitle) = \"de\"))\n",
    "  FILTER(CONTAINS(STR(?modified), \"2022\") || CONTAINS(STR(?modified), \"2023\"))\n",
    "  FILTER(CONTAINS(LCASE(STR(?contributorID)), \"bundesministerium\"))\n",
    "\n",
    "  ?datasetURI dcat:distribution ?distribution.\n",
    "  ?distribution dct:format ?format.\n",
    "}\n",
    "GROUP BY ?contributorID"
   ]
  },
  {
   "cell_type": "code",
   "execution_count": null,
   "id": "a57ed6bb",
   "metadata": {
    "vscode": {
     "languageId": "python"
    }
   },
   "outputs": [
    {
     "data": {
      "text/html": [
       "<div class=\"krn-spql\"><table><tr class=hdr><th>contributorID</th>\n",
       "<th>datasetTitle</th>\n",
       "<th>format</th></tr><tr class=odd><td class=val><a href=\"http://dcat-ap.de/def/contributors/bundesministeriumDerFinanzen\" target=\"_other\">http://dcat-ap.de/def/contributors/bundesministeriumDerFinanzen</a></td>\n",
       "<td class=val>Datensammlung zur Steuerpolitik 2010 bis 2022</td>\n",
       "<td class=val>PDF</td></tr><tr class=even><td class=val><a href=\"http://dcat-ap.de/def/contributors/bundesministeriumDerFinanzen\" target=\"_other\">http://dcat-ap.de/def/contributors/bundesministeriumDerFinanzen</a></td>\n",
       "<td class=val>Entwicklung der Verschuldung des Bundes und seiner Sondervermögen</td>\n",
       "<td class=val>XLSX</td></tr><tr class=odd><td class=val><a href=\"http://dcat-ap.de/def/contributors/bundesministeriumDerFinanzen\" target=\"_other\">http://dcat-ap.de/def/contributors/bundesministeriumDerFinanzen</a></td>\n",
       "<td class=val>Entwicklung der Verschuldung des Bundes und seiner Sondervermögen</td>\n",
       "<td class=val>XLSX, CSV</td></tr><tr class=even><td class=val><a href=\"http://dcat-ap.de/def/contributors/bundesministeriumDerFinanzen\" target=\"_other\">http://dcat-ap.de/def/contributors/bundesministeriumDerFinanzen</a></td>\n",
       "<td class=val>Programmablaufpläne für die maschinelle Berechnung des Lohnsteuerabzugs 2006 bis 2019</td>\n",
       "<td class=val>HTML</td></tr><tr class=odd><td class=val><a href=\"http://dcat-ap.de/def/contributors/bundesministeriumDerFinanzen\" target=\"_other\">http://dcat-ap.de/def/contributors/bundesministeriumDerFinanzen</a></td>\n",
       "<td class=val>Pro­gram­ma­b­lauf­plä­ne für die maschinelle Berechnung des Lohn­steu­er­ab­zugs 2020 - 2023</td>\n",
       "<td class=val>HTML</td></tr><tr class=even><td class=val><a href=\"http://dcat-ap.de/def/contributors/bundesministeriumDerFinanzen\" target=\"_other\">http://dcat-ap.de/def/contributors/bundesministeriumDerFinanzen</a></td>\n",
       "<td class=val>Pro­gram­ma­b­lauf­plä­ne für die maschinelle Berechnung des Lohn­steu­er­ab­zugs 2020 - 2023</td>\n",
       "<td class=val>PDF</td></tr><tr class=odd><td class=val><a href=\"http://dcat-ap.de/def/contributors/bundesministeriumDerFinanzen\" target=\"_other\">http://dcat-ap.de/def/contributors/bundesministeriumDerFinanzen</a></td>\n",
       "<td class=val>Pro­gram­ma­b­lauf­plä­ne für die maschinelle Berechnung des Lohn­steu­er­ab­zugs 2020 - 2023</td>\n",
       "<td class=val>PDF</td></tr><tr class=even><td class=val><a href=\"http://dcat-ap.de/def/contributors/bundesministeriumDerFinanzen\" target=\"_other\">http://dcat-ap.de/def/contributors/bundesministeriumDerFinanzen</a></td>\n",
       "<td class=val>Pro­gram­ma­b­lauf­plä­ne für die maschinelle Berechnung des Lohn­steu­er­ab­zugs 2020 - 2023</td>\n",
       "<td class=val>PDF</td></tr><tr class=odd><td class=val><a href=\"http://dcat-ap.de/def/contributors/bundesministeriumDerFinanzen\" target=\"_other\">http://dcat-ap.de/def/contributors/bundesministeriumDerFinanzen</a></td>\n",
       "<td class=val>Statistische Auswertungen zur Riester-Förderung</td>\n",
       "<td class=val>XLSX, HTML, PDF</td></tr><tr class=even><td class=val><a href=\"http://dcat-ap.de/def/contributors/bundesministeriumDesInnernUndHeimat\" target=\"_other\">http://dcat-ap.de/def/contributors/bundesministeriumDesInnernUndHeimat</a></td>\n",
       "<td class=val>&quot;2015 Polizeiliche Kriminalstatistik - T933 Opfer - Tatverdächtigen – Beziehung / räumlich sozial Sonstige/andere Beziehung, keine Beziehung, nicht feststellbar/unbekannt &quot;</td>\n",
       "<td class=val>CSV</td></tr><tr class=odd><td class=val><a href=\"http://dcat-ap.de/def/contributors/bundesministeriumDesInnernUndHeimat\" target=\"_other\">http://dcat-ap.de/def/contributors/bundesministeriumDesInnernUndHeimat</a></td>\n",
       "<td class=val>&quot;2015 Polizeiliche Kriminalstatistik - T933 Opfer - Tatverdächtigen – Beziehung / räumlich sozial Sonstige/andere Beziehung, keine Beziehung, nicht feststellbar/unbekannt &quot;</td>\n",
       "<td class=val>PDF</td></tr><tr class=even><td class=val><a href=\"http://dcat-ap.de/def/contributors/bundesministeriumDesInnernUndHeimat\" target=\"_other\">http://dcat-ap.de/def/contributors/bundesministeriumDesInnernUndHeimat</a></td>\n",
       "<td class=val>&quot;2015 Polizeiliche Kriminalstatistik - T933 Opfer - Tatverdächtigen – Beziehung / räumlich sozial Sonstige/andere Beziehung, keine Beziehung, nicht feststellbar/unbekannt &quot;</td>\n",
       "<td class=val>PDF</td></tr><tr class=odd><td class=val><a href=\"http://dcat-ap.de/def/contributors/bundesministeriumDesInnernUndHeimat\" target=\"_other\">http://dcat-ap.de/def/contributors/bundesministeriumDesInnernUndHeimat</a></td>\n",
       "<td class=val>&quot;2015 Polizeiliche Kriminalstatistik - T933 Opfer - Tatverdächtigen – Beziehung / räumlich sozial Sonstige/andere Beziehung, keine Beziehung, nicht feststellbar/unbekannt &quot;</td>\n",
       "<td class=val>PDF</td></tr><tr class=even><td class=val><a href=\"http://dcat-ap.de/def/contributors/bundesministeriumDesInnernUndHeimat\" target=\"_other\">http://dcat-ap.de/def/contributors/bundesministeriumDesInnernUndHeimat</a></td>\n",
       "<td class=val>&quot;2017 Polizeiliche Kriminalstatistik - T933 Opfer - Tatverdächtigen – Beziehung / räumlich sozial Sonstige/andere Beziehung, keine Beziehung, nicht feststellbar/unbekannt &quot;</td>\n",
       "<td class=val>CSV</td></tr><tr class=odd><td class=val><a href=\"http://dcat-ap.de/def/contributors/bundesministeriumDesInnernUndHeimat\" target=\"_other\">http://dcat-ap.de/def/contributors/bundesministeriumDesInnernUndHeimat</a></td>\n",
       "<td class=val>&quot;2017 Polizeiliche Kriminalstatistik - T933 Opfer - Tatverdächtigen – Beziehung / räumlich sozial Sonstige/andere Beziehung, keine Beziehung, nicht feststellbar/unbekannt &quot;</td>\n",
       "<td class=val>PDF</td></tr><tr class=even><td class=val><a href=\"http://dcat-ap.de/def/contributors/bundesministeriumDesInnernUndHeimat\" target=\"_other\">http://dcat-ap.de/def/contributors/bundesministeriumDesInnernUndHeimat</a></td>\n",
       "<td class=val>&quot;2017 Polizeiliche Kriminalstatistik - T933 Opfer - Tatverdächtigen – Beziehung / räumlich sozial Sonstige/andere Beziehung, keine Beziehung, nicht feststellbar/unbekannt &quot;</td>\n",
       "<td class=val>PDF</td></tr><tr class=odd><td class=val><a href=\"http://dcat-ap.de/def/contributors/bundesministeriumDesInnernUndHeimat\" target=\"_other\">http://dcat-ap.de/def/contributors/bundesministeriumDesInnernUndHeimat</a></td>\n",
       "<td class=val>&quot;2017 Polizeiliche Kriminalstatistik - T933 Opfer - Tatverdächtigen – Beziehung / räumlich sozial Sonstige/andere Beziehung, keine Beziehung, nicht feststellbar/unbekannt &quot;</td>\n",
       "<td class=val>PDF</td></tr><tr class=even><td class=val><a href=\"http://dcat-ap.de/def/contributors/bundesministeriumDesInnernUndHeimat\" target=\"_other\">http://dcat-ap.de/def/contributors/bundesministeriumDesInnernUndHeimat</a></td>\n",
       "<td class=val>&quot;2018 Polizeiliche Kriminalstatistik - T933 Opfer - Tatverdächtigen – Beziehung / räumlich sozial Sonstige/andere Beziehung, keine Beziehung, nicht feststellbar/unbekannt &quot;</td>\n",
       "<td class=val>CSV</td></tr><tr class=odd><td class=val><a href=\"http://dcat-ap.de/def/contributors/bundesministeriumDesInnernUndHeimat\" target=\"_other\">http://dcat-ap.de/def/contributors/bundesministeriumDesInnernUndHeimat</a></td>\n",
       "<td class=val>&quot;2018 Polizeiliche Kriminalstatistik - T933 Opfer - Tatverdächtigen – Beziehung / räumlich sozial Sonstige/andere Beziehung, keine Beziehung, nicht feststellbar/unbekannt &quot;</td>\n",
       "<td class=val>PDF</td></tr><tr class=even><td class=val><a href=\"http://dcat-ap.de/def/contributors/bundesministeriumDesInnernUndHeimat\" target=\"_other\">http://dcat-ap.de/def/contributors/bundesministeriumDesInnernUndHeimat</a></td>\n",
       "<td class=val>&quot;2018 Polizeiliche Kriminalstatistik - T933 Opfer - Tatverdächtigen – Beziehung / räumlich sozial Sonstige/andere Beziehung, keine Beziehung, nicht feststellbar/unbekannt &quot;</td>\n",
       "<td class=val>PDF</td></tr></table><div class=\"tinfo\">Total: 3590, Shown: 20</div></div>"
      ]
     },
     "metadata": {},
     "output_type": "display_data"
    }
   ],
   "source": [
    "PREFIX dcat: <http://www.w3.org/ns/dcat#>\n",
    "PREFIX dct: <http://purl.org/dc/terms/>\n",
    "PREFIX dcatde: <http://dcat-ap.de/def/dcatde/>\n",
    "PREFIX rdfs: <http://www.w3.org/2000/01/rdf-schema#>\n",
    "PREFIX pg: <http://dcat-ap.de/def/politicalGeocoding/>\n",
    "\n",
    "SELECT ?contributorID ?datasetTitle ?format\n",
    "WHERE {\n",
    "  ?datasetURI a dcat:Dataset;\n",
    "              dct:title ?datasetTitle;\n",
    "              dcatde:contributorID ?contributorID;\n",
    "              dct:modified ?modified.\n",
    "  FILTER((LANG(?datasetTitle) = \"\" || LANG(?datasetTitle) = \"de\"))\n",
    "  FILTER(CONTAINS(STR(?modified), \"2022\") || CONTAINS(STR(?modified), \"2023\"))\n",
    "  FILTER(CONTAINS(LCASE(STR(?contributorID)), \"bundesministerium\"))\n",
    "\n",
    "  ?datasetURI dcat:distribution ?distribution.\n",
    "  ?distribution dct:format ?format.\n",
    "}\n",
    "ORDER BY ?contributorID ?datasetTitle ?format"
   ]
  },
  {
   "cell_type": "code",
   "execution_count": null,
   "id": "1ed191fd",
   "metadata": {
    "vscode": {
     "languageId": "python"
    }
   },
   "outputs": [
    {
     "data": {
      "text/html": [
       "<div class=\"krn-spql\"><table><tr class=hdr><th>contributorID</th>\n",
       "<th>format</th></tr><tr class=odd><td class=val><a href=\"http://dcat-ap.de/def/contributors/bundesministeriumDerFinanzen\" target=\"_other\">http://dcat-ap.de/def/contributors/bundesministeriumDerFinanzen</a></td>\n",
       "<td class=val>HTML</td></tr><tr class=even><td class=val><a href=\"http://dcat-ap.de/def/contributors/bundesministeriumDerFinanzen\" target=\"_other\">http://dcat-ap.de/def/contributors/bundesministeriumDerFinanzen</a></td>\n",
       "<td class=val>PDF</td></tr><tr class=odd><td class=val><a href=\"http://dcat-ap.de/def/contributors/bundesministeriumDerFinanzen\" target=\"_other\">http://dcat-ap.de/def/contributors/bundesministeriumDerFinanzen</a></td>\n",
       "<td class=val>XLSX</td></tr><tr class=even><td class=val><a href=\"http://dcat-ap.de/def/contributors/bundesministeriumDerFinanzen\" target=\"_other\">http://dcat-ap.de/def/contributors/bundesministeriumDerFinanzen</a></td>\n",
       "<td class=val>XLSX, CSV</td></tr><tr class=odd><td class=val><a href=\"http://dcat-ap.de/def/contributors/bundesministeriumDerFinanzen\" target=\"_other\">http://dcat-ap.de/def/contributors/bundesministeriumDerFinanzen</a></td>\n",
       "<td class=val>XLSX, HTML, PDF</td></tr><tr class=even><td class=val><a href=\"http://dcat-ap.de/def/contributors/bundesministeriumDesInnernUndHeimat\" target=\"_other\">http://dcat-ap.de/def/contributors/bundesministeriumDesInnernUndHeimat</a></td>\n",
       "<td class=val>CSV</td></tr><tr class=odd><td class=val><a href=\"http://dcat-ap.de/def/contributors/bundesministeriumDesInnernUndHeimat\" target=\"_other\">http://dcat-ap.de/def/contributors/bundesministeriumDesInnernUndHeimat</a></td>\n",
       "<td class=val>HTML</td></tr><tr class=even><td class=val><a href=\"http://dcat-ap.de/def/contributors/bundesministeriumDesInnernUndHeimat\" target=\"_other\">http://dcat-ap.de/def/contributors/bundesministeriumDesInnernUndHeimat</a></td>\n",
       "<td class=val>PDF</td></tr><tr class=odd><td class=val><a href=\"http://dcat-ap.de/def/contributors/bundesministeriumDesInnernUndHeimat\" target=\"_other\">http://dcat-ap.de/def/contributors/bundesministeriumDesInnernUndHeimat</a></td>\n",
       "<td class=val>XML</td></tr><tr class=even><td class=val><a href=\"http://dcat-ap.de/def/contributors/bundesministeriumDesInnernUndHeimat\" target=\"_other\">http://dcat-ap.de/def/contributors/bundesministeriumDesInnernUndHeimat</a></td>\n",
       "<td class=val>csv. </td></tr><tr class=odd><td class=val><a href=\"http://dcat-ap.de/def/contributors/bundesministeriumDesInnernUndHeimat\" target=\"_other\">http://dcat-ap.de/def/contributors/bundesministeriumDesInnernUndHeimat</a></td>\n",
       "<td class=val>de</td></tr><tr class=even><td class=val><a href=\"http://dcat-ap.de/def/contributors/bundesministeriumFuerArbeitUndSoziales\" target=\"_other\">http://dcat-ap.de/def/contributors/bundesministeriumFuerArbeitUndSoziales</a></td>\n",
       "<td class=val>CSV</td></tr><tr class=odd><td class=val><a href=\"http://dcat-ap.de/def/contributors/bundesministeriumFuerArbeitUndSoziales\" target=\"_other\">http://dcat-ap.de/def/contributors/bundesministeriumFuerArbeitUndSoziales</a></td>\n",
       "<td class=val>deutsch</td></tr><tr class=even><td class=val><a href=\"http://dcat-ap.de/def/contributors/bundesministeriumFuerWirtschaftUndKlimaschutz\" target=\"_other\">http://dcat-ap.de/def/contributors/bundesministeriumFuerWirtschaftUndKlimaschutz</a></td>\n",
       "<td class=val>CSV</td></tr><tr class=odd><td class=val><a href=\"http://dcat-ap.de/def/contributors/bundesministeriumFuerWirtschaftUndKlimaschutz\" target=\"_other\">http://dcat-ap.de/def/contributors/bundesministeriumFuerWirtschaftUndKlimaschutz</a></td>\n",
       "<td class=val>XLSX</td></tr><tr class=even><td class=val><a href=\"http://dcat-ap.de/def/contributors/bundesministeriumFuerWirtschaftUndKlimaschutz\" target=\"_other\">http://dcat-ap.de/def/contributors/bundesministeriumFuerWirtschaftUndKlimaschutz</a></td>\n",
       "<td class=val>ZIP</td></tr><tr class=odd><td class=val><a href=\"http://dcat-ap.de/def/contributors/bundesministeriumFuerWirtschaftlicheZusammenarbeitUndEntwicklung\" target=\"_other\">http://dcat-ap.de/def/contributors/bundesministeriumFuerWirtschaftlicheZusammenarbeitUndEntwicklung</a></td>\n",
       "<td class=val>XML</td></tr></table><div class=\"tinfo\">Total: 17, Shown: 17</div></div>"
      ]
     },
     "metadata": {},
     "output_type": "display_data"
    }
   ],
   "source": [
    "PREFIX dcat: <http://www.w3.org/ns/dcat#>\n",
    "PREFIX dct: <http://purl.org/dc/terms/>\n",
    "PREFIX dcatde: <http://dcat-ap.de/def/dcatde/>\n",
    "PREFIX rdfs: <http://www.w3.org/2000/01/rdf-schema#>\n",
    "PREFIX pg: <http://dcat-ap.de/def/politicalGeocoding/>\n",
    "\n",
    "SELECT DISTINCT ?contributorID ?format\n",
    "WHERE {\n",
    "  ?datasetURI a dcat:Dataset;\n",
    "              dct:title ?datasetTitle;\n",
    "              dcatde:contributorID ?contributorID;\n",
    "              dct:modified ?modified.\n",
    "  FILTER((LANG(?datasetTitle) = \"\" || LANG(?datasetTitle) = \"de\"))\n",
    "  FILTER(CONTAINS(STR(?modified), \"2022\") || CONTAINS(STR(?modified), \"2023\"))\n",
    "  FILTER(CONTAINS(LCASE(STR(?contributorID)), \"bundesministerium\"))\n",
    "\n",
    "  ?datasetURI dcat:distribution ?distribution.\n",
    "  ?distribution dct:format ?format.\n",
    "}\n",
    "ORDER BY ?contributorID ?format"
   ]
  }
 ],
 "metadata": {
  "kernelspec": {
   "display_name": "SPARQL",
   "language": "sparql",
   "name": "sparql"
  },
  "language_info": {
   "codemirror_mode": {
    "name": "sparql"
   },
   "mimetype": "application/sparql-query",
   "name": "sparql",
   "pygments_lexer": "sparql-nb"
  }
 },
 "nbformat": 4,
 "nbformat_minor": 5
}
