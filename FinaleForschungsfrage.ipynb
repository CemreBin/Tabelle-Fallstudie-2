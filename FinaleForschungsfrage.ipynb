{
 "cells": [
  {
   "cell_type": "code",
   "execution_count": 7,
   "id": "f4597281",
   "metadata": {
    "vscode": {
     "languageId": "plaintext"
    }
   },
   "outputs": [
    {
     "data": {
      "text/html": [
       "<div class=\"krn-spql\"><div class=\"magic\">Endpoint set to: https://data.europa.eu/sparql</div></div>"
      ],
      "text/plain": [
       "Endpoint set to: https://data.europa.eu/sparql\n"
      ]
     },
     "metadata": {},
     "output_type": "display_data"
    },
    {
     "data": {
      "text/html": [
       "<div class=\"krn-spql\"><table><tr class=hdr><th>uri</th>\n",
       "<th>title</th>\n",
       "<th>contributorid</th>\n",
       "<th>modified</th></tr><tr class=odd><td class=val><a href=\"http://data.europa.eu/88u/dataset/1819\" target=\"_other\">http://data.europa.eu/88u/dataset/1819</a></td>\n",
       "<td class=val>Baumkataster OP</td>\n",
       "<td class=val><a href=\"http://dcat-ap.de/def/contributors/stadtFrankfurtAmMain\" target=\"_other\">http://dcat-ap.de/def/contributors/stadtFrankfurtAmMain</a></td>\n",
       "<td class=val>2025-02-06</td></tr><tr class=even><td class=val><a href=\"http://data.europa.eu/88u/dataset/https-munigrid-de-hbg-dataset-geo-baumkataster\" target=\"_other\">http://data.europa.eu/88u/dataset/https-munigrid-de-hbg-dataset-geo-baumkataster</a></td>\n",
       "<td class=val>Baumkataster</td>\n",
       "<td class=val><a href=\"http://dcat-ap.de/def/contributors/datenBW\" target=\"_other\">http://dcat-ap.de/def/contributors/datenBW</a></td>\n",
       "<td class=val>2024-09-02T16:23:45Z</td></tr></table><div class=\"tinfo\">Total: 2, Shown: 2</div></div>"
      ]
     },
     "metadata": {},
     "output_type": "display_data"
    }
   ],
   "source": [
    "%endpoint https://data.europa.eu/sparql\n",
    "PREFIX dct: <http://purl.org/dc/terms/>\n",
    "PREFIX dcatde: <http://dcat-ap.de/def/dcatde/>\n",
    "\n",
    "SELECT ?uri ?title ?contributorid ?modified WHERE {\n",
    "    {\n",
    "        SELECT ?uri ?title ?contributorid ?modified WHERE {\n",
    "            ?uri dct:title ?title .\n",
    "            ?uri dcatde:contributorID ?contributorid .\n",
    "            ?uri dct:modified ?modified .\n",
    "            FILTER(isURI(?contributorid))\n",
    "            FILTER(strstarts(str(?contributorid), \"http://dcat-ap.de/def/contributors/\"))\n",
    "            FILTER(CONTAINS(LCASE(?title), \"baumkataster\"))\n",
    "            FILTER(\n",
    "                CONTAINS(STR(?modified), \"2017\") || \n",
    "                CONTAINS(STR(?modified), \"2018\") || \n",
    "                CONTAINS(STR(?modified), \"2019\") || \n",
    "                CONTAINS(STR(?modified), \"2020\") || \n",
    "                CONTAINS(STR(?modified), \"2021\") || \n",
    "                CONTAINS(STR(?modified), \"2022\") || \n",
    "                CONTAINS(STR(?modified), \"2023\") || \n",
    "                CONTAINS(STR(?modified), \"2024\") || \n",
    "                CONTAINS(STR(?modified), \"2025\")\n",
    "            )\n",
    "        }\n",
    "    }\n",
    "}\n",
    "OFFSET 40\n",
    "LIMIT 42"
   ]
  },
  {
   "cell_type": "code",
   "execution_count": 11,
   "id": "4fb1340b",
   "metadata": {
    "vscode": {
     "languageId": "plaintext"
    }
   },
   "outputs": [
    {
     "data": {
      "text/html": [
       "<div class=\"krn-spql\"><div class=\"magic\">Endpoint set to: https://data.europa.eu/sparql</div></div>"
      ],
      "text/plain": [
       "Endpoint set to: https://data.europa.eu/sparql\n"
      ]
     },
     "metadata": {},
     "output_type": "display_data"
    },
    {
     "data": {
      "text/html": [
       "<div class=\"krn-spql\"><table><tr class=hdr><th>contributorid</th>\n",
       "<th>datasetCount</th></tr><tr class=odd><td class=val><a href=\"http://dcat-ap.de/def/contributors/openGovernmentDataPortalRheinlandPfalz\" target=\"_other\">http://dcat-ap.de/def/contributors/openGovernmentDataPortalRheinlandPfalz</a></td>\n",
       "<td class=val>8</td></tr><tr class=even><td class=val><a href=\"http://dcat-ap.de/def/contributors/openNRW\" target=\"_other\">http://dcat-ap.de/def/contributors/openNRW</a></td>\n",
       "<td class=val>6</td></tr><tr class=odd><td class=val><a href=\"http://dcat-ap.de/def/contributors/openDataBayern\" target=\"_other\">http://dcat-ap.de/def/contributors/openDataBayern</a></td>\n",
       "<td class=val>6</td></tr><tr class=even><td class=val><a href=\"http://dcat-ap.de/def/contributors/schleswigHolstein\" target=\"_other\">http://dcat-ap.de/def/contributors/schleswigHolstein</a></td>\n",
       "<td class=val>5</td></tr><tr class=odd><td class=val><a href=\"http://dcat-ap.de/def/contributors/openDataBrandenburg\" target=\"_other\">http://dcat-ap.de/def/contributors/openDataBrandenburg</a></td>\n",
       "<td class=val>4</td></tr><tr class=even><td class=val><a href=\"http://dcat-ap.de/def/contributors/datenBW\" target=\"_other\">http://dcat-ap.de/def/contributors/datenBW</a></td>\n",
       "<td class=val>3</td></tr><tr class=odd><td class=val><a href=\"http://dcat-ap.de/def/contributors/mobilithek\" target=\"_other\">http://dcat-ap.de/def/contributors/mobilithek</a></td>\n",
       "<td class=val>3</td></tr><tr class=even><td class=val><a href=\"http://dcat-ap.de/def/contributors/transparenzportalHamburg\" target=\"_other\">http://dcat-ap.de/def/contributors/transparenzportalHamburg</a></td>\n",
       "<td class=val>2</td></tr><tr class=odd><td class=val><a href=\"http://dcat-ap.de/def/contributors/freistaatSachsen\" target=\"_other\">http://dcat-ap.de/def/contributors/freistaatSachsen</a></td>\n",
       "<td class=val>2</td></tr><tr class=even><td class=val><a href=\"http://dcat-ap.de/def/contributors/gdiDE\" target=\"_other\">http://dcat-ap.de/def/contributors/gdiDE</a></td>\n",
       "<td class=val>1</td></tr><tr class=odd><td class=val><a href=\"http://dcat-ap.de/def/contributors/stadtErlangen\" target=\"_other\">http://dcat-ap.de/def/contributors/stadtErlangen</a></td>\n",
       "<td class=val>1</td></tr><tr class=even><td class=val><a href=\"http://dcat-ap.de/def/contributors/stadtFrankfurtAmMain\" target=\"_other\">http://dcat-ap.de/def/contributors/stadtFrankfurtAmMain</a></td>\n",
       "<td class=val>1</td></tr></table><div class=\"tinfo\">Total: 12, Shown: 12</div></div>"
      ]
     },
     "metadata": {},
     "output_type": "display_data"
    }
   ],
   "source": [
    "%endpoint https://data.europa.eu/sparql\n",
    "PREFIX dct: <http://purl.org/dc/terms/>\n",
    "PREFIX dcatde: <http://dcat-ap.de/def/dcatde/>\n",
    "\n",
    "SELECT ?contributorid (COUNT(?uri) AS ?datasetCount) WHERE {\n",
    "    {\n",
    "        SELECT ?uri ?contributorid WHERE {\n",
    "            ?uri dct:title ?title .\n",
    "            ?uri dcatde:contributorID ?contributorid .\n",
    "            ?uri dct:modified ?modified .\n",
    "            FILTER(isURI(?contributorid))\n",
    "            FILTER(strstarts(str(?contributorid), \"http://dcat-ap.de/def/contributors/\"))\n",
    "            FILTER(CONTAINS(LCASE(?title), \"baumkataster\"))\n",
    "            FILTER(\n",
    "                CONTAINS(STR(?modified), \"2017\") || \n",
    "                CONTAINS(STR(?modified), \"2018\") || \n",
    "                CONTAINS(STR(?modified), \"2019\") || \n",
    "                CONTAINS(STR(?modified), \"2020\") || \n",
    "                CONTAINS(STR(?modified), \"2021\") || \n",
    "                CONTAINS(STR(?modified), \"2022\") || \n",
    "                CONTAINS(STR(?modified), \"2023\") || \n",
    "                CONTAINS(STR(?modified), \"2024\") || \n",
    "                CONTAINS(STR(?modified), \"2025\")\n",
    "            )\n",
    "        }\n",
    "    }\n",
    "}\n",
    "GROUP BY ?contributorid\n",
    "ORDER BY DESC(?datasetCount)\n",
    "\n"
   ]
  },
  {
   "cell_type": "code",
   "execution_count": 12,
   "id": "228fd218",
   "metadata": {
    "vscode": {
     "languageId": "plaintext"
    }
   },
   "outputs": [
    {
     "data": {
      "text/html": [
       "<div class=\"krn-spql\"><div class=\"magic\">Endpoint set to: https://data.europa.eu/sparql</div></div>"
      ],
      "text/plain": [
       "Endpoint set to: https://data.europa.eu/sparql\n"
      ]
     },
     "metadata": {},
     "output_type": "display_data"
    },
    {
     "data": {
      "text/html": [
       "<div class=\"krn-spql\"><table><tr class=hdr><th>contributorID</th>\n",
       "<th>formatCount</th></tr><tr class=odd><td class=val><a href=\"http://dcat-ap.de/def/contributors/openNRW\" target=\"_other\">http://dcat-ap.de/def/contributors/openNRW</a></td>\n",
       "<td class=val>27</td></tr><tr class=even><td class=val><a href=\"http://dcat-ap.de/def/contributors/openDataBayern\" target=\"_other\">http://dcat-ap.de/def/contributors/openDataBayern</a></td>\n",
       "<td class=val>21</td></tr><tr class=odd><td class=val><a href=\"http://dcat-ap.de/def/contributors/transparenzportalHamburg\" target=\"_other\">http://dcat-ap.de/def/contributors/transparenzportalHamburg</a></td>\n",
       "<td class=val>8</td></tr><tr class=even><td class=val><a href=\"https://opendata.stadt-muenster.de/\" target=\"_other\">https://opendata.stadt-muenster.de/</a></td>\n",
       "<td class=val>7</td></tr><tr class=odd><td class=val><a href=\"http://dcat-ap.de/def/contributors/schleswigHolstein\" target=\"_other\">http://dcat-ap.de/def/contributors/schleswigHolstein</a></td>\n",
       "<td class=val>6</td></tr><tr class=even><td class=val><a href=\"http://dcat-ap.de/def/contributors/mobilithek\" target=\"_other\">http://dcat-ap.de/def/contributors/mobilithek</a></td>\n",
       "<td class=val>6</td></tr><tr class=odd><td class=val><a href=\"https://gdi-sh.de\" target=\"_other\">https://gdi-sh.de</a></td>\n",
       "<td class=val>6</td></tr><tr class=even><td class=val><a href=\"http://dcat-ap.de/def/contributors/datenBW\" target=\"_other\">http://dcat-ap.de/def/contributors/datenBW</a></td>\n",
       "<td class=val>4</td></tr><tr class=odd><td class=val><a href=\"https://offenedaten-koeln.de/\" target=\"_other\">https://offenedaten-koeln.de/</a></td>\n",
       "<td class=val>4</td></tr><tr class=even><td class=val><a href=\"https://offenedaten.kdvz.nrw/\" target=\"_other\">https://offenedaten.kdvz.nrw/</a></td>\n",
       "<td class=val>3</td></tr><tr class=odd><td class=val><a href=\"http://dcat-ap.de/def/contributors/gdiDE\" target=\"_other\">http://dcat-ap.de/def/contributors/gdiDE</a></td>\n",
       "<td class=val>2</td></tr><tr class=even><td class=val><a href=\"https://offenedaten-konstanz.de/\" target=\"_other\">https://offenedaten-konstanz.de/</a></td>\n",
       "<td class=val>2</td></tr><tr class=odd><td class=val><a href=\"http://dcat-ap.de/def/contributors/freistaatSachsen\" target=\"_other\">http://dcat-ap.de/def/contributors/freistaatSachsen</a></td>\n",
       "<td class=val>2</td></tr><tr class=even><td class=val><a href=\"http://dcat-ap.de/def/contributors/stadtFrankfurtAmMain\" target=\"_other\">http://dcat-ap.de/def/contributors/stadtFrankfurtAmMain</a></td>\n",
       "<td class=val>1</td></tr><tr class=odd><td class=val><a href=\"http://dcat-ap.de/def/contributors/openGovernmentDataPortalRheinlandPfalz\" target=\"_other\">http://dcat-ap.de/def/contributors/openGovernmentDataPortalRheinlandPfalz</a></td>\n",
       "<td class=val>1</td></tr><tr class=even><td class=val><a href=\"http://dcat-ap.de/def/contributors/openDataBrandenburg\" target=\"_other\">http://dcat-ap.de/def/contributors/openDataBrandenburg</a></td>\n",
       "<td class=val>1</td></tr><tr class=odd><td class=val><a href=\"http://dcat-ap.de/def/contributors/stadtErlangen\" target=\"_other\">http://dcat-ap.de/def/contributors/stadtErlangen</a></td>\n",
       "<td class=val>1</td></tr></table><div class=\"tinfo\">Total: 17, Shown: 17</div></div>"
      ]
     },
     "metadata": {},
     "output_type": "display_data"
    }
   ],
   "source": [
    "%endpoint https://data.europa.eu/sparql\n",
    "PREFIX dcat: <http://www.w3.org/ns/dcat#>\n",
    "PREFIX dct: <http://purl.org/dc/terms/>\n",
    "PREFIX dcatde: <http://dcat-ap.de/def/dcatde/>\n",
    "PREFIX rdfs: <http://www.w3.org/2000/01/rdf-schema#>\n",
    "PREFIX pg: <http://dcat-ap.de/def/politicalGeocoding/>\n",
    "\n",
    "SELECT ?contributorID (COUNT(DISTINCT ?format) AS ?formatCount)\n",
    "WHERE {\n",
    "  ?datasetURI a dcat:Dataset;\n",
    "              dct:title ?datasetTitle;\n",
    "              dcatde:contributorID ?contributorID;\n",
    "              dct:modified ?modified.\n",
    "  OPTIONAL { ?datasetURI dcat:catalog ?catalog. }\n",
    "  FILTER((LANG(?datasetTitle) = \"\" || LANG(?datasetTitle) = \"de\") && CONTAINS(LCASE(?datasetTitle), \"baumkataster\"))\n",
    "  FILTER(\n",
    "    CONTAINS(STR(?modified), \"2017\") || \n",
    "    CONTAINS(STR(?modified), \"2018\") || \n",
    "    CONTAINS(STR(?modified), \"2019\") || \n",
    "    CONTAINS(STR(?modified), \"2020\") || \n",
    "    CONTAINS(STR(?modified), \"2021\") || \n",
    "    CONTAINS(STR(?modified), \"2022\") || \n",
    "    CONTAINS(STR(?modified), \"2023\") || \n",
    "    CONTAINS(STR(?modified), \"2024\") || \n",
    "    CONTAINS(STR(?modified), \"2025\")\n",
    "  )\n",
    "\n",
    "  ?datasetURI dcat:distribution ?distribution.\n",
    "  ?distribution dct:format ?format.\n",
    "}\n",
    "GROUP BY ?contributorID\n",
    "ORDER BY DESC(?formatCount)\n"
   ]
  },
  {
   "cell_type": "code",
   "execution_count": 13,
   "id": "a41f620a",
   "metadata": {
    "vscode": {
     "languageId": "plaintext"
    }
   },
   "outputs": [
    {
     "data": {
      "text/html": [
       "<div class=\"krn-spql\"><div class=\"magic\">Endpoint set to: https://data.europa.eu/sparql</div></div>"
      ],
      "text/plain": [
       "Endpoint set to: https://data.europa.eu/sparql\n"
      ]
     },
     "metadata": {},
     "output_type": "display_data"
    },
    {
     "data": {
      "text/html": [
       "<div class=\"krn-spql\"><table><tr class=hdr><th>datasetTitle</th></tr><tr class=odd><td class=val>Baumkataster - Amt Beetsee Gemeinde Beetzseeheide</td></tr><tr class=even><td class=val>Baumkataster - Amt Beetsee Gemeinde Beetzseeheide (WMS)</td></tr><tr class=odd><td class=val>Baumkataster - Amt Beetsee Gemeinde Beetzseeheide (WFS)</td></tr><tr class=even><td class=val>Baumkataster Frankfurt (Oder) - (WFS-BAUMKATASTER)</td></tr></table><div class=\"tinfo\">Total: 4, Shown: 4</div></div>"
      ]
     },
     "metadata": {},
     "output_type": "display_data"
    }
   ],
   "source": [
    "%endpoint https://data.europa.eu/sparql\n",
    "PREFIX dcat: <http://www.w3.org/ns/dcat#>\n",
    "PREFIX dct: <http://purl.org/dc/terms/>\n",
    "PREFIX dcatde: <http://dcat-ap.de/def/dcatde/>\n",
    "PREFIX rdfs: <http://www.w3.org/2000/01/rdf-schema#>\n",
    "PREFIX pg: <http://dcat-ap.de/def/politicalGeocoding/>\n",
    "\n",
    "SELECT ?datasetTitle\n",
    "WHERE {\n",
    "  ?datasetURI a dcat:Dataset;\n",
    "              dct:title ?datasetTitle;\n",
    "              dcatde:contributorID ?contributorID;\n",
    "              dct:modified ?modified.\n",
    "  OPTIONAL { ?datasetURI dcat:catalog ?catalog. }\n",
    "  \n",
    "  FILTER((LANG(?datasetTitle) = \"\" || LANG(?datasetTitle) = \"de\") && CONTAINS(LCASE(?datasetTitle), \"baumkataster\"))\n",
    "  \n",
    "  FILTER(\n",
    "    CONTAINS(STR(?modified), \"2017\") || \n",
    "    CONTAINS(STR(?modified), \"2018\") || \n",
    "    CONTAINS(STR(?modified), \"2019\") || \n",
    "    CONTAINS(STR(?modified), \"2020\") || \n",
    "    CONTAINS(STR(?modified), \"2021\") || \n",
    "    CONTAINS(STR(?modified), \"2022\") || \n",
    "    CONTAINS(STR(?modified), \"2023\") || \n",
    "    CONTAINS(STR(?modified), \"2024\") || \n",
    "    CONTAINS(STR(?modified), \"2025\")\n",
    "  )\n",
    "  \n",
    "  FILTER(?contributorID = <http://dcat-ap.de/def/contributors/openDataBrandenburg>)\n",
    "\n",
    "}\n",
    "ORDER BY ?datasetTitle\n"
   ]
  },
  {
   "cell_type": "code",
   "execution_count": 18,
   "id": "4f6d9fb9",
   "metadata": {
    "vscode": {
     "languageId": "plaintext"
    }
   },
   "outputs": [
    {
     "data": {
      "text/html": [
       "<div class=\"krn-spql\"><div class=\"magic\">Endpoint set to: https://www.govdata.de/sparql</div></div>"
      ],
      "text/plain": [
       "Endpoint set to: https://www.govdata.de/sparql\n"
      ]
     },
     "metadata": {},
     "output_type": "display_data"
    },
    {
     "data": {
      "text/html": [
       "<div class=\"krn-spql\"><table><tr class=hdr><th>datasetURI</th>\n",
       "<th>datasetTitle</th>\n",
       "<th>datasetDescription</th></tr><tr class=odd><td class=val><a href=\"https://piveau.offene.daten-brandenburg.de/api/hub/repo/datasets/45a104e1-2a3e-4b90-9e24-dc97d34b3298\" target=\"_other\">https://piveau.offene.daten-brandenburg.de/api/hub/repo/datasets/45a104e1-2a3e-4b90-9e24-dc97d34b3298</a></td>\n",
       "<td class=val>Baumkataster - Amt Beetsee Gemeinde Beetzseeheide</td>\n",
       "<td class=val>Datensatz zum Baumkataster (Standort, Baumart, Baummaße) im Bereich der Gemeinde Beetzseeheide</td></tr><tr class=even><td class=val><a href=\"https://piveau.offene.daten-brandenburg.de/api/hub/repo/datasets/771b3471-f63a-4de8-b930-31dde0d23417\" target=\"_other\">https://piveau.offene.daten-brandenburg.de/api/hub/repo/datasets/771b3471-f63a-4de8-b930-31dde0d23417</a></td>\n",
       "<td class=val>Baumkataster - Amt Beetsee Gemeinde Beetzseeheide (WFS)</td>\n",
       "<td class=val>Geodienst (WFS) zum Baumkataster (Standort, Baumart, Baummaße) im Bereich der Gemeinde Beetzseeheide</td></tr><tr class=odd><td class=val><a href=\"https://piveau.offene.daten-brandenburg.de/api/hub/repo/datasets/3a14f846-13a1-47d9-874f-3843007d85b7\" target=\"_other\">https://piveau.offene.daten-brandenburg.de/api/hub/repo/datasets/3a14f846-13a1-47d9-874f-3843007d85b7</a></td>\n",
       "<td class=val>Baumkataster - Amt Beetsee Gemeinde Beetzseeheide (WMS)</td>\n",
       "<td class=val>Geodienst (WMS) zum Baumkataster (Standort, Baumart, Baummaße) im Bereich der Gemeinde Beetzseeheide</td></tr><tr class=even><td class=val><a href=\"https://piveau.offene.daten-brandenburg.de/api/hub/repo/datasets/09653fe3-ad6b-44d6-88e2-25b8042ee43d\" target=\"_other\">https://piveau.offene.daten-brandenburg.de/api/hub/repo/datasets/09653fe3-ad6b-44d6-88e2-25b8042ee43d</a></td>\n",
       "<td class=val>Baumkataster Frankfurt (Oder) - (WFS-BAUMKATASTER)</td>\n",
       "<td class=val>Der WFS Baumkataster beinhaltet alle Bäume die im öffentlichen Raum der Stadt Frankfurt (Oder) stehen.</td></tr></table><div class=\"tinfo\">Total: 4, Shown: 4</div></div>"
      ]
     },
     "metadata": {},
     "output_type": "display_data"
    }
   ],
   "source": [
    "%endpoint https://www.govdata.de/sparql\n",
    "PREFIX dcat: <http://www.w3.org/ns/dcat#>\n",
    "PREFIX dct: <http://purl.org/dc/terms/>\n",
    "PREFIX dcatde: <http://dcat-ap.de/def/dcatde/>\n",
    "PREFIX rdfs: <http://www.w3.org/2000/01/rdf-schema#>\n",
    "PREFIX pg: <http://dcat-ap.de/def/politicalGeocoding/>\n",
    "\n",
    "SELECT ?datasetURI ?datasetTitle ?datasetDescription\n",
    "WHERE {\n",
    "  ?datasetURI a dcat:Dataset;\n",
    "              dct:title ?datasetTitle;\n",
    "              dct:description ?datasetDescription;\n",
    "              dcatde:contributorID ?contributorID;\n",
    "              dct:modified ?modified.\n",
    "  OPTIONAL { ?datasetURI dcat:catalog ?catalog. }\n",
    "  \n",
    "  FILTER((LANG(?datasetTitle) = \"\" || LANG(?datasetTitle) = \"de\") && CONTAINS(LCASE(?datasetTitle), \"baumkataster\"))\n",
    "  \n",
    "  FILTER(\n",
    "    CONTAINS(STR(?modified), \"2017\") || \n",
    "    CONTAINS(STR(?modified), \"2018\") || \n",
    "    CONTAINS(STR(?modified), \"2019\") || \n",
    "    CONTAINS(STR(?modified), \"2020\") || \n",
    "    CONTAINS(STR(?modified), \"2021\") || \n",
    "    CONTAINS(STR(?modified), \"2022\") || \n",
    "    CONTAINS(STR(?modified), \"2023\") || \n",
    "    CONTAINS(STR(?modified), \"2024\") || \n",
    "    CONTAINS(STR(?modified), \"2025\")\n",
    "  )\n",
    "  \n",
    "  FILTER(?contributorID = <http://dcat-ap.de/def/contributors/openDataBrandenburg>)\n",
    "\n",
    "}\n",
    "ORDER BY ?datasetTitle\n"
   ]
  },
  {
   "cell_type": "code",
   "execution_count": 19,
   "id": "a8944e0d",
   "metadata": {
    "vscode": {
     "languageId": "plaintext"
    }
   },
   "outputs": [
    {
     "data": {
      "text/html": [
       "<div class=\"krn-spql\"><div class=\"magic\">Endpoint set to: https://www.govdata.de/sparql</div></div>"
      ],
      "text/plain": [
       "Endpoint set to: https://www.govdata.de/sparql\n"
      ]
     },
     "metadata": {},
     "output_type": "display_data"
    },
    {
     "data": {
      "text/html": [
       "<div class=\"krn-spql\"><table><tr class=hdr><th>datasetURI</th>\n",
       "<th>datasetTitle</th>\n",
       "<th>datasetDescription</th></tr><tr class=odd><td class=val><a href=\"https://open.bydata.de/api/hub/repo/datasets/baumkat_01\" target=\"_other\">https://open.bydata.de/api/hub/repo/datasets/baumkat_01</a></td>\n",
       "<td class=val>Baumkataster</td>\n",
       "<td class=val>Baumkataster Memmingen mit Informationen aller Bäume auf städtischem Grund für welches das Grünamt zuständig ist. Informationen zu Baumart, Plakettennummer, Baumhöhe und Kronenweite sind enthalten. Nutzungshinweis: Der Datensatz erhebt keinen Anspruch auf Korrektheit und Vollständigkeit. Er dient nicht als verbindliche und rechtliche Auskunft der Stadt Memmingen.</td></tr><tr class=even><td class=val><a href=\"https://open.bydata.de/api/hub/repo/datasets/baumkataster-der-stadt-erlangen\" target=\"_other\">https://open.bydata.de/api/hub/repo/datasets/baumkataster-der-stadt-erlangen</a></td>\n",
       "<td class=val>Baumkataster der Stadt Erlangen</td>\n",
       "<td class=val>Das Baumkataster der Stadt Erlangen enthält alle Bäume, die vom Eigenbetrieb für Stadtgrün der Stadt Erlangen gepflegt werden.  \r\n",
       "Im Stadtgebiet gibt es auch viele Bäume auf privaten Flächen oder Bäume, die vermeintlich auf öffentlichen Flächen stehen, die aber in anderen Zuständigkeitsbereichen liegen (z.B. Freistaat Bayern, Bund oder Deutsche Bahn).  \r\n",
       "Informationen zu solchen nicht-städtischen Baumstandorten sind in diesem Datensatz nicht enthalten.</td></tr><tr class=odd><td class=val><a href=\"https://open.bydata.de/api/hub/repo/datasets/baumkataster-haar\" target=\"_other\">https://open.bydata.de/api/hub/repo/datasets/baumkataster-haar</a></td>\n",
       "<td class=val>Baumkataster der Stadt Haar</td>\n",
       "<td class=val>Das Baumkataster der Stadt Haar dient als Verzeichnis zur Verwaltung der Daten über den Baumbestand auf öffentlichen Flächen im Stadtgebiet. Neben dem Plakettencode und Art eines Baumes sind auch Daten über seine Höhe, den Kronendurchmesser und -ansatz, den Stammumfang sowie die exakten Koordinaten im Datensatz enthalten. Durch die Nutzung dieser Daten ist es möglich, eine präzise Analyse des Baumbestands durchzuführen sowie die Integration von GIS zur räumlichen Zuordnung.\r\n",
       "\r\n",
       "Nutzungs- und Haftungsbestimmungen: \r\n",
       "Die in diesem Datensatz enthaltenen Informationen dienen als allgemeine Informationen über relevante Themen und stellen einen Service der Stadt Haar dar. Wir bemühen uns, alle angegebenen Informationen kontinuierlich zu aktualisieren und von höchster Qualität bereitzustellen. </td></tr><tr class=even><td class=val><a href=\"https://open.bydata.de/api/hub/repo/datasets/baumkataster-der-stadt-hassfurt\" target=\"_other\">https://open.bydata.de/api/hub/repo/datasets/baumkataster-der-stadt-hassfurt</a></td>\n",
       "<td class=val>Baumkataster der Stadt Haßfurt</td>\n",
       "<td class=val>Der Baumkataster der Stadt Haßfurt ist ein Verzeichnis zur  Verwaltung und Pflege des Baumbestands.\n",
       "Es umfasst Informationen wie Größe, Art, Alter und exakte Koordinaten der Bäume. \n",
       "Diese Daten ermöglichen eine präzise Analyse des Baumbestands, die Planung gezielter Pflege- und Entwicklungsmaßnahmen sowie die Integration von GIS zur räumlichen Zuordnung.\n",
       "</td></tr><tr class=odd><td class=val><a href=\"https://open.bydata.de/api/hub/repo/datasets/baumkataster_stadt_wuerzburg-wuerzburg\" target=\"_other\">https://open.bydata.de/api/hub/repo/datasets/baumkataster_stadt_wuerzburg-wuerzburg</a></td>\n",
       "<td class=val>Baumkataster der Stadt Würzburg</td>\n",
       "<td class=val>Ein Baumkataster dient als Verzeichnis zur Verwaltung von Stadt-, Straßen- oder Parkbäumen. Das Baumkataster der Stadt Würzburg gibt Auskunft zu über 40.000 Bäumen auf öffentlichen Flächen. Neben Art und Nummer eines Baumes, finden Sie im Datensatz Informationen über die Kronenbreite, Höhe sowie Stammumfang der jeweiligen Bäume. Zusätzlich dienen die Koordinaten der Bäume als örtliche Orientierung.Nutzungs- und Haftungsbestimmungen:Die in diesem Datensatz bereitgestellten Inhalte stellen einen Service der Stadt Würzburg dar und dienen als allgemeine Informationen über die entsprechenden Thematiken. Wir sind bemüht, alle angegebenen Informationen ständig zu aktualisieren und in hoher Qualität zur Verfügung zu stellen. Allerdings kann keine Garantie in Bezug auf die Richtigkeit und Vollständigkeit der Daten übernommen werden.</td></tr><tr class=even><td class=val><a href=\"https://open.bydata.de/api/hub/repo/datasets/baumkataster-des-marktes-goldbach-2024\" target=\"_other\">https://open.bydata.de/api/hub/repo/datasets/baumkataster-des-marktes-goldbach-2024</a></td>\n",
       "<td class=val>Baumkataster des Marktes Goldbach 2024</td>\n",
       "<td class=val>Das Baumkataster ist ein Hilfs- und Kontrollinstrument für verantwortungsbewusstes kommunales Handeln. Durch regelmäßige Kontrollen der Bäume kommt die Kommune ihrer Verkehrssicherungspflicht nach. Das Baumkataster wurde im August 2024 mit den bisher vorhandenen Daten erstellt. Verzeichnet sind Bäume auf öffentlichen Flächen und Grünanlagen. Erfasst wird die Baumart, der Plakettencode, die Höhe, der Kronendurchmesser, der Kronenansatz, die Altersgruppe, die Lebenserwartung, der Stammumfang, das Kontrolldatum und die nächste Kontrolle.</td></tr></table><div class=\"tinfo\">Total: 6, Shown: 6</div></div>"
      ]
     },
     "metadata": {},
     "output_type": "display_data"
    }
   ],
   "source": [
    "%endpoint https://www.govdata.de/sparql\n",
    "PREFIX dcat: <http://www.w3.org/ns/dcat#>\n",
    "PREFIX dct: <http://purl.org/dc/terms/>\n",
    "PREFIX dcatde: <http://dcat-ap.de/def/dcatde/>\n",
    "PREFIX rdfs: <http://www.w3.org/2000/01/rdf-schema#>\n",
    "PREFIX pg: <http://dcat-ap.de/def/politicalGeocoding/>\n",
    "\n",
    "SELECT ?datasetURI ?datasetTitle ?datasetDescription\n",
    "WHERE {\n",
    "  ?datasetURI a dcat:Dataset;\n",
    "              dct:title ?datasetTitle;\n",
    "              dct:description ?datasetDescription;\n",
    "              dcatde:contributorID ?contributorID;\n",
    "              dct:modified ?modified.\n",
    "  OPTIONAL { ?datasetURI dcat:catalog ?catalog. }\n",
    "  \n",
    "  FILTER((LANG(?datasetTitle) = \"\" || LANG(?datasetTitle) = \"de\") && CONTAINS(LCASE(?datasetTitle), \"baumkataster\"))\n",
    "  \n",
    "  FILTER(\n",
    "    CONTAINS(STR(?modified), \"2017\") || \n",
    "    CONTAINS(STR(?modified), \"2018\") || \n",
    "    CONTAINS(STR(?modified), \"2019\") || \n",
    "    CONTAINS(STR(?modified), \"2020\") || \n",
    "    CONTAINS(STR(?modified), \"2021\") || \n",
    "    CONTAINS(STR(?modified), \"2022\") || \n",
    "    CONTAINS(STR(?modified), \"2023\") || \n",
    "    CONTAINS(STR(?modified), \"2024\") || \n",
    "    CONTAINS(STR(?modified), \"2025\")\n",
    "  )\n",
    "  \n",
    "  FILTER(?contributorID = <http://dcat-ap.de/def/contributors/openDataBayern>)\n",
    "\n",
    "}\n",
    "ORDER BY ?datasetTitle\n"
   ]
  },
  {
   "cell_type": "code",
   "execution_count": 25,
   "id": "aaf8d0a1",
   "metadata": {
    "vscode": {
     "languageId": "plaintext"
    }
   },
   "outputs": [
    {
     "data": {
      "text/html": [
       "<div class=\"krn-spql\"><div class=\"magic\">Endpoint set to: https://data.europa.eu/sparql</div></div>"
      ],
      "text/plain": [
       "Endpoint set to: https://data.europa.eu/sparql\n"
      ]
     },
     "metadata": {},
     "output_type": "display_data"
    },
    {
     "data": {
      "text/html": [
       "<div class=\"krn-spql\"><table><tr class=hdr><th>datasetLink</th>\n",
       "<th>datasetTitle</th>\n",
       "<th>datasetDescription</th>\n",
       "<th>accessURL</th></tr><tr class=odd><td class=val><a href=\"http://data.europa.eu/88u/dataset/45a104e1-2a3e-4b90-9e24-dc97d34b3298\" target=\"_other\">http://data.europa.eu/88u/dataset/45a104e1-2a3e-4b90-9e24-dc97d34b3298</a></td>\n",
       "<td class=val>Baumkataster - Amt Beetsee Gemeinde Beetzseeheide</td>\n",
       "<td class=val>Datensatz zum Baumkataster (Standort, Baumart, Baummaße) im Bereich der Gemeinde Beetzseeheide</td>\n",
       "<td class=val><a href=\"https://www.geoportal-amt-beetzsee.de/katalog.php?view=show&id=236\" target=\"_other\">https://www.geoportal-amt-beetzsee.de/katalog.php?view=show&amp;id=236</a></td></tr><tr class=even><td class=val><a href=\"http://data.europa.eu/88u/dataset/45a104e1-2a3e-4b90-9e24-dc97d34b3298\" target=\"_other\">http://data.europa.eu/88u/dataset/45a104e1-2a3e-4b90-9e24-dc97d34b3298</a></td>\n",
       "<td class=val>Baumkataster - Amt Beetsee Gemeinde Beetzseeheide</td>\n",
       "<td class=val>Datensatz zum Baumkataster (Standort, Baumart, Baummaße) im Bereich der Gemeinde Beetzseeheide</td>\n",
       "<td class=val><a href=\"https://www.geoportal-amt-beetzsee.de/isk/baumkataster?REQUEST=GetCapabilities&SERVICE=WFS\" target=\"_other\">https://www.geoportal-amt-beetzsee.de/isk/baumkataster?REQUEST=GetCapabilities&amp;SERVICE=WFS</a></td></tr><tr class=odd><td class=val><a href=\"http://data.europa.eu/88u/dataset/3a14f846-13a1-47d9-874f-3843007d85b7\" target=\"_other\">http://data.europa.eu/88u/dataset/3a14f846-13a1-47d9-874f-3843007d85b7</a></td>\n",
       "<td class=val>Baumkataster - Amt Beetsee Gemeinde Beetzseeheide (WMS)</td>\n",
       "<td class=val>Geodienst (WMS) zum Baumkataster (Standort, Baumart, Baummaße) im Bereich der Gemeinde Beetzseeheide</td>\n",
       "<td class=val><a href=\"https://www.geoportal-amt-beetzsee.de/katalog.php?view=show&id=236\" target=\"_other\">https://www.geoportal-amt-beetzsee.de/katalog.php?view=show&amp;id=236</a></td></tr><tr class=even><td class=val><a href=\"http://data.europa.eu/88u/dataset/771b3471-f63a-4de8-b930-31dde0d23417\" target=\"_other\">http://data.europa.eu/88u/dataset/771b3471-f63a-4de8-b930-31dde0d23417</a></td>\n",
       "<td class=val>Baumkataster - Amt Beetsee Gemeinde Beetzseeheide (WFS)</td>\n",
       "<td class=val>Geodienst (WFS) zum Baumkataster (Standort, Baumart, Baummaße) im Bereich der Gemeinde Beetzseeheide</td>\n",
       "<td class=val><a href=\"https://www.geoportal-amt-beetzsee.de/katalog.php?view=show&id=236\" target=\"_other\">https://www.geoportal-amt-beetzsee.de/katalog.php?view=show&amp;id=236</a></td></tr><tr class=odd><td class=val><a href=\"http://data.europa.eu/88u/dataset/09653fe3-ad6b-44d6-88e2-25b8042ee43d~~1\" target=\"_other\">http://data.europa.eu/88u/dataset/09653fe3-ad6b-44d6-88e2-25b8042ee43d~~1</a></td>\n",
       "<td class=val>Baumkataster Frankfurt (Oder) - (WFS-BAUMKATASTER)</td>\n",
       "<td class=val>Der WFS Baumkataster beinhaltet alle Bäume die im öffentlichen Raum der Stadt Frankfurt (Oder) stehen.</td>\n",
       "<td class=val><a href=\"https://geoportal.frankfurt-oder.de/wss/service/WFS_Baumkataster/guest\" target=\"_other\">https://geoportal.frankfurt-oder.de/wss/service/WFS_Baumkataster/guest</a></td></tr></table><div class=\"tinfo\">Total: 5, Shown: 5</div></div>"
      ]
     },
     "metadata": {},
     "output_type": "display_data"
    }
   ],
   "source": [
    "%endpoint https://data.europa.eu/sparql\n",
    "PREFIX dcat: <http://www.w3.org/ns/dcat#>\n",
    "PREFIX dct: <http://purl.org/dc/terms/>\n",
    "PREFIX dcatde: <http://dcat-ap.de/def/dcatde/>\n",
    "\n",
    "SELECT DISTINCT ?datasetLink ?datasetTitle ?datasetDescription ?accessURL\n",
    "WHERE {\n",
    "  ?datasetLink a dcat:Dataset;\n",
    "               dct:title ?datasetTitle;\n",
    "               dct:description ?datasetDescription;\n",
    "               dcatde:contributorID <http://dcat-ap.de/def/contributors/openDataBrandenburg>;\n",
    "               dct:modified ?modified;\n",
    "               dcat:distribution ?distribution.\n",
    "\n",
    "  ?distribution dcat:accessURL ?accessURL.\n",
    "\n",
    "  FILTER((LANG(?datasetTitle) = \"\" || LANG(?datasetTitle) = \"de\") && CONTAINS(LCASE(?datasetTitle), \"baumkataster\"))\n",
    "\n",
    "  FILTER(\n",
    "    CONTAINS(STR(?modified), \"2017\") || \n",
    "    CONTAINS(STR(?modified), \"2018\") || \n",
    "    CONTAINS(STR(?modified), \"2019\") || \n",
    "    CONTAINS(STR(?modified), \"2020\") || \n",
    "    CONTAINS(STR(?modified), \"2021\") || \n",
    "    CONTAINS(STR(?modified), \"2022\") || \n",
    "    CONTAINS(STR(?modified), \"2023\") || \n",
    "    CONTAINS(STR(?modified), \"2024\") || \n",
    "    CONTAINS(STR(?modified), \"2025\")\n",
    "  )\n",
    "}\n",
    "ORDER BY ?datasetTitle\n"
   ]
  }
 ],
 "metadata": {
  "kernelspec": {
   "display_name": "SPARQL",
   "language": "sparql",
   "name": "sparql"
  },
  "language_info": {
   "codemirror_mode": {
    "name": "sparql"
   },
   "mimetype": "application/sparql-query",
   "name": "sparql",
   "pygments_lexer": "sparql-nb"
  }
 },
 "nbformat": 4,
 "nbformat_minor": 5
}
