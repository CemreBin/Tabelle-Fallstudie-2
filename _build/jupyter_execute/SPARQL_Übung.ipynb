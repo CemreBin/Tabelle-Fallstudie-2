{
 "cells": [
  {
   "cell_type": "markdown",
   "id": "eb891a75",
   "metadata": {},
   "source": [
    "# SPARQL Übung - Benutzung & Beispiel"
   ]
  },
  {
   "cell_type": "markdown",
   "id": "abe9cf99",
   "metadata": {},
   "source": [
    "In diesem Teil widmen wir uns einer praktischen SPARQL-Übung, indem wir uns mit der folgenden Forschungsfrage auseinandersetzen:"
   ]
  },
  {
   "cell_type": "markdown",
   "id": "48acfa7c",
   "metadata": {},
   "source": [
    "**Wie viele Datensätze in der Form von offenen Daten bietet jedes Bundesland an?**"
   ]
  },
  {
   "cell_type": "markdown",
   "id": "1bfe3532",
   "metadata": {},
   "source": [
    "Das Ziel ist, eine realistische Verwendung der Abfragesprache zu demonstieren. Bevor wir solch ein Beispiel aufweisen, müssen wir bestimmen, welches Verfahren für die Gestaltung und Versand für Abfragen benutzt werden sollte. Die Handhabung davon hängt meistens von der persönlichen Bevorzugung des/der Benutzers/in. Deswegen schlagen wir einige Alternativen vor."
   ]
  },
  {
   "cell_type": "markdown",
   "id": "4b19d4d8",
   "metadata": {},
   "source": [
    "Der erste Weg ist derjenige, mithilfe dessen dieses ganze Materiail samt seiner Code-Anteile angefertigt worden ist. Es handelt sich um das Jupyter Notebook - ein Dateiformat, das die zeitgleiche Einwebung von  Fließtext und Codeanteilen von diversen Programmiersprachen einrichtet. Somit wird die visuelle Darstellung von echtem Code, der für die Gestaltung von Abfragen verwendet wird, derer Ergebnissen und den Erläuterungen der aufgerufenen Befehle samt anderer Kommentare ermöglicht. "
   ]
  },
  {
   "cell_type": "markdown",
   "id": "ea5cd3b8",
   "metadata": {},
   "source": [
    "Die Jupyter-Notebook-Ausweitung lautet *.ipynb* . Durch die Erstellung einer normalen *.txt*-Datei kann man dann die Ausweitung ändern. Darüber hinaus bräuchte man ein beliebiges Bearbeitungsprogramm, mit Hilfe dessen man intuitiv, bequem und entspannt arbeiten kann. Dafür eignet sich Microsoft Visual Studio Code (VSC) ganz gut. VSC ist einer der gängigsten Editors im heutigen Programmierbereich und bietet  Möglichkeiten für die intuitive Bearbeitung und Verwaltung von Dateien in unterschiedlichsten Programmiersprachen. Für die Integrierung von SPARQL-Abfragen benötigt man aber auch einen Kernel - ein Motor, der auf die Programmiersprache bezogen ist und es ermöglicht, die Ergebnisse der Abfrate aufweisen zu lassen. Die Aufgabe ist somit erstmal einen entwickelten SPARQL-Kernel zu finden und dann herunterzuladen. Glücklicherweise gibt es schon einen entwickelten SPARQL-Kernel, der auf der Basis von Python funktioniert. Hiermit verweisen wir auf der Git-Hub-Seite des Kernels, auf der die ganzen Informationen dazu stehen, wie er zu installieren ist - https://github.com/paulovn/sparql-kernel . "
   ]
  },
  {
   "cell_type": "markdown",
   "id": "b5addc25",
   "metadata": {},
   "source": [
    "**Frage: das ganze Prozess des Installierens beschreiben / auf andere Seiten verweisen?**"
   ]
  },
  {
   "cell_type": "markdown",
   "id": "a7ff2e9f",
   "metadata": {},
   "source": [
    "Nichtsdestotrotz, es bedarf nicht zwingend eines Kernels und der Arbeit mit einem lokalen Editor für die Gestaltung von SPARQL-Abfragen, da es schon mehrere Online-Werkzeuge gibt, die die vollständige Benutzung von SPARQL erlauben. Selbst das deutsche Open-Data-Portal GOVDATA bietet einen SPARQL-Assistenten - https://www.govdata.de/web/guest/sparql-assistent . Damit kann man online arbeiten und sich die Mühe sparen, indem man auf die Arbeit mit einem Editor und einem Kernel verzichtet. "
   ]
  },
  {
   "cell_type": "markdown",
   "id": "76f76c49",
   "metadata": {},
   "source": [
    "Somit können wir uns der Analyse der SPARQL-Syntax widmen, indem wir uns die Abfragen für die Forschungsfragen ansehen. Als allererstes muss ein Endepunkt definiert werden. Der Endepunkt bestimmt das maschinelesbare Verweis auf das Repositorium, in dem die Metadaten aufbewahrt sind. Bei der Arbeit mit einem Online-SPARQL-Werkzeug ist die Definierung eines Endpunkts oft nicht nötig, da der schon automatisch definiert ist. Im Portal GOVDATA ist der Endepunkt natürlich der Verweis auf das Repositorium mit allen Metadaten für die Datensätze, die auch über die interne Suchmaschine zu finden sind. "
   ]
  },
  {
   "cell_type": "markdown",
   "id": "0c86bd64",
   "metadata": {},
   "source": [
    "Für unsere Beispiele wollen wir das deutsche Datenportal GOVDATA durchstöbern. Dafür müssen wir uns den Endpunkt des europäischen Datenportal holen. Den finden wir auf der folgenden Webseite - . Danach verwenden den wir folgende Magic, d.h. einen Befehl, der Teil vom SPARQL-Python-Paket ist, die uns erlaubt, alle künftigen Abfragen mit unserem Endpunkt zu verknüpfen."
   ]
  },
  {
   "cell_type": "code",
   "execution_count": 1,
   "id": "44badbfb",
   "metadata": {},
   "outputs": [
    {
     "name": "stderr",
     "output_type": "stream",
     "text": [
      "UsageError: Line magic function `%endpoint` not found.\n"
     ]
    }
   ],
   "source": [
    "%endpoint https://data.europa.eu/sparql"
   ]
  },
  {
   "cell_type": "markdown",
   "id": "7937af5f",
   "metadata": {},
   "source": [
    "Mit dem festgelegten Endpunkt können wir schon SPARQL-Abfragen errichten, indem wir Metadaten aus dem Portal erfragen. Bevor wir damit anfangen, wäre es eine gute Idee, sich mit der Onthologie bekanntzumachen. Das früher schon erklärte Konzept von DCAT-AP ist zentral für die Entdeckung von den Metadateneigentschaften und dient als das Stanard für die Referenzliste von Properties - https://www.dcat-ap.de/def/. Somit können wir uns schon die Struktur einer Abfrage anschauen."
   ]
  },
  {
   "cell_type": "code",
   "execution_count": 3,
   "id": "2b421b9e",
   "metadata": {},
   "outputs": [
    {
     "data": {
      "text/html": [
       "<div class=\"krn-spql\"><table><tr class=hdr><th>uri</th>\n",
       "<th>title</th>\n",
       "<th>contributorid</th>\n",
       "<th>stateKey</th></tr><tr class=odd><td class=val><a href=\"http://data.europa.eu/88u/dataset/b7cad163-8d99-4d97-b781-e4f5a11078d3\" target=\"_other\">http://data.europa.eu/88u/dataset/b7cad163-8d99-4d97-b781-e4f5a11078d3</a></td>\n",
       "<td class=val>Digitale Topographische Karte 1 : 10 000 - 3952-NO Friedland - Groß Muckrow</td>\n",
       "<td class=val><a href=\"http://dcat-ap.de/def/contributors/landBrandenburg\" target=\"_other\">http://dcat-ap.de/def/contributors/landBrandenburg</a></td>\n",
       "<td class=val></td></tr><tr class=even><td class=val><a href=\"http://data.europa.eu/88u/dataset/b7cad163-8d99-4d97-b781-e4f5a11078d3\" target=\"_other\">http://data.europa.eu/88u/dataset/b7cad163-8d99-4d97-b781-e4f5a11078d3</a></td>\n",
       "<td class=val>Digitale Topographische Karte 1 : 10 000 - 3952-NO Friedland - Groß Muckrow</td>\n",
       "<td class=val><a href=\"http://dcat-ap.de/def/contributors/openDataBrandenburg\" target=\"_other\">http://dcat-ap.de/def/contributors/openDataBrandenburg</a></td>\n",
       "<td class=val></td></tr><tr class=odd><td class=val><a href=\"http://data.europa.eu/88u/dataset/b911982d-33ef-408c-8840-96a0702021db~~1\" target=\"_other\">http://data.europa.eu/88u/dataset/b911982d-33ef-408c-8840-96a0702021db~~1</a></td>\n",
       "<td class=val>Topographische Karte 1 : 25 000 - Ausgabe Staat (1981-1989) N-33-123-B-c Berlin (West)-Charlottenburg</td>\n",
       "<td class=val><a href=\"http://dcat-ap.de/def/contributors/landBrandenburg\" target=\"_other\">http://dcat-ap.de/def/contributors/landBrandenburg</a></td>\n",
       "<td class=val></td></tr><tr class=even><td class=val><a href=\"http://data.europa.eu/88u/dataset/b911982d-33ef-408c-8840-96a0702021db~~1\" target=\"_other\">http://data.europa.eu/88u/dataset/b911982d-33ef-408c-8840-96a0702021db~~1</a></td>\n",
       "<td class=val>Topographische Karte 1 : 25 000 - Ausgabe Staat (1981-1989) N-33-123-B-c Berlin (West)-Charlottenburg</td>\n",
       "<td class=val><a href=\"http://dcat-ap.de/def/contributors/openDataBrandenburg\" target=\"_other\">http://dcat-ap.de/def/contributors/openDataBrandenburg</a></td>\n",
       "<td class=val></td></tr><tr class=odd><td class=val><a href=\"http://data.europa.eu/88u/dataset/cedcb7b0-fa9e-4ea1-ab8f-8a0f1aa78eeb~~1\" target=\"_other\">http://data.europa.eu/88u/dataset/cedcb7b0-fa9e-4ea1-ab8f-8a0f1aa78eeb~~1</a></td>\n",
       "<td class=val>Topographische Karte 1 : 50 000 - Ausgabe Volkswirtschaft (1974-1982) 0610-2 Gartz (Oder)</td>\n",
       "<td class=val><a href=\"http://dcat-ap.de/def/contributors/landBrandenburg\" target=\"_other\">http://dcat-ap.de/def/contributors/landBrandenburg</a></td>\n",
       "<td class=val></td></tr><tr class=even><td class=val><a href=\"http://data.europa.eu/88u/dataset/cedcb7b0-fa9e-4ea1-ab8f-8a0f1aa78eeb~~1\" target=\"_other\">http://data.europa.eu/88u/dataset/cedcb7b0-fa9e-4ea1-ab8f-8a0f1aa78eeb~~1</a></td>\n",
       "<td class=val>Topographische Karte 1 : 50 000 - Ausgabe Volkswirtschaft (1974-1982) 0610-2 Gartz (Oder)</td>\n",
       "<td class=val><a href=\"http://dcat-ap.de/def/contributors/openDataBrandenburg\" target=\"_other\">http://dcat-ap.de/def/contributors/openDataBrandenburg</a></td>\n",
       "<td class=val></td></tr><tr class=odd><td class=val><a href=\"http://data.europa.eu/88u/dataset/fca0911a-e84c-498c-823e-19e0225b0c46\" target=\"_other\">http://data.europa.eu/88u/dataset/fca0911a-e84c-498c-823e-19e0225b0c46</a></td>\n",
       "<td class=val>Topographische Karte 1 : 50 000 - L2946 Templin</td>\n",
       "<td class=val><a href=\"http://dcat-ap.de/def/contributors/landBrandenburg\" target=\"_other\">http://dcat-ap.de/def/contributors/landBrandenburg</a></td>\n",
       "<td class=val></td></tr><tr class=even><td class=val><a href=\"http://data.europa.eu/88u/dataset/fca0911a-e84c-498c-823e-19e0225b0c46\" target=\"_other\">http://data.europa.eu/88u/dataset/fca0911a-e84c-498c-823e-19e0225b0c46</a></td>\n",
       "<td class=val>Topographische Karte 1 : 50 000 - L2946 Templin</td>\n",
       "<td class=val><a href=\"http://dcat-ap.de/def/contributors/openDataBrandenburg\" target=\"_other\">http://dcat-ap.de/def/contributors/openDataBrandenburg</a></td>\n",
       "<td class=val></td></tr><tr class=odd><td class=val><a href=\"http://data.europa.eu/88u/dataset/5251cc02-187b-45e5-9a5e-d5298a4aaf39\" target=\"_other\">http://data.europa.eu/88u/dataset/5251cc02-187b-45e5-9a5e-d5298a4aaf39</a></td>\n",
       "<td class=val>Digitale Topographische Karte 1 : 100 000 - C2734 Parchim</td>\n",
       "<td class=val><a href=\"http://dcat-ap.de/def/contributors/landBrandenburg\" target=\"_other\">http://dcat-ap.de/def/contributors/landBrandenburg</a></td>\n",
       "<td class=val></td></tr><tr class=even><td class=val><a href=\"http://data.europa.eu/88u/dataset/5251cc02-187b-45e5-9a5e-d5298a4aaf39\" target=\"_other\">http://data.europa.eu/88u/dataset/5251cc02-187b-45e5-9a5e-d5298a4aaf39</a></td>\n",
       "<td class=val>Digitale Topographische Karte 1 : 100 000 - C2734 Parchim</td>\n",
       "<td class=val><a href=\"http://dcat-ap.de/def/contributors/openDataBrandenburg\" target=\"_other\">http://dcat-ap.de/def/contributors/openDataBrandenburg</a></td>\n",
       "<td class=val></td></tr><tr class=odd><td class=val><a href=\"http://data.europa.eu/88u/dataset/5251cc02-187b-45e5-9a5e-d5298a4aaf39\" target=\"_other\">http://data.europa.eu/88u/dataset/5251cc02-187b-45e5-9a5e-d5298a4aaf39</a></td>\n",
       "<td class=val>Il-Mappa Topografika Diġitali 1: 100 000 — C2734 Parchim</td>\n",
       "<td class=val><a href=\"http://dcat-ap.de/def/contributors/landBrandenburg\" target=\"_other\">http://dcat-ap.de/def/contributors/landBrandenburg</a></td>\n",
       "<td class=val></td></tr><tr class=even><td class=val><a href=\"http://data.europa.eu/88u/dataset/5251cc02-187b-45e5-9a5e-d5298a4aaf39\" target=\"_other\">http://data.europa.eu/88u/dataset/5251cc02-187b-45e5-9a5e-d5298a4aaf39</a></td>\n",
       "<td class=val>Il-Mappa Topografika Diġitali 1: 100 000 — C2734 Parchim</td>\n",
       "<td class=val><a href=\"http://dcat-ap.de/def/contributors/openDataBrandenburg\" target=\"_other\">http://dcat-ap.de/def/contributors/openDataBrandenburg</a></td>\n",
       "<td class=val></td></tr><tr class=odd><td class=val><a href=\"http://data.europa.eu/88u/dataset/5251cc02-187b-45e5-9a5e-d5298a4aaf39\" target=\"_other\">http://data.europa.eu/88u/dataset/5251cc02-187b-45e5-9a5e-d5298a4aaf39</a></td>\n",
       "<td class=val>Hartă topografică digitală 1: 100 000 – C2734 Parchim</td>\n",
       "<td class=val><a href=\"http://dcat-ap.de/def/contributors/landBrandenburg\" target=\"_other\">http://dcat-ap.de/def/contributors/landBrandenburg</a></td>\n",
       "<td class=val></td></tr><tr class=even><td class=val><a href=\"http://data.europa.eu/88u/dataset/5251cc02-187b-45e5-9a5e-d5298a4aaf39\" target=\"_other\">http://data.europa.eu/88u/dataset/5251cc02-187b-45e5-9a5e-d5298a4aaf39</a></td>\n",
       "<td class=val>Hartă topografică digitală 1: 100 000 – C2734 Parchim</td>\n",
       "<td class=val><a href=\"http://dcat-ap.de/def/contributors/openDataBrandenburg\" target=\"_other\">http://dcat-ap.de/def/contributors/openDataBrandenburg</a></td>\n",
       "<td class=val></td></tr><tr class=odd><td class=val><a href=\"http://data.europa.eu/88u/dataset/5251cc02-187b-45e5-9a5e-d5298a4aaf39\" target=\"_other\">http://data.europa.eu/88u/dataset/5251cc02-187b-45e5-9a5e-d5298a4aaf39</a></td>\n",
       "<td class=val>Digitální topografické mapy 1: 100 000 – C2734 Parchim</td>\n",
       "<td class=val><a href=\"http://dcat-ap.de/def/contributors/landBrandenburg\" target=\"_other\">http://dcat-ap.de/def/contributors/landBrandenburg</a></td>\n",
       "<td class=val></td></tr><tr class=even><td class=val><a href=\"http://data.europa.eu/88u/dataset/5251cc02-187b-45e5-9a5e-d5298a4aaf39\" target=\"_other\">http://data.europa.eu/88u/dataset/5251cc02-187b-45e5-9a5e-d5298a4aaf39</a></td>\n",
       "<td class=val>Digitální topografické mapy 1: 100 000 – C2734 Parchim</td>\n",
       "<td class=val><a href=\"http://dcat-ap.de/def/contributors/openDataBrandenburg\" target=\"_other\">http://dcat-ap.de/def/contributors/openDataBrandenburg</a></td>\n",
       "<td class=val></td></tr><tr class=odd><td class=val><a href=\"http://data.europa.eu/88u/dataset/5251cc02-187b-45e5-9a5e-d5298a4aaf39\" target=\"_other\">http://data.europa.eu/88u/dataset/5251cc02-187b-45e5-9a5e-d5298a4aaf39</a></td>\n",
       "<td class=val>Mappa topografica digitale 1: 100 000 — C2734 Parchim</td>\n",
       "<td class=val><a href=\"http://dcat-ap.de/def/contributors/landBrandenburg\" target=\"_other\">http://dcat-ap.de/def/contributors/landBrandenburg</a></td>\n",
       "<td class=val></td></tr><tr class=even><td class=val><a href=\"http://data.europa.eu/88u/dataset/5251cc02-187b-45e5-9a5e-d5298a4aaf39\" target=\"_other\">http://data.europa.eu/88u/dataset/5251cc02-187b-45e5-9a5e-d5298a4aaf39</a></td>\n",
       "<td class=val>Mappa topografica digitale 1: 100 000 — C2734 Parchim</td>\n",
       "<td class=val><a href=\"http://dcat-ap.de/def/contributors/openDataBrandenburg\" target=\"_other\">http://dcat-ap.de/def/contributors/openDataBrandenburg</a></td>\n",
       "<td class=val></td></tr><tr class=odd><td class=val><a href=\"http://data.europa.eu/88u/dataset/5251cc02-187b-45e5-9a5e-d5298a4aaf39\" target=\"_other\">http://data.europa.eu/88u/dataset/5251cc02-187b-45e5-9a5e-d5298a4aaf39</a></td>\n",
       "<td class=val>Digital topografisk karta 1: 100 000 – C2734 Parchim</td>\n",
       "<td class=val><a href=\"http://dcat-ap.de/def/contributors/landBrandenburg\" target=\"_other\">http://dcat-ap.de/def/contributors/landBrandenburg</a></td>\n",
       "<td class=val></td></tr><tr class=even><td class=val><a href=\"http://data.europa.eu/88u/dataset/5251cc02-187b-45e5-9a5e-d5298a4aaf39\" target=\"_other\">http://data.europa.eu/88u/dataset/5251cc02-187b-45e5-9a5e-d5298a4aaf39</a></td>\n",
       "<td class=val>Digital topografisk karta 1: 100 000 – C2734 Parchim</td>\n",
       "<td class=val><a href=\"http://dcat-ap.de/def/contributors/openDataBrandenburg\" target=\"_other\">http://dcat-ap.de/def/contributors/openDataBrandenburg</a></td>\n",
       "<td class=val></td></tr></table><div class=\"tinfo\">Total: 50000, Shown: 20</div></div>"
      ]
     },
     "metadata": {},
     "output_type": "display_data"
    }
   ],
   "source": [
    "PREFIX dct: <http://purl.org/dc/terms/>\n",
    "PREFIX dcatde: <http://dcat-ap.de/def/dcatde/>\n",
    "PREFIX pg: <https://www.dcat-ap.de/def/politicalGeocoding/>\n",
    "\n",
    "SELECT ?uri ?title ?contributorid ?stateKey\n",
    "WHERE {\n",
    "    ?uri dct:title ?title .\n",
    "    ?uri dcatde:contributorID ?contributorid .\n",
    "  OPTIONAL {?uri pg:stateKey ?stateKey} .\n",
    "}"
   ]
  },
  {
   "cell_type": "markdown",
   "id": "96380356",
   "metadata": {},
   "source": [
    "```{admonition} Erklärung des Codes\n",
    ":class: tip, dropdown\n",
    "\n",
    "Als erstes sehen wir die sogenannten PREFIXES. Die Prefixes sind ein nützliches Tool, das dabei helfen, auf die diversen Eigenschaftenkategorien zu verweisen und auf eine abgekürzte Art und Weise die Bezüge zwischen jenen Eigenschaften zu schaffen. Sie sind wichtig für eine einfachere Gestaltung der Abfragen, aber nicht essenziell. Sie helfen lediglich, indem die ganzen Links nicht immer wieder ausgeschrieben werden müssen, und ermöglichen nur die Angabe von den Endungen nach den Prefixes. Alles wird klarer, wenn wir uns den WHERE-Abschnitt ansehen.\n",
    "\n",
    "Zuvor gibt es aber den SELECT-Befehl. SELECT wählt die Properties bzw. die Eigenschaften, die aufgelistet werden sollen. Jede Eigenschaft entspricht einer Spalte, die in der Tabelle mit Ergebnissen zu sehen ist. Da im SELECT-Befehl die folgenden 3 Properties ausgeschrieben werden - ?uri ?title ?contributorid ?stateKey - bekommen wir die URIs, die Titel, die Namen der Datenbereitsteller und das Kürzel des jeweiligen Landes, aus dem der Datensatz stammt.\n",
    "\n",
    "Die genauen Benennungen der Properties könnte man nicht ahnen - diese stehen fest in dem Vokabular. Deswegen müsste man oft auf das Handbuch DCAT-AP zurückgreifen, um die genauen Labels für jede Property zu finden.\n",
    "\n",
    "Was Ihnen noch auffallen könnte, ist, dass die Spalte für das Bundesland (stateKey) leer ist. Leider liegt das daran, dass das Land nicht codiert worden ist. Somit bleiben diese Felder leer. Dies ist ein klares Beispiel für lückenhaftes Metadatenmanagement, das die Beantowrtung unserer Forschungsfrage erschwierigt. In der Praxis kommt es oft zu Fällen, in denen Abfragen nicht sehr erfolgreich wegen unvollkommenes Harvestings oder unvoller Datebanken ist. Man sollte damit rechnen können.\n",
    "\n",
    "Als nächstes haben wir den Kern jeder SPARQL-Abfrage - den WHERE-Befehl. Die WHERE-Befehl definiert die Beobachtungen, die aufgelistet werden sollen, indem die Bedingungen ausgeschrieben werden. Somit werden nur die Beobachtungen aufgelistet, die alle Bedungungen erfüllen. In der Abfrage ist auch OPTIONAL zu sehen - dies besagt, dass die folgende Bedingung nicht zwingend zu erfüllen ist. Das bedeutet, dass selbst die Beobachtungen, in unserem Fall die Datensätze, in der Liste stehen, die keine Ausprägung für die Eigentschaft stateKey (Verweis auf Land) haben. Da leider stateKey nicht mit codiert ist, können wir uns alle Datensätze ansehen, die auf die anderen Bedingungen treffen (URI, Titel und ID der Bereitsteller), ohne dass wir eine leere Liste bekommen. OPTIONAL ist ein gutes Werkzeug, das benutzt werden kann, wenn man sich nicht sicher ist, ob gewisse Properties ordentlich codiert sind.\n",
    "\n",
    "Was wahrscheinlich Ihnen auch auffällt ist, dass in jeder Zeile in der WHERE-Funktion 3 Elemente zu sehen sind. Diese Struktur ist essentiell für die SPARQL-Sprache - durch die sogenannten \"triplets\" werden Bezüge zwischen den Eigenschaften erstellt. Jede Zeile bestimmt einen Bezug zwischen 2 Eigenschaften. Die erste Eigenschaft ist somit das Subjekt (S), das zweite Element - der Bezug, der aus einem Prefix und einer zusätzlichen Spezifizierung besteht, heißt das Prädikat (P), und das dritte - die zweite Eigenschaft, ist das Objekt (O). P entspricht einem Link, der darauf verweist, wo die zweite Eigentschaft zu finden ist. Die Einordnung der Eigenschaften ist nach dem W3C-Standard, das schon in einem früheren Kapitel erklärt wurde, definiert. In dem DCAT-AP-Handbuch ist dann die genaue Verortung von jeder Eingenschaft zu finden. Durch die Triplets fragen wir genau ab, welche Datensätze wir erfragen wollen, je nach den Bedingungen, die solche Datensätze erfüllen sollen. Mit unserer Abfrage suchen wir die Datensätze ab, die einen Titel, ein URI, einen mitcodierten Datenbereitsteller, und wenn vorhanden, einen Schlüssel für das Bundesland, haben, was leider bei keinen Datensätzen der Fall ist. Es lässt sich einfach ableiten, dass diese Bedingungen nicht so strikt ist. Trotzdem konnten wir unsere Fragestellung wegen mangelhafter Daten nicht ganz befriedigen. Jedoch kann man viel spezifischer sein. Wir würden also versuchen, unsere Fragestellung zu ändern und zusätzliche Beispiele von SPARQL aufzuzeigen.\n",
    "\n",
    "Wichtig zu bedenken ist, dass SPARQL leider keine Paginierungsfunktion unterstützt. Man muss es in der Regel auf Anwendungsebene handhaben, da SPARQL von sich aus nicht das Durchblättern von Ergebnissen wie eine Weboberfläche unterstützt.Stattdessen muss die Paginierung manuell durch die Verwendung von LIMIT und OFFSET in den Abfragen implementiert werden. Dies erfordert eine zusätzliche Logik in der Anwendung, um die aktuelle Seite zu verfolgen und die richtigen Offset-Werte zu berechnen. \n",
    "```"
   ]
  },
  {
   "cell_type": "markdown",
   "id": "7432c8da",
   "metadata": {},
   "source": [
    "Somit lautet unsere neue Fragestellung also:"
   ]
  },
  {
   "cell_type": "markdown",
   "id": "2835fa17",
   "metadata": {
    "vscode": {
     "languageId": "python"
    }
   },
   "source": [
    "**Welche sind die Datensätze, die das Wort \"Baumkataster\" im Titel beinhalten und im Zeitschnitt 2022-2024 erschienen sind? Welche sind die Bereitsteller, die jene Datensätze liefern? In welchen Formaten kommen die Datensätze vor?** "
   ]
  },
  {
   "cell_type": "markdown",
   "id": "63dfd395",
   "metadata": {},
   "source": [
    "Hierbei ist es wichtig zu erwähnen, dass SPARQL über keine native Paginierungsfunktion verfügt. Dies besagt, dass man leider nicht die Ergebnisse durchblättern kann. Gewöhnlicherweise wird das über die UI-Funktionalitäten umgesetzt - ein Merkmal davon, wie rudimentär SPARQL in ihrer Basis ist. Deswegen muss man in der Abfrage zusätzlich spezifizieren, welche Ergebnisse bzw. Seiten aufgelistet werden sollen."
   ]
  },
  {
   "cell_type": "code",
   "execution_count": 4,
   "id": "cfc0d1cd",
   "metadata": {},
   "outputs": [
    {
     "data": {
      "text/html": [
       "<div class=\"krn-spql\"><div class=\"magic\">Endpoint set to: https://data.europa.eu/sparql</div></div>"
      ],
      "text/plain": [
       "Endpoint set to: https://data.europa.eu/sparql\n"
      ]
     },
     "metadata": {},
     "output_type": "display_data"
    },
    {
     "data": {
      "text/html": [
       "<div class=\"krn-spql\"><table><tr class=hdr><th>uri</th>\n",
       "<th>title</th>\n",
       "<th>contributorid</th>\n",
       "<th>modified</th></tr><tr class=odd><td class=val><a href=\"http://data.europa.eu/88u/dataset/73c5a6b3-c033-4dad-bb7d-8783427dd233\" target=\"_other\">http://data.europa.eu/88u/dataset/73c5a6b3-c033-4dad-bb7d-8783427dd233</a></td>\n",
       "<td class=val>Baumkataster Frankfurt am Main</td>\n",
       "<td class=val><a href=\"http://dcat-ap.de/def/contributors/stadtFrankfurtAmMain\" target=\"_other\">http://dcat-ap.de/def/contributors/stadtFrankfurtAmMain</a></td>\n",
       "<td class=val>2023-08-23T05:44:14.694853</td></tr><tr class=even><td class=val><a href=\"http://data.europa.eu/88u/dataset/fcdceb2e-d16d-410c-ba0f-521ba8c6effa\" target=\"_other\">http://data.europa.eu/88u/dataset/fcdceb2e-d16d-410c-ba0f-521ba8c6effa</a></td>\n",
       "<td class=val>Fachpläne - Baumkataster</td>\n",
       "<td class=val><a href=\"http://dcat-ap.de/def/contributors/datenBW\" target=\"_other\">http://dcat-ap.de/def/contributors/datenBW</a></td>\n",
       "<td class=val>2024-08-15T08:37:08.728790</td></tr><tr class=odd><td class=val><a href=\"http://data.europa.eu/88u/dataset/c1c61928-c602-4e37-af31-2d23901e2540\" target=\"_other\">http://data.europa.eu/88u/dataset/c1c61928-c602-4e37-af31-2d23901e2540</a></td>\n",
       "<td class=val>Straßenbaumkataster Hamburg</td>\n",
       "<td class=val><a href=\"http://dcat-ap.de/def/contributors/transparenzportalHamburg\" target=\"_other\">http://dcat-ap.de/def/contributors/transparenzportalHamburg</a></td>\n",
       "<td class=val>2024-08-09T00:10:58.572825</td></tr><tr class=even><td class=val><a href=\"http://data.europa.eu/88u/dataset/19676799-fedb-4d1a-a89a-26fba887b3f0~~2\" target=\"_other\">http://data.europa.eu/88u/dataset/19676799-fedb-4d1a-a89a-26fba887b3f0~~2</a></td>\n",
       "<td class=val>Straßenbaumkataster Hamburger Hafen</td>\n",
       "<td class=val><a href=\"http://dcat-ap.de/def/contributors/transparenzportalHamburg\" target=\"_other\">http://dcat-ap.de/def/contributors/transparenzportalHamburg</a></td>\n",
       "<td class=val>2024-08-08T03:15:01.540503</td></tr><tr class=odd><td class=val><a href=\"http://data.europa.eu/88u/dataset/5f0aaf45-f380-49b3-87be-51abaddacbe0\" target=\"_other\">http://data.europa.eu/88u/dataset/5f0aaf45-f380-49b3-87be-51abaddacbe0</a></td>\n",
       "<td class=val>Baumkataster Norderstedt</td>\n",
       "<td class=val><a href=\"http://dcat-ap.de/def/contributors/schleswigHolstein\" target=\"_other\">http://dcat-ap.de/def/contributors/schleswigHolstein</a></td>\n",
       "<td class=val>2022-04-12T07:58:22.519048</td></tr><tr class=even><td class=val><a href=\"http://data.europa.eu/88u/dataset/cfbe70e6-6078-42db-8c9b-f8745ee8916e\" target=\"_other\">http://data.europa.eu/88u/dataset/cfbe70e6-6078-42db-8c9b-f8745ee8916e</a></td>\n",
       "<td class=val>Baumkataster</td>\n",
       "<td class=val><a href=\"http://dcat-ap.de/def/contributors/schleswigHolstein\" target=\"_other\">http://dcat-ap.de/def/contributors/schleswigHolstein</a></td>\n",
       "<td class=val>2023-06-09T05:25:52.631385</td></tr><tr class=odd><td class=val><a href=\"http://data.europa.eu/88u/dataset/b16bb333-26ca-4743-9663-723d63f57259\" target=\"_other\">http://data.europa.eu/88u/dataset/b16bb333-26ca-4743-9663-723d63f57259</a></td>\n",
       "<td class=val>Digitales Baumkataster Münster</td>\n",
       "<td class=val><a href=\"http://dcat-ap.de/def/contributors/openNRW\" target=\"_other\">http://dcat-ap.de/def/contributors/openNRW</a></td>\n",
       "<td class=val>2023-01-24T13:05:20+01:00</td></tr><tr class=even><td class=val><a href=\"http://data.europa.eu/88u/dataset/200e532c-a381-4611-ba05-4ed7afc31230\" target=\"_other\">http://data.europa.eu/88u/dataset/200e532c-a381-4611-ba05-4ed7afc31230</a></td>\n",
       "<td class=val>Baumkataster des ASG Wesel</td>\n",
       "<td class=val><a href=\"http://dcat-ap.de/def/contributors/openNRW\" target=\"_other\">http://dcat-ap.de/def/contributors/openNRW</a></td>\n",
       "<td class=val>2024-05-28T11:46:06.401383</td></tr><tr class=odd><td class=val><a href=\"http://data.europa.eu/88u/dataset/baumkataster_stadt_wuerzburg-wuerzburg\" target=\"_other\">http://data.europa.eu/88u/dataset/baumkataster_stadt_wuerzburg-wuerzburg</a></td>\n",
       "<td class=val>Baumkataster der Stadt Würzburg</td>\n",
       "<td class=val><a href=\"http://dcat-ap.de/def/contributors/openDataBayern\" target=\"_other\">http://dcat-ap.de/def/contributors/openDataBayern</a></td>\n",
       "<td class=val>2024-07-19T08:18:59.213Z</td></tr><tr class=even><td class=val><a href=\"http://data.europa.eu/88u/dataset/9b439a59-62b0-4ada-9976-08a631a96b82\" target=\"_other\">http://data.europa.eu/88u/dataset/9b439a59-62b0-4ada-9976-08a631a96b82</a></td>\n",
       "<td class=val>Baumkataster</td>\n",
       "<td class=val><a href=\"http://dcat-ap.de/def/contributors/datenBW\" target=\"_other\">http://dcat-ap.de/def/contributors/datenBW</a></td>\n",
       "<td class=val>2024-07-19T15:15:21+02:00</td></tr><tr class=odd><td class=val><a href=\"http://data.europa.eu/88u/dataset/https-registry-gdi-de-org-id-de-sn-stlp-cee75d75-4b4e-4bea-9d24-8b5993b54479\" target=\"_other\">http://data.europa.eu/88u/dataset/https-registry-gdi-de-org-id-de-sn-stlp-cee75d75-4b4e-4bea-9d24-8b5993b54479</a></td>\n",
       "<td class=val>Baumkataster, Stadt Leipzig</td>\n",
       "<td class=val><a href=\"http://dcat-ap.de/def/contributors/freistaatSachsen\" target=\"_other\">http://dcat-ap.de/def/contributors/freistaatSachsen</a></td>\n",
       "<td class=val>2024-07-17T00:00:00</td></tr><tr class=even><td class=val><a href=\"http://data.europa.eu/88u/dataset/https-open-data-dortmund-de-explore-dataset-baumkataster-\" target=\"_other\">http://data.europa.eu/88u/dataset/https-open-data-dortmund-de-explore-dataset-baumkataster-</a></td>\n",
       "<td class=val>Baumkataster</td>\n",
       "<td class=val><a href=\"http://dcat-ap.de/def/contributors/openNRW\" target=\"_other\">http://dcat-ap.de/def/contributors/openNRW</a></td>\n",
       "<td class=val>2024-08-27T01:05:12.221Z</td></tr><tr class=odd><td class=val><a href=\"http://data.europa.eu/88u/dataset/baumkataster-dortmund\" target=\"_other\">http://data.europa.eu/88u/dataset/baumkataster-dortmund</a></td>\n",
       "<td class=val>Baumkataster</td>\n",
       "<td class=val><a href=\"http://dcat-ap.de/def/contributors/openNRW\" target=\"_other\">http://dcat-ap.de/def/contributors/openNRW</a></td>\n",
       "<td class=val>2024-08-27T01:05:12.221Z</td></tr><tr class=even><td class=val><a href=\"http://data.europa.eu/88u/dataset/59dd9d5d-cd65-43f8-bd13-d82734e640ef\" target=\"_other\">http://data.europa.eu/88u/dataset/59dd9d5d-cd65-43f8-bd13-d82734e640ef</a></td>\n",
       "<td class=val>Baumkataster Koeln 2020</td>\n",
       "<td class=val><a href=\"http://dcat-ap.de/def/contributors/openNRW\" target=\"_other\">http://dcat-ap.de/def/contributors/openNRW</a></td>\n",
       "<td class=val>2024-06-25T08:34:10+02:00</td></tr><tr class=odd><td class=val><a href=\"http://data.europa.eu/88u/dataset/cee75d75-4b4e-4bea-9d24-8b5993b54479~~1\" target=\"_other\">http://data.europa.eu/88u/dataset/cee75d75-4b4e-4bea-9d24-8b5993b54479~~1</a></td>\n",
       "<td class=val>Baumkataster, Stadt Leipzig</td>\n",
       "<td class=val><a href=\"http://dcat-ap.de/def/contributors/freistaatSachsen\" target=\"_other\">http://dcat-ap.de/def/contributors/freistaatSachsen</a></td>\n",
       "<td class=val>2024-07-15T00:00:00</td></tr><tr class=even><td class=val><a href=\"http://data.europa.eu/88u/dataset/73dd7f0f-48e7-4cbd-916f-1f0f79652ad0\" target=\"_other\">http://data.europa.eu/88u/dataset/73dd7f0f-48e7-4cbd-916f-1f0f79652ad0</a></td>\n",
       "<td class=val>Baumkataster</td>\n",
       "<td class=val><a href=\"http://dcat-ap.de/def/contributors/schleswigHolstein\" target=\"_other\">http://dcat-ap.de/def/contributors/schleswigHolstein</a></td>\n",
       "<td class=val>2024-04-19T00:00:00</td></tr><tr class=odd><td class=val><a href=\"http://data.europa.eu/88u/dataset/https-open-bydata-de-api-hub-repo-datasets-baumkataster-haar\" target=\"_other\">http://data.europa.eu/88u/dataset/https-open-bydata-de-api-hub-repo-datasets-baumkataster-haar</a></td>\n",
       "<td class=val>Baumkataster der Gemeinde Haar</td>\n",
       "<td class=val><a href=\"http://dcat-ap.de/def/contributors/openDataBayern\" target=\"_other\">http://dcat-ap.de/def/contributors/openDataBayern</a></td>\n",
       "<td class=val>2024-03-06T08:27:55.945363</td></tr><tr class=even><td class=val><a href=\"http://data.europa.eu/88u/dataset/https-open-bydata-de-api-hub-repo-datasets-baumkataster-der-stadt-hassfurt\" target=\"_other\">http://data.europa.eu/88u/dataset/https-open-bydata-de-api-hub-repo-datasets-baumkataster-der-stadt-hassfurt</a></td>\n",
       "<td class=val>Baumkataster der Stadt Haßfurt</td>\n",
       "<td class=val><a href=\"http://dcat-ap.de/def/contributors/openDataBayern\" target=\"_other\">http://dcat-ap.de/def/contributors/openDataBayern</a></td>\n",
       "<td class=val>2023-11-24T00:00:00</td></tr><tr class=odd><td class=val><a href=\"http://data.europa.eu/88u/dataset/b62818fc-6af8-4896-a4d4-c35ee4864c9f\" target=\"_other\">http://data.europa.eu/88u/dataset/b62818fc-6af8-4896-a4d4-c35ee4864c9f</a></td>\n",
       "<td class=val>Baumkataster der Hansestadt Lübeck</td>\n",
       "<td class=val><a href=\"http://dcat-ap.de/def/contributors/schleswigHolstein\" target=\"_other\">http://dcat-ap.de/def/contributors/schleswigHolstein</a></td>\n",
       "<td class=val>2024-08-05T12:18:26.031872</td></tr><tr class=even><td class=val><a href=\"http://data.europa.eu/88u/dataset/https-open-bydata-de-api-hub-repo-datasets-baumkataster-der-stadt-erlangen\" target=\"_other\">http://data.europa.eu/88u/dataset/https-open-bydata-de-api-hub-repo-datasets-baumkataster-der-stadt-erlangen</a></td>\n",
       "<td class=val>Baumkataster der Stadt Erlangen</td>\n",
       "<td class=val><a href=\"http://dcat-ap.de/def/contributors/openDataBayern\" target=\"_other\">http://dcat-ap.de/def/contributors/openDataBayern</a></td>\n",
       "<td class=val>2024-04-11T05:39:58.589234</td></tr></table><div class=\"tinfo\">Total: 26, Shown: 20</div></div>"
      ]
     },
     "metadata": {},
     "output_type": "display_data"
    }
   ],
   "source": [
    "%endpoint https://data.europa.eu/sparql\n",
    "PREFIX dct: <http://purl.org/dc/terms/>\n",
    "PREFIX dcatde: <http://dcat-ap.de/def/dcatde/>\n",
    "\n",
    "SELECT ?uri ?title ?contributorid ?modified WHERE {\n",
    "    {\n",
    "        SELECT ?uri ?title ?contributorid ?modified WHERE {\n",
    "            ?uri dct:title ?title .\n",
    "            ?uri dcatde:contributorID ?contributorid .\n",
    "            ?uri dct:modified ?modified .\n",
    "            FILTER(isURI(?contributorid))\n",
    "            FILTER(strstarts(str(?contributorid), \"http://dcat-ap.de/def/contributors/\"))       \n",
    "            FILTER(CONTAINS(LCASE(?title), \"baumkataster\"))\n",
    "            FILTER(CONTAINS(STR(?modified), \"2022\") || CONTAINS(STR(?modified), \"2023\") || CONTAINS(STR(?modified), \"2024\"))\n",
    "        }\n",
    "    }\n",
    "}"
   ]
  },
  {
   "cell_type": "code",
   "execution_count": 12,
   "id": "fe9fca76",
   "metadata": {},
   "outputs": [
    {
     "data": {
      "text/html": [
       "<div class=\"krn-spql\"><div class=\"magic\">Endpoint set to: https://data.europa.eu/sparql</div></div>"
      ],
      "text/plain": [
       "Endpoint set to: https://data.europa.eu/sparql\n"
      ]
     },
     "metadata": {},
     "output_type": "display_data"
    },
    {
     "data": {
      "text/html": [
       "<div class=\"krn-spql\"><table><tr class=hdr><th>uri</th>\n",
       "<th>title</th>\n",
       "<th>contributorid</th>\n",
       "<th>modified</th></tr><tr class=odd><td class=val><a href=\"http://data.europa.eu/88u/dataset/https-open-bydata-de-api-hub-repo-datasets-baumkataster-der-stadt-erlangen\" target=\"_other\">http://data.europa.eu/88u/dataset/https-open-bydata-de-api-hub-repo-datasets-baumkataster-der-stadt-erlangen</a></td>\n",
       "<td class=val>Baumkataster der Stadt Erlangen</td>\n",
       "<td class=val><a href=\"http://dcat-ap.de/def/contributors/stadtErlangen\" target=\"_other\">http://dcat-ap.de/def/contributors/stadtErlangen</a></td>\n",
       "<td class=val>2024-04-11T05:39:58.589234</td></tr><tr class=even><td class=val><a href=\"http://data.europa.eu/88u/dataset/7a9f509a-9fb0-4c3c-a2d2-4cdd980e5e33\" target=\"_other\">http://data.europa.eu/88u/dataset/7a9f509a-9fb0-4c3c-a2d2-4cdd980e5e33</a></td>\n",
       "<td class=val>Baumkataster der Hansestadt Lübeck</td>\n",
       "<td class=val><a href=\"http://dcat-ap.de/def/contributors/schleswigHolstein\" target=\"_other\">http://dcat-ap.de/def/contributors/schleswigHolstein</a></td>\n",
       "<td class=val>2024-07-12T08:18:04.701795</td></tr><tr class=odd><td class=val><a href=\"http://data.europa.eu/88u/dataset/0056a74a-6153-440f-a68f-aaea93a3bf25\" target=\"_other\">http://data.europa.eu/88u/dataset/0056a74a-6153-440f-a68f-aaea93a3bf25</a></td>\n",
       "<td class=val>Baumkataster Koeln 2017</td>\n",
       "<td class=val><a href=\"http://dcat-ap.de/def/contributors/openNRW\" target=\"_other\">http://dcat-ap.de/def/contributors/openNRW</a></td>\n",
       "<td class=val>2024-06-25T08:34:10+02:00</td></tr><tr class=even><td class=val><a href=\"http://data.europa.eu/88u/dataset/baumkat_01\" target=\"_other\">http://data.europa.eu/88u/dataset/baumkat_01</a></td>\n",
       "<td class=val>Baumkataster</td>\n",
       "<td class=val><a href=\"http://dcat-ap.de/def/contributors/openDataBayern\" target=\"_other\">http://dcat-ap.de/def/contributors/openDataBayern</a></td>\n",
       "<td class=val>2024-08-06T00:00:00</td></tr><tr class=odd><td class=val><a href=\"http://data.europa.eu/88u/dataset/707312588959944704\" target=\"_other\">http://data.europa.eu/88u/dataset/707312588959944704</a></td>\n",
       "<td class=val>Baumkataster Bundeseisenbahnvermögen (BEV)</td>\n",
       "<td class=val><a href=\"http://dcat-ap.de/def/contributors/mobilithek\" target=\"_other\">http://dcat-ap.de/def/contributors/mobilithek</a></td>\n",
       "<td class=val>2024-03-22T08:06:33.317</td></tr></table><div class=\"tinfo\">Total: 5, Shown: 5</div></div>"
      ]
     },
     "metadata": {},
     "output_type": "display_data"
    }
   ],
   "source": [
    "%endpoint https://data.europa.eu/sparql\n",
    "PREFIX dct: <http://purl.org/dc/terms/>\n",
    "PREFIX dcatde: <http://dcat-ap.de/def/dcatde/>\n",
    "\n",
    "SELECT ?uri ?title ?contributorid ?modified WHERE {\n",
    "    {\n",
    "        SELECT ?uri ?title ?contributorid ?modified WHERE {\n",
    "            ?uri dct:title ?title .\n",
    "            ?uri dcatde:contributorID ?contributorid .\n",
    "            ?uri dct:modified ?modified .\n",
    "            FILTER(isURI(?contributorid))\n",
    "            FILTER(strstarts(str(?contributorid), \"http://dcat-ap.de/def/contributors/\"))       \n",
    "            FILTER(CONTAINS(LCASE(?title), \"baumkataster\"))\n",
    "            FILTER(CONTAINS(STR(?modified), \"2022\") || CONTAINS(STR(?modified), \"2023\") || CONTAINS(STR(?modified), \"2024\"))\n",
    "        }\n",
    "                LIMIT 6 OFFSET 20\n",
    "    }\n",
    "}"
   ]
  },
  {
   "cell_type": "markdown",
   "id": "11a0c01c",
   "metadata": {},
   "source": [
    "Die Abfrage mit LIMIT 6 OFFSET 20 gibt uns genau die Ergebnisse 21 bis 26 zurück. Wenn man also die Anzahl der zurückgegebenen Ergebnisse begrenzen möchte, ist es sinnvoll, LIMIT zu verwenden."
   ]
  },
  {
   "cell_type": "markdown",
   "id": "f50739fe",
   "metadata": {},
   "source": [
    "```{admonition} Erklärung des Codes\n",
    ":class: tip, dropdown\n",
    "Da wir uns schon mit der Struktur einer SPARQL-Abfrage auseinandergesetzt haben, können wir schon viel von der obigen ablesen. Erstmal haben wir den definierten Endpunkt, den wir nennen müssen, um auf den Standort der Metadaten hinzuweisen. Danach beschreiben wir die Prefixes, die unsere Verlinkungen in dem WHERE-Teil erleichtern. Neu hier ist der PREFIX dcatde - hier sind alle Eigentschaften verortet, die spezifisch für aus Deutschland stammende Datensätze sind. Wir verweisen somit auf contributorid - hier ist die Information über die Datenbereitsteller gespeichert. Die andere neue Eigenschaft ist modified, was besagt, wann zum letzen der jeweilige Datensatz bearbeitet worden ist. Diese Eigenschaft gibt die aktuellste Auskunft darüber, aus welchem Jahr der Datensatz stammt. Eine andere neue Bedingung, die in der Absprache zu finden ist, wäre FILTER. FILTER beschreibt eine spezifische Bedingung, die zwingend zu erfüllen ist, und somit schränkt die Ergebnisse darauf ein. Somit lassen wir uns Ergebnisse angeben, die ihre contributorid ausschließlich als URI haben und zwar die mit \"http://dcat-ap.de/def/contributors/\" anfangen. Das schließt alle leerstehende Ausprägungen und auch solche, die nicht in der Form von URIs sind. Wichtig sind auch die Befehle strstarts und str. Die Funktion str() konvertiert den Wert der Variable ?contributorid in einen String. In SPARQL-Abfragen werden Variablen oft als IRIs (Internationalized Resource Identifiers) dargestellt, also als URLs. Die Funktion str() nimmt diesen IRI und wandelt ihn in eine einfache Zeichenkette (String) um. Die Funktion strstarts() überprüft, ob ein gegebener String mit einer bestimmten Zeichenkette beginnt. Für die Eigenschaft modified legen wir fest, welche Jahre in der Form einer vierstelligen Zahl in der Zeichenkette sein sollten, also 2022, 2023, 2024.\n",
    "```"
   ]
  },
  {
   "cell_type": "markdown",
   "id": "fe748c7e",
   "metadata": {},
   "source": [
    "Als nächstes wollen wir uns eine Liste von den Datenbereitstellern ansehen, sowie die Anzahl an Datensätzen je Bereitsteller. Damit können wir herausfinden, welcher Bereitstellende \"am produktivsten\" ist. "
   ]
  },
  {
   "cell_type": "code",
   "execution_count": 10,
   "id": "83eb3be1",
   "metadata": {},
   "outputs": [
    {
     "data": {
      "text/html": [
       "<div class=\"krn-spql\"><table><tr class=hdr><th>contributorID</th>\n",
       "<th>uniqueDatasetTitleCount</th></tr><tr class=odd><td class=val><a href=\"http://dcat-ap.de/def/contributors/gdiDE\" target=\"_other\">http://dcat-ap.de/def/contributors/gdiDE</a></td>\n",
       "<td class=val>1</td></tr><tr class=even><td class=val><a href=\"https://offenedaten-konstanz.de/\" target=\"_other\">https://offenedaten-konstanz.de/</a></td>\n",
       "<td class=val>1</td></tr><tr class=odd><td class=val><a href=\"http://dcat-ap.de/def/contributors/schleswigHolstein\" target=\"_other\">http://dcat-ap.de/def/contributors/schleswigHolstein</a></td>\n",
       "<td class=val>3</td></tr><tr class=even><td class=val><a href=\"http://dcat-ap.de/def/contributors/openNRW\" target=\"_other\">http://dcat-ap.de/def/contributors/openNRW</a></td>\n",
       "<td class=val>5</td></tr><tr class=odd><td class=val><a href=\"http://dcat-ap.de/def/contributors/openDataBayern\" target=\"_other\">http://dcat-ap.de/def/contributors/openDataBayern</a></td>\n",
       "<td class=val>5</td></tr><tr class=even><td class=val><a href=\"http://dcat-ap.de/def/contributors/stadtFrankfurtAmMain\" target=\"_other\">http://dcat-ap.de/def/contributors/stadtFrankfurtAmMain</a></td>\n",
       "<td class=val>1</td></tr><tr class=odd><td class=val><a href=\"http://dcat-ap.de/def/contributors/mobilithek\" target=\"_other\">http://dcat-ap.de/def/contributors/mobilithek</a></td>\n",
       "<td class=val>1</td></tr><tr class=even><td class=val><a href=\"https://gdi-sh.de\" target=\"_other\">https://gdi-sh.de</a></td>\n",
       "<td class=val>1</td></tr><tr class=odd><td class=val><a href=\"http://dcat-ap.de/def/contributors/freistaatSachsen\" target=\"_other\">http://dcat-ap.de/def/contributors/freistaatSachsen</a></td>\n",
       "<td class=val>1</td></tr><tr class=even><td class=val><a href=\"http://dcat-ap.de/def/contributors/stadtErlangen\" target=\"_other\">http://dcat-ap.de/def/contributors/stadtErlangen</a></td>\n",
       "<td class=val>1</td></tr><tr class=odd><td class=val><a href=\"http://dcat-ap.de/def/contributors/datenBW\" target=\"_other\">http://dcat-ap.de/def/contributors/datenBW</a></td>\n",
       "<td class=val>2</td></tr><tr class=even><td class=val><a href=\"https://opendata.stadt-muenster.de/\" target=\"_other\">https://opendata.stadt-muenster.de/</a></td>\n",
       "<td class=val>1</td></tr><tr class=odd><td class=val><a href=\"https://offenedaten-koeln.de/\" target=\"_other\">https://offenedaten-koeln.de/</a></td>\n",
       "<td class=val>2</td></tr><tr class=even><td class=val><a href=\"http://dcat-ap.de/def/contributors/transparenzportalHamburg\" target=\"_other\">http://dcat-ap.de/def/contributors/transparenzportalHamburg</a></td>\n",
       "<td class=val>2</td></tr></table><div class=\"tinfo\">Total: 14, Shown: 14</div></div>"
      ]
     },
     "metadata": {},
     "output_type": "display_data"
    }
   ],
   "source": [
    "PREFIX dcat: <http://www.w3.org/ns/dcat#>\n",
    "PREFIX dct: <http://purl.org/dc/terms/>\n",
    "PREFIX dcatde: <http://dcat-ap.de/def/dcatde/>\n",
    "PREFIX rdfs: <http://www.w3.org/2000/01/rdf-schema#>\n",
    "PREFIX pg: <http://dcat-ap.de/def/politicalGeocoding/>\n",
    "\n",
    "SELECT ?contributorID (COUNT(DISTINCT ?datasetTitle) AS ?uniqueDatasetTitleCount)\n",
    "WHERE {\n",
    "  ?datasetURI a dcat:Dataset;\n",
    "              dct:title ?datasetTitle;\n",
    "              dcatde:contributorID ?contributorID;\n",
    "              dct:modified ?modified.\n",
    "  FILTER((LANG(?datasetTitle) = \"\" || LANG(?datasetTitle) = \"de\") && CONTAINS(LCASE(?datasetTitle), \"baumkataster\"))\n",
    "  FILTER(CONTAINS(STR(?modified), \"2022\") || CONTAINS(STR(?modified), \"2023\") || CONTAINS(STR(?modified), \"2024\"))\n",
    "}\n",
    "GROUP BY ?contributorID"
   ]
  },
  {
   "cell_type": "markdown",
   "id": "0f6cd380",
   "metadata": {},
   "source": [
    "```{admonition} Erklärung des Codes\n",
    ":class: tip, dropdown\n",
    "Der COUNT Befehl in SPARQL wird verwendet, um die Anzahl der Ergebnisse zu zählen, die eine bestimmte Bedingung erfüllen. Der AS Befehl folgt dem COUNT und dient dazu, das Ergebnis der Zählung einer Variablen zuzuweisen, die dann im Ergebnis verwendet werden kann. DISTINCT gibt an, dass nur eindeutige (DISTINCT) Werte der Variable ?datasetTitle gezählt werden sollen. AS ?uniqueDatasetTitleCount  weist das Ergebnis der Zählung der Variable ?uniqueDatasetTitleCount zu. Diese Variable kann dann im Ergebnis verwendet werden, um die Anzahl der eindeutigen datasetTitle für jeden contributorID anzuzeigen. Die Bedingung (LANG(?datasetTitle) = \"\" || LANG(?datasetTitle) = \"de\") wird verwendet, um sicherzustellen, dass nur Titel (?datasetTitle) ausgewählt werden, die entweder keine Sprachinformation haben oder explizit als Deutsch (\"de\") gekennzeichnet sind. Die Bedingung für das Aufnehmen von Ergebnisse mit keiner Sprachinformation ist auch wichtig, da nicht alle Datenbereitsteller Information über die Sprache des Datensatzes einschließen. Die Bedingung, dass nur Datensätze als jene auf Deutsch aufgelistet werden sollen, ist vielleicht in diesem Fall überflüssig, denn das Wort \"Baumkataster\" sollte auch erwähnt werden, also ein deutsches Wort. Trotzdem wollen wir diese Funktion hierbei hervorheben, weil wir später davon Gebrauch machen.\n",
    "```"
   ]
  },
  {
   "cell_type": "markdown",
   "id": "ab07780a",
   "metadata": {},
   "source": [
    "Es erweist sich, dass die Datenbereitsteller Open Data Bayern und Open NRW, also die zwei deutsche Bundesländer, die größte Anzahl an Datensätzen leisten, mit jeweils 5. Das Ergebnis dieser Aufsummierung klingt plausibel, da Bayern und NRW die zwei größten Bundesländer in Deutschland sind."
   ]
  },
  {
   "cell_type": "code",
   "execution_count": 14,
   "id": "3fb30680",
   "metadata": {},
   "outputs": [
    {
     "data": {
      "text/html": [
       "<div class=\"krn-spql\"><table><tr class=hdr><th>contributorID</th>\n",
       "<th>formatCount</th></tr><tr class=odd><td class=val><a href=\"http://dcat-ap.de/def/contributors/gdiDE\" target=\"_other\">http://dcat-ap.de/def/contributors/gdiDE</a></td>\n",
       "<td class=val>2</td></tr><tr class=even><td class=val><a href=\"https://offenedaten-konstanz.de/\" target=\"_other\">https://offenedaten-konstanz.de/</a></td>\n",
       "<td class=val>2</td></tr><tr class=odd><td class=val><a href=\"http://dcat-ap.de/def/contributors/schleswigHolstein\" target=\"_other\">http://dcat-ap.de/def/contributors/schleswigHolstein</a></td>\n",
       "<td class=val>4</td></tr><tr class=even><td class=val><a href=\"http://dcat-ap.de/def/contributors/openNRW\" target=\"_other\">http://dcat-ap.de/def/contributors/openNRW</a></td>\n",
       "<td class=val>26</td></tr><tr class=odd><td class=val><a href=\"http://dcat-ap.de/def/contributors/openDataBayern\" target=\"_other\">http://dcat-ap.de/def/contributors/openDataBayern</a></td>\n",
       "<td class=val>21</td></tr><tr class=even><td class=val><a href=\"http://dcat-ap.de/def/contributors/stadtFrankfurtAmMain\" target=\"_other\">http://dcat-ap.de/def/contributors/stadtFrankfurtAmMain</a></td>\n",
       "<td class=val>1</td></tr><tr class=odd><td class=val><a href=\"http://dcat-ap.de/def/contributors/mobilithek\" target=\"_other\">http://dcat-ap.de/def/contributors/mobilithek</a></td>\n",
       "<td class=val>1</td></tr><tr class=even><td class=val><a href=\"https://gdi-sh.de\" target=\"_other\">https://gdi-sh.de</a></td>\n",
       "<td class=val>3</td></tr><tr class=odd><td class=val><a href=\"http://dcat-ap.de/def/contributors/freistaatSachsen\" target=\"_other\">http://dcat-ap.de/def/contributors/freistaatSachsen</a></td>\n",
       "<td class=val>2</td></tr><tr class=even><td class=val><a href=\"http://dcat-ap.de/def/contributors/stadtErlangen\" target=\"_other\">http://dcat-ap.de/def/contributors/stadtErlangen</a></td>\n",
       "<td class=val>1</td></tr><tr class=odd><td class=val><a href=\"http://dcat-ap.de/def/contributors/datenBW\" target=\"_other\">http://dcat-ap.de/def/contributors/datenBW</a></td>\n",
       "<td class=val>3</td></tr><tr class=even><td class=val><a href=\"https://opendata.stadt-muenster.de/\" target=\"_other\">https://opendata.stadt-muenster.de/</a></td>\n",
       "<td class=val>7</td></tr><tr class=odd><td class=val><a href=\"https://offenedaten-koeln.de/\" target=\"_other\">https://offenedaten-koeln.de/</a></td>\n",
       "<td class=val>4</td></tr><tr class=even><td class=val><a href=\"http://dcat-ap.de/def/contributors/transparenzportalHamburg\" target=\"_other\">http://dcat-ap.de/def/contributors/transparenzportalHamburg</a></td>\n",
       "<td class=val>8</td></tr></table><div class=\"tinfo\">Total: 14, Shown: 14</div></div>"
      ]
     },
     "metadata": {},
     "output_type": "display_data"
    }
   ],
   "source": [
    "PREFIX dcat: <http://www.w3.org/ns/dcat#>\n",
    "PREFIX dct: <http://purl.org/dc/terms/>\n",
    "PREFIX dcatde: <http://dcat-ap.de/def/dcatde/>\n",
    "PREFIX rdfs: <http://www.w3.org/2000/01/rdf-schema#>\n",
    "PREFIX pg: <http://dcat-ap.de/def/politicalGeocoding/>\n",
    "\n",
    "SELECT ?contributorID (COUNT(DISTINCT ?format) AS ?formatCount)\n",
    "WHERE {\n",
    "  ?datasetURI a dcat:Dataset;\n",
    "              dct:title ?datasetTitle;\n",
    "              dcatde:contributorID ?contributorID;\n",
    "              dct:modified ?modified.\n",
    "  OPTIONAL { ?datasetURI dcat:catalog ?catalog. }\n",
    "  FILTER((LANG(?datasetTitle) = \"\" || LANG(?datasetTitle) = \"de\") && CONTAINS(LCASE(?datasetTitle), \"baumkataster\"))\n",
    "  FILTER(CONTAINS(STR(?modified), \"2022\") || CONTAINS(STR(?modified), \"2023\") || CONTAINS(STR(?modified), \"2024\"))\n",
    "\n",
    "  ?datasetURI dcat:distribution ?distribution.\n",
    "  ?distribution dct:format ?format.\n",
    "}\n",
    "GROUP BY ?contributorID"
   ]
  },
  {
   "cell_type": "markdown",
   "id": "2c55e010",
   "metadata": {},
   "source": [
    "Anbei auch die Ergebnisse der aufsummierten Datenformate je Datenbereitsteller. Nicht überraschend festzustellen ist, dass NRW und Bayern die breitesten Auswahl an Datenformaten leisten. Damit wird nicht impliziert, dass alle Datensätze in jeweils jedem Format vorhanden sind. Jedoch dient das als eine Maß für Flexibilität. "
   ]
  }
 ],
 "metadata": {
  "kernelspec": {
   "display_name": "base",
   "language": "python",
   "name": "python3"
  },
  "language_info": {
   "codemirror_mode": {
    "name": "ipython",
    "version": 3
   },
   "file_extension": ".py",
   "mimetype": "text/x-python",
   "name": "python",
   "nbconvert_exporter": "python",
   "pygments_lexer": "ipython3",
   "version": "3.11.7"
  }
 },
 "nbformat": 4,
 "nbformat_minor": 5
}