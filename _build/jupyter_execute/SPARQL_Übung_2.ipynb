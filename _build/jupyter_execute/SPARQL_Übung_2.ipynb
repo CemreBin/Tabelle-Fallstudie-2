{
 "cells": [
  {
   "cell_type": "markdown",
   "metadata": {},
   "source": [
    "# Übung - Metadaten gruppieren & auswerten "
   ]
  },
  {
   "cell_type": "markdown",
   "metadata": {
    "vscode": {
     "languageId": "plaintext"
    }
   },
   "source": [
    "Als nächstes wollen wir uns eine Liste von den Datenbereitstellern ansehen, sowie die Anzahl an Datensätzen je Bereitsteller. Damit können wir herausfinden, welcher Bereitstellende \"am produktivsten\" ist. "
   ]
  },
  {
   "cell_type": "code",
   "execution_count": 1,
   "metadata": {
    "vscode": {
     "languageId": "python"
    }
   },
   "outputs": [
    {
     "data": {
      "text/html": [
       "<div class=\"krn-spql\"><div class=\"magic\">Endpoint set to: https://data.europa.eu/sparql</div></div>"
      ],
      "text/plain": [
       "Endpoint set to: https://data.europa.eu/sparql\n"
      ]
     },
     "metadata": {},
     "output_type": "display_data"
    }
   ],
   "source": [
    "%endpoint https://data.europa.eu/sparql\n",
    "PREFIX dcat: <http://www.w3.org/ns/dcat#>\n",
    "PREFIX dct: <http://purl.org/dc/terms/>\n",
    "PREFIX dcatde: <http://dcat-ap.de/def/dcatde/>\n",
    "PREFIX rdfs: <http://www.w3.org/2000/01/rdf-schema#>\n",
    "PREFIX pg: <http://dcat-ap.de/def/politicalGeocoding/>\n",
    "\n",
    "SELECT ?contributorID (COUNT(DISTINCT ?datasetTitle) AS ?uniqueDatasetTitleCount)\n",
    "WHERE {\n",
    "  ?datasetURI a dcat:Dataset;\n",
    "              dct:title ?datasetTitle;\n",
    "              dcatde:contributorID ?contributorID;\n",
    "              dct:modified ?modified.\n",
    "  FILTER((LANG(?datasetTitle) = \"\" || LANG(?datasetTitle) = \"de\") && CONTAINS(LCASE(?datasetTitle), \"baumkataster\"))\n",
    "  FILTER(CONTAINS(STR(?modified), \"2022\") || CONTAINS(STR(?modified), \"2023\") || CONTAINS(STR(?modified), \"2024\"))\n",
    "}\n",
    "GROUP BY ?contributorID"
   ]
  },
  {
   "cell_type": "markdown",
   "metadata": {},
   "source": [
    "```{admonition} Erklärung des Codes\n",
    ":class: tip, dropdown\n",
    "Der COUNT Befehl in SPARQL wird verwendet, um die Anzahl der Ergebnisse zu zählen, die eine bestimmte Bedingung erfüllen. Der AS Befehl folgt dem COUNT und dient dazu, das Ergebnis der Zählung einer Variablen zuzuweisen, die dann im Ergebnis verwendet werden kann. DISTINCT gibt an, dass nur eindeutige (DISTINCT) Werte der Variable ?datasetTitle gezählt werden sollen. AS ?uniqueDatasetTitleCount  weist das Ergebnis der Zählung der Variable ?uniqueDatasetTitleCount zu. Diese Variable kann dann im Ergebnis verwendet werden, um die Anzahl der eindeutigen datasetTitle für jeden contributorID anzuzeigen. Die Bedingung (LANG(?datasetTitle) = \"\" || LANG(?datasetTitle) = \"de\") wird verwendet, um sicherzustellen, dass nur Titel (?datasetTitle) ausgewählt werden, die entweder keine Sprachinformation haben oder explizit als Deutsch (\"de\") gekennzeichnet sind. Die Bedingung für das Aufnehmen von Ergebnisse mit keiner Sprachinformation ist auch wichtig, da nicht alle Datenbereitsteller Information über die Sprache des Datensatzes einschließen. Die Bedingung, dass nur Datensätze als jene auf Deutsch aufgelistet werden sollen, ist vielleicht in diesem Fall überflüssig, denn das Wort \"Baumkataster\" sollte auch erwähnt werden, also ein deutsches Wort. Trotzdem wollen wir diese Funktion hierbei hervorheben, weil wir später davon Gebrauch machen.\n",
    "```"
   ]
  },
  {
   "cell_type": "markdown",
   "metadata": {},
   "source": [
    "Es erweist sich, dass die Datenbereitsteller Open Data Bayern und Open NRW, also die zwei deutsche Bundesländer, die größte Anzahl an Datensätzen leisten, mit jeweils 5. Das Ergebnis dieser Aufsummierung klingt plausibel, da Bayern und NRW die zwei größten Bundesländer in Deutschland sind."
   ]
  },
  {
   "cell_type": "code",
   "execution_count": 3,
   "metadata": {
    "vscode": {
     "languageId": "plaintext"
    }
   },
   "outputs": [
    {
     "data": {
      "text/html": [
       "<div class=\"krn-spql\"><table><tr class=hdr><th>contributorID</th>\n",
       "<th>formatCount</th></tr><tr class=odd><td class=val><a href=\"http://dcat-ap.de/def/contributors/gdiDE\" target=\"_other\">http://dcat-ap.de/def/contributors/gdiDE</a></td>\n",
       "<td class=val>2</td></tr><tr class=even><td class=val><a href=\"https://offenedaten-konstanz.de/\" target=\"_other\">https://offenedaten-konstanz.de/</a></td>\n",
       "<td class=val>2</td></tr><tr class=odd><td class=val><a href=\"http://dcat-ap.de/def/contributors/schleswigHolstein\" target=\"_other\">http://dcat-ap.de/def/contributors/schleswigHolstein</a></td>\n",
       "<td class=val>4</td></tr><tr class=even><td class=val><a href=\"http://dcat-ap.de/def/contributors/openNRW\" target=\"_other\">http://dcat-ap.de/def/contributors/openNRW</a></td>\n",
       "<td class=val>26</td></tr><tr class=odd><td class=val><a href=\"http://dcat-ap.de/def/contributors/openDataBayern\" target=\"_other\">http://dcat-ap.de/def/contributors/openDataBayern</a></td>\n",
       "<td class=val>21</td></tr><tr class=even><td class=val><a href=\"http://dcat-ap.de/def/contributors/stadtFrankfurtAmMain\" target=\"_other\">http://dcat-ap.de/def/contributors/stadtFrankfurtAmMain</a></td>\n",
       "<td class=val>1</td></tr><tr class=odd><td class=val><a href=\"http://dcat-ap.de/def/contributors/mobilithek\" target=\"_other\">http://dcat-ap.de/def/contributors/mobilithek</a></td>\n",
       "<td class=val>1</td></tr><tr class=even><td class=val><a href=\"https://gdi-sh.de\" target=\"_other\">https://gdi-sh.de</a></td>\n",
       "<td class=val>3</td></tr><tr class=odd><td class=val><a href=\"http://dcat-ap.de/def/contributors/freistaatSachsen\" target=\"_other\">http://dcat-ap.de/def/contributors/freistaatSachsen</a></td>\n",
       "<td class=val>1</td></tr><tr class=even><td class=val><a href=\"http://dcat-ap.de/def/contributors/stadtErlangen\" target=\"_other\">http://dcat-ap.de/def/contributors/stadtErlangen</a></td>\n",
       "<td class=val>1</td></tr><tr class=odd><td class=val><a href=\"http://dcat-ap.de/def/contributors/datenBW\" target=\"_other\">http://dcat-ap.de/def/contributors/datenBW</a></td>\n",
       "<td class=val>4</td></tr><tr class=even><td class=val><a href=\"https://opendata.stadt-muenster.de/\" target=\"_other\">https://opendata.stadt-muenster.de/</a></td>\n",
       "<td class=val>7</td></tr><tr class=odd><td class=val><a href=\"https://offenedaten-koeln.de/\" target=\"_other\">https://offenedaten-koeln.de/</a></td>\n",
       "<td class=val>4</td></tr><tr class=even><td class=val><a href=\"http://dcat-ap.de/def/contributors/transparenzportalHamburg\" target=\"_other\">http://dcat-ap.de/def/contributors/transparenzportalHamburg</a></td>\n",
       "<td class=val>8</td></tr></table><div class=\"tinfo\">Total: 14, Shown: 14</div></div>"
      ]
     },
     "metadata": {},
     "output_type": "display_data"
    }
   ],
   "source": [
    "PREFIX dcat: <http://www.w3.org/ns/dcat#>\n",
    "PREFIX dct: <http://purl.org/dc/terms/>\n",
    "PREFIX dcatde: <http://dcat-ap.de/def/dcatde/>\n",
    "PREFIX rdfs: <http://www.w3.org/2000/01/rdf-schema#>\n",
    "PREFIX pg: <http://dcat-ap.de/def/politicalGeocoding/>\n",
    "\n",
    "SELECT ?contributorID (COUNT(DISTINCT ?format) AS ?formatCount)\n",
    "WHERE {\n",
    "  ?datasetURI a dcat:Dataset;\n",
    "              dct:title ?datasetTitle;\n",
    "              dcatde:contributorID ?contributorID;\n",
    "              dct:modified ?modified.\n",
    "  OPTIONAL { ?datasetURI dcat:catalog ?catalog. }\n",
    "  FILTER((LANG(?datasetTitle) = \"\" || LANG(?datasetTitle) = \"de\") && CONTAINS(LCASE(?datasetTitle), \"baumkataster\"))\n",
    "  FILTER(CONTAINS(STR(?modified), \"2022\") || CONTAINS(STR(?modified), \"2023\") || CONTAINS(STR(?modified), \"2024\"))\n",
    "\n",
    "  ?datasetURI dcat:distribution ?distribution.\n",
    "  ?distribution dct:format ?format.\n",
    "}\n",
    "GROUP BY ?contributorID"
   ]
  },
  {
   "cell_type": "markdown",
   "metadata": {},
   "source": [
    "Anbei auch die Ergebnisse der aufsummierten Datenformate je Datenbereitsteller. Nicht überraschend festzustellen ist, dass NRW und Bayern die breitesten Auswahl an Datenformaten leisten. Damit wird nicht impliziert, dass alle Datensätze in jeweils jedem Format vorhanden sind. Jedoch dient das als eine Maß für Flexibilität. "
   ]
  }
 ],
 "metadata": {
  "kernelspec": {
   "display_name": "SPARQL",
   "language": "sparql",
   "name": "sparql"
  },
  "language_info": {
   "codemirror_mode": {
    "name": "sparql"
   },
   "mimetype": "application/sparql-query",
   "name": "sparql",
   "pygments_lexer": "sparql-nb"
  }
 },
 "nbformat": 4,
 "nbformat_minor": 2
}